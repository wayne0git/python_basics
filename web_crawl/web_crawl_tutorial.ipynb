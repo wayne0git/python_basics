{
 "cells": [
  {
   "cell_type": "markdown",
   "metadata": {},
   "source": [
    "## Web Crawl / Scrape\n",
    "- https://towardsdatascience.com/web-scraping-in-3-minutes-1c37830a29c1"
   ]
  },
  {
   "cell_type": "markdown",
   "metadata": {},
   "source": [
    "### Import Library"
   ]
  },
  {
   "cell_type": "code",
   "execution_count": 1,
   "metadata": {},
   "outputs": [],
   "source": [
    "import requests\n",
    "from bs4 import BeautifulSoup\n",
    "import pandas as pd"
   ]
  },
  {
   "cell_type": "markdown",
   "metadata": {},
   "source": [
    "### Download HTML"
   ]
  },
  {
   "cell_type": "code",
   "execution_count": 2,
   "metadata": {},
   "outputs": [],
   "source": [
    "# URL\n",
    "URL = \"https://inshorts.com/en/read/badminton\""
   ]
  },
  {
   "cell_type": "code",
   "execution_count": 3,
   "metadata": {},
   "outputs": [],
   "source": [
    "# Download\n",
    "html_data = requests.get(URL)\n",
    "\n",
    "# Parse\n",
    "soup = BeautifulSoup(html_data.content, 'html.parser')"
   ]
  },
  {
   "cell_type": "markdown",
   "metadata": {},
   "source": [
    "### Build Dataset"
   ]
  },
  {
   "cell_type": "code",
   "execution_count": 17,
   "metadata": {},
   "outputs": [],
   "source": [
    "news_data_title, news_data_content = [], []\n",
    "\n",
    "# Extract title & content\n",
    "for title, article in zip(soup.find_all('div', attrs={'class': 'news-card-title news-right-box'}),\n",
    "                          soup.find_all('div', attrs={'class': 'news-card-content news-right-box'})):\n",
    "    title = title.find('span', attrs={'itemprop': 'headline'}).text\n",
    "    content = article.find('div', attrs={'itemprop': 'articleBody'}).text\n",
    "\n",
    "    news_data_title.append(title)\n",
    "    news_data_content.append(content)"
   ]
  },
  {
   "cell_type": "code",
   "execution_count": 18,
   "metadata": {},
   "outputs": [],
   "source": [
    "# Data => DataFrame\n",
    "df1 = pd.DataFrame(news_data_title, columns=[\"Title\"])\n",
    "df2 = pd.DataFrame(news_data_content, columns=[\"Content\"])\n",
    "\n",
    "df = pd.concat([df1, df2], axis=1)"
   ]
  },
  {
   "cell_type": "code",
   "execution_count": null,
   "metadata": {},
   "outputs": [],
   "source": []
  }
 ],
 "metadata": {
  "kernelspec": {
   "display_name": "Python 3",
   "language": "python",
   "name": "python3"
  },
  "language_info": {
   "codemirror_mode": {
    "name": "ipython",
    "version": 3
   },
   "file_extension": ".py",
   "mimetype": "text/x-python",
   "name": "python",
   "nbconvert_exporter": "python",
   "pygments_lexer": "ipython3",
   "version": "3.5.5"
  }
 },
 "nbformat": 4,
 "nbformat_minor": 2
}
