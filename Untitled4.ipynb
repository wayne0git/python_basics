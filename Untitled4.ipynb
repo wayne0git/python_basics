{
  "nbformat": 4,
  "nbformat_minor": 0,
  "metadata": {
    "colab": {
      "name": "Untitled4.ipynb",
      "provenance": [],
      "authorship_tag": "ABX9TyM9Nali1LVihr6gEtQUSCiE",
      "include_colab_link": true
    },
    "kernelspec": {
      "name": "python3",
      "display_name": "Python 3"
    },
    "language_info": {
      "name": "python"
    }
  },
  "cells": [
    {
      "cell_type": "markdown",
      "metadata": {
        "id": "view-in-github",
        "colab_type": "text"
      },
      "source": [
        "<a href=\"https://colab.research.google.com/github/wayne0git/python_basics/blob/master/Untitled4.ipynb\" target=\"_parent\"><img src=\"https://colab.research.google.com/assets/colab-badge.svg\" alt=\"Open In Colab\"/></a>"
      ]
    },
    {
      "cell_type": "code",
      "metadata": {
        "id": "sW9pVavUppWh"
      },
      "source": [
        "import cv2\n",
        "import numpy as np"
      ],
      "execution_count": 1,
      "outputs": []
    },
    {
      "cell_type": "code",
      "metadata": {
        "id": "xfhBTJknyIW4"
      },
      "source": [
        "csc = np.array([[22987, 0], [-11698, -5636], [0, 29049]], dtype=np.int)"
      ],
      "execution_count": 17,
      "outputs": []
    },
    {
      "cell_type": "code",
      "metadata": {
        "id": "D_g3OkwDp1hM"
      },
      "source": [
        "a = np.array([[200, 140, 60], [100, 60, 140], [255, 128, 128]], dtype=np.uint8)[np.newaxis, :]\n",
        "b = np.array([[200, 60, 140], [100, 140, 60], [255, 128, 128]], dtype=np.uint8)[np.newaxis, :]"
      ],
      "execution_count": 18,
      "outputs": []
    },
    {
      "cell_type": "code",
      "metadata": {
        "colab": {
          "base_uri": "https://localhost:8080/"
        },
        "id": "CnwBFJjQzWnH",
        "outputId": "eefc2e09-41c7-47be-e82d-f32382753234"
      },
      "source": [
        "(((np.matmul(csc, a[0, ...].T[1:, :].astype(np.int) - 128) + 8192) >> 14) + a[0, ...].T[0, :].astype(np.int)).T"
      ],
      "execution_count": 33,
      "outputs": [
        {
          "output_type": "execute_result",
          "data": {
            "text/plain": [
              "array([[217, 215,  79],\n",
              "       [  5, 144, 121],\n",
              "       [255, 255, 255]])"
            ]
          },
          "metadata": {
            "tags": []
          },
          "execution_count": 33
        }
      ]
    },
    {
      "cell_type": "code",
      "metadata": {
        "colab": {
          "base_uri": "https://localhost:8080/"
        },
        "id": "8B7QBlOzq0l6",
        "outputId": "ac5f7a2f-0c31-40ab-ee02-ba303f56dad6"
      },
      "source": [
        "cv2.cvtColor(a, cv2.COLOR_YCR_CB2RGB)"
      ],
      "execution_count": 31,
      "outputs": [
        {
          "output_type": "execute_result",
          "data": {
            "text/plain": [
              "array([[[217, 215,  79],\n",
              "        [  5, 144, 121],\n",
              "        [255, 255, 255]]], dtype=uint8)"
            ]
          },
          "metadata": {
            "tags": []
          },
          "execution_count": 31
        }
      ]
    }
  ]
}