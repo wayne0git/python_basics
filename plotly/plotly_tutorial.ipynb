{
 "cells": [
  {
   "cell_type": "markdown",
   "metadata": {},
   "source": [
    "## Plotly Tutorial\n",
    "- Ref : https://towardsdatascience.com/the-next-level-of-data-visualization-in-python-dd6e99039d5e"
   ]
  },
  {
   "cell_type": "markdown",
   "metadata": {},
   "source": [
    "## Overview\n",
    "- Open-source library built on plotly.js which in turn is built on d3.js\n",
    "- Get the efficiency of coding in Python with the interactive graphics capabilities of d3"
   ]
  },
  {
   "cell_type": "markdown",
   "metadata": {},
   "source": [
    "## Extension / Wrapper\n",
    "- cufflinks : Wrapper on plotly for designed to work with Pandas dataframes"
   ]
  },
  {
   "cell_type": "markdown",
   "metadata": {},
   "source": [
    "## Installation\n",
    "- pip install plotly\n",
    "- pip install cufflinks"
   ]
  },
  {
   "cell_type": "markdown",
   "metadata": {},
   "source": [
    "## How to use (Version 3.10)"
   ]
  },
  {
   "cell_type": "markdown",
   "metadata": {},
   "source": [
    "### Import"
   ]
  },
  {
   "cell_type": "code",
   "execution_count": 1,
   "metadata": {},
   "outputs": [],
   "source": [
    "import numpy as np\n",
    "import pandas as pd"
   ]
  },
  {
   "cell_type": "code",
   "execution_count": 44,
   "metadata": {},
   "outputs": [],
   "source": [
    "import plotly.plotly as py\n",
    "import plotly.figure_factory as ff\n",
    "import plotly.graph_objs as go\n",
    "from plotly.offline import iplot, init_notebook_mode\n",
    "import cufflinks"
   ]
  },
  {
   "cell_type": "code",
   "execution_count": 3,
   "metadata": {},
   "outputs": [
    {
     "data": {
      "text/html": [
       "        <script type=\"text/javascript\">\n",
       "        window.PlotlyConfig = {MathJaxConfig: 'local'};\n",
       "        if (window.MathJax) {MathJax.Hub.Config({SVG: {font: \"STIX-Web\"}});}\n",
       "        if (typeof require !== 'undefined') {\n",
       "        require.undef(\"plotly\");\n",
       "        requirejs.config({\n",
       "            paths: {\n",
       "                'plotly': ['https://cdn.plot.ly/plotly-latest.min']\n",
       "            }\n",
       "        });\n",
       "        require(['plotly'], function(Plotly) {\n",
       "            window._Plotly = Plotly;\n",
       "        });\n",
       "        }\n",
       "        </script>\n",
       "        "
      ]
     },
     "metadata": {},
     "output_type": "display_data"
    },
    {
     "data": {
      "text/html": [
       "        <script type=\"text/javascript\">\n",
       "        window.PlotlyConfig = {MathJaxConfig: 'local'};\n",
       "        if (window.MathJax) {MathJax.Hub.Config({SVG: {font: \"STIX-Web\"}});}\n",
       "        if (typeof require !== 'undefined') {\n",
       "        require.undef(\"plotly\");\n",
       "        requirejs.config({\n",
       "            paths: {\n",
       "                'plotly': ['https://cdn.plot.ly/plotly-latest.min']\n",
       "            }\n",
       "        });\n",
       "        require(['plotly'], function(Plotly) {\n",
       "            window._Plotly = Plotly;\n",
       "        });\n",
       "        }\n",
       "        </script>\n",
       "        "
      ]
     },
     "metadata": {},
     "output_type": "display_data"
    }
   ],
   "source": [
    "cufflinks.go_offline(connected=True)\n",
    "init_notebook_mode(connected=True)"
   ]
  },
  {
   "cell_type": "markdown",
   "metadata": {},
   "source": [
    "### Single Variable Distributions\n",
    "- Require to install pyarrow (conda install -c conda-forge pyarrow)"
   ]
  },
  {
   "cell_type": "code",
   "execution_count": 4,
   "metadata": {},
   "outputs": [
    {
     "data": {
      "text/html": [
       "<div>\n",
       "<style scoped>\n",
       "    .dataframe tbody tr th:only-of-type {\n",
       "        vertical-align: middle;\n",
       "    }\n",
       "\n",
       "    .dataframe tbody tr th {\n",
       "        vertical-align: top;\n",
       "    }\n",
       "\n",
       "    .dataframe thead th {\n",
       "        text-align: right;\n",
       "    }\n",
       "</style>\n",
       "<table border=\"1\" class=\"dataframe\">\n",
       "  <thead>\n",
       "    <tr style=\"text-align: right;\">\n",
       "      <th></th>\n",
       "      <th>claps</th>\n",
       "      <th>days_since_publication</th>\n",
       "      <th>fans</th>\n",
       "      <th>num_responses</th>\n",
       "      <th>publication</th>\n",
       "      <th>published_date</th>\n",
       "      <th>read_ratio</th>\n",
       "      <th>read_time</th>\n",
       "      <th>reads</th>\n",
       "      <th>started_date</th>\n",
       "      <th>...</th>\n",
       "      <th>type</th>\n",
       "      <th>views</th>\n",
       "      <th>word_count</th>\n",
       "      <th>claps_per_word</th>\n",
       "      <th>editing_days</th>\n",
       "      <th>&lt;tag&gt;Education</th>\n",
       "      <th>&lt;tag&gt;Data Science</th>\n",
       "      <th>&lt;tag&gt;Towards Data Science</th>\n",
       "      <th>&lt;tag&gt;Machine Learning</th>\n",
       "      <th>&lt;tag&gt;Python</th>\n",
       "    </tr>\n",
       "  </thead>\n",
       "  <tbody>\n",
       "    <tr>\n",
       "      <th>121</th>\n",
       "      <td>2</td>\n",
       "      <td>574.742788</td>\n",
       "      <td>2</td>\n",
       "      <td>0</td>\n",
       "      <td>None</td>\n",
       "      <td>2017-06-10 14:25:00</td>\n",
       "      <td>41.98</td>\n",
       "      <td>7</td>\n",
       "      <td>68</td>\n",
       "      <td>2017-06-10 14:24:00</td>\n",
       "      <td>...</td>\n",
       "      <td>published</td>\n",
       "      <td>162</td>\n",
       "      <td>1859</td>\n",
       "      <td>0.001076</td>\n",
       "      <td>0</td>\n",
       "      <td>0</td>\n",
       "      <td>0</td>\n",
       "      <td>0</td>\n",
       "      <td>0</td>\n",
       "      <td>0</td>\n",
       "    </tr>\n",
       "    <tr>\n",
       "      <th>122</th>\n",
       "      <td>18</td>\n",
       "      <td>567.424835</td>\n",
       "      <td>3</td>\n",
       "      <td>0</td>\n",
       "      <td>None</td>\n",
       "      <td>2017-06-17 22:02:00</td>\n",
       "      <td>32.93</td>\n",
       "      <td>14</td>\n",
       "      <td>54</td>\n",
       "      <td>2017-06-17 22:02:00</td>\n",
       "      <td>...</td>\n",
       "      <td>published</td>\n",
       "      <td>164</td>\n",
       "      <td>3891</td>\n",
       "      <td>0.004626</td>\n",
       "      <td>0</td>\n",
       "      <td>0</td>\n",
       "      <td>0</td>\n",
       "      <td>0</td>\n",
       "      <td>0</td>\n",
       "      <td>0</td>\n",
       "    </tr>\n",
       "    <tr>\n",
       "      <th>123</th>\n",
       "      <td>50</td>\n",
       "      <td>554.804959</td>\n",
       "      <td>19</td>\n",
       "      <td>0</td>\n",
       "      <td>None</td>\n",
       "      <td>2017-06-30 12:55:00</td>\n",
       "      <td>20.19</td>\n",
       "      <td>42</td>\n",
       "      <td>215</td>\n",
       "      <td>2017-06-30 12:00:00</td>\n",
       "      <td>...</td>\n",
       "      <td>published</td>\n",
       "      <td>1065</td>\n",
       "      <td>12025</td>\n",
       "      <td>0.004158</td>\n",
       "      <td>0</td>\n",
       "      <td>0</td>\n",
       "      <td>0</td>\n",
       "      <td>0</td>\n",
       "      <td>1</td>\n",
       "      <td>1</td>\n",
       "    </tr>\n",
       "  </tbody>\n",
       "</table>\n",
       "<p>3 rows × 24 columns</p>\n",
       "</div>"
      ],
      "text/plain": [
       "     claps  days_since_publication  fans  num_responses publication  \\\n",
       "121      2              574.742788     2              0        None   \n",
       "122     18              567.424835     3              0        None   \n",
       "123     50              554.804959    19              0        None   \n",
       "\n",
       "         published_date  read_ratio  read_time  reads        started_date  \\\n",
       "121 2017-06-10 14:25:00       41.98          7     68 2017-06-10 14:24:00   \n",
       "122 2017-06-17 22:02:00       32.93         14     54 2017-06-17 22:02:00   \n",
       "123 2017-06-30 12:55:00       20.19         42    215 2017-06-30 12:00:00   \n",
       "\n",
       "        ...            type views word_count  claps_per_word editing_days  \\\n",
       "121     ...       published   162       1859        0.001076            0   \n",
       "122     ...       published   164       3891        0.004626            0   \n",
       "123     ...       published  1065      12025        0.004158            0   \n",
       "\n",
       "     <tag>Education  <tag>Data Science  <tag>Towards Data Science  \\\n",
       "121               0                  0                          0   \n",
       "122               0                  0                          0   \n",
       "123               0                  0                          0   \n",
       "\n",
       "     <tag>Machine Learning  <tag>Python  \n",
       "121                      0            0  \n",
       "122                      0            0  \n",
       "123                      1            1  \n",
       "\n",
       "[3 rows x 24 columns]"
      ]
     },
     "execution_count": 4,
     "metadata": {},
     "output_type": "execute_result"
    }
   ],
   "source": [
    "# Read data\n",
    "df = pd.read_parquet('medium_data_2019_01_06')\n",
    "df.head(3)"
   ]
  },
  {
   "cell_type": "code",
   "execution_count": 9,
   "metadata": {
    "scrolled": false
   },
   "outputs": [
    {
     "data": {
      "application/vnd.plotly.v1+json": {
       "config": {
        "linkText": "Export to plot.ly",
        "plotlyServerURL": "https://plot.ly",
        "showLink": true
       },
       "data": [
        {
         "histfunc": "count",
         "histnorm": "",
         "marker": {
          "color": "rgba(255, 153, 51, 1.0)",
          "line": {
           "color": "#4D5663",
           "width": 1.3
          }
         },
         "name": "claps",
         "opacity": 0.8,
         "orientation": "v",
         "type": "histogram",
         "uid": "284be900-f6e3-4629-b983-73a4dc2d0706",
         "x": [
          2,
          18,
          50,
          0,
          0,
          0,
          73,
          234,
          2,
          0,
          682,
          58,
          5,
          7,
          87,
          23,
          4,
          113,
          8,
          17,
          8,
          4800,
          2700,
          72,
          123,
          857,
          186,
          11,
          119,
          2000,
          4100,
          59,
          2700,
          77,
          14,
          7000,
          1200,
          275,
          1600,
          1600,
          1000,
          4300,
          4980,
          12900,
          223,
          4900,
          101,
          5900,
          548,
          895,
          6700,
          6500,
          2700,
          1100,
          2900,
          2600,
          2800,
          5300,
          1300,
          1000,
          7900,
          364,
          13500,
          4100,
          2200,
          3900,
          6300,
          8200,
          1300,
          5400,
          2300,
          2700,
          2100,
          707,
          650,
          2700,
          4100,
          822,
          830,
          3700,
          653,
          657,
          1100,
          2800,
          3100,
          792,
          222,
          3300,
          315,
          2500,
          976,
          2000,
          1000,
          3200,
          650,
          2300,
          809,
          745,
          587,
          818,
          2200,
          1300,
          630,
          2600,
          2000,
          3600,
          440,
          728,
          893,
          205,
          528,
          121,
          361,
          31,
          0,
          24,
          0,
          5,
          6,
          0,
          424,
          442,
          410,
          319,
          304,
          65
         ]
        }
       ],
       "layout": {
        "barmode": "overlay",
        "legend": {
         "bgcolor": "#F5F6F9",
         "font": {
          "color": "#4D5663"
         }
        },
        "paper_bgcolor": "#F5F6F9",
        "plot_bgcolor": "#F5F6F9",
        "title": {
         "font": {
          "color": "#4D5663"
         },
         "text": "Claps Distribution"
        },
        "xaxis": {
         "gridcolor": "#E1E5ED",
         "showgrid": true,
         "tickfont": {
          "color": "#4D5663"
         },
         "title": {
          "font": {
           "color": "#4D5663"
          },
          "text": "claps"
         },
         "zerolinecolor": "#E1E5ED"
        },
        "yaxis": {
         "gridcolor": "#E1E5ED",
         "showgrid": true,
         "tickfont": {
          "color": "#4D5663"
         },
         "title": {
          "font": {
           "color": "#4D5663"
          },
          "text": "count"
         },
         "zerolinecolor": "#E1E5ED"
        }
       }
      },
      "text/html": [
       "<div>\n",
       "        \n",
       "        \n",
       "            <div id=\"e3bc0674-dce6-47a7-ba55-de0209c30bfb\" class=\"plotly-graph-div\" style=\"height:525px; width:100%;\"></div>\n",
       "            <script type=\"text/javascript\">\n",
       "                require([\"plotly\"], function(Plotly) {\n",
       "                    window.PLOTLYENV=window.PLOTLYENV || {};\n",
       "                    window.PLOTLYENV.BASE_URL='https://plot.ly';\n",
       "                    \n",
       "                if (document.getElementById(\"e3bc0674-dce6-47a7-ba55-de0209c30bfb\")) {\n",
       "                    Plotly.newPlot(\n",
       "                        'e3bc0674-dce6-47a7-ba55-de0209c30bfb',\n",
       "                        [{\"histfunc\": \"count\", \"histnorm\": \"\", \"marker\": {\"color\": \"rgba(255, 153, 51, 1.0)\", \"line\": {\"color\": \"#4D5663\", \"width\": 1.3}}, \"name\": \"claps\", \"opacity\": 0.8, \"orientation\": \"v\", \"type\": \"histogram\", \"uid\": \"284be900-f6e3-4629-b983-73a4dc2d0706\", \"x\": [2, 18, 50, 0, 0, 0, 73, 234, 2, 0, 682, 58, 5, 7, 87, 23, 4, 113, 8, 17, 8, 4800, 2700, 72, 123, 857, 186, 11, 119, 2000, 4100, 59, 2700, 77, 14, 7000, 1200, 275, 1600, 1600, 1000, 4300, 4980, 12900, 223, 4900, 101, 5900, 548, 895, 6700, 6500, 2700, 1100, 2900, 2600, 2800, 5300, 1300, 1000, 7900, 364, 13500, 4100, 2200, 3900, 6300, 8200, 1300, 5400, 2300, 2700, 2100, 707, 650, 2700, 4100, 822, 830, 3700, 653, 657, 1100, 2800, 3100, 792, 222, 3300, 315, 2500, 976, 2000, 1000, 3200, 650, 2300, 809, 745, 587, 818, 2200, 1300, 630, 2600, 2000, 3600, 440, 728, 893, 205, 528, 121, 361, 31, 0, 24, 0, 5, 6, 0, 424, 442, 410, 319, 304, 65]}],\n",
       "                        {\"barmode\": \"overlay\", \"legend\": {\"bgcolor\": \"#F5F6F9\", \"font\": {\"color\": \"#4D5663\"}}, \"paper_bgcolor\": \"#F5F6F9\", \"plot_bgcolor\": \"#F5F6F9\", \"title\": {\"font\": {\"color\": \"#4D5663\"}, \"text\": \"Claps Distribution\"}, \"xaxis\": {\"gridcolor\": \"#E1E5ED\", \"showgrid\": true, \"tickfont\": {\"color\": \"#4D5663\"}, \"title\": {\"font\": {\"color\": \"#4D5663\"}, \"text\": \"claps\"}, \"zerolinecolor\": \"#E1E5ED\"}, \"yaxis\": {\"gridcolor\": \"#E1E5ED\", \"showgrid\": true, \"tickfont\": {\"color\": \"#4D5663\"}, \"title\": {\"font\": {\"color\": \"#4D5663\"}, \"text\": \"count\"}, \"zerolinecolor\": \"#E1E5ED\"}},\n",
       "                        {\"showLink\": true, \"linkText\": \"Export to plot.ly\", \"responsive\": true, \"plotlyServerURL\": \"https://plot.ly\"}\n",
       "                    ).then(function(){\n",
       "                            \n",
       "var gd = document.getElementById('e3bc0674-dce6-47a7-ba55-de0209c30bfb');\n",
       "var x = new MutationObserver(function (mutations, observer) {{\n",
       "        var display = window.getComputedStyle(gd).display;\n",
       "        if (!display || display === 'none') {{\n",
       "            console.log([gd, 'removed!']);\n",
       "            Plotly.purge(gd);\n",
       "            observer.disconnect();\n",
       "        }}\n",
       "}});\n",
       "\n",
       "// Listen for the removal of the full notebook cells\n",
       "var notebookContainer = gd.closest('#notebook-container');\n",
       "if (notebookContainer) {{\n",
       "    x.observe(notebookContainer, {childList: true});\n",
       "}}\n",
       "\n",
       "// Listen for the clearing of the current output cell\n",
       "var outputEl = gd.closest('.output');\n",
       "if (outputEl) {{\n",
       "    x.observe(outputEl, {childList: true});\n",
       "}}\n",
       "\n",
       "                        })\n",
       "                };\n",
       "                });\n",
       "            </script>\n",
       "        </div>"
      ]
     },
     "metadata": {},
     "output_type": "display_data"
    }
   ],
   "source": [
    "# Histogram\n",
    "df['claps'].iplot(kind='hist', xTitle='claps',\n",
    "                  yTitle='count', title='Claps Distribution', )"
   ]
  },
  {
   "cell_type": "code",
   "execution_count": 20,
   "metadata": {},
   "outputs": [
    {
     "data": {
      "application/vnd.plotly.v1+json": {
       "config": {
        "linkText": "Export to plot.ly",
        "plotlyServerURL": "https://plot.ly",
        "showLink": true
       },
       "data": [
        {
         "histfunc": "count",
         "histnorm": "percent",
         "marker": {
          "color": "rgba(255, 153, 51, 1.0)",
          "line": {
           "color": "#4D5663",
           "width": 1.3
          }
         },
         "name": "claps",
         "opacity": 0.8,
         "orientation": "v",
         "type": "histogram",
         "uid": "8fe7762e-6e9c-4af0-9901-945f5fa42bc3",
         "x": [
          2,
          18,
          50,
          0,
          0,
          0,
          73,
          234,
          2,
          0,
          682,
          58,
          5,
          7,
          87,
          23,
          4,
          113,
          8,
          17,
          8,
          4800,
          2700,
          72,
          123,
          857,
          186,
          11,
          119,
          2000,
          4100,
          59,
          2700,
          77,
          14,
          7000,
          1200,
          275,
          1600,
          1600,
          1000,
          4300,
          4980,
          12900,
          223,
          4900,
          101,
          5900,
          548,
          895,
          6700,
          6500,
          2700,
          1100,
          2900,
          2600,
          2800,
          5300,
          1300,
          1000,
          7900,
          364,
          13500,
          4100,
          2200,
          3900,
          6300,
          8200,
          1300,
          5400,
          2300,
          2700,
          2100,
          707,
          650,
          2700,
          4100,
          822,
          830,
          3700,
          653,
          657,
          1100,
          2800,
          3100,
          792,
          222,
          3300,
          315,
          2500,
          976,
          2000,
          1000,
          3200,
          650,
          2300,
          809,
          745,
          587,
          818,
          2200,
          1300,
          630,
          2600,
          2000,
          3600,
          440,
          728,
          893,
          205,
          528,
          121,
          361,
          31,
          0,
          24,
          0,
          5,
          6,
          0,
          424,
          442,
          410,
          319,
          304,
          65
         ]
        },
        {
         "histfunc": "count",
         "histnorm": "percent",
         "marker": {
          "color": "rgba(55, 128, 191, 1.0)",
          "line": {
           "color": "#4D5663",
           "width": 1.3
          }
         },
         "name": "fans",
         "opacity": 0.8,
         "orientation": "v",
         "type": "histogram",
         "uid": "2d31010f-71da-45f6-b565-fed249bf2425",
         "x": [
          2,
          3,
          19,
          0,
          0,
          0,
          20,
          54,
          2,
          1,
          71,
          13,
          5,
          2,
          17,
          17,
          4,
          29,
          3,
          7,
          2,
          861,
          435,
          10,
          11,
          112,
          45,
          3,
          43,
          392,
          892,
          4,
          549,
          18,
          6,
          1510,
          208,
          47,
          288,
          329,
          174,
          737,
          902,
          2226,
          74,
          939,
          23,
          1076,
          128,
          188,
          1271,
          1179,
          510,
          200,
          548,
          549,
          607,
          951,
          266,
          227,
          1629,
          65,
          2531,
          829,
          474,
          841,
          1184,
          1825,
          252,
          1177,
          378,
          461,
          434,
          114,
          129,
          421,
          655,
          104,
          226,
          771,
          131,
          116,
          206,
          530,
          576,
          121,
          32,
          649,
          52,
          541,
          143,
          357,
          135,
          640,
          119,
          579,
          113,
          111,
          100,
          174,
          588,
          295,
          173,
          493,
          387,
          798,
          115,
          95,
          235,
          34,
          158,
          12,
          47,
          7,
          0,
          4,
          0,
          1,
          3,
          0,
          75,
          97,
          83,
          34,
          29,
          13
         ]
        }
       ],
       "layout": {
        "barmode": "overlay",
        "legend": {
         "bgcolor": "#F5F6F9",
         "font": {
          "color": "#4D5663"
         }
        },
        "paper_bgcolor": "#F5F6F9",
        "plot_bgcolor": "#F5F6F9",
        "title": {
         "font": {
          "color": "#4D5663"
         }
        },
        "xaxis": {
         "gridcolor": "#E1E5ED",
         "showgrid": true,
         "tickfont": {
          "color": "#4D5663"
         },
         "title": {
          "font": {
           "color": "#4D5663"
          },
          "text": ""
         },
         "zerolinecolor": "#E1E5ED"
        },
        "yaxis": {
         "gridcolor": "#E1E5ED",
         "showgrid": true,
         "tickfont": {
          "color": "#4D5663"
         },
         "title": {
          "font": {
           "color": "#4D5663"
          },
          "text": ""
         },
         "zerolinecolor": "#E1E5ED"
        }
       }
      },
      "text/html": [
       "<div>\n",
       "        \n",
       "        \n",
       "            <div id=\"f2124eba-a213-4e6c-906c-a3e228036b31\" class=\"plotly-graph-div\" style=\"height:525px; width:100%;\"></div>\n",
       "            <script type=\"text/javascript\">\n",
       "                require([\"plotly\"], function(Plotly) {\n",
       "                    window.PLOTLYENV=window.PLOTLYENV || {};\n",
       "                    window.PLOTLYENV.BASE_URL='https://plot.ly';\n",
       "                    \n",
       "                if (document.getElementById(\"f2124eba-a213-4e6c-906c-a3e228036b31\")) {\n",
       "                    Plotly.newPlot(\n",
       "                        'f2124eba-a213-4e6c-906c-a3e228036b31',\n",
       "                        [{\"histfunc\": \"count\", \"histnorm\": \"percent\", \"marker\": {\"color\": \"rgba(255, 153, 51, 1.0)\", \"line\": {\"color\": \"#4D5663\", \"width\": 1.3}}, \"name\": \"claps\", \"opacity\": 0.8, \"orientation\": \"v\", \"type\": \"histogram\", \"uid\": \"8fe7762e-6e9c-4af0-9901-945f5fa42bc3\", \"x\": [2, 18, 50, 0, 0, 0, 73, 234, 2, 0, 682, 58, 5, 7, 87, 23, 4, 113, 8, 17, 8, 4800, 2700, 72, 123, 857, 186, 11, 119, 2000, 4100, 59, 2700, 77, 14, 7000, 1200, 275, 1600, 1600, 1000, 4300, 4980, 12900, 223, 4900, 101, 5900, 548, 895, 6700, 6500, 2700, 1100, 2900, 2600, 2800, 5300, 1300, 1000, 7900, 364, 13500, 4100, 2200, 3900, 6300, 8200, 1300, 5400, 2300, 2700, 2100, 707, 650, 2700, 4100, 822, 830, 3700, 653, 657, 1100, 2800, 3100, 792, 222, 3300, 315, 2500, 976, 2000, 1000, 3200, 650, 2300, 809, 745, 587, 818, 2200, 1300, 630, 2600, 2000, 3600, 440, 728, 893, 205, 528, 121, 361, 31, 0, 24, 0, 5, 6, 0, 424, 442, 410, 319, 304, 65]}, {\"histfunc\": \"count\", \"histnorm\": \"percent\", \"marker\": {\"color\": \"rgba(55, 128, 191, 1.0)\", \"line\": {\"color\": \"#4D5663\", \"width\": 1.3}}, \"name\": \"fans\", \"opacity\": 0.8, \"orientation\": \"v\", \"type\": \"histogram\", \"uid\": \"2d31010f-71da-45f6-b565-fed249bf2425\", \"x\": [2, 3, 19, 0, 0, 0, 20, 54, 2, 1, 71, 13, 5, 2, 17, 17, 4, 29, 3, 7, 2, 861, 435, 10, 11, 112, 45, 3, 43, 392, 892, 4, 549, 18, 6, 1510, 208, 47, 288, 329, 174, 737, 902, 2226, 74, 939, 23, 1076, 128, 188, 1271, 1179, 510, 200, 548, 549, 607, 951, 266, 227, 1629, 65, 2531, 829, 474, 841, 1184, 1825, 252, 1177, 378, 461, 434, 114, 129, 421, 655, 104, 226, 771, 131, 116, 206, 530, 576, 121, 32, 649, 52, 541, 143, 357, 135, 640, 119, 579, 113, 111, 100, 174, 588, 295, 173, 493, 387, 798, 115, 95, 235, 34, 158, 12, 47, 7, 0, 4, 0, 1, 3, 0, 75, 97, 83, 34, 29, 13]}],\n",
       "                        {\"barmode\": \"overlay\", \"legend\": {\"bgcolor\": \"#F5F6F9\", \"font\": {\"color\": \"#4D5663\"}}, \"paper_bgcolor\": \"#F5F6F9\", \"plot_bgcolor\": \"#F5F6F9\", \"title\": {\"font\": {\"color\": \"#4D5663\"}}, \"xaxis\": {\"gridcolor\": \"#E1E5ED\", \"showgrid\": true, \"tickfont\": {\"color\": \"#4D5663\"}, \"title\": {\"font\": {\"color\": \"#4D5663\"}, \"text\": \"\"}, \"zerolinecolor\": \"#E1E5ED\"}, \"yaxis\": {\"gridcolor\": \"#E1E5ED\", \"showgrid\": true, \"tickfont\": {\"color\": \"#4D5663\"}, \"title\": {\"font\": {\"color\": \"#4D5663\"}, \"text\": \"\"}, \"zerolinecolor\": \"#E1E5ED\"}},\n",
       "                        {\"showLink\": true, \"linkText\": \"Export to plot.ly\", \"responsive\": true, \"plotlyServerURL\": \"https://plot.ly\"}\n",
       "                    ).then(function(){\n",
       "                            \n",
       "var gd = document.getElementById('f2124eba-a213-4e6c-906c-a3e228036b31');\n",
       "var x = new MutationObserver(function (mutations, observer) {{\n",
       "        var display = window.getComputedStyle(gd).display;\n",
       "        if (!display || display === 'none') {{\n",
       "            console.log([gd, 'removed!']);\n",
       "            Plotly.purge(gd);\n",
       "            observer.disconnect();\n",
       "        }}\n",
       "}});\n",
       "\n",
       "// Listen for the removal of the full notebook cells\n",
       "var notebookContainer = gd.closest('#notebook-container');\n",
       "if (notebookContainer) {{\n",
       "    x.observe(notebookContainer, {childList: true});\n",
       "}}\n",
       "\n",
       "// Listen for the clearing of the current output cell\n",
       "var outputEl = gd.closest('.output');\n",
       "if (outputEl) {{\n",
       "    x.observe(outputEl, {childList: true});\n",
       "}}\n",
       "\n",
       "                        })\n",
       "                };\n",
       "                });\n",
       "            </script>\n",
       "        </div>"
      ]
     },
     "metadata": {},
     "output_type": "display_data"
    }
   ],
   "source": [
    "# Overlaid histograms\n",
    "df[['claps', 'fans']].iplot(\n",
    "    kind='hist',\n",
    "    histnorm='percent',\n",
    "    barmode='overlay')"
   ]
  },
  {
   "cell_type": "code",
   "execution_count": 30,
   "metadata": {
    "scrolled": true
   },
   "outputs": [
    {
     "data": {
      "application/vnd.plotly.v1+json": {
       "config": {
        "linkText": "Export to plot.ly",
        "plotlyServerURL": "https://plot.ly",
        "showLink": true
       },
       "data": [
        {
         "marker": {
          "color": "rgba(255, 153, 51, 0.6)",
          "line": {
           "color": "rgba(255, 153, 51, 1.0)",
           "width": 1
          }
         },
         "name": "views",
         "orientation": "v",
         "text": "",
         "type": "bar",
         "uid": "34a5156d-f49a-4aa2-a98e-5833a96949d3",
         "x": [
          "2017-06-30",
          "2017-07-31",
          "2017-08-31",
          "2017-09-30",
          "2017-10-31",
          "2017-11-30",
          "2017-12-31",
          "2018-01-31",
          "2018-02-28",
          "2018-03-31",
          "2018-04-30",
          "2018-05-31",
          "2018-06-30",
          "2018-07-31",
          "2018-08-31",
          "2018-09-30",
          "2018-10-31",
          "2018-11-30",
          "2018-12-31",
          "2019-01-31"
         ],
         "y": [
          463.6666666666667,
          5521.333333333333,
          6242.8,
          2113,
          "",
          "",
          60818.75,
          31615.944444444445,
          25463.875,
          69373.5,
          35668.333333333336,
          53369.4,
          50161.2,
          17410,
          16622.5,
          11755.333333333334,
          16041.4,
          12921.3,
          3844.5789473684213,
          354.3333333333333
         ]
        },
        {
         "marker": {
          "color": "rgba(55, 128, 191, 0.6)",
          "line": {
           "color": "rgba(55, 128, 191, 1.0)",
           "width": 1
          }
         },
         "name": "reads",
         "orientation": "v",
         "text": "",
         "type": "bar",
         "uid": "4427e6c1-1022-489d-a4bb-432c3460d697",
         "x": [
          "2017-06-30",
          "2017-07-31",
          "2017-08-31",
          "2017-09-30",
          "2017-10-31",
          "2017-11-30",
          "2017-12-31",
          "2018-01-31",
          "2018-02-28",
          "2018-03-31",
          "2018-04-30",
          "2018-05-31",
          "2018-06-30",
          "2018-07-31",
          "2018-08-31",
          "2018-09-30",
          "2018-10-31",
          "2018-11-30",
          "2018-12-31",
          "2019-01-31"
         ],
         "y": [
          112.33333333333333,
          1207.1666666666667,
          993.7,
          279,
          "",
          "",
          15724,
          9065.722222222223,
          9933.75,
          18884,
          11340.333333333334,
          11298,
          11675.8,
          2957.3333333333335,
          4423.125,
          2564.8333333333335,
          4265.4,
          3223.5,
          1188.7368421052631,
          110.33333333333333
         ]
        }
       ],
       "layout": {
        "legend": {
         "bgcolor": "#F5F6F9",
         "font": {
          "color": "#4D5663"
         }
        },
        "paper_bgcolor": "#F5F6F9",
        "plot_bgcolor": "#F5F6F9",
        "title": {
         "font": {
          "color": "#4D5663"
         },
         "text": "Monthly Average Views and Reads"
        },
        "xaxis": {
         "gridcolor": "#E1E5ED",
         "showgrid": true,
         "tickfont": {
          "color": "#4D5663"
         },
         "title": {
          "font": {
           "color": "#4D5663"
          },
          "text": "Date"
         },
         "zerolinecolor": "#E1E5ED"
        },
        "yaxis": {
         "gridcolor": "#E1E5ED",
         "showgrid": true,
         "tickfont": {
          "color": "#4D5663"
         },
         "title": {
          "font": {
           "color": "#4D5663"
          },
          "text": "Average"
         },
         "zerolinecolor": "#E1E5ED"
        }
       }
      },
      "text/html": [
       "<div>\n",
       "        \n",
       "        \n",
       "            <div id=\"bb5fb80a-de44-4368-ab21-51505ddd2159\" class=\"plotly-graph-div\" style=\"height:525px; width:100%;\"></div>\n",
       "            <script type=\"text/javascript\">\n",
       "                require([\"plotly\"], function(Plotly) {\n",
       "                    window.PLOTLYENV=window.PLOTLYENV || {};\n",
       "                    window.PLOTLYENV.BASE_URL='https://plot.ly';\n",
       "                    \n",
       "                if (document.getElementById(\"bb5fb80a-de44-4368-ab21-51505ddd2159\")) {\n",
       "                    Plotly.newPlot(\n",
       "                        'bb5fb80a-de44-4368-ab21-51505ddd2159',\n",
       "                        [{\"marker\": {\"color\": \"rgba(255, 153, 51, 0.6)\", \"line\": {\"color\": \"rgba(255, 153, 51, 1.0)\", \"width\": 1}}, \"name\": \"views\", \"orientation\": \"v\", \"text\": \"\", \"type\": \"bar\", \"uid\": \"34a5156d-f49a-4aa2-a98e-5833a96949d3\", \"x\": [\"2017-06-30\", \"2017-07-31\", \"2017-08-31\", \"2017-09-30\", \"2017-10-31\", \"2017-11-30\", \"2017-12-31\", \"2018-01-31\", \"2018-02-28\", \"2018-03-31\", \"2018-04-30\", \"2018-05-31\", \"2018-06-30\", \"2018-07-31\", \"2018-08-31\", \"2018-09-30\", \"2018-10-31\", \"2018-11-30\", \"2018-12-31\", \"2019-01-31\"], \"y\": [463.6666666666667, 5521.333333333333, 6242.8, 2113.0, \"\", \"\", 60818.75, 31615.944444444445, 25463.875, 69373.5, 35668.333333333336, 53369.4, 50161.2, 17410.0, 16622.5, 11755.333333333334, 16041.4, 12921.3, 3844.5789473684213, 354.3333333333333]}, {\"marker\": {\"color\": \"rgba(55, 128, 191, 0.6)\", \"line\": {\"color\": \"rgba(55, 128, 191, 1.0)\", \"width\": 1}}, \"name\": \"reads\", \"orientation\": \"v\", \"text\": \"\", \"type\": \"bar\", \"uid\": \"4427e6c1-1022-489d-a4bb-432c3460d697\", \"x\": [\"2017-06-30\", \"2017-07-31\", \"2017-08-31\", \"2017-09-30\", \"2017-10-31\", \"2017-11-30\", \"2017-12-31\", \"2018-01-31\", \"2018-02-28\", \"2018-03-31\", \"2018-04-30\", \"2018-05-31\", \"2018-06-30\", \"2018-07-31\", \"2018-08-31\", \"2018-09-30\", \"2018-10-31\", \"2018-11-30\", \"2018-12-31\", \"2019-01-31\"], \"y\": [112.33333333333333, 1207.1666666666667, 993.7, 279.0, \"\", \"\", 15724.0, 9065.722222222223, 9933.75, 18884.0, 11340.333333333334, 11298.0, 11675.8, 2957.3333333333335, 4423.125, 2564.8333333333335, 4265.4, 3223.5, 1188.7368421052631, 110.33333333333333]}],\n",
       "                        {\"legend\": {\"bgcolor\": \"#F5F6F9\", \"font\": {\"color\": \"#4D5663\"}}, \"paper_bgcolor\": \"#F5F6F9\", \"plot_bgcolor\": \"#F5F6F9\", \"title\": {\"font\": {\"color\": \"#4D5663\"}, \"text\": \"Monthly Average Views and Reads\"}, \"xaxis\": {\"gridcolor\": \"#E1E5ED\", \"showgrid\": true, \"tickfont\": {\"color\": \"#4D5663\"}, \"title\": {\"font\": {\"color\": \"#4D5663\"}, \"text\": \"Date\"}, \"zerolinecolor\": \"#E1E5ED\"}, \"yaxis\": {\"gridcolor\": \"#E1E5ED\", \"showgrid\": true, \"tickfont\": {\"color\": \"#4D5663\"}, \"title\": {\"font\": {\"color\": \"#4D5663\"}, \"text\": \"Average\"}, \"zerolinecolor\": \"#E1E5ED\"}},\n",
       "                        {\"showLink\": true, \"linkText\": \"Export to plot.ly\", \"responsive\": true, \"plotlyServerURL\": \"https://plot.ly\"}\n",
       "                    ).then(function(){\n",
       "                            \n",
       "var gd = document.getElementById('bb5fb80a-de44-4368-ab21-51505ddd2159');\n",
       "var x = new MutationObserver(function (mutations, observer) {{\n",
       "        var display = window.getComputedStyle(gd).display;\n",
       "        if (!display || display === 'none') {{\n",
       "            console.log([gd, 'removed!']);\n",
       "            Plotly.purge(gd);\n",
       "            observer.disconnect();\n",
       "        }}\n",
       "}});\n",
       "\n",
       "// Listen for the removal of the full notebook cells\n",
       "var notebookContainer = gd.closest('#notebook-container');\n",
       "if (notebookContainer) {{\n",
       "    x.observe(notebookContainer, {childList: true});\n",
       "}}\n",
       "\n",
       "// Listen for the clearing of the current output cell\n",
       "var outputEl = gd.closest('.output');\n",
       "if (outputEl) {{\n",
       "    x.observe(outputEl, {childList: true});\n",
       "}}\n",
       "\n",
       "                        })\n",
       "                };\n",
       "                });\n",
       "            </script>\n",
       "        </div>"
      ]
     },
     "metadata": {},
     "output_type": "display_data"
    }
   ],
   "source": [
    "# Bar Plot (Data is resampled according to month)\n",
    "df2 = df[['views','reads','published_date']].\\\n",
    "         set_index('published_date').resample('M').mean()\n",
    "\n",
    "df2.iplot(kind='bar', xTitle='Date', yTitle='Average',\n",
    "          title='Monthly Average Views and Reads')"
   ]
  },
  {
   "cell_type": "code",
   "execution_count": 34,
   "metadata": {},
   "outputs": [
    {
     "data": {
      "application/vnd.plotly.v1+json": {
       "config": {
        "linkText": "Export to plot.ly",
        "plotlyServerURL": "https://plot.ly",
        "showLink": true
       },
       "data": [
        {
         "boxpoints": false,
         "line": {
          "width": 1.3
         },
         "marker": {
          "color": "rgba(255, 153, 51, 1.0)"
         },
         "name": "Engineering @ Feature Labs",
         "orientation": "v",
         "type": "box",
         "uid": "691a86e4-a62b-4b30-8847-7628b14c400f",
         "y": [
          0,
          0,
          0,
          0,
          0,
          0,
          0,
          0,
          0,
          0,
          0,
          0,
          0,
          0,
          0,
          0,
          0,
          0,
          0,
          0,
          0,
          0,
          0,
          0,
          0,
          0,
          0,
          0,
          52,
          0,
          0,
          0,
          0,
          0,
          0,
          0,
          0,
          0,
          0,
          0,
          0,
          0,
          0,
          0,
          0,
          0,
          0,
          0,
          0,
          0,
          0,
          0,
          0,
          0,
          0,
          0,
          0,
          0,
          0,
          0,
          0,
          0,
          0,
          0,
          0,
          0,
          0,
          0,
          0,
          0,
          0,
          0,
          0,
          0,
          0,
          0,
          0,
          0,
          0,
          0,
          0,
          0,
          0,
          0,
          0,
          0,
          0,
          0,
          0,
          0,
          0,
          0,
          0,
          0,
          0,
          0,
          0,
          0,
          0,
          0,
          0,
          0,
          0,
          0,
          0,
          0,
          0,
          0,
          0,
          0,
          0,
          0,
          0,
          0,
          0,
          0,
          0,
          0,
          0,
          0,
          0,
          0,
          0,
          0,
          0,
          0
         ]
        },
        {
         "boxpoints": false,
         "line": {
          "width": 1.3
         },
         "marker": {
          "color": "rgba(55, 128, 191, 1.0)"
         },
         "name": "None",
         "orientation": "v",
         "type": "box",
         "uid": "5838357d-04a4-4e2e-8e47-8c0e3e40a89c",
         "y": [
          0,
          0,
          0,
          12,
          3,
          95,
          0,
          4,
          0,
          0,
          75,
          7,
          1,
          0,
          0,
          0,
          0,
          0,
          47,
          0,
          0,
          0,
          0,
          0,
          0,
          0,
          0,
          0,
          0,
          34,
          0,
          0,
          0,
          0,
          0,
          0,
          0,
          0,
          0,
          0,
          0,
          0,
          0,
          0,
          0,
          0,
          0,
          0,
          0,
          0,
          0,
          0,
          0,
          0,
          0,
          0,
          0,
          0,
          0,
          0,
          0,
          0,
          0,
          0,
          0,
          0,
          0,
          0,
          0,
          0,
          0,
          0,
          0,
          23,
          0,
          0,
          0,
          0,
          0,
          0,
          0,
          6,
          0,
          0,
          0,
          0,
          0,
          0,
          0,
          4,
          0,
          3,
          0,
          47,
          0,
          2,
          10,
          435,
          11,
          3,
          0,
          0,
          0,
          4,
          0,
          0,
          29,
          7,
          2,
          17,
          17,
          2,
          0,
          54,
          1,
          5,
          0,
          13,
          0,
          0,
          71,
          2,
          3,
          19,
          20,
          0
         ]
        },
        {
         "boxpoints": false,
         "line": {
          "width": 1.3
         },
         "marker": {
          "color": "rgba(50, 171, 96, 1.0)"
         },
         "name": "Noteworthy - The Journal Blog",
         "orientation": "v",
         "type": "box",
         "uid": "4eef76e1-4189-4b7f-907a-cae991c3bc47",
         "y": [
          0,
          0,
          0,
          0,
          0,
          0,
          0,
          0,
          0,
          0,
          0,
          0,
          0,
          0,
          0,
          0,
          0,
          0,
          0,
          0,
          0,
          0,
          0,
          0,
          0,
          0,
          0,
          0,
          0,
          0,
          0,
          0,
          0,
          0,
          0,
          0,
          135,
          0,
          0,
          0,
          0,
          0,
          0,
          0,
          0,
          0,
          0,
          0,
          0,
          0,
          0,
          0,
          0,
          0,
          0,
          0,
          0,
          0,
          0,
          0,
          0,
          0,
          0,
          0,
          0,
          0,
          0,
          0,
          0,
          0,
          0,
          0,
          0,
          0,
          0,
          0,
          0,
          0,
          0,
          0,
          0,
          0,
          0,
          0,
          0,
          0,
          0,
          0,
          0,
          0,
          0,
          0,
          0,
          0,
          0,
          0,
          0,
          0,
          0,
          0,
          0,
          0,
          0,
          0,
          0,
          0,
          0,
          0,
          0,
          0,
          0,
          0,
          0,
          0,
          0,
          0,
          0,
          0,
          0,
          0,
          0,
          0,
          0,
          0,
          0,
          0
         ]
        },
        {
         "boxpoints": false,
         "line": {
          "width": 1.3
         },
         "marker": {
          "color": "rgba(128, 0, 128, 1.0)"
         },
         "name": "The Reality Project",
         "orientation": "v",
         "type": "box",
         "uid": "d2987204-1069-4c70-8e30-a7a1d3384018",
         "y": [
          34,
          29,
          0,
          0,
          0,
          0,
          0,
          0,
          13,
          0,
          0,
          0,
          0,
          0,
          0,
          0,
          0,
          0,
          0,
          0,
          0,
          0,
          0,
          0,
          0,
          0,
          0,
          0,
          0,
          0,
          0,
          0,
          0,
          0,
          0,
          0,
          0,
          0,
          0,
          0,
          0,
          0,
          0,
          0,
          0,
          0,
          0,
          0,
          0,
          0,
          0,
          0,
          0,
          0,
          0,
          0,
          0,
          0,
          0,
          0,
          0,
          0,
          0,
          0,
          0,
          0,
          0,
          0,
          0,
          0,
          0,
          0,
          0,
          0,
          0,
          0,
          0,
          0,
          0,
          0,
          0,
          0,
          0,
          0,
          0,
          0,
          0,
          0,
          0,
          0,
          0,
          0,
          0,
          0,
          0,
          0,
          0,
          0,
          0,
          0,
          0,
          0,
          0,
          0,
          0,
          0,
          0,
          0,
          0,
          0,
          0,
          0,
          0,
          0,
          0,
          0,
          0,
          0,
          0,
          0,
          0,
          0,
          0,
          0,
          0,
          0
         ]
        },
        {
         "boxpoints": false,
         "line": {
          "width": 1.3
         },
         "marker": {
          "color": "rgba(219, 64, 82, 1.0)"
         },
         "name": "Towards Data Science",
         "orientation": "v",
         "type": "box",
         "uid": "cdb086d9-4cb0-4da0-8c6a-ae980635af99",
         "y": [
          0,
          0,
          0,
          0,
          0,
          0,
          0,
          0,
          0,
          0,
          0,
          0,
          0,
          115,
          83,
          97,
          158,
          235,
          0,
          798,
          387,
          493,
          295,
          588,
          111,
          173,
          100,
          113,
          0,
          0,
          640,
          357,
          119,
          579,
          541,
          143,
          0,
          121,
          530,
          649,
          32,
          116,
          206,
          226,
          421,
          104,
          131,
          655,
          771,
          434,
          114,
          1177,
          174,
          378,
          576,
          252,
          841,
          1184,
          474,
          1629,
          65,
          829,
          129,
          266,
          2531,
          227,
          607,
          951,
          549,
          510,
          200,
          1179,
          548,
          0,
          1825,
          461,
          188,
          128,
          1076,
          74,
          2226,
          0,
          737,
          288,
          939,
          329,
          902,
          174,
          1510,
          0,
          18,
          0,
          1271,
          0,
          549,
          0,
          0,
          0,
          0,
          0,
          392,
          892,
          45,
          0,
          861,
          112,
          0,
          0,
          0,
          0,
          0,
          0,
          43,
          0,
          0,
          0,
          0,
          0,
          0,
          0,
          0,
          0,
          0,
          0,
          0,
          208
         ]
        }
       ],
       "layout": {
        "legend": {
         "bgcolor": "#F5F6F9",
         "font": {
          "color": "#4D5663"
         }
        },
        "paper_bgcolor": "#F5F6F9",
        "plot_bgcolor": "#F5F6F9",
        "title": {
         "font": {
          "color": "#4D5663"
         },
         "text": "Fans Distribution by Publication"
        },
        "xaxis": {
         "gridcolor": "#E1E5ED",
         "showgrid": true,
         "tickfont": {
          "color": "#4D5663"
         },
         "title": {
          "font": {
           "color": "#4D5663"
          },
          "text": ""
         },
         "zerolinecolor": "#E1E5ED"
        },
        "yaxis": {
         "gridcolor": "#E1E5ED",
         "showgrid": true,
         "tickfont": {
          "color": "#4D5663"
         },
         "title": {
          "font": {
           "color": "#4D5663"
          },
          "text": "fans"
         },
         "zerolinecolor": "#E1E5ED"
        }
       }
      },
      "text/html": [
       "<div>\n",
       "        \n",
       "        \n",
       "            <div id=\"0c2370fc-10ed-4152-8a44-af62b276a6a6\" class=\"plotly-graph-div\" style=\"height:525px; width:100%;\"></div>\n",
       "            <script type=\"text/javascript\">\n",
       "                require([\"plotly\"], function(Plotly) {\n",
       "                    window.PLOTLYENV=window.PLOTLYENV || {};\n",
       "                    window.PLOTLYENV.BASE_URL='https://plot.ly';\n",
       "                    \n",
       "                if (document.getElementById(\"0c2370fc-10ed-4152-8a44-af62b276a6a6\")) {\n",
       "                    Plotly.newPlot(\n",
       "                        '0c2370fc-10ed-4152-8a44-af62b276a6a6',\n",
       "                        [{\"boxpoints\": false, \"line\": {\"width\": 1.3}, \"marker\": {\"color\": \"rgba(255, 153, 51, 1.0)\"}, \"name\": \"Engineering @ Feature Labs\", \"orientation\": \"v\", \"type\": \"box\", \"uid\": \"691a86e4-a62b-4b30-8847-7628b14c400f\", \"y\": [0.0, 0.0, 0.0, 0.0, 0.0, 0.0, 0.0, 0.0, 0.0, 0.0, 0.0, 0.0, 0.0, 0.0, 0.0, 0.0, 0.0, 0.0, 0.0, 0.0, 0.0, 0.0, 0.0, 0.0, 0.0, 0.0, 0.0, 0.0, 52.0, 0.0, 0.0, 0.0, 0.0, 0.0, 0.0, 0.0, 0.0, 0.0, 0.0, 0.0, 0.0, 0.0, 0.0, 0.0, 0.0, 0.0, 0.0, 0.0, 0.0, 0.0, 0.0, 0.0, 0.0, 0.0, 0.0, 0.0, 0.0, 0.0, 0.0, 0.0, 0.0, 0.0, 0.0, 0.0, 0.0, 0.0, 0.0, 0.0, 0.0, 0.0, 0.0, 0.0, 0.0, 0.0, 0.0, 0.0, 0.0, 0.0, 0.0, 0.0, 0.0, 0.0, 0.0, 0.0, 0.0, 0.0, 0.0, 0.0, 0.0, 0.0, 0.0, 0.0, 0.0, 0.0, 0.0, 0.0, 0.0, 0.0, 0.0, 0.0, 0.0, 0.0, 0.0, 0.0, 0.0, 0.0, 0.0, 0.0, 0.0, 0.0, 0.0, 0.0, 0.0, 0.0, 0.0, 0.0, 0.0, 0.0, 0.0, 0.0, 0.0, 0.0, 0.0, 0.0, 0.0, 0.0]}, {\"boxpoints\": false, \"line\": {\"width\": 1.3}, \"marker\": {\"color\": \"rgba(55, 128, 191, 1.0)\"}, \"name\": \"None\", \"orientation\": \"v\", \"type\": \"box\", \"uid\": \"5838357d-04a4-4e2e-8e47-8c0e3e40a89c\", \"y\": [0.0, 0.0, 0.0, 12.0, 3.0, 95.0, 0.0, 4.0, 0.0, 0.0, 75.0, 7.0, 1.0, 0.0, 0.0, 0.0, 0.0, 0.0, 47.0, 0.0, 0.0, 0.0, 0.0, 0.0, 0.0, 0.0, 0.0, 0.0, 0.0, 34.0, 0.0, 0.0, 0.0, 0.0, 0.0, 0.0, 0.0, 0.0, 0.0, 0.0, 0.0, 0.0, 0.0, 0.0, 0.0, 0.0, 0.0, 0.0, 0.0, 0.0, 0.0, 0.0, 0.0, 0.0, 0.0, 0.0, 0.0, 0.0, 0.0, 0.0, 0.0, 0.0, 0.0, 0.0, 0.0, 0.0, 0.0, 0.0, 0.0, 0.0, 0.0, 0.0, 0.0, 23.0, 0.0, 0.0, 0.0, 0.0, 0.0, 0.0, 0.0, 6.0, 0.0, 0.0, 0.0, 0.0, 0.0, 0.0, 0.0, 4.0, 0.0, 3.0, 0.0, 47.0, 0.0, 2.0, 10.0, 435.0, 11.0, 3.0, 0.0, 0.0, 0.0, 4.0, 0.0, 0.0, 29.0, 7.0, 2.0, 17.0, 17.0, 2.0, 0.0, 54.0, 1.0, 5.0, 0.0, 13.0, 0.0, 0.0, 71.0, 2.0, 3.0, 19.0, 20.0, 0.0]}, {\"boxpoints\": false, \"line\": {\"width\": 1.3}, \"marker\": {\"color\": \"rgba(50, 171, 96, 1.0)\"}, \"name\": \"Noteworthy - The Journal Blog\", \"orientation\": \"v\", \"type\": \"box\", \"uid\": \"4eef76e1-4189-4b7f-907a-cae991c3bc47\", \"y\": [0.0, 0.0, 0.0, 0.0, 0.0, 0.0, 0.0, 0.0, 0.0, 0.0, 0.0, 0.0, 0.0, 0.0, 0.0, 0.0, 0.0, 0.0, 0.0, 0.0, 0.0, 0.0, 0.0, 0.0, 0.0, 0.0, 0.0, 0.0, 0.0, 0.0, 0.0, 0.0, 0.0, 0.0, 0.0, 0.0, 135.0, 0.0, 0.0, 0.0, 0.0, 0.0, 0.0, 0.0, 0.0, 0.0, 0.0, 0.0, 0.0, 0.0, 0.0, 0.0, 0.0, 0.0, 0.0, 0.0, 0.0, 0.0, 0.0, 0.0, 0.0, 0.0, 0.0, 0.0, 0.0, 0.0, 0.0, 0.0, 0.0, 0.0, 0.0, 0.0, 0.0, 0.0, 0.0, 0.0, 0.0, 0.0, 0.0, 0.0, 0.0, 0.0, 0.0, 0.0, 0.0, 0.0, 0.0, 0.0, 0.0, 0.0, 0.0, 0.0, 0.0, 0.0, 0.0, 0.0, 0.0, 0.0, 0.0, 0.0, 0.0, 0.0, 0.0, 0.0, 0.0, 0.0, 0.0, 0.0, 0.0, 0.0, 0.0, 0.0, 0.0, 0.0, 0.0, 0.0, 0.0, 0.0, 0.0, 0.0, 0.0, 0.0, 0.0, 0.0, 0.0, 0.0]}, {\"boxpoints\": false, \"line\": {\"width\": 1.3}, \"marker\": {\"color\": \"rgba(128, 0, 128, 1.0)\"}, \"name\": \"The Reality Project\", \"orientation\": \"v\", \"type\": \"box\", \"uid\": \"d2987204-1069-4c70-8e30-a7a1d3384018\", \"y\": [34.0, 29.0, 0.0, 0.0, 0.0, 0.0, 0.0, 0.0, 13.0, 0.0, 0.0, 0.0, 0.0, 0.0, 0.0, 0.0, 0.0, 0.0, 0.0, 0.0, 0.0, 0.0, 0.0, 0.0, 0.0, 0.0, 0.0, 0.0, 0.0, 0.0, 0.0, 0.0, 0.0, 0.0, 0.0, 0.0, 0.0, 0.0, 0.0, 0.0, 0.0, 0.0, 0.0, 0.0, 0.0, 0.0, 0.0, 0.0, 0.0, 0.0, 0.0, 0.0, 0.0, 0.0, 0.0, 0.0, 0.0, 0.0, 0.0, 0.0, 0.0, 0.0, 0.0, 0.0, 0.0, 0.0, 0.0, 0.0, 0.0, 0.0, 0.0, 0.0, 0.0, 0.0, 0.0, 0.0, 0.0, 0.0, 0.0, 0.0, 0.0, 0.0, 0.0, 0.0, 0.0, 0.0, 0.0, 0.0, 0.0, 0.0, 0.0, 0.0, 0.0, 0.0, 0.0, 0.0, 0.0, 0.0, 0.0, 0.0, 0.0, 0.0, 0.0, 0.0, 0.0, 0.0, 0.0, 0.0, 0.0, 0.0, 0.0, 0.0, 0.0, 0.0, 0.0, 0.0, 0.0, 0.0, 0.0, 0.0, 0.0, 0.0, 0.0, 0.0, 0.0, 0.0]}, {\"boxpoints\": false, \"line\": {\"width\": 1.3}, \"marker\": {\"color\": \"rgba(219, 64, 82, 1.0)\"}, \"name\": \"Towards Data Science\", \"orientation\": \"v\", \"type\": \"box\", \"uid\": \"cdb086d9-4cb0-4da0-8c6a-ae980635af99\", \"y\": [0.0, 0.0, 0.0, 0.0, 0.0, 0.0, 0.0, 0.0, 0.0, 0.0, 0.0, 0.0, 0.0, 115.0, 83.0, 97.0, 158.0, 235.0, 0.0, 798.0, 387.0, 493.0, 295.0, 588.0, 111.0, 173.0, 100.0, 113.0, 0.0, 0.0, 640.0, 357.0, 119.0, 579.0, 541.0, 143.0, 0.0, 121.0, 530.0, 649.0, 32.0, 116.0, 206.0, 226.0, 421.0, 104.0, 131.0, 655.0, 771.0, 434.0, 114.0, 1177.0, 174.0, 378.0, 576.0, 252.0, 841.0, 1184.0, 474.0, 1629.0, 65.0, 829.0, 129.0, 266.0, 2531.0, 227.0, 607.0, 951.0, 549.0, 510.0, 200.0, 1179.0, 548.0, 0.0, 1825.0, 461.0, 188.0, 128.0, 1076.0, 74.0, 2226.0, 0.0, 737.0, 288.0, 939.0, 329.0, 902.0, 174.0, 1510.0, 0.0, 18.0, 0.0, 1271.0, 0.0, 549.0, 0.0, 0.0, 0.0, 0.0, 0.0, 392.0, 892.0, 45.0, 0.0, 861.0, 112.0, 0.0, 0.0, 0.0, 0.0, 0.0, 0.0, 43.0, 0.0, 0.0, 0.0, 0.0, 0.0, 0.0, 0.0, 0.0, 0.0, 0.0, 0.0, 0.0, 208.0]}],\n",
       "                        {\"legend\": {\"bgcolor\": \"#F5F6F9\", \"font\": {\"color\": \"#4D5663\"}}, \"paper_bgcolor\": \"#F5F6F9\", \"plot_bgcolor\": \"#F5F6F9\", \"title\": {\"font\": {\"color\": \"#4D5663\"}, \"text\": \"Fans Distribution by Publication\"}, \"xaxis\": {\"gridcolor\": \"#E1E5ED\", \"showgrid\": true, \"tickfont\": {\"color\": \"#4D5663\"}, \"title\": {\"font\": {\"color\": \"#4D5663\"}, \"text\": \"\"}, \"zerolinecolor\": \"#E1E5ED\"}, \"yaxis\": {\"gridcolor\": \"#E1E5ED\", \"showgrid\": true, \"tickfont\": {\"color\": \"#4D5663\"}, \"title\": {\"font\": {\"color\": \"#4D5663\"}, \"text\": \"fans\"}, \"zerolinecolor\": \"#E1E5ED\"}},\n",
       "                        {\"showLink\": true, \"linkText\": \"Export to plot.ly\", \"responsive\": true, \"plotlyServerURL\": \"https://plot.ly\"}\n",
       "                    ).then(function(){\n",
       "                            \n",
       "var gd = document.getElementById('0c2370fc-10ed-4152-8a44-af62b276a6a6');\n",
       "var x = new MutationObserver(function (mutations, observer) {{\n",
       "        var display = window.getComputedStyle(gd).display;\n",
       "        if (!display || display === 'none') {{\n",
       "            console.log([gd, 'removed!']);\n",
       "            Plotly.purge(gd);\n",
       "            observer.disconnect();\n",
       "        }}\n",
       "}});\n",
       "\n",
       "// Listen for the removal of the full notebook cells\n",
       "var notebookContainer = gd.closest('#notebook-container');\n",
       "if (notebookContainer) {{\n",
       "    x.observe(notebookContainer, {childList: true});\n",
       "}}\n",
       "\n",
       "// Listen for the clearing of the current output cell\n",
       "var outputEl = gd.closest('.output');\n",
       "if (outputEl) {{\n",
       "    x.observe(outputEl, {childList: true});\n",
       "}}\n",
       "\n",
       "                        })\n",
       "                };\n",
       "                });\n",
       "            </script>\n",
       "        </div>"
      ]
     },
     "metadata": {},
     "output_type": "display_data"
    }
   ],
   "source": [
    "# Box Plot\n",
    "df.pivot(columns='publication', values='fans').fillna(0).iplot(\n",
    "         kind='box',\n",
    "         yTitle='fans',\n",
    "         title='Fans Distribution by Publication')"
   ]
  },
  {
   "cell_type": "code",
   "execution_count": 40,
   "metadata": {},
   "outputs": [
    {
     "data": {
      "application/vnd.plotly.v1+json": {
       "config": {
        "linkText": "Export to plot.ly",
        "plotlyServerURL": "https://plot.ly",
        "showLink": true
       },
       "data": [
        {
         "line": {
          "color": "rgba(255, 153, 51, 1.0)",
          "dash": "solid",
          "shape": "linear",
          "width": 1.3
         },
         "marker": {
          "size": 12,
          "symbol": "circle"
         },
         "mode": "lines+markers",
         "name": "claps",
         "text": [
          "Random Forest in Python",
          "Improving the Random Forest in Python Part 1",
          "Data Science: A Personal Application",
          "A Theory of Prediction",
          "Hyperparameter Tuning the Random Forest in Python",
          "Time Series Analysis in Python: An Introduction",
          "Stock Analysis in Python",
          "A Review of the Coursera Machine Learning Specialization",
          "Stock Prediction in Python",
          "Correlation vs. Causation: An Example",
          "Learn By Sharing",
          "Overfitting vs. Underfitting: A Conceptual Explanation",
          "Overfitting vs. Underfitting: A Complete Example",
          "How to Master New Skills",
          "Statistical Significance Explained",
          "Python is the Perfect Tool for any Problem",
          "The Misleading Effect of Noise: The Multiple Comparisons Problem",
          "Markov Chain Monte Carlo in Python",
          "Bayes’ Rule Applied",
          "Data Visualization Hackathon Style",
          "Unintended Consequences and Goodhart’s Law",
          "Beyond Accuracy: Precision and Recall",
          "Controlling the Web with Python",
          "Data Visualization with Bokeh in Python, Part I: Getting Started",
          "Data Visualization with Bokeh in Python, Part II: Interactions",
          "Histograms and Density Plots in Python",
          "Data Visualization with Bokeh in Python, Part III: Making a Complete Dashboard",
          "Visualizing Data with Pairs Plots in Python",
          "Introduction to Bayesian Linear Regression",
          "Bayesian Linear Regression in Python: Using Machine Learning to Predict Student Grades Part 1",
          "Bayesian Linear Regression in Python: Using Machine Learning to Predict Student Grades Part 2",
          "Web Scraping, Regular Expressions, and Data Visualization: Doing it all in Python",
          "If your files are saved only on your laptop they might as well not exist!",
          "A Complete Machine Learning Project Walk-Through in Python: Part One",
          "A Complete Machine Learning Walk-Through in Python: Part Two",
          "A Complete Machine Learning Walk-Through in Python: Part Three",
          "Automated Machine Learning on the Cloud in Python",
          "Machine Learning Kaggle Competition Part One: Getting Started",
          "Automated Feature Engineering in Python",
          "Machine Learning Kaggle Competition Part Two: Improving",
          "A Feature Selection Tool for Machine Learning in Python",
          "A Conceptual Explanation of Bayesian Hyperparameter Optimization for Machine Learning",
          "An Introductory Example of Bayesian Optimization in Python with Hyperopt",
          "Automated Machine Learning Hyperparameter Tuning in Python",
          "Machine Learning Kaggle Competition: Part Three Optimization",
          "How to get the right data? Trying asking for it.",
          "Why Automated Feature Engineering Will Change the Way You Do Machine Learning",
          "The most important part of a data science project is writing a blog post",
          "Parallelizing Feature Engineering with Dask",
          "How to Visualize a Decision Tree from a Random Forest in Python using Scikit-Learn",
          "A “Data Science for Good“ Machine Learning Project Walk-Through in Python: Part One",
          "A “Data Science for Good” Machine Learning Project Walk-Through in Python: Part Two",
          "How to Put Fully Interactive, Runnable Code in a Medium Post",
          "An Implementation and Explanation of the Random Forest in Python",
          "Practical Advice for Data Science Writing",
          "Another Machine Learning Walk-Through and a Challenge",
          "Five Minutes to Your Own Website",
          "Converting Medium Posts to Markdown for Your Blog",
          "Wikipedia Data Science: Working with the World’s Largest Encyclopedia",
          "Neural Network Embeddings Explained",
          "Building a Recommendation System Using Neural Network Embeddings",
          "Simpson’s Paradox: How to Prove Opposite Arguments with the Same Data",
          "My Weaknesses as a Data Scientist",
          "Overcome Your Biases with Data",
          "Recurrent Neural Networks by Example in Python",
          "Prediction Engineering: How to Set Up Your Machine Learning Problem",
          "How to Create Value with Machine Learning",
          "Feature Engineering: What Powers Machine Learning",
          "Modeling: Teaching a Machine Learning Algorithm to Deliver Business Value",
          "Deploying a Keras Deep Learning Model as a Web Application in Python",
          "Deploying a Python Web App on AWS",
          "Transfer Learning with Convolutional Neural Networks in PyTorch",
          "Estimating Probabilities with Bayesian Modeling in Python",
          "Python and Slack: A Natural Match",
          "Jupyter Notebook Extensions",
          "How to Write a Jupyter Notebook Extension",
          "Introduction to Interactive Time Series Visualizations with Plotly in Python",
          "Docker for Data Science Without the Hassle",
          "The Copernican Principle and How to Use Statistics to Figure Out How Long Anything Will Last",
          "Data Science with Medium Story Stats in Python"
         ],
         "type": "scatter",
         "uid": "381fb48f-5f7f-42dc-a830-053f6cc164e3",
         "x": [
          "2017-12-27 11:20:00",
          "2018-01-06 20:15:00",
          "2018-01-07 20:37:00",
          "2018-01-08 16:58:00",
          "2018-01-09 21:49:00",
          "2018-01-12 20:48:00",
          "2018-01-17 15:24:00",
          "2018-01-17 19:42:00",
          "2018-01-19 15:30:00",
          "2018-01-19 20:16:00",
          "2018-01-24 18:27:00",
          "2018-01-27 20:17:00",
          "2018-01-28 08:40:00",
          "2018-01-31 11:41:00",
          "2018-02-02 09:26:00",
          "2018-02-04 09:12:00",
          "2018-02-07 09:09:00",
          "2018-02-09 22:29:00",
          "2018-02-14 11:27:00",
          "2018-02-20 12:49:00",
          "2018-02-24 09:33:00",
          "2018-03-03 11:10:00",
          "2018-03-10 16:16:00",
          "2018-03-17 10:29:00",
          "2018-03-20 09:47:00",
          "2018-03-23 12:44:00",
          "2018-03-31 08:36:00",
          "2018-04-06 14:12:00",
          "2018-04-13 20:38:00",
          "2018-04-20 13:31:00",
          "2018-04-20 13:34:00",
          "2018-04-28 15:27:00",
          "2018-04-30 11:04:00",
          "2018-05-16 12:33:00",
          "2018-05-17 09:34:00",
          "2018-05-18 09:48:00",
          "2018-05-21 14:16:00",
          "2018-05-28 11:39:00",
          "2018-06-02 10:01:00",
          "2018-06-19 20:35:00",
          "2018-06-22 10:12:00",
          "2018-06-24 08:26:00",
          "2018-06-28 08:33:00",
          "2018-07-03 11:04:00",
          "2018-07-20 08:57:00",
          "2018-07-26 09:35:00",
          "2018-08-09 09:04:00",
          "2018-08-11 05:53:00",
          "2018-08-16 14:43:00",
          "2018-08-18 19:49:00",
          "2018-08-20 09:48:00",
          "2018-08-20 09:51:00",
          "2018-08-29 19:08:00",
          "2018-08-30 12:44:00",
          "2018-09-03 17:27:00",
          "2018-09-10 09:26:00",
          "2018-09-16 10:31:00",
          "2018-09-16 17:55:00",
          "2018-09-23 10:26:00",
          "2018-10-01 21:04:00",
          "2018-10-04 13:10:00",
          "2018-10-12 12:31:00",
          "2018-10-26 15:32:00",
          "2018-11-01 20:44:00",
          "2018-11-04 21:30:00",
          "2018-11-07 10:14:00",
          "2018-11-07 10:17:00",
          "2018-11-12 09:00:00",
          "2018-11-15 08:35:00",
          "2018-11-17 21:54:00",
          "2018-11-18 19:57:00",
          "2018-11-26 13:25:00",
          "2018-11-28 10:23:00",
          "2018-12-01 11:50:00",
          "2018-12-07 16:16:00",
          "2018-12-08 14:41:00",
          "2018-12-15 12:39:00",
          "2018-12-17 20:04:00",
          "2018-12-29 11:36:00",
          "2018-12-31 17:53:00"
         ],
         "y": [
          4800,
          857,
          186,
          119,
          2000,
          4100,
          2700,
          77,
          7000,
          1200,
          1600,
          1600,
          1000,
          4300,
          4980,
          12900,
          223,
          4900,
          5900,
          548,
          895,
          6700,
          6500,
          2700,
          1100,
          2900,
          2600,
          2800,
          5300,
          1300,
          1000,
          7900,
          364,
          13500,
          4100,
          2200,
          3900,
          6300,
          8200,
          1300,
          5400,
          2300,
          2700,
          2100,
          707,
          650,
          2700,
          4100,
          822,
          830,
          3700,
          653,
          657,
          1100,
          2800,
          3100,
          792,
          222,
          3300,
          2500,
          976,
          2000,
          3200,
          650,
          2300,
          809,
          745,
          587,
          818,
          2200,
          1300,
          630,
          2600,
          2000,
          3600,
          440,
          893,
          528,
          442,
          410
         ]
        },
        {
         "line": {
          "color": "rgba(55, 128, 191, 1.0)",
          "dash": "solid",
          "shape": "linear",
          "width": 1.3
         },
         "marker": {
          "size": 12,
          "symbol": "circle"
         },
         "mode": "lines+markers",
         "name": "fans",
         "text": [
          "Random Forest in Python",
          "Improving the Random Forest in Python Part 1",
          "Data Science: A Personal Application",
          "A Theory of Prediction",
          "Hyperparameter Tuning the Random Forest in Python",
          "Time Series Analysis in Python: An Introduction",
          "Stock Analysis in Python",
          "A Review of the Coursera Machine Learning Specialization",
          "Stock Prediction in Python",
          "Correlation vs. Causation: An Example",
          "Learn By Sharing",
          "Overfitting vs. Underfitting: A Conceptual Explanation",
          "Overfitting vs. Underfitting: A Complete Example",
          "How to Master New Skills",
          "Statistical Significance Explained",
          "Python is the Perfect Tool for any Problem",
          "The Misleading Effect of Noise: The Multiple Comparisons Problem",
          "Markov Chain Monte Carlo in Python",
          "Bayes’ Rule Applied",
          "Data Visualization Hackathon Style",
          "Unintended Consequences and Goodhart’s Law",
          "Beyond Accuracy: Precision and Recall",
          "Controlling the Web with Python",
          "Data Visualization with Bokeh in Python, Part I: Getting Started",
          "Data Visualization with Bokeh in Python, Part II: Interactions",
          "Histograms and Density Plots in Python",
          "Data Visualization with Bokeh in Python, Part III: Making a Complete Dashboard",
          "Visualizing Data with Pairs Plots in Python",
          "Introduction to Bayesian Linear Regression",
          "Bayesian Linear Regression in Python: Using Machine Learning to Predict Student Grades Part 1",
          "Bayesian Linear Regression in Python: Using Machine Learning to Predict Student Grades Part 2",
          "Web Scraping, Regular Expressions, and Data Visualization: Doing it all in Python",
          "If your files are saved only on your laptop they might as well not exist!",
          "A Complete Machine Learning Project Walk-Through in Python: Part One",
          "A Complete Machine Learning Walk-Through in Python: Part Two",
          "A Complete Machine Learning Walk-Through in Python: Part Three",
          "Automated Machine Learning on the Cloud in Python",
          "Machine Learning Kaggle Competition Part One: Getting Started",
          "Automated Feature Engineering in Python",
          "Machine Learning Kaggle Competition Part Two: Improving",
          "A Feature Selection Tool for Machine Learning in Python",
          "A Conceptual Explanation of Bayesian Hyperparameter Optimization for Machine Learning",
          "An Introductory Example of Bayesian Optimization in Python with Hyperopt",
          "Automated Machine Learning Hyperparameter Tuning in Python",
          "Machine Learning Kaggle Competition: Part Three Optimization",
          "How to get the right data? Trying asking for it.",
          "Why Automated Feature Engineering Will Change the Way You Do Machine Learning",
          "The most important part of a data science project is writing a blog post",
          "Parallelizing Feature Engineering with Dask",
          "How to Visualize a Decision Tree from a Random Forest in Python using Scikit-Learn",
          "A “Data Science for Good“ Machine Learning Project Walk-Through in Python: Part One",
          "A “Data Science for Good” Machine Learning Project Walk-Through in Python: Part Two",
          "How to Put Fully Interactive, Runnable Code in a Medium Post",
          "An Implementation and Explanation of the Random Forest in Python",
          "Practical Advice for Data Science Writing",
          "Another Machine Learning Walk-Through and a Challenge",
          "Five Minutes to Your Own Website",
          "Converting Medium Posts to Markdown for Your Blog",
          "Wikipedia Data Science: Working with the World’s Largest Encyclopedia",
          "Neural Network Embeddings Explained",
          "Building a Recommendation System Using Neural Network Embeddings",
          "Simpson’s Paradox: How to Prove Opposite Arguments with the Same Data",
          "My Weaknesses as a Data Scientist",
          "Overcome Your Biases with Data",
          "Recurrent Neural Networks by Example in Python",
          "Prediction Engineering: How to Set Up Your Machine Learning Problem",
          "How to Create Value with Machine Learning",
          "Feature Engineering: What Powers Machine Learning",
          "Modeling: Teaching a Machine Learning Algorithm to Deliver Business Value",
          "Deploying a Keras Deep Learning Model as a Web Application in Python",
          "Deploying a Python Web App on AWS",
          "Transfer Learning with Convolutional Neural Networks in PyTorch",
          "Estimating Probabilities with Bayesian Modeling in Python",
          "Python and Slack: A Natural Match",
          "Jupyter Notebook Extensions",
          "How to Write a Jupyter Notebook Extension",
          "Introduction to Interactive Time Series Visualizations with Plotly in Python",
          "Docker for Data Science Without the Hassle",
          "The Copernican Principle and How to Use Statistics to Figure Out How Long Anything Will Last",
          "Data Science with Medium Story Stats in Python"
         ],
         "type": "scatter",
         "uid": "d73009aa-fce7-4d05-957c-cbbd915a05cc",
         "x": [
          "2017-12-27 11:20:00",
          "2018-01-06 20:15:00",
          "2018-01-07 20:37:00",
          "2018-01-08 16:58:00",
          "2018-01-09 21:49:00",
          "2018-01-12 20:48:00",
          "2018-01-17 15:24:00",
          "2018-01-17 19:42:00",
          "2018-01-19 15:30:00",
          "2018-01-19 20:16:00",
          "2018-01-24 18:27:00",
          "2018-01-27 20:17:00",
          "2018-01-28 08:40:00",
          "2018-01-31 11:41:00",
          "2018-02-02 09:26:00",
          "2018-02-04 09:12:00",
          "2018-02-07 09:09:00",
          "2018-02-09 22:29:00",
          "2018-02-14 11:27:00",
          "2018-02-20 12:49:00",
          "2018-02-24 09:33:00",
          "2018-03-03 11:10:00",
          "2018-03-10 16:16:00",
          "2018-03-17 10:29:00",
          "2018-03-20 09:47:00",
          "2018-03-23 12:44:00",
          "2018-03-31 08:36:00",
          "2018-04-06 14:12:00",
          "2018-04-13 20:38:00",
          "2018-04-20 13:31:00",
          "2018-04-20 13:34:00",
          "2018-04-28 15:27:00",
          "2018-04-30 11:04:00",
          "2018-05-16 12:33:00",
          "2018-05-17 09:34:00",
          "2018-05-18 09:48:00",
          "2018-05-21 14:16:00",
          "2018-05-28 11:39:00",
          "2018-06-02 10:01:00",
          "2018-06-19 20:35:00",
          "2018-06-22 10:12:00",
          "2018-06-24 08:26:00",
          "2018-06-28 08:33:00",
          "2018-07-03 11:04:00",
          "2018-07-20 08:57:00",
          "2018-07-26 09:35:00",
          "2018-08-09 09:04:00",
          "2018-08-11 05:53:00",
          "2018-08-16 14:43:00",
          "2018-08-18 19:49:00",
          "2018-08-20 09:48:00",
          "2018-08-20 09:51:00",
          "2018-08-29 19:08:00",
          "2018-08-30 12:44:00",
          "2018-09-03 17:27:00",
          "2018-09-10 09:26:00",
          "2018-09-16 10:31:00",
          "2018-09-16 17:55:00",
          "2018-09-23 10:26:00",
          "2018-10-01 21:04:00",
          "2018-10-04 13:10:00",
          "2018-10-12 12:31:00",
          "2018-10-26 15:32:00",
          "2018-11-01 20:44:00",
          "2018-11-04 21:30:00",
          "2018-11-07 10:14:00",
          "2018-11-07 10:17:00",
          "2018-11-12 09:00:00",
          "2018-11-15 08:35:00",
          "2018-11-17 21:54:00",
          "2018-11-18 19:57:00",
          "2018-11-26 13:25:00",
          "2018-11-28 10:23:00",
          "2018-12-01 11:50:00",
          "2018-12-07 16:16:00",
          "2018-12-08 14:41:00",
          "2018-12-15 12:39:00",
          "2018-12-17 20:04:00",
          "2018-12-29 11:36:00",
          "2018-12-31 17:53:00"
         ],
         "xaxis": "x",
         "y": [
          861,
          112,
          45,
          43,
          392,
          892,
          549,
          18,
          1510,
          208,
          288,
          329,
          174,
          737,
          902,
          2226,
          74,
          939,
          1076,
          128,
          188,
          1271,
          1179,
          510,
          200,
          548,
          549,
          607,
          951,
          266,
          227,
          1629,
          65,
          2531,
          829,
          474,
          841,
          1184,
          1825,
          252,
          1177,
          378,
          461,
          434,
          114,
          129,
          421,
          655,
          104,
          226,
          771,
          131,
          116,
          206,
          530,
          576,
          121,
          32,
          649,
          541,
          143,
          357,
          640,
          119,
          579,
          113,
          111,
          100,
          174,
          588,
          295,
          173,
          493,
          387,
          798,
          115,
          235,
          158,
          97,
          83
         ],
         "yaxis": "y2"
        }
       ],
       "layout": {
        "legend": {
         "bgcolor": "#F5F6F9",
         "font": {
          "color": "#4D5663"
         }
        },
        "paper_bgcolor": "#F5F6F9",
        "plot_bgcolor": "#F5F6F9",
        "title": {
         "font": {
          "color": "#4D5663"
         },
         "text": "Fans and Claps over Time"
        },
        "xaxis": {
         "gridcolor": "#E1E5ED",
         "showgrid": true,
         "tickfont": {
          "color": "#4D5663"
         },
         "title": {
          "font": {
           "color": "#4D5663"
          },
          "text": "Date"
         },
         "zerolinecolor": "#E1E5ED"
        },
        "yaxis": {
         "gridcolor": "#E1E5ED",
         "showgrid": true,
         "tickfont": {
          "color": "#4D5663"
         },
         "title": {
          "font": {
           "color": "#4D5663"
          },
          "text": "Claps"
         },
         "zerolinecolor": "#E1E5ED"
        },
        "yaxis2": {
         "anchor": "x",
         "gridcolor": "#E1E5ED",
         "overlaying": "y",
         "showgrid": true,
         "side": "right",
         "tickfont": {
          "color": "#4D5663"
         },
         "title": {
          "text": "Fans"
         },
         "zerolinecolor": "#E1E5ED"
        }
       }
      },
      "text/html": [
       "<div>\n",
       "        \n",
       "        \n",
       "            <div id=\"4efe3569-5fac-484a-a401-a2d1afd94a36\" class=\"plotly-graph-div\" style=\"height:525px; width:100%;\"></div>\n",
       "            <script type=\"text/javascript\">\n",
       "                require([\"plotly\"], function(Plotly) {\n",
       "                    window.PLOTLYENV=window.PLOTLYENV || {};\n",
       "                    window.PLOTLYENV.BASE_URL='https://plot.ly';\n",
       "                    \n",
       "                if (document.getElementById(\"4efe3569-5fac-484a-a401-a2d1afd94a36\")) {\n",
       "                    Plotly.newPlot(\n",
       "                        '4efe3569-5fac-484a-a401-a2d1afd94a36',\n",
       "                        [{\"line\": {\"color\": \"rgba(255, 153, 51, 1.0)\", \"dash\": \"solid\", \"shape\": \"linear\", \"width\": 1.3}, \"marker\": {\"size\": 12, \"symbol\": \"circle\"}, \"mode\": \"lines+markers\", \"name\": \"claps\", \"text\": [\"Random Forest in\\u00a0Python\", \"Improving the Random Forest in Python Part\\u00a01\", \"Data Science: A Personal Application\", \"A Theory of Prediction\", \"Hyperparameter Tuning the Random Forest in\\u00a0Python\", \"Time Series Analysis in Python: An Introduction\", \"Stock Analysis in\\u00a0Python\", \"A Review of the Coursera Machine Learning Specialization\", \"Stock Prediction in\\u00a0Python\", \"Correlation vs. Causation: An\\u00a0Example\", \"Learn By\\u00a0Sharing\", \"Overfitting vs. Underfitting: A Conceptual Explanation\", \"Overfitting vs. Underfitting: A Complete\\u00a0Example\", \"How to Master New\\u00a0Skills\", \"Statistical Significance Explained\", \"Python is the Perfect Tool for any\\u00a0Problem\", \"The Misleading Effect of Noise: The Multiple Comparisons Problem\", \"Markov Chain Monte Carlo in\\u00a0Python\", \"Bayes\\u2019 Rule\\u00a0Applied\", \"Data Visualization Hackathon Style\", \"Unintended Consequences and Goodhart\\u2019s Law\", \"Beyond Accuracy: Precision and\\u00a0Recall\", \"Controlling the Web with\\u00a0Python\", \"Data Visualization with Bokeh in Python, Part I: Getting\\u00a0Started\", \"Data Visualization with Bokeh in Python, Part II: Interactions\", \"Histograms and Density Plots in\\u00a0Python\", \"Data Visualization with Bokeh in Python, Part III: Making a Complete Dashboard\", \"Visualizing Data with Pairs Plots in\\u00a0Python\", \"Introduction to Bayesian Linear Regression\", \"Bayesian Linear Regression in Python: Using Machine Learning to Predict Student Grades Part\\u00a01\", \"Bayesian Linear Regression in Python: Using Machine Learning to Predict Student Grades Part\\u00a02\", \"Web Scraping, Regular Expressions, and Data Visualization: Doing it all in\\u00a0Python\", \"If your files are saved only on your laptop they might as well not\\u00a0exist!\", \"A Complete Machine Learning Project Walk-Through in Python: Part\\u00a0One\", \"A Complete Machine Learning Walk-Through in Python: Part\\u00a0Two\", \"A Complete Machine Learning Walk-Through in Python: Part\\u00a0Three\", \"Automated Machine Learning on the Cloud in\\u00a0Python\", \"Machine Learning Kaggle Competition Part One: Getting\\u00a0Started\", \"Automated Feature Engineering in\\u00a0Python\", \"Machine Learning Kaggle Competition Part Two: Improving\", \"A Feature Selection Tool for Machine Learning in\\u00a0Python\", \"A Conceptual Explanation of Bayesian Hyperparameter Optimization for Machine\\u00a0Learning\", \"An Introductory Example of Bayesian Optimization in Python with\\u00a0Hyperopt\", \"Automated Machine Learning Hyperparameter Tuning in\\u00a0Python\", \"Machine Learning Kaggle Competition: Part Three Optimization\", \"How to get the right data? Trying asking for\\u00a0it.\", \"Why Automated Feature Engineering Will Change the Way You Do Machine\\u00a0Learning\", \"The most important part of a data science project is writing a blog\\u00a0post\", \"Parallelizing Feature Engineering with\\u00a0Dask\", \"How to Visualize a Decision Tree from a Random Forest in Python using Scikit-Learn\", \"A \\u201cData Science for Good\\u201c Machine Learning Project Walk-Through in Python: Part\\u00a0One\", \"A \\u201cData Science for Good\\u201d Machine Learning Project Walk-Through in Python: Part\\u00a0Two\", \"How to Put Fully Interactive, Runnable Code in a Medium\\u00a0Post\", \"An Implementation and Explanation of the Random Forest in\\u00a0Python\", \"Practical Advice for Data Science\\u00a0Writing\", \"Another Machine Learning Walk-Through and a Challenge\", \"Five Minutes to Your Own\\u00a0Website\", \"Converting Medium Posts to Markdown for Your\\u00a0Blog\", \"Wikipedia Data Science: Working with the World\\u2019s Largest Encyclopedia\", \"Neural Network Embeddings Explained\", \"Building a Recommendation System Using Neural Network Embeddings\", \"Simpson\\u2019s Paradox: How to Prove Opposite Arguments with the Same\\u00a0Data\", \"My Weaknesses as a Data Scientist\", \"Overcome Your Biases with\\u00a0Data\", \"Recurrent Neural Networks by Example in\\u00a0Python\", \"Prediction Engineering: How to Set Up Your Machine Learning\\u00a0Problem\", \"How to Create Value with Machine\\u00a0Learning\", \"Feature Engineering: What Powers Machine\\u00a0Learning\", \"Modeling: Teaching a Machine Learning Algorithm to Deliver Business\\u00a0Value\", \"Deploying a Keras Deep Learning Model as a Web Application in\\u00a0Python\", \"Deploying a Python Web App on\\u00a0AWS\", \"Transfer Learning with Convolutional Neural Networks in\\u00a0PyTorch\", \"Estimating Probabilities with Bayesian Modeling in\\u00a0Python\", \"Python and Slack: A Natural\\u00a0Match\", \"Jupyter Notebook Extensions\", \"How to Write a Jupyter Notebook Extension\", \"Introduction to Interactive Time Series Visualizations with Plotly in\\u00a0Python\", \"Docker for Data Science Without the\\u00a0Hassle\", \"The Copernican Principle and How to Use Statistics to Figure Out How Long Anything Will\\u00a0Last\", \"Data Science with Medium Story Stats in\\u00a0Python\"], \"type\": \"scatter\", \"uid\": \"381fb48f-5f7f-42dc-a830-053f6cc164e3\", \"x\": [\"2017-12-27 11:20:00\", \"2018-01-06 20:15:00\", \"2018-01-07 20:37:00\", \"2018-01-08 16:58:00\", \"2018-01-09 21:49:00\", \"2018-01-12 20:48:00\", \"2018-01-17 15:24:00\", \"2018-01-17 19:42:00\", \"2018-01-19 15:30:00\", \"2018-01-19 20:16:00\", \"2018-01-24 18:27:00\", \"2018-01-27 20:17:00\", \"2018-01-28 08:40:00\", \"2018-01-31 11:41:00\", \"2018-02-02 09:26:00\", \"2018-02-04 09:12:00\", \"2018-02-07 09:09:00\", \"2018-02-09 22:29:00\", \"2018-02-14 11:27:00\", \"2018-02-20 12:49:00\", \"2018-02-24 09:33:00\", \"2018-03-03 11:10:00\", \"2018-03-10 16:16:00\", \"2018-03-17 10:29:00\", \"2018-03-20 09:47:00\", \"2018-03-23 12:44:00\", \"2018-03-31 08:36:00\", \"2018-04-06 14:12:00\", \"2018-04-13 20:38:00\", \"2018-04-20 13:31:00\", \"2018-04-20 13:34:00\", \"2018-04-28 15:27:00\", \"2018-04-30 11:04:00\", \"2018-05-16 12:33:00\", \"2018-05-17 09:34:00\", \"2018-05-18 09:48:00\", \"2018-05-21 14:16:00\", \"2018-05-28 11:39:00\", \"2018-06-02 10:01:00\", \"2018-06-19 20:35:00\", \"2018-06-22 10:12:00\", \"2018-06-24 08:26:00\", \"2018-06-28 08:33:00\", \"2018-07-03 11:04:00\", \"2018-07-20 08:57:00\", \"2018-07-26 09:35:00\", \"2018-08-09 09:04:00\", \"2018-08-11 05:53:00\", \"2018-08-16 14:43:00\", \"2018-08-18 19:49:00\", \"2018-08-20 09:48:00\", \"2018-08-20 09:51:00\", \"2018-08-29 19:08:00\", \"2018-08-30 12:44:00\", \"2018-09-03 17:27:00\", \"2018-09-10 09:26:00\", \"2018-09-16 10:31:00\", \"2018-09-16 17:55:00\", \"2018-09-23 10:26:00\", \"2018-10-01 21:04:00\", \"2018-10-04 13:10:00\", \"2018-10-12 12:31:00\", \"2018-10-26 15:32:00\", \"2018-11-01 20:44:00\", \"2018-11-04 21:30:00\", \"2018-11-07 10:14:00\", \"2018-11-07 10:17:00\", \"2018-11-12 09:00:00\", \"2018-11-15 08:35:00\", \"2018-11-17 21:54:00\", \"2018-11-18 19:57:00\", \"2018-11-26 13:25:00\", \"2018-11-28 10:23:00\", \"2018-12-01 11:50:00\", \"2018-12-07 16:16:00\", \"2018-12-08 14:41:00\", \"2018-12-15 12:39:00\", \"2018-12-17 20:04:00\", \"2018-12-29 11:36:00\", \"2018-12-31 17:53:00\"], \"y\": [4800, 857, 186, 119, 2000, 4100, 2700, 77, 7000, 1200, 1600, 1600, 1000, 4300, 4980, 12900, 223, 4900, 5900, 548, 895, 6700, 6500, 2700, 1100, 2900, 2600, 2800, 5300, 1300, 1000, 7900, 364, 13500, 4100, 2200, 3900, 6300, 8200, 1300, 5400, 2300, 2700, 2100, 707, 650, 2700, 4100, 822, 830, 3700, 653, 657, 1100, 2800, 3100, 792, 222, 3300, 2500, 976, 2000, 3200, 650, 2300, 809, 745, 587, 818, 2200, 1300, 630, 2600, 2000, 3600, 440, 893, 528, 442, 410]}, {\"line\": {\"color\": \"rgba(55, 128, 191, 1.0)\", \"dash\": \"solid\", \"shape\": \"linear\", \"width\": 1.3}, \"marker\": {\"size\": 12, \"symbol\": \"circle\"}, \"mode\": \"lines+markers\", \"name\": \"fans\", \"text\": [\"Random Forest in\\u00a0Python\", \"Improving the Random Forest in Python Part\\u00a01\", \"Data Science: A Personal Application\", \"A Theory of Prediction\", \"Hyperparameter Tuning the Random Forest in\\u00a0Python\", \"Time Series Analysis in Python: An Introduction\", \"Stock Analysis in\\u00a0Python\", \"A Review of the Coursera Machine Learning Specialization\", \"Stock Prediction in\\u00a0Python\", \"Correlation vs. Causation: An\\u00a0Example\", \"Learn By\\u00a0Sharing\", \"Overfitting vs. Underfitting: A Conceptual Explanation\", \"Overfitting vs. Underfitting: A Complete\\u00a0Example\", \"How to Master New\\u00a0Skills\", \"Statistical Significance Explained\", \"Python is the Perfect Tool for any\\u00a0Problem\", \"The Misleading Effect of Noise: The Multiple Comparisons Problem\", \"Markov Chain Monte Carlo in\\u00a0Python\", \"Bayes\\u2019 Rule\\u00a0Applied\", \"Data Visualization Hackathon Style\", \"Unintended Consequences and Goodhart\\u2019s Law\", \"Beyond Accuracy: Precision and\\u00a0Recall\", \"Controlling the Web with\\u00a0Python\", \"Data Visualization with Bokeh in Python, Part I: Getting\\u00a0Started\", \"Data Visualization with Bokeh in Python, Part II: Interactions\", \"Histograms and Density Plots in\\u00a0Python\", \"Data Visualization with Bokeh in Python, Part III: Making a Complete Dashboard\", \"Visualizing Data with Pairs Plots in\\u00a0Python\", \"Introduction to Bayesian Linear Regression\", \"Bayesian Linear Regression in Python: Using Machine Learning to Predict Student Grades Part\\u00a01\", \"Bayesian Linear Regression in Python: Using Machine Learning to Predict Student Grades Part\\u00a02\", \"Web Scraping, Regular Expressions, and Data Visualization: Doing it all in\\u00a0Python\", \"If your files are saved only on your laptop they might as well not\\u00a0exist!\", \"A Complete Machine Learning Project Walk-Through in Python: Part\\u00a0One\", \"A Complete Machine Learning Walk-Through in Python: Part\\u00a0Two\", \"A Complete Machine Learning Walk-Through in Python: Part\\u00a0Three\", \"Automated Machine Learning on the Cloud in\\u00a0Python\", \"Machine Learning Kaggle Competition Part One: Getting\\u00a0Started\", \"Automated Feature Engineering in\\u00a0Python\", \"Machine Learning Kaggle Competition Part Two: Improving\", \"A Feature Selection Tool for Machine Learning in\\u00a0Python\", \"A Conceptual Explanation of Bayesian Hyperparameter Optimization for Machine\\u00a0Learning\", \"An Introductory Example of Bayesian Optimization in Python with\\u00a0Hyperopt\", \"Automated Machine Learning Hyperparameter Tuning in\\u00a0Python\", \"Machine Learning Kaggle Competition: Part Three Optimization\", \"How to get the right data? Trying asking for\\u00a0it.\", \"Why Automated Feature Engineering Will Change the Way You Do Machine\\u00a0Learning\", \"The most important part of a data science project is writing a blog\\u00a0post\", \"Parallelizing Feature Engineering with\\u00a0Dask\", \"How to Visualize a Decision Tree from a Random Forest in Python using Scikit-Learn\", \"A \\u201cData Science for Good\\u201c Machine Learning Project Walk-Through in Python: Part\\u00a0One\", \"A \\u201cData Science for Good\\u201d Machine Learning Project Walk-Through in Python: Part\\u00a0Two\", \"How to Put Fully Interactive, Runnable Code in a Medium\\u00a0Post\", \"An Implementation and Explanation of the Random Forest in\\u00a0Python\", \"Practical Advice for Data Science\\u00a0Writing\", \"Another Machine Learning Walk-Through and a Challenge\", \"Five Minutes to Your Own\\u00a0Website\", \"Converting Medium Posts to Markdown for Your\\u00a0Blog\", \"Wikipedia Data Science: Working with the World\\u2019s Largest Encyclopedia\", \"Neural Network Embeddings Explained\", \"Building a Recommendation System Using Neural Network Embeddings\", \"Simpson\\u2019s Paradox: How to Prove Opposite Arguments with the Same\\u00a0Data\", \"My Weaknesses as a Data Scientist\", \"Overcome Your Biases with\\u00a0Data\", \"Recurrent Neural Networks by Example in\\u00a0Python\", \"Prediction Engineering: How to Set Up Your Machine Learning\\u00a0Problem\", \"How to Create Value with Machine\\u00a0Learning\", \"Feature Engineering: What Powers Machine\\u00a0Learning\", \"Modeling: Teaching a Machine Learning Algorithm to Deliver Business\\u00a0Value\", \"Deploying a Keras Deep Learning Model as a Web Application in\\u00a0Python\", \"Deploying a Python Web App on\\u00a0AWS\", \"Transfer Learning with Convolutional Neural Networks in\\u00a0PyTorch\", \"Estimating Probabilities with Bayesian Modeling in\\u00a0Python\", \"Python and Slack: A Natural\\u00a0Match\", \"Jupyter Notebook Extensions\", \"How to Write a Jupyter Notebook Extension\", \"Introduction to Interactive Time Series Visualizations with Plotly in\\u00a0Python\", \"Docker for Data Science Without the\\u00a0Hassle\", \"The Copernican Principle and How to Use Statistics to Figure Out How Long Anything Will\\u00a0Last\", \"Data Science with Medium Story Stats in\\u00a0Python\"], \"type\": \"scatter\", \"uid\": \"d73009aa-fce7-4d05-957c-cbbd915a05cc\", \"x\": [\"2017-12-27 11:20:00\", \"2018-01-06 20:15:00\", \"2018-01-07 20:37:00\", \"2018-01-08 16:58:00\", \"2018-01-09 21:49:00\", \"2018-01-12 20:48:00\", \"2018-01-17 15:24:00\", \"2018-01-17 19:42:00\", \"2018-01-19 15:30:00\", \"2018-01-19 20:16:00\", \"2018-01-24 18:27:00\", \"2018-01-27 20:17:00\", \"2018-01-28 08:40:00\", \"2018-01-31 11:41:00\", \"2018-02-02 09:26:00\", \"2018-02-04 09:12:00\", \"2018-02-07 09:09:00\", \"2018-02-09 22:29:00\", \"2018-02-14 11:27:00\", \"2018-02-20 12:49:00\", \"2018-02-24 09:33:00\", \"2018-03-03 11:10:00\", \"2018-03-10 16:16:00\", \"2018-03-17 10:29:00\", \"2018-03-20 09:47:00\", \"2018-03-23 12:44:00\", \"2018-03-31 08:36:00\", \"2018-04-06 14:12:00\", \"2018-04-13 20:38:00\", \"2018-04-20 13:31:00\", \"2018-04-20 13:34:00\", \"2018-04-28 15:27:00\", \"2018-04-30 11:04:00\", \"2018-05-16 12:33:00\", \"2018-05-17 09:34:00\", \"2018-05-18 09:48:00\", \"2018-05-21 14:16:00\", \"2018-05-28 11:39:00\", \"2018-06-02 10:01:00\", \"2018-06-19 20:35:00\", \"2018-06-22 10:12:00\", \"2018-06-24 08:26:00\", \"2018-06-28 08:33:00\", \"2018-07-03 11:04:00\", \"2018-07-20 08:57:00\", \"2018-07-26 09:35:00\", \"2018-08-09 09:04:00\", \"2018-08-11 05:53:00\", \"2018-08-16 14:43:00\", \"2018-08-18 19:49:00\", \"2018-08-20 09:48:00\", \"2018-08-20 09:51:00\", \"2018-08-29 19:08:00\", \"2018-08-30 12:44:00\", \"2018-09-03 17:27:00\", \"2018-09-10 09:26:00\", \"2018-09-16 10:31:00\", \"2018-09-16 17:55:00\", \"2018-09-23 10:26:00\", \"2018-10-01 21:04:00\", \"2018-10-04 13:10:00\", \"2018-10-12 12:31:00\", \"2018-10-26 15:32:00\", \"2018-11-01 20:44:00\", \"2018-11-04 21:30:00\", \"2018-11-07 10:14:00\", \"2018-11-07 10:17:00\", \"2018-11-12 09:00:00\", \"2018-11-15 08:35:00\", \"2018-11-17 21:54:00\", \"2018-11-18 19:57:00\", \"2018-11-26 13:25:00\", \"2018-11-28 10:23:00\", \"2018-12-01 11:50:00\", \"2018-12-07 16:16:00\", \"2018-12-08 14:41:00\", \"2018-12-15 12:39:00\", \"2018-12-17 20:04:00\", \"2018-12-29 11:36:00\", \"2018-12-31 17:53:00\"], \"xaxis\": \"x\", \"y\": [861, 112, 45, 43, 392, 892, 549, 18, 1510, 208, 288, 329, 174, 737, 902, 2226, 74, 939, 1076, 128, 188, 1271, 1179, 510, 200, 548, 549, 607, 951, 266, 227, 1629, 65, 2531, 829, 474, 841, 1184, 1825, 252, 1177, 378, 461, 434, 114, 129, 421, 655, 104, 226, 771, 131, 116, 206, 530, 576, 121, 32, 649, 541, 143, 357, 640, 119, 579, 113, 111, 100, 174, 588, 295, 173, 493, 387, 798, 115, 235, 158, 97, 83], \"yaxis\": \"y2\"}],\n",
       "                        {\"legend\": {\"bgcolor\": \"#F5F6F9\", \"font\": {\"color\": \"#4D5663\"}}, \"paper_bgcolor\": \"#F5F6F9\", \"plot_bgcolor\": \"#F5F6F9\", \"title\": {\"font\": {\"color\": \"#4D5663\"}, \"text\": \"Fans and Claps over Time\"}, \"xaxis\": {\"gridcolor\": \"#E1E5ED\", \"showgrid\": true, \"tickfont\": {\"color\": \"#4D5663\"}, \"title\": {\"font\": {\"color\": \"#4D5663\"}, \"text\": \"Date\"}, \"zerolinecolor\": \"#E1E5ED\"}, \"yaxis\": {\"gridcolor\": \"#E1E5ED\", \"showgrid\": true, \"tickfont\": {\"color\": \"#4D5663\"}, \"title\": {\"font\": {\"color\": \"#4D5663\"}, \"text\": \"Claps\"}, \"zerolinecolor\": \"#E1E5ED\"}, \"yaxis2\": {\"anchor\": \"x\", \"gridcolor\": \"#E1E5ED\", \"overlaying\": \"y\", \"showgrid\": true, \"side\": \"right\", \"tickfont\": {\"color\": \"#4D5663\"}, \"title\": {\"text\": \"Fans\"}, \"zerolinecolor\": \"#E1E5ED\"}},\n",
       "                        {\"showLink\": true, \"linkText\": \"Export to plot.ly\", \"responsive\": true, \"plotlyServerURL\": \"https://plot.ly\"}\n",
       "                    ).then(function(){\n",
       "                            \n",
       "var gd = document.getElementById('4efe3569-5fac-484a-a401-a2d1afd94a36');\n",
       "var x = new MutationObserver(function (mutations, observer) {{\n",
       "        var display = window.getComputedStyle(gd).display;\n",
       "        if (!display || display === 'none') {{\n",
       "            console.log([gd, 'removed!']);\n",
       "            Plotly.purge(gd);\n",
       "            observer.disconnect();\n",
       "        }}\n",
       "}});\n",
       "\n",
       "// Listen for the removal of the full notebook cells\n",
       "var notebookContainer = gd.closest('#notebook-container');\n",
       "if (notebookContainer) {{\n",
       "    x.observe(notebookContainer, {childList: true});\n",
       "}}\n",
       "\n",
       "// Listen for the clearing of the current output cell\n",
       "var outputEl = gd.closest('.output');\n",
       "if (outputEl) {{\n",
       "    x.observe(outputEl, {childList: true});\n",
       "}}\n",
       "\n",
       "                        })\n",
       "                };\n",
       "                });\n",
       "            </script>\n",
       "        </div>"
      ]
     },
     "metadata": {},
     "output_type": "display_data"
    }
   ],
   "source": [
    "# Scatterplots\n",
    "tds = df[df['publication'] == 'Towards Data Science'].set_index('published_date')\n",
    "\n",
    "tds[['claps', 'fans', 'title']].iplot(\n",
    "    y='claps', mode='lines+markers', secondary_y = 'fans',\n",
    "    secondary_y_title='Fans', xTitle='Date', yTitle='Claps',\n",
    "    text='title', title='Fans and Claps over Time')"
   ]
  },
  {
   "cell_type": "code",
   "execution_count": 43,
   "metadata": {},
   "outputs": [
    {
     "data": {
      "application/vnd.plotly.v1+json": {
       "config": {
        "linkText": "Export to plot.ly",
        "plotlyServerURL": "https://plot.ly",
        "showLink": true
       },
       "data": [
        {
         "marker": {
          "color": "rgba(255, 153, 51, 1.0)",
          "line": {
           "width": 1.3
          },
          "opacity": 0.8,
          "size": 12,
          "symbol": "circle"
         },
         "mode": "markers",
         "name": "None",
         "textfont": {
          "color": "#4D5663"
         },
         "type": "scatter",
         "uid": "cda84995-8069-4b6f-b763-850d8014b988",
         "x": [
          7,
          14,
          42,
          9,
          14,
          47,
          14,
          12,
          7,
          17,
          38,
          43,
          31,
          12,
          29,
          27,
          6,
          31,
          6,
          24,
          8,
          11,
          9,
          19,
          5,
          6,
          6,
          7,
          3,
          6,
          8,
          8,
          8,
          54,
          13,
          35,
          24,
          43,
          14,
          43,
          27
         ],
         "y": [
          41.98,
          32.93,
          20.19,
          35.85,
          8.77,
          19.28,
          17.64,
          23.55,
          33.33,
          23.44,
          14.07,
          12.24,
          18.62,
          27.78,
          11.87,
          11.57,
          28.87,
          15.38,
          53.03,
          13.2,
          65.71,
          42.03,
          36.42,
          42.81,
          34.43,
          41.89,
          54.29,
          28.68,
          58.15,
          47.01,
          35.38,
          24.31,
          39.28,
          11.79,
          33.33,
          12.38,
          25,
          9.52,
          27.82,
          6.06,
          19.16
         ]
        },
        {
         "marker": {
          "color": "rgba(55, 128, 191, 1.0)",
          "line": {
           "width": 1.3
          },
          "opacity": 0.8,
          "size": 12,
          "symbol": "circle"
         },
         "mode": "markers",
         "name": "Towards Data Science",
         "textfont": {
          "color": "#4D5663"
         },
         "type": "scatter",
         "uid": "a58c1c58-e97e-46f6-9abc-526a6aef8cfe",
         "x": [
          21,
          17,
          15,
          11,
          12,
          14,
          11,
          5,
          12,
          6,
          4,
          6,
          11,
          6,
          10,
          3,
          6,
          12,
          9,
          8,
          4,
          11,
          9,
          11,
          10,
          11,
          10,
          8,
          10,
          12,
          12,
          7,
          3,
          15,
          13,
          11,
          9,
          12,
          11,
          20,
          10,
          14,
          9,
          18,
          15,
          6,
          11,
          8,
          10,
          3,
          17,
          15,
          1,
          16,
          10,
          15,
          5,
          8,
          17,
          8,
          13,
          10,
          11,
          6,
          15,
          9,
          6,
          8,
          9,
          7,
          6,
          15,
          12,
          8,
          5,
          7,
          9,
          5,
          8,
          12
         ],
         "y": [
          17.68,
          22.76,
          28.64,
          31.53,
          23.99,
          25.02,
          26.48,
          62.02,
          31.14,
          35.91,
          54.9,
          41.91,
          30.74,
          47.3,
          29.82,
          62.61,
          43.21,
          28.8,
          32.28,
          42.88,
          43.51,
          20.4,
          22.68,
          36.49,
          36.98,
          27.17,
          33.18,
          31.37,
          33.73,
          30.79,
          26.51,
          31.56,
          63.3,
          18.85,
          20.65,
          23.58,
          25.07,
          23.81,
          21.75,
          16.88,
          25.47,
          21.64,
          26.89,
          14.38,
          18.08,
          43.19,
          24.69,
          33.16,
          26.89,
          44.17,
          16.73,
          19.29,
          74.53,
          17.44,
          26.93,
          18.99,
          40.82,
          18.85,
          18.21,
          27.13,
          19.84,
          23.81,
          28.56,
          40.39,
          17.22,
          24.27,
          38.53,
          21.47,
          21.47,
          30.31,
          34.19,
          17.72,
          21.96,
          19.31,
          45.8,
          22.04,
          29.3,
          30.11,
          30.59,
          20.47
         ]
        },
        {
         "marker": {
          "color": "rgba(50, 171, 96, 1.0)",
          "line": {
           "width": 1.3
          },
          "opacity": 0.8,
          "size": 12,
          "symbol": "circle"
         },
         "mode": "markers",
         "name": "Engineering @ Feature Labs",
         "textfont": {
          "color": "#4D5663"
         },
         "type": "scatter",
         "uid": "c896ea37-a2d7-455a-b1eb-36202c6cbf21",
         "x": [
          9
         ],
         "y": [
          27.28
         ]
        },
        {
         "marker": {
          "color": "rgba(128, 0, 128, 1.0)",
          "line": {
           "width": 1.3
          },
          "opacity": 0.8,
          "size": 12,
          "symbol": "circle"
         },
         "mode": "markers",
         "name": "Noteworthy - The Journal Blog",
         "textfont": {
          "color": "#4D5663"
         },
         "type": "scatter",
         "uid": "72c2dc31-15ba-4ac0-8a3b-1f7e99ef04ce",
         "x": [
          9
         ],
         "y": [
          26.21
         ]
        },
        {
         "marker": {
          "color": "rgba(219, 64, 82, 1.0)",
          "line": {
           "width": 1.3
          },
          "opacity": 0.8,
          "size": 12,
          "symbol": "circle"
         },
         "mode": "markers",
         "name": "The Reality Project",
         "textfont": {
          "color": "#4D5663"
         },
         "type": "scatter",
         "uid": "ba112ee7-c901-4c98-8db4-fd2499967547",
         "x": [
          6,
          10,
          15
         ],
         "y": [
          39.23,
          28.75,
          21.22
         ]
        }
       ],
       "layout": {
        "legend": {
         "bgcolor": "#F5F6F9",
         "font": {
          "color": "#4D5663"
         }
        },
        "paper_bgcolor": "#F5F6F9",
        "plot_bgcolor": "#F5F6F9",
        "title": {
         "font": {
          "color": "#4D5663"
         },
         "text": "Reading Percent vs Read Ratio by Publication"
        },
        "xaxis": {
         "gridcolor": "#E1E5ED",
         "showgrid": true,
         "tickfont": {
          "color": "#4D5663"
         },
         "title": {
          "font": {
           "color": "#4D5663"
          },
          "text": "Read Time"
         },
         "zerolinecolor": "#E1E5ED"
        },
        "yaxis": {
         "gridcolor": "#E1E5ED",
         "showgrid": true,
         "tickfont": {
          "color": "#4D5663"
         },
         "title": {
          "font": {
           "color": "#4D5663"
          },
          "text": "Reading Percent"
         },
         "zerolinecolor": "#E1E5ED"
        }
       }
      },
      "text/html": [
       "<div>\n",
       "        \n",
       "        \n",
       "            <div id=\"2f7615c0-499e-4c1b-bbda-bd4a920f56f5\" class=\"plotly-graph-div\" style=\"height:525px; width:100%;\"></div>\n",
       "            <script type=\"text/javascript\">\n",
       "                require([\"plotly\"], function(Plotly) {\n",
       "                    window.PLOTLYENV=window.PLOTLYENV || {};\n",
       "                    window.PLOTLYENV.BASE_URL='https://plot.ly';\n",
       "                    \n",
       "                if (document.getElementById(\"2f7615c0-499e-4c1b-bbda-bd4a920f56f5\")) {\n",
       "                    Plotly.newPlot(\n",
       "                        '2f7615c0-499e-4c1b-bbda-bd4a920f56f5',\n",
       "                        [{\"marker\": {\"color\": \"rgba(255, 153, 51, 1.0)\", \"line\": {\"width\": 1.3}, \"opacity\": 0.8, \"size\": 12, \"symbol\": \"circle\"}, \"mode\": \"markers\", \"name\": \"None\", \"textfont\": {\"color\": \"#4D5663\"}, \"type\": \"scatter\", \"uid\": \"cda84995-8069-4b6f-b763-850d8014b988\", \"x\": [7, 14, 42, 9, 14, 47, 14, 12, 7, 17, 38, 43, 31, 12, 29, 27, 6, 31, 6, 24, 8, 11, 9, 19, 5, 6, 6, 7, 3, 6, 8, 8, 8, 54, 13, 35, 24, 43, 14, 43, 27], \"y\": [41.98, 32.93, 20.19, 35.85, 8.77, 19.28, 17.64, 23.55, 33.33, 23.44, 14.07, 12.24, 18.62, 27.78, 11.87, 11.57, 28.87, 15.38, 53.03, 13.2, 65.71, 42.03, 36.42, 42.81, 34.43, 41.89, 54.29, 28.68, 58.15, 47.01, 35.38, 24.31, 39.28, 11.79, 33.33, 12.38, 25.0, 9.52, 27.82, 6.06, 19.16]}, {\"marker\": {\"color\": \"rgba(55, 128, 191, 1.0)\", \"line\": {\"width\": 1.3}, \"opacity\": 0.8, \"size\": 12, \"symbol\": \"circle\"}, \"mode\": \"markers\", \"name\": \"Towards Data Science\", \"textfont\": {\"color\": \"#4D5663\"}, \"type\": \"scatter\", \"uid\": \"a58c1c58-e97e-46f6-9abc-526a6aef8cfe\", \"x\": [21, 17, 15, 11, 12, 14, 11, 5, 12, 6, 4, 6, 11, 6, 10, 3, 6, 12, 9, 8, 4, 11, 9, 11, 10, 11, 10, 8, 10, 12, 12, 7, 3, 15, 13, 11, 9, 12, 11, 20, 10, 14, 9, 18, 15, 6, 11, 8, 10, 3, 17, 15, 1, 16, 10, 15, 5, 8, 17, 8, 13, 10, 11, 6, 15, 9, 6, 8, 9, 7, 6, 15, 12, 8, 5, 7, 9, 5, 8, 12], \"y\": [17.68, 22.76, 28.64, 31.53, 23.99, 25.02, 26.48, 62.02, 31.14, 35.91, 54.9, 41.91, 30.74, 47.3, 29.82, 62.61, 43.21, 28.8, 32.28, 42.88, 43.51, 20.4, 22.68, 36.49, 36.98, 27.17, 33.18, 31.37, 33.73, 30.79, 26.51, 31.56, 63.3, 18.85, 20.65, 23.58, 25.07, 23.81, 21.75, 16.88, 25.47, 21.64, 26.89, 14.38, 18.08, 43.19, 24.69, 33.16, 26.89, 44.17, 16.73, 19.29, 74.53, 17.44, 26.93, 18.99, 40.82, 18.85, 18.21, 27.13, 19.84, 23.81, 28.56, 40.39, 17.22, 24.27, 38.53, 21.47, 21.47, 30.31, 34.19, 17.72, 21.96, 19.31, 45.8, 22.04, 29.3, 30.11, 30.59, 20.47]}, {\"marker\": {\"color\": \"rgba(50, 171, 96, 1.0)\", \"line\": {\"width\": 1.3}, \"opacity\": 0.8, \"size\": 12, \"symbol\": \"circle\"}, \"mode\": \"markers\", \"name\": \"Engineering @ Feature Labs\", \"textfont\": {\"color\": \"#4D5663\"}, \"type\": \"scatter\", \"uid\": \"c896ea37-a2d7-455a-b1eb-36202c6cbf21\", \"x\": [9], \"y\": [27.28]}, {\"marker\": {\"color\": \"rgba(128, 0, 128, 1.0)\", \"line\": {\"width\": 1.3}, \"opacity\": 0.8, \"size\": 12, \"symbol\": \"circle\"}, \"mode\": \"markers\", \"name\": \"Noteworthy - The Journal Blog\", \"textfont\": {\"color\": \"#4D5663\"}, \"type\": \"scatter\", \"uid\": \"72c2dc31-15ba-4ac0-8a3b-1f7e99ef04ce\", \"x\": [9], \"y\": [26.21]}, {\"marker\": {\"color\": \"rgba(219, 64, 82, 1.0)\", \"line\": {\"width\": 1.3}, \"opacity\": 0.8, \"size\": 12, \"symbol\": \"circle\"}, \"mode\": \"markers\", \"name\": \"The Reality Project\", \"textfont\": {\"color\": \"#4D5663\"}, \"type\": \"scatter\", \"uid\": \"ba112ee7-c901-4c98-8db4-fd2499967547\", \"x\": [6, 10, 15], \"y\": [39.23, 28.75, 21.22]}],\n",
       "                        {\"legend\": {\"bgcolor\": \"#F5F6F9\", \"font\": {\"color\": \"#4D5663\"}}, \"paper_bgcolor\": \"#F5F6F9\", \"plot_bgcolor\": \"#F5F6F9\", \"title\": {\"font\": {\"color\": \"#4D5663\"}, \"text\": \"Reading Percent vs Read Ratio by Publication\"}, \"xaxis\": {\"gridcolor\": \"#E1E5ED\", \"showgrid\": true, \"tickfont\": {\"color\": \"#4D5663\"}, \"title\": {\"font\": {\"color\": \"#4D5663\"}, \"text\": \"Read Time\"}, \"zerolinecolor\": \"#E1E5ED\"}, \"yaxis\": {\"gridcolor\": \"#E1E5ED\", \"showgrid\": true, \"tickfont\": {\"color\": \"#4D5663\"}, \"title\": {\"font\": {\"color\": \"#4D5663\"}, \"text\": \"Reading Percent\"}, \"zerolinecolor\": \"#E1E5ED\"}},\n",
       "                        {\"showLink\": true, \"linkText\": \"Export to plot.ly\", \"responsive\": true, \"plotlyServerURL\": \"https://plot.ly\"}\n",
       "                    ).then(function(){\n",
       "                            \n",
       "var gd = document.getElementById('2f7615c0-499e-4c1b-bbda-bd4a920f56f5');\n",
       "var x = new MutationObserver(function (mutations, observer) {{\n",
       "        var display = window.getComputedStyle(gd).display;\n",
       "        if (!display || display === 'none') {{\n",
       "            console.log([gd, 'removed!']);\n",
       "            Plotly.purge(gd);\n",
       "            observer.disconnect();\n",
       "        }}\n",
       "}});\n",
       "\n",
       "// Listen for the removal of the full notebook cells\n",
       "var notebookContainer = gd.closest('#notebook-container');\n",
       "if (notebookContainer) {{\n",
       "    x.observe(notebookContainer, {childList: true});\n",
       "}}\n",
       "\n",
       "// Listen for the clearing of the current output cell\n",
       "var outputEl = gd.closest('.output');\n",
       "if (outputEl) {{\n",
       "    x.observe(outputEl, {childList: true});\n",
       "}}\n",
       "\n",
       "                        })\n",
       "                };\n",
       "                });\n",
       "            </script>\n",
       "        </div>"
      ]
     },
     "metadata": {},
     "output_type": "display_data"
    }
   ],
   "source": [
    "# Scatterplots (Two variable + One Category)\n",
    "df.iplot(kind='scatter', x='read_time', y='read_ratio',\n",
    "         categories='publication',\n",
    "         xTitle='Read Time', yTitle='Reading Percent',\n",
    "         title='Reading Percent vs Read Ratio by Publication')"
   ]
  },
  {
   "cell_type": "code",
   "execution_count": 51,
   "metadata": {},
   "outputs": [
    {
     "data": {
      "application/vnd.plotly.v1+json": {
       "config": {
        "linkText": "Export to plot.ly",
        "plotlyServerURL": "https://plot.ly",
        "showLink": false
       },
       "data": [
        {
         "marker": {
          "color": "rgb(31, 119, 180)"
         },
         "showlegend": false,
         "type": "histogram",
         "uid": "82c29b06-fc5b-4683-bf2e-ed48ed5dd136",
         "x": [
          315
         ],
         "xaxis": "x",
         "yaxis": "y"
        },
        {
         "marker": {
          "color": "rgb(255, 127, 14)"
         },
         "showlegend": false,
         "type": "histogram",
         "uid": "ca50917d-445c-4307-a8e4-82cd8891b16a",
         "x": [
          2,
          18,
          50,
          0,
          0,
          0,
          73,
          234,
          2,
          0,
          682,
          58,
          5,
          7,
          87,
          23,
          4,
          113,
          8,
          17,
          8,
          2700,
          72,
          123,
          11,
          59,
          14,
          275,
          101,
          728,
          205,
          121,
          361,
          31,
          0,
          24,
          0,
          5,
          6,
          0,
          424
         ],
         "xaxis": "x",
         "yaxis": "y"
        },
        {
         "marker": {
          "color": "rgb(44, 160, 44)"
         },
         "showlegend": false,
         "type": "histogram",
         "uid": "8bb72328-e5b5-4bc2-b7af-507e97361d94",
         "x": [
          1000
         ],
         "xaxis": "x",
         "yaxis": "y"
        },
        {
         "marker": {
          "color": "rgb(214, 39, 40)"
         },
         "showlegend": false,
         "type": "histogram",
         "uid": "06321f98-76c1-496c-97b4-3638900b6d8b",
         "x": [
          319,
          304,
          65
         ],
         "xaxis": "x",
         "yaxis": "y"
        },
        {
         "marker": {
          "color": "rgb(148, 103, 189)"
         },
         "showlegend": false,
         "type": "histogram",
         "uid": "630acf18-c15a-4671-ab24-c3b4ee41d8e3",
         "x": [
          4800,
          857,
          186,
          119,
          2000,
          4100,
          2700,
          77,
          7000,
          1200,
          1600,
          1600,
          1000,
          4300,
          4980,
          12900,
          223,
          4900,
          5900,
          548,
          895,
          6700,
          6500,
          2700,
          1100,
          2900,
          2600,
          2800,
          5300,
          1300,
          1000,
          7900,
          364,
          13500,
          4100,
          2200,
          3900,
          6300,
          8200,
          1300,
          5400,
          2300,
          2700,
          2100,
          707,
          650,
          2700,
          4100,
          822,
          830,
          3700,
          653,
          657,
          1100,
          2800,
          3100,
          792,
          222,
          3300,
          2500,
          976,
          2000,
          3200,
          650,
          2300,
          809,
          745,
          587,
          818,
          2200,
          1300,
          630,
          2600,
          2000,
          3600,
          440,
          893,
          528,
          442,
          410
         ],
         "xaxis": "x",
         "yaxis": "y"
        },
        {
         "marker": {
          "color": "rgb(31, 119, 180)",
          "size": 6
         },
         "mode": "markers",
         "name": "Engineering @ Feature Labs",
         "showlegend": true,
         "type": "scatter",
         "uid": "52531659-14c4-45b6-9823-2d71025d4238",
         "x": [
          2771
         ],
         "xaxis": "x2",
         "y": [
          315
         ],
         "yaxis": "y2"
        },
        {
         "marker": {
          "color": "rgb(255, 127, 14)",
          "size": 6
         },
         "mode": "markers",
         "name": "None",
         "showlegend": true,
         "type": "scatter",
         "uid": "5752cad6-6af3-482b-a539-6eb67c4e83ef",
         "x": [
          162,
          164,
          1065,
          53,
          57,
          306,
          9379,
          23210,
          123,
          64,
          27137,
          3930,
          145,
          54,
          5325,
          4676,
          8247,
          12718,
          132,
          2113,
          35,
          81482,
          162,
          313,
          3299,
          148,
          105,
          1576,
          227,
          836,
          407,
          255,
          802,
          212,
          3,
          105,
          8,
          84,
          133,
          33,
          1169
         ],
         "xaxis": "x2",
         "y": [
          2,
          18,
          50,
          0,
          0,
          0,
          73,
          234,
          2,
          0,
          682,
          58,
          5,
          7,
          87,
          23,
          4,
          113,
          8,
          17,
          8,
          2700,
          72,
          123,
          11,
          59,
          14,
          275,
          101,
          728,
          205,
          121,
          361,
          31,
          0,
          24,
          0,
          5,
          6,
          0,
          424
         ],
         "yaxis": "y2"
        },
        {
         "marker": {
          "color": "rgb(44, 160, 44)",
          "size": 6
         },
         "mode": "markers",
         "name": "Noteworthy - The Journal Blog",
         "showlegend": true,
         "type": "scatter",
         "uid": "447f7ed9-6d94-4e5b-ae1a-d995acf09fb3",
         "x": [
          2060
         ],
         "xaxis": "x2",
         "y": [
          1000
         ],
         "yaxis": "y2"
        },
        {
         "marker": {
          "color": "rgb(214, 39, 40)",
          "size": 6
         },
         "mode": "markers",
         "name": "The Reality Project",
         "showlegend": true,
         "type": "scatter",
         "uid": "627092d1-cd3a-46b1-a695-0ca87997c429",
         "x": [
          418,
          400,
          245
         ],
         "xaxis": "x2",
         "y": [
          319,
          304,
          65
         ],
         "yaxis": "y2"
        },
        {
         "marker": {
          "color": "rgb(148, 103, 189)",
          "size": 6
         },
         "mode": "markers",
         "name": "Towards Data Science",
         "showlegend": true,
         "type": "scatter",
         "uid": "f6002314-f4a0-4ea2-95d4-104e4fdac643",
         "x": [
          161596,
          31659,
          2706,
          2347,
          106311,
          124825,
          77497,
          4824,
          126851,
          19055,
          4002,
          15916,
          32523,
          15130,
          47199,
          47622,
          2969,
          54158,
          34062,
          4631,
          12843,
          117100,
          59369,
          52309,
          28079,
          106784,
          52600,
          45735,
          54916,
          20836,
          23687,
          66471,
          2365,
          120826,
          44761,
          26243,
          32977,
          42040,
          109995,
          10668,
          76426,
          23863,
          29854,
          42853,
          5337,
          4040,
          24071,
          16584,
          3931,
          25112,
          42624,
          6183,
          1649,
          12826,
          14670,
          24211,
          3606,
          1623,
          23651,
          26397,
          6304,
          12771,
          32675,
          3174,
          30979,
          5039,
          6250,
          5227,
          7936,
          26754,
          14428,
          8115,
          21311,
          22058,
          23180,
          4786,
          9734,
          5307,
          1703,
          2232
         ],
         "xaxis": "x2",
         "y": [
          4800,
          857,
          186,
          119,
          2000,
          4100,
          2700,
          77,
          7000,
          1200,
          1600,
          1600,
          1000,
          4300,
          4980,
          12900,
          223,
          4900,
          5900,
          548,
          895,
          6700,
          6500,
          2700,
          1100,
          2900,
          2600,
          2800,
          5300,
          1300,
          1000,
          7900,
          364,
          13500,
          4100,
          2200,
          3900,
          6300,
          8200,
          1300,
          5400,
          2300,
          2700,
          2100,
          707,
          650,
          2700,
          4100,
          822,
          830,
          3700,
          653,
          657,
          1100,
          2800,
          3100,
          792,
          222,
          3300,
          2500,
          976,
          2000,
          3200,
          650,
          2300,
          809,
          745,
          587,
          818,
          2200,
          1300,
          630,
          2600,
          2000,
          3600,
          440,
          893,
          528,
          442,
          410
         ],
         "yaxis": "y2"
        },
        {
         "marker": {
          "color": "rgb(31, 119, 180)",
          "size": 6
         },
         "mode": "markers",
         "name": "Engineering @ Feature Labs",
         "showlegend": false,
         "type": "scatter",
         "uid": "749abe5e-7bf2-45e8-bbd3-705b79f55e82",
         "x": [
          27.28
         ],
         "xaxis": "x3",
         "y": [
          315
         ],
         "yaxis": "y3"
        },
        {
         "marker": {
          "color": "rgb(255, 127, 14)",
          "size": 6
         },
         "mode": "markers",
         "name": "None",
         "showlegend": false,
         "type": "scatter",
         "uid": "48150482-44fd-4bf6-a9da-13e127291a10",
         "x": [
          41.98,
          32.93,
          20.19,
          35.85,
          8.77,
          19.28,
          17.64,
          23.55,
          33.33,
          23.44,
          14.07,
          12.24,
          18.62,
          27.78,
          11.87,
          11.57,
          28.87,
          15.38,
          53.03,
          13.2,
          65.71,
          42.03,
          36.42,
          42.81,
          34.43,
          41.89,
          54.29,
          28.68,
          58.15,
          47.01,
          35.38,
          24.31,
          39.28,
          11.79,
          33.33,
          12.38,
          25,
          9.52,
          27.82,
          6.06,
          19.16
         ],
         "xaxis": "x3",
         "y": [
          2,
          18,
          50,
          0,
          0,
          0,
          73,
          234,
          2,
          0,
          682,
          58,
          5,
          7,
          87,
          23,
          4,
          113,
          8,
          17,
          8,
          2700,
          72,
          123,
          11,
          59,
          14,
          275,
          101,
          728,
          205,
          121,
          361,
          31,
          0,
          24,
          0,
          5,
          6,
          0,
          424
         ],
         "yaxis": "y3"
        },
        {
         "marker": {
          "color": "rgb(44, 160, 44)",
          "size": 6
         },
         "mode": "markers",
         "name": "Noteworthy - The Journal Blog",
         "showlegend": false,
         "type": "scatter",
         "uid": "44a2f9cd-1b35-468a-939f-110fa5d11f0d",
         "x": [
          26.21
         ],
         "xaxis": "x3",
         "y": [
          1000
         ],
         "yaxis": "y3"
        },
        {
         "marker": {
          "color": "rgb(214, 39, 40)",
          "size": 6
         },
         "mode": "markers",
         "name": "The Reality Project",
         "showlegend": false,
         "type": "scatter",
         "uid": "4a8524b8-5632-4d4e-b7aa-2250c0cabc90",
         "x": [
          39.23,
          28.75,
          21.22
         ],
         "xaxis": "x3",
         "y": [
          319,
          304,
          65
         ],
         "yaxis": "y3"
        },
        {
         "marker": {
          "color": "rgb(148, 103, 189)",
          "size": 6
         },
         "mode": "markers",
         "name": "Towards Data Science",
         "showlegend": false,
         "type": "scatter",
         "uid": "42e4e22d-24a5-42a5-90a9-5860c5bfc409",
         "x": [
          17.68,
          22.76,
          28.64,
          31.53,
          23.99,
          25.02,
          26.48,
          62.02,
          31.14,
          35.91,
          54.9,
          41.91,
          30.74,
          47.3,
          29.82,
          62.61,
          43.21,
          28.8,
          32.28,
          42.88,
          43.51,
          20.4,
          22.68,
          36.49,
          36.98,
          27.17,
          33.18,
          31.37,
          33.73,
          30.79,
          26.51,
          31.56,
          63.3,
          18.85,
          20.65,
          23.58,
          25.07,
          23.81,
          21.75,
          16.88,
          25.47,
          21.64,
          26.89,
          14.38,
          18.08,
          43.19,
          24.69,
          33.16,
          26.89,
          44.17,
          16.73,
          19.29,
          74.53,
          17.44,
          26.93,
          18.99,
          40.82,
          18.85,
          18.21,
          27.13,
          19.84,
          23.81,
          28.56,
          40.39,
          17.22,
          24.27,
          38.53,
          21.47,
          21.47,
          30.31,
          34.19,
          17.72,
          21.96,
          19.31,
          45.8,
          22.04,
          29.3,
          30.11,
          30.59,
          20.47
         ],
         "xaxis": "x3",
         "y": [
          4800,
          857,
          186,
          119,
          2000,
          4100,
          2700,
          77,
          7000,
          1200,
          1600,
          1600,
          1000,
          4300,
          4980,
          12900,
          223,
          4900,
          5900,
          548,
          895,
          6700,
          6500,
          2700,
          1100,
          2900,
          2600,
          2800,
          5300,
          1300,
          1000,
          7900,
          364,
          13500,
          4100,
          2200,
          3900,
          6300,
          8200,
          1300,
          5400,
          2300,
          2700,
          2100,
          707,
          650,
          2700,
          4100,
          822,
          830,
          3700,
          653,
          657,
          1100,
          2800,
          3100,
          792,
          222,
          3300,
          2500,
          976,
          2000,
          3200,
          650,
          2300,
          809,
          745,
          587,
          818,
          2200,
          1300,
          630,
          2600,
          2000,
          3600,
          440,
          893,
          528,
          442,
          410
         ],
         "yaxis": "y3"
        },
        {
         "marker": {
          "color": "rgb(31, 119, 180)",
          "size": 6
         },
         "mode": "markers",
         "name": "Engineering @ Feature Labs",
         "showlegend": false,
         "type": "scatter",
         "uid": "6755481f-355f-4317-b606-6a3b71148a4e",
         "x": [
          2087
         ],
         "xaxis": "x4",
         "y": [
          315
         ],
         "yaxis": "y4"
        },
        {
         "marker": {
          "color": "rgb(255, 127, 14)",
          "size": 6
         },
         "mode": "markers",
         "name": "None",
         "showlegend": false,
         "type": "scatter",
         "uid": "d5196797-07ce-466b-b976-30f419e48574",
         "x": [
          1859,
          3891,
          12025,
          2533,
          3892,
          13048,
          1778,
          2345,
          1895,
          4684,
          6666,
          7559,
          7659,
          3341,
          5508,
          4772,
          1214,
          6800,
          1412,
          3904,
          2264,
          2850,
          2509,
          5160,
          1073,
          1314,
          1557,
          1653,
          634,
          1410,
          2128,
          1918,
          2185,
          15063,
          3659,
          9698,
          4145,
          8507,
          3068,
          12083,
          7125
         ],
         "xaxis": "x4",
         "y": [
          2,
          18,
          50,
          0,
          0,
          0,
          73,
          234,
          2,
          0,
          682,
          58,
          5,
          7,
          87,
          23,
          4,
          113,
          8,
          17,
          8,
          2700,
          72,
          123,
          11,
          59,
          14,
          275,
          101,
          728,
          205,
          121,
          361,
          31,
          0,
          24,
          0,
          5,
          6,
          0,
          424
         ],
         "yaxis": "y4"
        },
        {
         "marker": {
          "color": "rgb(44, 160, 44)",
          "size": 6
         },
         "mode": "markers",
         "name": "Noteworthy - The Journal Blog",
         "showlegend": false,
         "type": "scatter",
         "uid": "04b51819-53cc-4d6d-9450-06fa004ebb67",
         "x": [
          2172
         ],
         "xaxis": "x4",
         "y": [
          1000
         ],
         "yaxis": "y4"
        },
        {
         "marker": {
          "color": "rgb(214, 39, 40)",
          "size": 6
         },
         "mode": "markers",
         "name": "The Reality Project",
         "showlegend": false,
         "type": "scatter",
         "uid": "19b001c3-12ff-4299-93fe-a480b16711aa",
         "x": [
          1685,
          2278,
          3678
         ],
         "xaxis": "x4",
         "y": [
          319,
          304,
          65
         ],
         "yaxis": "y4"
        },
        {
         "marker": {
          "color": "rgb(148, 103, 189)",
          "size": 6
         },
         "mode": "markers",
         "name": "Towards Data Science",
         "showlegend": false,
         "type": "scatter",
         "uid": "4a1fa03d-e9cf-4688-8e45-cef177a5b92c",
         "x": [
          4494,
          3504,
          3569,
          2817,
          2456,
          2974,
          2395,
          1169,
          2528,
          1361,
          1014,
          1562,
          2480,
          1281,
          2450,
          721,
          1375,
          2772,
          1944,
          1827,
          933,
          2565,
          1906,
          2394,
          2220,
          2614,
          2365,
          1577,
          2394,
          2690,
          2620,
          1480,
          765,
          3553,
          3106,
          2622,
          2338,
          2975,
          2648,
          5228,
          1998,
          3393,
          1957,
          4298,
          3718,
          1247,
          2634,
          2041,
          2343,
          373,
          3996,
          3834,
          163,
          4042,
          2658,
          3756,
          1172,
          1580,
          3756,
          1809,
          2999,
          2483,
          2933,
          1346,
          3797,
          1979,
          1286,
          1741,
          2230,
          1561,
          1355,
          3398,
          2824,
          1397,
          877,
          1310,
          1806,
          1075,
          1898,
          2813
         ],
         "xaxis": "x4",
         "y": [
          4800,
          857,
          186,
          119,
          2000,
          4100,
          2700,
          77,
          7000,
          1200,
          1600,
          1600,
          1000,
          4300,
          4980,
          12900,
          223,
          4900,
          5900,
          548,
          895,
          6700,
          6500,
          2700,
          1100,
          2900,
          2600,
          2800,
          5300,
          1300,
          1000,
          7900,
          364,
          13500,
          4100,
          2200,
          3900,
          6300,
          8200,
          1300,
          5400,
          2300,
          2700,
          2100,
          707,
          650,
          2700,
          4100,
          822,
          830,
          3700,
          653,
          657,
          1100,
          2800,
          3100,
          792,
          222,
          3300,
          2500,
          976,
          2000,
          3200,
          650,
          2300,
          809,
          745,
          587,
          818,
          2200,
          1300,
          630,
          2600,
          2000,
          3600,
          440,
          893,
          528,
          442,
          410
         ],
         "yaxis": "y4"
        },
        {
         "marker": {
          "color": "rgb(31, 119, 180)",
          "size": 6
         },
         "mode": "markers",
         "name": "Engineering @ Feature Labs",
         "showlegend": false,
         "type": "scatter",
         "uid": "710383e6-35e3-47a4-94f6-404bd5953c96",
         "x": [
          315
         ],
         "xaxis": "x5",
         "y": [
          2771
         ],
         "yaxis": "y5"
        },
        {
         "marker": {
          "color": "rgb(255, 127, 14)",
          "size": 6
         },
         "mode": "markers",
         "name": "None",
         "showlegend": false,
         "type": "scatter",
         "uid": "1819ea6d-4659-44df-9fc1-1455914755c3",
         "x": [
          2,
          18,
          50,
          0,
          0,
          0,
          73,
          234,
          2,
          0,
          682,
          58,
          5,
          7,
          87,
          23,
          4,
          113,
          8,
          17,
          8,
          2700,
          72,
          123,
          11,
          59,
          14,
          275,
          101,
          728,
          205,
          121,
          361,
          31,
          0,
          24,
          0,
          5,
          6,
          0,
          424
         ],
         "xaxis": "x5",
         "y": [
          162,
          164,
          1065,
          53,
          57,
          306,
          9379,
          23210,
          123,
          64,
          27137,
          3930,
          145,
          54,
          5325,
          4676,
          8247,
          12718,
          132,
          2113,
          35,
          81482,
          162,
          313,
          3299,
          148,
          105,
          1576,
          227,
          836,
          407,
          255,
          802,
          212,
          3,
          105,
          8,
          84,
          133,
          33,
          1169
         ],
         "yaxis": "y5"
        },
        {
         "marker": {
          "color": "rgb(44, 160, 44)",
          "size": 6
         },
         "mode": "markers",
         "name": "Noteworthy - The Journal Blog",
         "showlegend": false,
         "type": "scatter",
         "uid": "0f543453-d8f5-40d1-8110-ebf6ab8d6b85",
         "x": [
          1000
         ],
         "xaxis": "x5",
         "y": [
          2060
         ],
         "yaxis": "y5"
        },
        {
         "marker": {
          "color": "rgb(214, 39, 40)",
          "size": 6
         },
         "mode": "markers",
         "name": "The Reality Project",
         "showlegend": false,
         "type": "scatter",
         "uid": "f907ed0f-7231-4184-8c4a-06ff04f37a7a",
         "x": [
          319,
          304,
          65
         ],
         "xaxis": "x5",
         "y": [
          418,
          400,
          245
         ],
         "yaxis": "y5"
        },
        {
         "marker": {
          "color": "rgb(148, 103, 189)",
          "size": 6
         },
         "mode": "markers",
         "name": "Towards Data Science",
         "showlegend": false,
         "type": "scatter",
         "uid": "bb2f9c82-28ac-4d01-8a4c-54ac1b691231",
         "x": [
          4800,
          857,
          186,
          119,
          2000,
          4100,
          2700,
          77,
          7000,
          1200,
          1600,
          1600,
          1000,
          4300,
          4980,
          12900,
          223,
          4900,
          5900,
          548,
          895,
          6700,
          6500,
          2700,
          1100,
          2900,
          2600,
          2800,
          5300,
          1300,
          1000,
          7900,
          364,
          13500,
          4100,
          2200,
          3900,
          6300,
          8200,
          1300,
          5400,
          2300,
          2700,
          2100,
          707,
          650,
          2700,
          4100,
          822,
          830,
          3700,
          653,
          657,
          1100,
          2800,
          3100,
          792,
          222,
          3300,
          2500,
          976,
          2000,
          3200,
          650,
          2300,
          809,
          745,
          587,
          818,
          2200,
          1300,
          630,
          2600,
          2000,
          3600,
          440,
          893,
          528,
          442,
          410
         ],
         "xaxis": "x5",
         "y": [
          161596,
          31659,
          2706,
          2347,
          106311,
          124825,
          77497,
          4824,
          126851,
          19055,
          4002,
          15916,
          32523,
          15130,
          47199,
          47622,
          2969,
          54158,
          34062,
          4631,
          12843,
          117100,
          59369,
          52309,
          28079,
          106784,
          52600,
          45735,
          54916,
          20836,
          23687,
          66471,
          2365,
          120826,
          44761,
          26243,
          32977,
          42040,
          109995,
          10668,
          76426,
          23863,
          29854,
          42853,
          5337,
          4040,
          24071,
          16584,
          3931,
          25112,
          42624,
          6183,
          1649,
          12826,
          14670,
          24211,
          3606,
          1623,
          23651,
          26397,
          6304,
          12771,
          32675,
          3174,
          30979,
          5039,
          6250,
          5227,
          7936,
          26754,
          14428,
          8115,
          21311,
          22058,
          23180,
          4786,
          9734,
          5307,
          1703,
          2232
         ],
         "yaxis": "y5"
        },
        {
         "marker": {
          "color": "rgb(31, 119, 180)"
         },
         "showlegend": false,
         "type": "histogram",
         "uid": "6c8b526b-b35d-41f2-9fe7-05ece26cf9b2",
         "x": [
          2771
         ],
         "xaxis": "x6",
         "yaxis": "y6"
        },
        {
         "marker": {
          "color": "rgb(255, 127, 14)"
         },
         "showlegend": false,
         "type": "histogram",
         "uid": "336b0dd8-a70a-47a5-adb5-a4ace6c02ece",
         "x": [
          162,
          164,
          1065,
          53,
          57,
          306,
          9379,
          23210,
          123,
          64,
          27137,
          3930,
          145,
          54,
          5325,
          4676,
          8247,
          12718,
          132,
          2113,
          35,
          81482,
          162,
          313,
          3299,
          148,
          105,
          1576,
          227,
          836,
          407,
          255,
          802,
          212,
          3,
          105,
          8,
          84,
          133,
          33,
          1169
         ],
         "xaxis": "x6",
         "yaxis": "y6"
        },
        {
         "marker": {
          "color": "rgb(44, 160, 44)"
         },
         "showlegend": false,
         "type": "histogram",
         "uid": "516d80ca-6032-48ce-8e13-47c44dd75644",
         "x": [
          2060
         ],
         "xaxis": "x6",
         "yaxis": "y6"
        },
        {
         "marker": {
          "color": "rgb(214, 39, 40)"
         },
         "showlegend": false,
         "type": "histogram",
         "uid": "73890245-99d4-4c92-af55-6bd6ec9132bf",
         "x": [
          418,
          400,
          245
         ],
         "xaxis": "x6",
         "yaxis": "y6"
        },
        {
         "marker": {
          "color": "rgb(148, 103, 189)"
         },
         "showlegend": false,
         "type": "histogram",
         "uid": "ed6d400e-20fc-4651-9846-36c036d3b68f",
         "x": [
          161596,
          31659,
          2706,
          2347,
          106311,
          124825,
          77497,
          4824,
          126851,
          19055,
          4002,
          15916,
          32523,
          15130,
          47199,
          47622,
          2969,
          54158,
          34062,
          4631,
          12843,
          117100,
          59369,
          52309,
          28079,
          106784,
          52600,
          45735,
          54916,
          20836,
          23687,
          66471,
          2365,
          120826,
          44761,
          26243,
          32977,
          42040,
          109995,
          10668,
          76426,
          23863,
          29854,
          42853,
          5337,
          4040,
          24071,
          16584,
          3931,
          25112,
          42624,
          6183,
          1649,
          12826,
          14670,
          24211,
          3606,
          1623,
          23651,
          26397,
          6304,
          12771,
          32675,
          3174,
          30979,
          5039,
          6250,
          5227,
          7936,
          26754,
          14428,
          8115,
          21311,
          22058,
          23180,
          4786,
          9734,
          5307,
          1703,
          2232
         ],
         "xaxis": "x6",
         "yaxis": "y6"
        },
        {
         "marker": {
          "color": "rgb(31, 119, 180)",
          "size": 6
         },
         "mode": "markers",
         "name": "Engineering @ Feature Labs",
         "showlegend": false,
         "type": "scatter",
         "uid": "1660d4af-abf7-48b4-a9c7-79cf55e17278",
         "x": [
          27.28
         ],
         "xaxis": "x7",
         "y": [
          2771
         ],
         "yaxis": "y7"
        },
        {
         "marker": {
          "color": "rgb(255, 127, 14)",
          "size": 6
         },
         "mode": "markers",
         "name": "None",
         "showlegend": false,
         "type": "scatter",
         "uid": "9d70e5fe-b502-4816-9c64-ef30337ebbf9",
         "x": [
          41.98,
          32.93,
          20.19,
          35.85,
          8.77,
          19.28,
          17.64,
          23.55,
          33.33,
          23.44,
          14.07,
          12.24,
          18.62,
          27.78,
          11.87,
          11.57,
          28.87,
          15.38,
          53.03,
          13.2,
          65.71,
          42.03,
          36.42,
          42.81,
          34.43,
          41.89,
          54.29,
          28.68,
          58.15,
          47.01,
          35.38,
          24.31,
          39.28,
          11.79,
          33.33,
          12.38,
          25,
          9.52,
          27.82,
          6.06,
          19.16
         ],
         "xaxis": "x7",
         "y": [
          162,
          164,
          1065,
          53,
          57,
          306,
          9379,
          23210,
          123,
          64,
          27137,
          3930,
          145,
          54,
          5325,
          4676,
          8247,
          12718,
          132,
          2113,
          35,
          81482,
          162,
          313,
          3299,
          148,
          105,
          1576,
          227,
          836,
          407,
          255,
          802,
          212,
          3,
          105,
          8,
          84,
          133,
          33,
          1169
         ],
         "yaxis": "y7"
        },
        {
         "marker": {
          "color": "rgb(44, 160, 44)",
          "size": 6
         },
         "mode": "markers",
         "name": "Noteworthy - The Journal Blog",
         "showlegend": false,
         "type": "scatter",
         "uid": "c4a5ea0b-27fc-49d8-87b1-d0a27c2b8b1d",
         "x": [
          26.21
         ],
         "xaxis": "x7",
         "y": [
          2060
         ],
         "yaxis": "y7"
        },
        {
         "marker": {
          "color": "rgb(214, 39, 40)",
          "size": 6
         },
         "mode": "markers",
         "name": "The Reality Project",
         "showlegend": false,
         "type": "scatter",
         "uid": "900ccf13-877a-43a8-aa74-1a4ceb667c3c",
         "x": [
          39.23,
          28.75,
          21.22
         ],
         "xaxis": "x7",
         "y": [
          418,
          400,
          245
         ],
         "yaxis": "y7"
        },
        {
         "marker": {
          "color": "rgb(148, 103, 189)",
          "size": 6
         },
         "mode": "markers",
         "name": "Towards Data Science",
         "showlegend": false,
         "type": "scatter",
         "uid": "c4907dad-b4f3-4384-abea-acba473f6587",
         "x": [
          17.68,
          22.76,
          28.64,
          31.53,
          23.99,
          25.02,
          26.48,
          62.02,
          31.14,
          35.91,
          54.9,
          41.91,
          30.74,
          47.3,
          29.82,
          62.61,
          43.21,
          28.8,
          32.28,
          42.88,
          43.51,
          20.4,
          22.68,
          36.49,
          36.98,
          27.17,
          33.18,
          31.37,
          33.73,
          30.79,
          26.51,
          31.56,
          63.3,
          18.85,
          20.65,
          23.58,
          25.07,
          23.81,
          21.75,
          16.88,
          25.47,
          21.64,
          26.89,
          14.38,
          18.08,
          43.19,
          24.69,
          33.16,
          26.89,
          44.17,
          16.73,
          19.29,
          74.53,
          17.44,
          26.93,
          18.99,
          40.82,
          18.85,
          18.21,
          27.13,
          19.84,
          23.81,
          28.56,
          40.39,
          17.22,
          24.27,
          38.53,
          21.47,
          21.47,
          30.31,
          34.19,
          17.72,
          21.96,
          19.31,
          45.8,
          22.04,
          29.3,
          30.11,
          30.59,
          20.47
         ],
         "xaxis": "x7",
         "y": [
          161596,
          31659,
          2706,
          2347,
          106311,
          124825,
          77497,
          4824,
          126851,
          19055,
          4002,
          15916,
          32523,
          15130,
          47199,
          47622,
          2969,
          54158,
          34062,
          4631,
          12843,
          117100,
          59369,
          52309,
          28079,
          106784,
          52600,
          45735,
          54916,
          20836,
          23687,
          66471,
          2365,
          120826,
          44761,
          26243,
          32977,
          42040,
          109995,
          10668,
          76426,
          23863,
          29854,
          42853,
          5337,
          4040,
          24071,
          16584,
          3931,
          25112,
          42624,
          6183,
          1649,
          12826,
          14670,
          24211,
          3606,
          1623,
          23651,
          26397,
          6304,
          12771,
          32675,
          3174,
          30979,
          5039,
          6250,
          5227,
          7936,
          26754,
          14428,
          8115,
          21311,
          22058,
          23180,
          4786,
          9734,
          5307,
          1703,
          2232
         ],
         "yaxis": "y7"
        },
        {
         "marker": {
          "color": "rgb(31, 119, 180)",
          "size": 6
         },
         "mode": "markers",
         "name": "Engineering @ Feature Labs",
         "showlegend": false,
         "type": "scatter",
         "uid": "3071252a-89eb-4453-ba08-4b41813ecbf4",
         "x": [
          2087
         ],
         "xaxis": "x8",
         "y": [
          2771
         ],
         "yaxis": "y8"
        },
        {
         "marker": {
          "color": "rgb(255, 127, 14)",
          "size": 6
         },
         "mode": "markers",
         "name": "None",
         "showlegend": false,
         "type": "scatter",
         "uid": "d36c042c-b298-474c-a4cd-98f327afb62c",
         "x": [
          1859,
          3891,
          12025,
          2533,
          3892,
          13048,
          1778,
          2345,
          1895,
          4684,
          6666,
          7559,
          7659,
          3341,
          5508,
          4772,
          1214,
          6800,
          1412,
          3904,
          2264,
          2850,
          2509,
          5160,
          1073,
          1314,
          1557,
          1653,
          634,
          1410,
          2128,
          1918,
          2185,
          15063,
          3659,
          9698,
          4145,
          8507,
          3068,
          12083,
          7125
         ],
         "xaxis": "x8",
         "y": [
          162,
          164,
          1065,
          53,
          57,
          306,
          9379,
          23210,
          123,
          64,
          27137,
          3930,
          145,
          54,
          5325,
          4676,
          8247,
          12718,
          132,
          2113,
          35,
          81482,
          162,
          313,
          3299,
          148,
          105,
          1576,
          227,
          836,
          407,
          255,
          802,
          212,
          3,
          105,
          8,
          84,
          133,
          33,
          1169
         ],
         "yaxis": "y8"
        },
        {
         "marker": {
          "color": "rgb(44, 160, 44)",
          "size": 6
         },
         "mode": "markers",
         "name": "Noteworthy - The Journal Blog",
         "showlegend": false,
         "type": "scatter",
         "uid": "ef5cca5b-85b2-4245-8928-6936be1cdb61",
         "x": [
          2172
         ],
         "xaxis": "x8",
         "y": [
          2060
         ],
         "yaxis": "y8"
        },
        {
         "marker": {
          "color": "rgb(214, 39, 40)",
          "size": 6
         },
         "mode": "markers",
         "name": "The Reality Project",
         "showlegend": false,
         "type": "scatter",
         "uid": "6562e18d-9bc7-4b32-b2b1-8f8c91fc7c2e",
         "x": [
          1685,
          2278,
          3678
         ],
         "xaxis": "x8",
         "y": [
          418,
          400,
          245
         ],
         "yaxis": "y8"
        },
        {
         "marker": {
          "color": "rgb(148, 103, 189)",
          "size": 6
         },
         "mode": "markers",
         "name": "Towards Data Science",
         "showlegend": false,
         "type": "scatter",
         "uid": "cc218cad-6029-4a99-92ff-bf16a16f0257",
         "x": [
          4494,
          3504,
          3569,
          2817,
          2456,
          2974,
          2395,
          1169,
          2528,
          1361,
          1014,
          1562,
          2480,
          1281,
          2450,
          721,
          1375,
          2772,
          1944,
          1827,
          933,
          2565,
          1906,
          2394,
          2220,
          2614,
          2365,
          1577,
          2394,
          2690,
          2620,
          1480,
          765,
          3553,
          3106,
          2622,
          2338,
          2975,
          2648,
          5228,
          1998,
          3393,
          1957,
          4298,
          3718,
          1247,
          2634,
          2041,
          2343,
          373,
          3996,
          3834,
          163,
          4042,
          2658,
          3756,
          1172,
          1580,
          3756,
          1809,
          2999,
          2483,
          2933,
          1346,
          3797,
          1979,
          1286,
          1741,
          2230,
          1561,
          1355,
          3398,
          2824,
          1397,
          877,
          1310,
          1806,
          1075,
          1898,
          2813
         ],
         "xaxis": "x8",
         "y": [
          161596,
          31659,
          2706,
          2347,
          106311,
          124825,
          77497,
          4824,
          126851,
          19055,
          4002,
          15916,
          32523,
          15130,
          47199,
          47622,
          2969,
          54158,
          34062,
          4631,
          12843,
          117100,
          59369,
          52309,
          28079,
          106784,
          52600,
          45735,
          54916,
          20836,
          23687,
          66471,
          2365,
          120826,
          44761,
          26243,
          32977,
          42040,
          109995,
          10668,
          76426,
          23863,
          29854,
          42853,
          5337,
          4040,
          24071,
          16584,
          3931,
          25112,
          42624,
          6183,
          1649,
          12826,
          14670,
          24211,
          3606,
          1623,
          23651,
          26397,
          6304,
          12771,
          32675,
          3174,
          30979,
          5039,
          6250,
          5227,
          7936,
          26754,
          14428,
          8115,
          21311,
          22058,
          23180,
          4786,
          9734,
          5307,
          1703,
          2232
         ],
         "yaxis": "y8"
        },
        {
         "marker": {
          "color": "rgb(31, 119, 180)",
          "size": 6
         },
         "mode": "markers",
         "name": "Engineering @ Feature Labs",
         "showlegend": false,
         "type": "scatter",
         "uid": "c618ce2e-9c63-4593-b8cd-dcb46a4c9640",
         "x": [
          315
         ],
         "xaxis": "x9",
         "y": [
          27.28
         ],
         "yaxis": "y9"
        },
        {
         "marker": {
          "color": "rgb(255, 127, 14)",
          "size": 6
         },
         "mode": "markers",
         "name": "None",
         "showlegend": false,
         "type": "scatter",
         "uid": "6db46d84-079c-4ad3-84cd-e2bd0ed7716a",
         "x": [
          2,
          18,
          50,
          0,
          0,
          0,
          73,
          234,
          2,
          0,
          682,
          58,
          5,
          7,
          87,
          23,
          4,
          113,
          8,
          17,
          8,
          2700,
          72,
          123,
          11,
          59,
          14,
          275,
          101,
          728,
          205,
          121,
          361,
          31,
          0,
          24,
          0,
          5,
          6,
          0,
          424
         ],
         "xaxis": "x9",
         "y": [
          41.98,
          32.93,
          20.19,
          35.85,
          8.77,
          19.28,
          17.64,
          23.55,
          33.33,
          23.44,
          14.07,
          12.24,
          18.62,
          27.78,
          11.87,
          11.57,
          28.87,
          15.38,
          53.03,
          13.2,
          65.71,
          42.03,
          36.42,
          42.81,
          34.43,
          41.89,
          54.29,
          28.68,
          58.15,
          47.01,
          35.38,
          24.31,
          39.28,
          11.79,
          33.33,
          12.38,
          25,
          9.52,
          27.82,
          6.06,
          19.16
         ],
         "yaxis": "y9"
        },
        {
         "marker": {
          "color": "rgb(44, 160, 44)",
          "size": 6
         },
         "mode": "markers",
         "name": "Noteworthy - The Journal Blog",
         "showlegend": false,
         "type": "scatter",
         "uid": "5db410e4-ff44-45f1-a620-9ea67ea9648e",
         "x": [
          1000
         ],
         "xaxis": "x9",
         "y": [
          26.21
         ],
         "yaxis": "y9"
        },
        {
         "marker": {
          "color": "rgb(214, 39, 40)",
          "size": 6
         },
         "mode": "markers",
         "name": "The Reality Project",
         "showlegend": false,
         "type": "scatter",
         "uid": "837dbdf0-40ac-4682-9469-a798a8db4972",
         "x": [
          319,
          304,
          65
         ],
         "xaxis": "x9",
         "y": [
          39.23,
          28.75,
          21.22
         ],
         "yaxis": "y9"
        },
        {
         "marker": {
          "color": "rgb(148, 103, 189)",
          "size": 6
         },
         "mode": "markers",
         "name": "Towards Data Science",
         "showlegend": false,
         "type": "scatter",
         "uid": "952a1814-eccc-49fa-be95-0c5c168a4baa",
         "x": [
          4800,
          857,
          186,
          119,
          2000,
          4100,
          2700,
          77,
          7000,
          1200,
          1600,
          1600,
          1000,
          4300,
          4980,
          12900,
          223,
          4900,
          5900,
          548,
          895,
          6700,
          6500,
          2700,
          1100,
          2900,
          2600,
          2800,
          5300,
          1300,
          1000,
          7900,
          364,
          13500,
          4100,
          2200,
          3900,
          6300,
          8200,
          1300,
          5400,
          2300,
          2700,
          2100,
          707,
          650,
          2700,
          4100,
          822,
          830,
          3700,
          653,
          657,
          1100,
          2800,
          3100,
          792,
          222,
          3300,
          2500,
          976,
          2000,
          3200,
          650,
          2300,
          809,
          745,
          587,
          818,
          2200,
          1300,
          630,
          2600,
          2000,
          3600,
          440,
          893,
          528,
          442,
          410
         ],
         "xaxis": "x9",
         "y": [
          17.68,
          22.76,
          28.64,
          31.53,
          23.99,
          25.02,
          26.48,
          62.02,
          31.14,
          35.91,
          54.9,
          41.91,
          30.74,
          47.3,
          29.82,
          62.61,
          43.21,
          28.8,
          32.28,
          42.88,
          43.51,
          20.4,
          22.68,
          36.49,
          36.98,
          27.17,
          33.18,
          31.37,
          33.73,
          30.79,
          26.51,
          31.56,
          63.3,
          18.85,
          20.65,
          23.58,
          25.07,
          23.81,
          21.75,
          16.88,
          25.47,
          21.64,
          26.89,
          14.38,
          18.08,
          43.19,
          24.69,
          33.16,
          26.89,
          44.17,
          16.73,
          19.29,
          74.53,
          17.44,
          26.93,
          18.99,
          40.82,
          18.85,
          18.21,
          27.13,
          19.84,
          23.81,
          28.56,
          40.39,
          17.22,
          24.27,
          38.53,
          21.47,
          21.47,
          30.31,
          34.19,
          17.72,
          21.96,
          19.31,
          45.8,
          22.04,
          29.3,
          30.11,
          30.59,
          20.47
         ],
         "yaxis": "y9"
        },
        {
         "marker": {
          "color": "rgb(31, 119, 180)",
          "size": 6
         },
         "mode": "markers",
         "name": "Engineering @ Feature Labs",
         "showlegend": false,
         "type": "scatter",
         "uid": "737e637a-653e-4227-af8d-04f44862104c",
         "x": [
          2771
         ],
         "xaxis": "x10",
         "y": [
          27.28
         ],
         "yaxis": "y10"
        },
        {
         "marker": {
          "color": "rgb(255, 127, 14)",
          "size": 6
         },
         "mode": "markers",
         "name": "None",
         "showlegend": false,
         "type": "scatter",
         "uid": "8c01fadc-32dd-4ee3-965f-b325af72d4ca",
         "x": [
          162,
          164,
          1065,
          53,
          57,
          306,
          9379,
          23210,
          123,
          64,
          27137,
          3930,
          145,
          54,
          5325,
          4676,
          8247,
          12718,
          132,
          2113,
          35,
          81482,
          162,
          313,
          3299,
          148,
          105,
          1576,
          227,
          836,
          407,
          255,
          802,
          212,
          3,
          105,
          8,
          84,
          133,
          33,
          1169
         ],
         "xaxis": "x10",
         "y": [
          41.98,
          32.93,
          20.19,
          35.85,
          8.77,
          19.28,
          17.64,
          23.55,
          33.33,
          23.44,
          14.07,
          12.24,
          18.62,
          27.78,
          11.87,
          11.57,
          28.87,
          15.38,
          53.03,
          13.2,
          65.71,
          42.03,
          36.42,
          42.81,
          34.43,
          41.89,
          54.29,
          28.68,
          58.15,
          47.01,
          35.38,
          24.31,
          39.28,
          11.79,
          33.33,
          12.38,
          25,
          9.52,
          27.82,
          6.06,
          19.16
         ],
         "yaxis": "y10"
        },
        {
         "marker": {
          "color": "rgb(44, 160, 44)",
          "size": 6
         },
         "mode": "markers",
         "name": "Noteworthy - The Journal Blog",
         "showlegend": false,
         "type": "scatter",
         "uid": "1f2b96b2-5a43-467e-bf2a-b2f2d5f566ab",
         "x": [
          2060
         ],
         "xaxis": "x10",
         "y": [
          26.21
         ],
         "yaxis": "y10"
        },
        {
         "marker": {
          "color": "rgb(214, 39, 40)",
          "size": 6
         },
         "mode": "markers",
         "name": "The Reality Project",
         "showlegend": false,
         "type": "scatter",
         "uid": "8c955b2f-a53d-467d-a1c3-952189204333",
         "x": [
          418,
          400,
          245
         ],
         "xaxis": "x10",
         "y": [
          39.23,
          28.75,
          21.22
         ],
         "yaxis": "y10"
        },
        {
         "marker": {
          "color": "rgb(148, 103, 189)",
          "size": 6
         },
         "mode": "markers",
         "name": "Towards Data Science",
         "showlegend": false,
         "type": "scatter",
         "uid": "fb77df5f-603c-40c8-87be-b1b9441ea896",
         "x": [
          161596,
          31659,
          2706,
          2347,
          106311,
          124825,
          77497,
          4824,
          126851,
          19055,
          4002,
          15916,
          32523,
          15130,
          47199,
          47622,
          2969,
          54158,
          34062,
          4631,
          12843,
          117100,
          59369,
          52309,
          28079,
          106784,
          52600,
          45735,
          54916,
          20836,
          23687,
          66471,
          2365,
          120826,
          44761,
          26243,
          32977,
          42040,
          109995,
          10668,
          76426,
          23863,
          29854,
          42853,
          5337,
          4040,
          24071,
          16584,
          3931,
          25112,
          42624,
          6183,
          1649,
          12826,
          14670,
          24211,
          3606,
          1623,
          23651,
          26397,
          6304,
          12771,
          32675,
          3174,
          30979,
          5039,
          6250,
          5227,
          7936,
          26754,
          14428,
          8115,
          21311,
          22058,
          23180,
          4786,
          9734,
          5307,
          1703,
          2232
         ],
         "xaxis": "x10",
         "y": [
          17.68,
          22.76,
          28.64,
          31.53,
          23.99,
          25.02,
          26.48,
          62.02,
          31.14,
          35.91,
          54.9,
          41.91,
          30.74,
          47.3,
          29.82,
          62.61,
          43.21,
          28.8,
          32.28,
          42.88,
          43.51,
          20.4,
          22.68,
          36.49,
          36.98,
          27.17,
          33.18,
          31.37,
          33.73,
          30.79,
          26.51,
          31.56,
          63.3,
          18.85,
          20.65,
          23.58,
          25.07,
          23.81,
          21.75,
          16.88,
          25.47,
          21.64,
          26.89,
          14.38,
          18.08,
          43.19,
          24.69,
          33.16,
          26.89,
          44.17,
          16.73,
          19.29,
          74.53,
          17.44,
          26.93,
          18.99,
          40.82,
          18.85,
          18.21,
          27.13,
          19.84,
          23.81,
          28.56,
          40.39,
          17.22,
          24.27,
          38.53,
          21.47,
          21.47,
          30.31,
          34.19,
          17.72,
          21.96,
          19.31,
          45.8,
          22.04,
          29.3,
          30.11,
          30.59,
          20.47
         ],
         "yaxis": "y10"
        },
        {
         "marker": {
          "color": "rgb(31, 119, 180)"
         },
         "showlegend": false,
         "type": "histogram",
         "uid": "60f8c5f4-fb0c-49e4-81a5-76f5139a829b",
         "x": [
          27.28
         ],
         "xaxis": "x11",
         "yaxis": "y11"
        },
        {
         "marker": {
          "color": "rgb(255, 127, 14)"
         },
         "showlegend": false,
         "type": "histogram",
         "uid": "edcc8ff5-f810-4910-b2c1-e0a2492a3890",
         "x": [
          41.98,
          32.93,
          20.19,
          35.85,
          8.77,
          19.28,
          17.64,
          23.55,
          33.33,
          23.44,
          14.07,
          12.24,
          18.62,
          27.78,
          11.87,
          11.57,
          28.87,
          15.38,
          53.03,
          13.2,
          65.71,
          42.03,
          36.42,
          42.81,
          34.43,
          41.89,
          54.29,
          28.68,
          58.15,
          47.01,
          35.38,
          24.31,
          39.28,
          11.79,
          33.33,
          12.38,
          25,
          9.52,
          27.82,
          6.06,
          19.16
         ],
         "xaxis": "x11",
         "yaxis": "y11"
        },
        {
         "marker": {
          "color": "rgb(44, 160, 44)"
         },
         "showlegend": false,
         "type": "histogram",
         "uid": "5ea2c27a-6a00-4329-9739-1113c70541f9",
         "x": [
          26.21
         ],
         "xaxis": "x11",
         "yaxis": "y11"
        },
        {
         "marker": {
          "color": "rgb(214, 39, 40)"
         },
         "showlegend": false,
         "type": "histogram",
         "uid": "5f677974-6a79-4424-80da-750426d2bf1c",
         "x": [
          39.23,
          28.75,
          21.22
         ],
         "xaxis": "x11",
         "yaxis": "y11"
        },
        {
         "marker": {
          "color": "rgb(148, 103, 189)"
         },
         "showlegend": false,
         "type": "histogram",
         "uid": "f2084b5f-0385-47d8-80d9-7adae7a7727b",
         "x": [
          17.68,
          22.76,
          28.64,
          31.53,
          23.99,
          25.02,
          26.48,
          62.02,
          31.14,
          35.91,
          54.9,
          41.91,
          30.74,
          47.3,
          29.82,
          62.61,
          43.21,
          28.8,
          32.28,
          42.88,
          43.51,
          20.4,
          22.68,
          36.49,
          36.98,
          27.17,
          33.18,
          31.37,
          33.73,
          30.79,
          26.51,
          31.56,
          63.3,
          18.85,
          20.65,
          23.58,
          25.07,
          23.81,
          21.75,
          16.88,
          25.47,
          21.64,
          26.89,
          14.38,
          18.08,
          43.19,
          24.69,
          33.16,
          26.89,
          44.17,
          16.73,
          19.29,
          74.53,
          17.44,
          26.93,
          18.99,
          40.82,
          18.85,
          18.21,
          27.13,
          19.84,
          23.81,
          28.56,
          40.39,
          17.22,
          24.27,
          38.53,
          21.47,
          21.47,
          30.31,
          34.19,
          17.72,
          21.96,
          19.31,
          45.8,
          22.04,
          29.3,
          30.11,
          30.59,
          20.47
         ],
         "xaxis": "x11",
         "yaxis": "y11"
        },
        {
         "marker": {
          "color": "rgb(31, 119, 180)",
          "size": 6
         },
         "mode": "markers",
         "name": "Engineering @ Feature Labs",
         "showlegend": false,
         "type": "scatter",
         "uid": "8c0faf0b-04e8-431a-b3a1-b6ed89dc2fb8",
         "x": [
          2087
         ],
         "xaxis": "x12",
         "y": [
          27.28
         ],
         "yaxis": "y12"
        },
        {
         "marker": {
          "color": "rgb(255, 127, 14)",
          "size": 6
         },
         "mode": "markers",
         "name": "None",
         "showlegend": false,
         "type": "scatter",
         "uid": "74701d4a-0d27-4b49-ae94-3f25cd50fc00",
         "x": [
          1859,
          3891,
          12025,
          2533,
          3892,
          13048,
          1778,
          2345,
          1895,
          4684,
          6666,
          7559,
          7659,
          3341,
          5508,
          4772,
          1214,
          6800,
          1412,
          3904,
          2264,
          2850,
          2509,
          5160,
          1073,
          1314,
          1557,
          1653,
          634,
          1410,
          2128,
          1918,
          2185,
          15063,
          3659,
          9698,
          4145,
          8507,
          3068,
          12083,
          7125
         ],
         "xaxis": "x12",
         "y": [
          41.98,
          32.93,
          20.19,
          35.85,
          8.77,
          19.28,
          17.64,
          23.55,
          33.33,
          23.44,
          14.07,
          12.24,
          18.62,
          27.78,
          11.87,
          11.57,
          28.87,
          15.38,
          53.03,
          13.2,
          65.71,
          42.03,
          36.42,
          42.81,
          34.43,
          41.89,
          54.29,
          28.68,
          58.15,
          47.01,
          35.38,
          24.31,
          39.28,
          11.79,
          33.33,
          12.38,
          25,
          9.52,
          27.82,
          6.06,
          19.16
         ],
         "yaxis": "y12"
        },
        {
         "marker": {
          "color": "rgb(44, 160, 44)",
          "size": 6
         },
         "mode": "markers",
         "name": "Noteworthy - The Journal Blog",
         "showlegend": false,
         "type": "scatter",
         "uid": "0046619d-2969-4dbd-8d16-a3dcb487571a",
         "x": [
          2172
         ],
         "xaxis": "x12",
         "y": [
          26.21
         ],
         "yaxis": "y12"
        },
        {
         "marker": {
          "color": "rgb(214, 39, 40)",
          "size": 6
         },
         "mode": "markers",
         "name": "The Reality Project",
         "showlegend": false,
         "type": "scatter",
         "uid": "7b1c3a46-3c29-46b7-b835-721ed97b0e60",
         "x": [
          1685,
          2278,
          3678
         ],
         "xaxis": "x12",
         "y": [
          39.23,
          28.75,
          21.22
         ],
         "yaxis": "y12"
        },
        {
         "marker": {
          "color": "rgb(148, 103, 189)",
          "size": 6
         },
         "mode": "markers",
         "name": "Towards Data Science",
         "showlegend": false,
         "type": "scatter",
         "uid": "801eff17-d743-4eba-ae04-68853718d98d",
         "x": [
          4494,
          3504,
          3569,
          2817,
          2456,
          2974,
          2395,
          1169,
          2528,
          1361,
          1014,
          1562,
          2480,
          1281,
          2450,
          721,
          1375,
          2772,
          1944,
          1827,
          933,
          2565,
          1906,
          2394,
          2220,
          2614,
          2365,
          1577,
          2394,
          2690,
          2620,
          1480,
          765,
          3553,
          3106,
          2622,
          2338,
          2975,
          2648,
          5228,
          1998,
          3393,
          1957,
          4298,
          3718,
          1247,
          2634,
          2041,
          2343,
          373,
          3996,
          3834,
          163,
          4042,
          2658,
          3756,
          1172,
          1580,
          3756,
          1809,
          2999,
          2483,
          2933,
          1346,
          3797,
          1979,
          1286,
          1741,
          2230,
          1561,
          1355,
          3398,
          2824,
          1397,
          877,
          1310,
          1806,
          1075,
          1898,
          2813
         ],
         "xaxis": "x12",
         "y": [
          17.68,
          22.76,
          28.64,
          31.53,
          23.99,
          25.02,
          26.48,
          62.02,
          31.14,
          35.91,
          54.9,
          41.91,
          30.74,
          47.3,
          29.82,
          62.61,
          43.21,
          28.8,
          32.28,
          42.88,
          43.51,
          20.4,
          22.68,
          36.49,
          36.98,
          27.17,
          33.18,
          31.37,
          33.73,
          30.79,
          26.51,
          31.56,
          63.3,
          18.85,
          20.65,
          23.58,
          25.07,
          23.81,
          21.75,
          16.88,
          25.47,
          21.64,
          26.89,
          14.38,
          18.08,
          43.19,
          24.69,
          33.16,
          26.89,
          44.17,
          16.73,
          19.29,
          74.53,
          17.44,
          26.93,
          18.99,
          40.82,
          18.85,
          18.21,
          27.13,
          19.84,
          23.81,
          28.56,
          40.39,
          17.22,
          24.27,
          38.53,
          21.47,
          21.47,
          30.31,
          34.19,
          17.72,
          21.96,
          19.31,
          45.8,
          22.04,
          29.3,
          30.11,
          30.59,
          20.47
         ],
         "yaxis": "y12"
        },
        {
         "marker": {
          "color": "rgb(31, 119, 180)",
          "size": 6
         },
         "mode": "markers",
         "name": "Engineering @ Feature Labs",
         "showlegend": false,
         "type": "scatter",
         "uid": "cd622191-ae91-4912-ae0e-adb3509cc000",
         "x": [
          315
         ],
         "xaxis": "x13",
         "y": [
          2087
         ],
         "yaxis": "y13"
        },
        {
         "marker": {
          "color": "rgb(255, 127, 14)",
          "size": 6
         },
         "mode": "markers",
         "name": "None",
         "showlegend": false,
         "type": "scatter",
         "uid": "0993dbdf-190b-43e0-8d94-dcd3a457a170",
         "x": [
          2,
          18,
          50,
          0,
          0,
          0,
          73,
          234,
          2,
          0,
          682,
          58,
          5,
          7,
          87,
          23,
          4,
          113,
          8,
          17,
          8,
          2700,
          72,
          123,
          11,
          59,
          14,
          275,
          101,
          728,
          205,
          121,
          361,
          31,
          0,
          24,
          0,
          5,
          6,
          0,
          424
         ],
         "xaxis": "x13",
         "y": [
          1859,
          3891,
          12025,
          2533,
          3892,
          13048,
          1778,
          2345,
          1895,
          4684,
          6666,
          7559,
          7659,
          3341,
          5508,
          4772,
          1214,
          6800,
          1412,
          3904,
          2264,
          2850,
          2509,
          5160,
          1073,
          1314,
          1557,
          1653,
          634,
          1410,
          2128,
          1918,
          2185,
          15063,
          3659,
          9698,
          4145,
          8507,
          3068,
          12083,
          7125
         ],
         "yaxis": "y13"
        },
        {
         "marker": {
          "color": "rgb(44, 160, 44)",
          "size": 6
         },
         "mode": "markers",
         "name": "Noteworthy - The Journal Blog",
         "showlegend": false,
         "type": "scatter",
         "uid": "76a931aa-0383-484a-b57e-13a02f6455b3",
         "x": [
          1000
         ],
         "xaxis": "x13",
         "y": [
          2172
         ],
         "yaxis": "y13"
        },
        {
         "marker": {
          "color": "rgb(214, 39, 40)",
          "size": 6
         },
         "mode": "markers",
         "name": "The Reality Project",
         "showlegend": false,
         "type": "scatter",
         "uid": "c42a6f67-4964-4f79-8212-5379aa9555f4",
         "x": [
          319,
          304,
          65
         ],
         "xaxis": "x13",
         "y": [
          1685,
          2278,
          3678
         ],
         "yaxis": "y13"
        },
        {
         "marker": {
          "color": "rgb(148, 103, 189)",
          "size": 6
         },
         "mode": "markers",
         "name": "Towards Data Science",
         "showlegend": false,
         "type": "scatter",
         "uid": "a9214489-8952-4bdf-9bfa-9d10274fe112",
         "x": [
          4800,
          857,
          186,
          119,
          2000,
          4100,
          2700,
          77,
          7000,
          1200,
          1600,
          1600,
          1000,
          4300,
          4980,
          12900,
          223,
          4900,
          5900,
          548,
          895,
          6700,
          6500,
          2700,
          1100,
          2900,
          2600,
          2800,
          5300,
          1300,
          1000,
          7900,
          364,
          13500,
          4100,
          2200,
          3900,
          6300,
          8200,
          1300,
          5400,
          2300,
          2700,
          2100,
          707,
          650,
          2700,
          4100,
          822,
          830,
          3700,
          653,
          657,
          1100,
          2800,
          3100,
          792,
          222,
          3300,
          2500,
          976,
          2000,
          3200,
          650,
          2300,
          809,
          745,
          587,
          818,
          2200,
          1300,
          630,
          2600,
          2000,
          3600,
          440,
          893,
          528,
          442,
          410
         ],
         "xaxis": "x13",
         "y": [
          4494,
          3504,
          3569,
          2817,
          2456,
          2974,
          2395,
          1169,
          2528,
          1361,
          1014,
          1562,
          2480,
          1281,
          2450,
          721,
          1375,
          2772,
          1944,
          1827,
          933,
          2565,
          1906,
          2394,
          2220,
          2614,
          2365,
          1577,
          2394,
          2690,
          2620,
          1480,
          765,
          3553,
          3106,
          2622,
          2338,
          2975,
          2648,
          5228,
          1998,
          3393,
          1957,
          4298,
          3718,
          1247,
          2634,
          2041,
          2343,
          373,
          3996,
          3834,
          163,
          4042,
          2658,
          3756,
          1172,
          1580,
          3756,
          1809,
          2999,
          2483,
          2933,
          1346,
          3797,
          1979,
          1286,
          1741,
          2230,
          1561,
          1355,
          3398,
          2824,
          1397,
          877,
          1310,
          1806,
          1075,
          1898,
          2813
         ],
         "yaxis": "y13"
        },
        {
         "marker": {
          "color": "rgb(31, 119, 180)",
          "size": 6
         },
         "mode": "markers",
         "name": "Engineering @ Feature Labs",
         "showlegend": false,
         "type": "scatter",
         "uid": "1ec29fcc-58c1-41e9-9969-b3ca4a9438c2",
         "x": [
          2771
         ],
         "xaxis": "x14",
         "y": [
          2087
         ],
         "yaxis": "y14"
        },
        {
         "marker": {
          "color": "rgb(255, 127, 14)",
          "size": 6
         },
         "mode": "markers",
         "name": "None",
         "showlegend": false,
         "type": "scatter",
         "uid": "1aadca6d-dfe7-4911-9103-6505e24fcf85",
         "x": [
          162,
          164,
          1065,
          53,
          57,
          306,
          9379,
          23210,
          123,
          64,
          27137,
          3930,
          145,
          54,
          5325,
          4676,
          8247,
          12718,
          132,
          2113,
          35,
          81482,
          162,
          313,
          3299,
          148,
          105,
          1576,
          227,
          836,
          407,
          255,
          802,
          212,
          3,
          105,
          8,
          84,
          133,
          33,
          1169
         ],
         "xaxis": "x14",
         "y": [
          1859,
          3891,
          12025,
          2533,
          3892,
          13048,
          1778,
          2345,
          1895,
          4684,
          6666,
          7559,
          7659,
          3341,
          5508,
          4772,
          1214,
          6800,
          1412,
          3904,
          2264,
          2850,
          2509,
          5160,
          1073,
          1314,
          1557,
          1653,
          634,
          1410,
          2128,
          1918,
          2185,
          15063,
          3659,
          9698,
          4145,
          8507,
          3068,
          12083,
          7125
         ],
         "yaxis": "y14"
        },
        {
         "marker": {
          "color": "rgb(44, 160, 44)",
          "size": 6
         },
         "mode": "markers",
         "name": "Noteworthy - The Journal Blog",
         "showlegend": false,
         "type": "scatter",
         "uid": "c92ad9c3-1d17-449b-8169-3de938eaeb31",
         "x": [
          2060
         ],
         "xaxis": "x14",
         "y": [
          2172
         ],
         "yaxis": "y14"
        },
        {
         "marker": {
          "color": "rgb(214, 39, 40)",
          "size": 6
         },
         "mode": "markers",
         "name": "The Reality Project",
         "showlegend": false,
         "type": "scatter",
         "uid": "fe0668a2-8d84-4ba5-b4a6-dd7950d08109",
         "x": [
          418,
          400,
          245
         ],
         "xaxis": "x14",
         "y": [
          1685,
          2278,
          3678
         ],
         "yaxis": "y14"
        },
        {
         "marker": {
          "color": "rgb(148, 103, 189)",
          "size": 6
         },
         "mode": "markers",
         "name": "Towards Data Science",
         "showlegend": false,
         "type": "scatter",
         "uid": "d1fe1b43-0a08-43f9-86ec-3b77721598c7",
         "x": [
          161596,
          31659,
          2706,
          2347,
          106311,
          124825,
          77497,
          4824,
          126851,
          19055,
          4002,
          15916,
          32523,
          15130,
          47199,
          47622,
          2969,
          54158,
          34062,
          4631,
          12843,
          117100,
          59369,
          52309,
          28079,
          106784,
          52600,
          45735,
          54916,
          20836,
          23687,
          66471,
          2365,
          120826,
          44761,
          26243,
          32977,
          42040,
          109995,
          10668,
          76426,
          23863,
          29854,
          42853,
          5337,
          4040,
          24071,
          16584,
          3931,
          25112,
          42624,
          6183,
          1649,
          12826,
          14670,
          24211,
          3606,
          1623,
          23651,
          26397,
          6304,
          12771,
          32675,
          3174,
          30979,
          5039,
          6250,
          5227,
          7936,
          26754,
          14428,
          8115,
          21311,
          22058,
          23180,
          4786,
          9734,
          5307,
          1703,
          2232
         ],
         "xaxis": "x14",
         "y": [
          4494,
          3504,
          3569,
          2817,
          2456,
          2974,
          2395,
          1169,
          2528,
          1361,
          1014,
          1562,
          2480,
          1281,
          2450,
          721,
          1375,
          2772,
          1944,
          1827,
          933,
          2565,
          1906,
          2394,
          2220,
          2614,
          2365,
          1577,
          2394,
          2690,
          2620,
          1480,
          765,
          3553,
          3106,
          2622,
          2338,
          2975,
          2648,
          5228,
          1998,
          3393,
          1957,
          4298,
          3718,
          1247,
          2634,
          2041,
          2343,
          373,
          3996,
          3834,
          163,
          4042,
          2658,
          3756,
          1172,
          1580,
          3756,
          1809,
          2999,
          2483,
          2933,
          1346,
          3797,
          1979,
          1286,
          1741,
          2230,
          1561,
          1355,
          3398,
          2824,
          1397,
          877,
          1310,
          1806,
          1075,
          1898,
          2813
         ],
         "yaxis": "y14"
        },
        {
         "marker": {
          "color": "rgb(31, 119, 180)",
          "size": 6
         },
         "mode": "markers",
         "name": "Engineering @ Feature Labs",
         "showlegend": false,
         "type": "scatter",
         "uid": "671357c7-23f5-4fc1-bdbc-caede3694dda",
         "x": [
          27.28
         ],
         "xaxis": "x15",
         "y": [
          2087
         ],
         "yaxis": "y15"
        },
        {
         "marker": {
          "color": "rgb(255, 127, 14)",
          "size": 6
         },
         "mode": "markers",
         "name": "None",
         "showlegend": false,
         "type": "scatter",
         "uid": "bc17f0ce-7d83-4811-bb80-52911a813584",
         "x": [
          41.98,
          32.93,
          20.19,
          35.85,
          8.77,
          19.28,
          17.64,
          23.55,
          33.33,
          23.44,
          14.07,
          12.24,
          18.62,
          27.78,
          11.87,
          11.57,
          28.87,
          15.38,
          53.03,
          13.2,
          65.71,
          42.03,
          36.42,
          42.81,
          34.43,
          41.89,
          54.29,
          28.68,
          58.15,
          47.01,
          35.38,
          24.31,
          39.28,
          11.79,
          33.33,
          12.38,
          25,
          9.52,
          27.82,
          6.06,
          19.16
         ],
         "xaxis": "x15",
         "y": [
          1859,
          3891,
          12025,
          2533,
          3892,
          13048,
          1778,
          2345,
          1895,
          4684,
          6666,
          7559,
          7659,
          3341,
          5508,
          4772,
          1214,
          6800,
          1412,
          3904,
          2264,
          2850,
          2509,
          5160,
          1073,
          1314,
          1557,
          1653,
          634,
          1410,
          2128,
          1918,
          2185,
          15063,
          3659,
          9698,
          4145,
          8507,
          3068,
          12083,
          7125
         ],
         "yaxis": "y15"
        },
        {
         "marker": {
          "color": "rgb(44, 160, 44)",
          "size": 6
         },
         "mode": "markers",
         "name": "Noteworthy - The Journal Blog",
         "showlegend": false,
         "type": "scatter",
         "uid": "8b1bf3ed-e771-40f6-9a25-fc42cba4707e",
         "x": [
          26.21
         ],
         "xaxis": "x15",
         "y": [
          2172
         ],
         "yaxis": "y15"
        },
        {
         "marker": {
          "color": "rgb(214, 39, 40)",
          "size": 6
         },
         "mode": "markers",
         "name": "The Reality Project",
         "showlegend": false,
         "type": "scatter",
         "uid": "ac4d2c5a-5306-4ad4-8ff8-4550e8e44f3a",
         "x": [
          39.23,
          28.75,
          21.22
         ],
         "xaxis": "x15",
         "y": [
          1685,
          2278,
          3678
         ],
         "yaxis": "y15"
        },
        {
         "marker": {
          "color": "rgb(148, 103, 189)",
          "size": 6
         },
         "mode": "markers",
         "name": "Towards Data Science",
         "showlegend": false,
         "type": "scatter",
         "uid": "d0a3bab0-cf60-4272-ade2-58f2254a86d2",
         "x": [
          17.68,
          22.76,
          28.64,
          31.53,
          23.99,
          25.02,
          26.48,
          62.02,
          31.14,
          35.91,
          54.9,
          41.91,
          30.74,
          47.3,
          29.82,
          62.61,
          43.21,
          28.8,
          32.28,
          42.88,
          43.51,
          20.4,
          22.68,
          36.49,
          36.98,
          27.17,
          33.18,
          31.37,
          33.73,
          30.79,
          26.51,
          31.56,
          63.3,
          18.85,
          20.65,
          23.58,
          25.07,
          23.81,
          21.75,
          16.88,
          25.47,
          21.64,
          26.89,
          14.38,
          18.08,
          43.19,
          24.69,
          33.16,
          26.89,
          44.17,
          16.73,
          19.29,
          74.53,
          17.44,
          26.93,
          18.99,
          40.82,
          18.85,
          18.21,
          27.13,
          19.84,
          23.81,
          28.56,
          40.39,
          17.22,
          24.27,
          38.53,
          21.47,
          21.47,
          30.31,
          34.19,
          17.72,
          21.96,
          19.31,
          45.8,
          22.04,
          29.3,
          30.11,
          30.59,
          20.47
         ],
         "xaxis": "x15",
         "y": [
          4494,
          3504,
          3569,
          2817,
          2456,
          2974,
          2395,
          1169,
          2528,
          1361,
          1014,
          1562,
          2480,
          1281,
          2450,
          721,
          1375,
          2772,
          1944,
          1827,
          933,
          2565,
          1906,
          2394,
          2220,
          2614,
          2365,
          1577,
          2394,
          2690,
          2620,
          1480,
          765,
          3553,
          3106,
          2622,
          2338,
          2975,
          2648,
          5228,
          1998,
          3393,
          1957,
          4298,
          3718,
          1247,
          2634,
          2041,
          2343,
          373,
          3996,
          3834,
          163,
          4042,
          2658,
          3756,
          1172,
          1580,
          3756,
          1809,
          2999,
          2483,
          2933,
          1346,
          3797,
          1979,
          1286,
          1741,
          2230,
          1561,
          1355,
          3398,
          2824,
          1397,
          877,
          1310,
          1806,
          1075,
          1898,
          2813
         ],
         "yaxis": "y15"
        },
        {
         "marker": {
          "color": "rgb(31, 119, 180)"
         },
         "showlegend": false,
         "type": "histogram",
         "uid": "107c84ad-3aa2-4cda-8555-1843231b097c",
         "x": [
          2087
         ],
         "xaxis": "x16",
         "yaxis": "y16"
        },
        {
         "marker": {
          "color": "rgb(255, 127, 14)"
         },
         "showlegend": false,
         "type": "histogram",
         "uid": "f5611be7-41c2-4bb8-b766-07cf506a0fc8",
         "x": [
          1859,
          3891,
          12025,
          2533,
          3892,
          13048,
          1778,
          2345,
          1895,
          4684,
          6666,
          7559,
          7659,
          3341,
          5508,
          4772,
          1214,
          6800,
          1412,
          3904,
          2264,
          2850,
          2509,
          5160,
          1073,
          1314,
          1557,
          1653,
          634,
          1410,
          2128,
          1918,
          2185,
          15063,
          3659,
          9698,
          4145,
          8507,
          3068,
          12083,
          7125
         ],
         "xaxis": "x16",
         "yaxis": "y16"
        },
        {
         "marker": {
          "color": "rgb(44, 160, 44)"
         },
         "showlegend": false,
         "type": "histogram",
         "uid": "e41db37e-54a7-4237-857d-e5459af87709",
         "x": [
          2172
         ],
         "xaxis": "x16",
         "yaxis": "y16"
        },
        {
         "marker": {
          "color": "rgb(214, 39, 40)"
         },
         "showlegend": false,
         "type": "histogram",
         "uid": "5da3015d-a427-435a-8337-0e9d0234dec6",
         "x": [
          1685,
          2278,
          3678
         ],
         "xaxis": "x16",
         "yaxis": "y16"
        },
        {
         "marker": {
          "color": "rgb(148, 103, 189)"
         },
         "showlegend": false,
         "type": "histogram",
         "uid": "44ca80ab-8016-45b1-b761-864c8a50f88d",
         "x": [
          4494,
          3504,
          3569,
          2817,
          2456,
          2974,
          2395,
          1169,
          2528,
          1361,
          1014,
          1562,
          2480,
          1281,
          2450,
          721,
          1375,
          2772,
          1944,
          1827,
          933,
          2565,
          1906,
          2394,
          2220,
          2614,
          2365,
          1577,
          2394,
          2690,
          2620,
          1480,
          765,
          3553,
          3106,
          2622,
          2338,
          2975,
          2648,
          5228,
          1998,
          3393,
          1957,
          4298,
          3718,
          1247,
          2634,
          2041,
          2343,
          373,
          3996,
          3834,
          163,
          4042,
          2658,
          3756,
          1172,
          1580,
          3756,
          1809,
          2999,
          2483,
          2933,
          1346,
          3797,
          1979,
          1286,
          1741,
          2230,
          1561,
          1355,
          3398,
          2824,
          1397,
          877,
          1310,
          1806,
          1075,
          1898,
          2813
         ],
         "xaxis": "x16",
         "yaxis": "y16"
        }
       ],
       "layout": {
        "barmode": "stack",
        "height": 1000,
        "showlegend": true,
        "title": {
         "text": "Scatterplot Matrix"
        },
        "width": 1000,
        "xaxis": {
         "anchor": "y",
         "domain": [
          0,
          0.2125
         ]
        },
        "xaxis10": {
         "anchor": "y10",
         "domain": [
          0.2625,
          0.475
         ]
        },
        "xaxis11": {
         "anchor": "y11",
         "domain": [
          0.525,
          0.7375
         ]
        },
        "xaxis12": {
         "anchor": "y12",
         "domain": [
          0.7875,
          1
         ]
        },
        "xaxis13": {
         "anchor": "y13",
         "domain": [
          0,
          0.2125
         ],
         "title": {
          "text": "claps"
         }
        },
        "xaxis14": {
         "anchor": "y14",
         "domain": [
          0.2625,
          0.475
         ],
         "title": {
          "text": "views"
         }
        },
        "xaxis15": {
         "anchor": "y15",
         "domain": [
          0.525,
          0.7375
         ],
         "title": {
          "text": "read_ratio"
         }
        },
        "xaxis16": {
         "anchor": "y16",
         "domain": [
          0.7875,
          1
         ],
         "title": {
          "text": "word_count"
         }
        },
        "xaxis2": {
         "anchor": "y2",
         "domain": [
          0.2625,
          0.475
         ]
        },
        "xaxis3": {
         "anchor": "y3",
         "domain": [
          0.525,
          0.7375
         ]
        },
        "xaxis4": {
         "anchor": "y4",
         "domain": [
          0.7875,
          1
         ]
        },
        "xaxis5": {
         "anchor": "y5",
         "domain": [
          0,
          0.2125
         ]
        },
        "xaxis6": {
         "anchor": "y6",
         "domain": [
          0.2625,
          0.475
         ]
        },
        "xaxis7": {
         "anchor": "y7",
         "domain": [
          0.525,
          0.7375
         ]
        },
        "xaxis8": {
         "anchor": "y8",
         "domain": [
          0.7875,
          1
         ]
        },
        "xaxis9": {
         "anchor": "y9",
         "domain": [
          0,
          0.2125
         ]
        },
        "yaxis": {
         "anchor": "x",
         "domain": [
          0.80625,
          1
         ],
         "title": {
          "text": "claps"
         }
        },
        "yaxis10": {
         "anchor": "x10",
         "domain": [
          0.26875,
          0.4625
         ]
        },
        "yaxis11": {
         "anchor": "x11",
         "domain": [
          0.26875,
          0.4625
         ]
        },
        "yaxis12": {
         "anchor": "x12",
         "domain": [
          0.26875,
          0.4625
         ]
        },
        "yaxis13": {
         "anchor": "x13",
         "domain": [
          0,
          0.19375
         ],
         "title": {
          "text": "word_count"
         }
        },
        "yaxis14": {
         "anchor": "x14",
         "domain": [
          0,
          0.19375
         ]
        },
        "yaxis15": {
         "anchor": "x15",
         "domain": [
          0,
          0.19375
         ]
        },
        "yaxis16": {
         "anchor": "x16",
         "domain": [
          0,
          0.19375
         ]
        },
        "yaxis2": {
         "anchor": "x2",
         "domain": [
          0.80625,
          1
         ]
        },
        "yaxis3": {
         "anchor": "x3",
         "domain": [
          0.80625,
          1
         ]
        },
        "yaxis4": {
         "anchor": "x4",
         "domain": [
          0.80625,
          1
         ]
        },
        "yaxis5": {
         "anchor": "x5",
         "domain": [
          0.5375,
          0.73125
         ],
         "title": {
          "text": "views"
         }
        },
        "yaxis6": {
         "anchor": "x6",
         "domain": [
          0.5375,
          0.73125
         ]
        },
        "yaxis7": {
         "anchor": "x7",
         "domain": [
          0.5375,
          0.73125
         ]
        },
        "yaxis8": {
         "anchor": "x8",
         "domain": [
          0.5375,
          0.73125
         ]
        },
        "yaxis9": {
         "anchor": "x9",
         "domain": [
          0.26875,
          0.4625
         ],
         "title": {
          "text": "read_ratio"
         }
        }
       }
      },
      "text/html": [
       "<div>\n",
       "        \n",
       "        \n",
       "            <div id=\"66733cdc-f72f-4bec-8211-09629bd80cee\" class=\"plotly-graph-div\" style=\"height:1000px; width:1000px;\"></div>\n",
       "            <script type=\"text/javascript\">\n",
       "                require([\"plotly\"], function(Plotly) {\n",
       "                    window.PLOTLYENV=window.PLOTLYENV || {};\n",
       "                    window.PLOTLYENV.BASE_URL='https://plot.ly';\n",
       "                    \n",
       "                if (document.getElementById(\"66733cdc-f72f-4bec-8211-09629bd80cee\")) {\n",
       "                    Plotly.newPlot(\n",
       "                        '66733cdc-f72f-4bec-8211-09629bd80cee',\n",
       "                        [{\"marker\": {\"color\": \"rgb(31, 119, 180)\"}, \"showlegend\": false, \"type\": \"histogram\", \"uid\": \"82c29b06-fc5b-4683-bf2e-ed48ed5dd136\", \"x\": [315], \"xaxis\": \"x\", \"yaxis\": \"y\"}, {\"marker\": {\"color\": \"rgb(255, 127, 14)\"}, \"showlegend\": false, \"type\": \"histogram\", \"uid\": \"ca50917d-445c-4307-a8e4-82cd8891b16a\", \"x\": [2, 18, 50, 0, 0, 0, 73, 234, 2, 0, 682, 58, 5, 7, 87, 23, 4, 113, 8, 17, 8, 2700, 72, 123, 11, 59, 14, 275, 101, 728, 205, 121, 361, 31, 0, 24, 0, 5, 6, 0, 424], \"xaxis\": \"x\", \"yaxis\": \"y\"}, {\"marker\": {\"color\": \"rgb(44, 160, 44)\"}, \"showlegend\": false, \"type\": \"histogram\", \"uid\": \"8bb72328-e5b5-4bc2-b7af-507e97361d94\", \"x\": [1000], \"xaxis\": \"x\", \"yaxis\": \"y\"}, {\"marker\": {\"color\": \"rgb(214, 39, 40)\"}, \"showlegend\": false, \"type\": \"histogram\", \"uid\": \"06321f98-76c1-496c-97b4-3638900b6d8b\", \"x\": [319, 304, 65], \"xaxis\": \"x\", \"yaxis\": \"y\"}, {\"marker\": {\"color\": \"rgb(148, 103, 189)\"}, \"showlegend\": false, \"type\": \"histogram\", \"uid\": \"630acf18-c15a-4671-ab24-c3b4ee41d8e3\", \"x\": [4800, 857, 186, 119, 2000, 4100, 2700, 77, 7000, 1200, 1600, 1600, 1000, 4300, 4980, 12900, 223, 4900, 5900, 548, 895, 6700, 6500, 2700, 1100, 2900, 2600, 2800, 5300, 1300, 1000, 7900, 364, 13500, 4100, 2200, 3900, 6300, 8200, 1300, 5400, 2300, 2700, 2100, 707, 650, 2700, 4100, 822, 830, 3700, 653, 657, 1100, 2800, 3100, 792, 222, 3300, 2500, 976, 2000, 3200, 650, 2300, 809, 745, 587, 818, 2200, 1300, 630, 2600, 2000, 3600, 440, 893, 528, 442, 410], \"xaxis\": \"x\", \"yaxis\": \"y\"}, {\"marker\": {\"color\": \"rgb(31, 119, 180)\", \"size\": 6}, \"mode\": \"markers\", \"name\": \"Engineering @ Feature Labs\", \"showlegend\": true, \"type\": \"scatter\", \"uid\": \"52531659-14c4-45b6-9823-2d71025d4238\", \"x\": [2771], \"xaxis\": \"x2\", \"y\": [315], \"yaxis\": \"y2\"}, {\"marker\": {\"color\": \"rgb(255, 127, 14)\", \"size\": 6}, \"mode\": \"markers\", \"name\": \"None\", \"showlegend\": true, \"type\": \"scatter\", \"uid\": \"5752cad6-6af3-482b-a539-6eb67c4e83ef\", \"x\": [162, 164, 1065, 53, 57, 306, 9379, 23210, 123, 64, 27137, 3930, 145, 54, 5325, 4676, 8247, 12718, 132, 2113, 35, 81482, 162, 313, 3299, 148, 105, 1576, 227, 836, 407, 255, 802, 212, 3, 105, 8, 84, 133, 33, 1169], \"xaxis\": \"x2\", \"y\": [2, 18, 50, 0, 0, 0, 73, 234, 2, 0, 682, 58, 5, 7, 87, 23, 4, 113, 8, 17, 8, 2700, 72, 123, 11, 59, 14, 275, 101, 728, 205, 121, 361, 31, 0, 24, 0, 5, 6, 0, 424], \"yaxis\": \"y2\"}, {\"marker\": {\"color\": \"rgb(44, 160, 44)\", \"size\": 6}, \"mode\": \"markers\", \"name\": \"Noteworthy - The Journal Blog\", \"showlegend\": true, \"type\": \"scatter\", \"uid\": \"447f7ed9-6d94-4e5b-ae1a-d995acf09fb3\", \"x\": [2060], \"xaxis\": \"x2\", \"y\": [1000], \"yaxis\": \"y2\"}, {\"marker\": {\"color\": \"rgb(214, 39, 40)\", \"size\": 6}, \"mode\": \"markers\", \"name\": \"The Reality Project\", \"showlegend\": true, \"type\": \"scatter\", \"uid\": \"627092d1-cd3a-46b1-a695-0ca87997c429\", \"x\": [418, 400, 245], \"xaxis\": \"x2\", \"y\": [319, 304, 65], \"yaxis\": \"y2\"}, {\"marker\": {\"color\": \"rgb(148, 103, 189)\", \"size\": 6}, \"mode\": \"markers\", \"name\": \"Towards Data Science\", \"showlegend\": true, \"type\": \"scatter\", \"uid\": \"f6002314-f4a0-4ea2-95d4-104e4fdac643\", \"x\": [161596, 31659, 2706, 2347, 106311, 124825, 77497, 4824, 126851, 19055, 4002, 15916, 32523, 15130, 47199, 47622, 2969, 54158, 34062, 4631, 12843, 117100, 59369, 52309, 28079, 106784, 52600, 45735, 54916, 20836, 23687, 66471, 2365, 120826, 44761, 26243, 32977, 42040, 109995, 10668, 76426, 23863, 29854, 42853, 5337, 4040, 24071, 16584, 3931, 25112, 42624, 6183, 1649, 12826, 14670, 24211, 3606, 1623, 23651, 26397, 6304, 12771, 32675, 3174, 30979, 5039, 6250, 5227, 7936, 26754, 14428, 8115, 21311, 22058, 23180, 4786, 9734, 5307, 1703, 2232], \"xaxis\": \"x2\", \"y\": [4800, 857, 186, 119, 2000, 4100, 2700, 77, 7000, 1200, 1600, 1600, 1000, 4300, 4980, 12900, 223, 4900, 5900, 548, 895, 6700, 6500, 2700, 1100, 2900, 2600, 2800, 5300, 1300, 1000, 7900, 364, 13500, 4100, 2200, 3900, 6300, 8200, 1300, 5400, 2300, 2700, 2100, 707, 650, 2700, 4100, 822, 830, 3700, 653, 657, 1100, 2800, 3100, 792, 222, 3300, 2500, 976, 2000, 3200, 650, 2300, 809, 745, 587, 818, 2200, 1300, 630, 2600, 2000, 3600, 440, 893, 528, 442, 410], \"yaxis\": \"y2\"}, {\"marker\": {\"color\": \"rgb(31, 119, 180)\", \"size\": 6}, \"mode\": \"markers\", \"name\": \"Engineering @ Feature Labs\", \"showlegend\": false, \"type\": \"scatter\", \"uid\": \"749abe5e-7bf2-45e8-bbd3-705b79f55e82\", \"x\": [27.28], \"xaxis\": \"x3\", \"y\": [315], \"yaxis\": \"y3\"}, {\"marker\": {\"color\": \"rgb(255, 127, 14)\", \"size\": 6}, \"mode\": \"markers\", \"name\": \"None\", \"showlegend\": false, \"type\": \"scatter\", \"uid\": \"48150482-44fd-4bf6-a9da-13e127291a10\", \"x\": [41.98, 32.93, 20.19, 35.85, 8.77, 19.28, 17.64, 23.55, 33.33, 23.44, 14.07, 12.24, 18.62, 27.78, 11.87, 11.57, 28.87, 15.38, 53.03, 13.2, 65.71, 42.03, 36.42, 42.81, 34.43, 41.89, 54.29, 28.68, 58.15, 47.01, 35.38, 24.31, 39.28, 11.79, 33.33, 12.38, 25.0, 9.52, 27.82, 6.06, 19.16], \"xaxis\": \"x3\", \"y\": [2, 18, 50, 0, 0, 0, 73, 234, 2, 0, 682, 58, 5, 7, 87, 23, 4, 113, 8, 17, 8, 2700, 72, 123, 11, 59, 14, 275, 101, 728, 205, 121, 361, 31, 0, 24, 0, 5, 6, 0, 424], \"yaxis\": \"y3\"}, {\"marker\": {\"color\": \"rgb(44, 160, 44)\", \"size\": 6}, \"mode\": \"markers\", \"name\": \"Noteworthy - The Journal Blog\", \"showlegend\": false, \"type\": \"scatter\", \"uid\": \"44a2f9cd-1b35-468a-939f-110fa5d11f0d\", \"x\": [26.21], \"xaxis\": \"x3\", \"y\": [1000], \"yaxis\": \"y3\"}, {\"marker\": {\"color\": \"rgb(214, 39, 40)\", \"size\": 6}, \"mode\": \"markers\", \"name\": \"The Reality Project\", \"showlegend\": false, \"type\": \"scatter\", \"uid\": \"4a8524b8-5632-4d4e-b7aa-2250c0cabc90\", \"x\": [39.23, 28.75, 21.22], \"xaxis\": \"x3\", \"y\": [319, 304, 65], \"yaxis\": \"y3\"}, {\"marker\": {\"color\": \"rgb(148, 103, 189)\", \"size\": 6}, \"mode\": \"markers\", \"name\": \"Towards Data Science\", \"showlegend\": false, \"type\": \"scatter\", \"uid\": \"42e4e22d-24a5-42a5-90a9-5860c5bfc409\", \"x\": [17.68, 22.76, 28.64, 31.53, 23.99, 25.02, 26.48, 62.02, 31.14, 35.91, 54.9, 41.91, 30.74, 47.3, 29.82, 62.61, 43.21, 28.8, 32.28, 42.88, 43.51, 20.4, 22.68, 36.49, 36.98, 27.17, 33.18, 31.37, 33.73, 30.79, 26.51, 31.56, 63.3, 18.85, 20.65, 23.58, 25.07, 23.81, 21.75, 16.88, 25.47, 21.64, 26.89, 14.38, 18.08, 43.19, 24.69, 33.16, 26.89, 44.17, 16.73, 19.29, 74.53, 17.44, 26.93, 18.99, 40.82, 18.85, 18.21, 27.13, 19.84, 23.81, 28.56, 40.39, 17.22, 24.27, 38.53, 21.47, 21.47, 30.31, 34.19, 17.72, 21.96, 19.31, 45.8, 22.04, 29.3, 30.11, 30.59, 20.47], \"xaxis\": \"x3\", \"y\": [4800, 857, 186, 119, 2000, 4100, 2700, 77, 7000, 1200, 1600, 1600, 1000, 4300, 4980, 12900, 223, 4900, 5900, 548, 895, 6700, 6500, 2700, 1100, 2900, 2600, 2800, 5300, 1300, 1000, 7900, 364, 13500, 4100, 2200, 3900, 6300, 8200, 1300, 5400, 2300, 2700, 2100, 707, 650, 2700, 4100, 822, 830, 3700, 653, 657, 1100, 2800, 3100, 792, 222, 3300, 2500, 976, 2000, 3200, 650, 2300, 809, 745, 587, 818, 2200, 1300, 630, 2600, 2000, 3600, 440, 893, 528, 442, 410], \"yaxis\": \"y3\"}, {\"marker\": {\"color\": \"rgb(31, 119, 180)\", \"size\": 6}, \"mode\": \"markers\", \"name\": \"Engineering @ Feature Labs\", \"showlegend\": false, \"type\": \"scatter\", \"uid\": \"6755481f-355f-4317-b606-6a3b71148a4e\", \"x\": [2087], \"xaxis\": \"x4\", \"y\": [315], \"yaxis\": \"y4\"}, {\"marker\": {\"color\": \"rgb(255, 127, 14)\", \"size\": 6}, \"mode\": \"markers\", \"name\": \"None\", \"showlegend\": false, \"type\": \"scatter\", \"uid\": \"d5196797-07ce-466b-b976-30f419e48574\", \"x\": [1859, 3891, 12025, 2533, 3892, 13048, 1778, 2345, 1895, 4684, 6666, 7559, 7659, 3341, 5508, 4772, 1214, 6800, 1412, 3904, 2264, 2850, 2509, 5160, 1073, 1314, 1557, 1653, 634, 1410, 2128, 1918, 2185, 15063, 3659, 9698, 4145, 8507, 3068, 12083, 7125], \"xaxis\": \"x4\", \"y\": [2, 18, 50, 0, 0, 0, 73, 234, 2, 0, 682, 58, 5, 7, 87, 23, 4, 113, 8, 17, 8, 2700, 72, 123, 11, 59, 14, 275, 101, 728, 205, 121, 361, 31, 0, 24, 0, 5, 6, 0, 424], \"yaxis\": \"y4\"}, {\"marker\": {\"color\": \"rgb(44, 160, 44)\", \"size\": 6}, \"mode\": \"markers\", \"name\": \"Noteworthy - The Journal Blog\", \"showlegend\": false, \"type\": \"scatter\", \"uid\": \"04b51819-53cc-4d6d-9450-06fa004ebb67\", \"x\": [2172], \"xaxis\": \"x4\", \"y\": [1000], \"yaxis\": \"y4\"}, {\"marker\": {\"color\": \"rgb(214, 39, 40)\", \"size\": 6}, \"mode\": \"markers\", \"name\": \"The Reality Project\", \"showlegend\": false, \"type\": \"scatter\", \"uid\": \"19b001c3-12ff-4299-93fe-a480b16711aa\", \"x\": [1685, 2278, 3678], \"xaxis\": \"x4\", \"y\": [319, 304, 65], \"yaxis\": \"y4\"}, {\"marker\": {\"color\": \"rgb(148, 103, 189)\", \"size\": 6}, \"mode\": \"markers\", \"name\": \"Towards Data Science\", \"showlegend\": false, \"type\": \"scatter\", \"uid\": \"4a1fa03d-e9cf-4688-8e45-cef177a5b92c\", \"x\": [4494, 3504, 3569, 2817, 2456, 2974, 2395, 1169, 2528, 1361, 1014, 1562, 2480, 1281, 2450, 721, 1375, 2772, 1944, 1827, 933, 2565, 1906, 2394, 2220, 2614, 2365, 1577, 2394, 2690, 2620, 1480, 765, 3553, 3106, 2622, 2338, 2975, 2648, 5228, 1998, 3393, 1957, 4298, 3718, 1247, 2634, 2041, 2343, 373, 3996, 3834, 163, 4042, 2658, 3756, 1172, 1580, 3756, 1809, 2999, 2483, 2933, 1346, 3797, 1979, 1286, 1741, 2230, 1561, 1355, 3398, 2824, 1397, 877, 1310, 1806, 1075, 1898, 2813], \"xaxis\": \"x4\", \"y\": [4800, 857, 186, 119, 2000, 4100, 2700, 77, 7000, 1200, 1600, 1600, 1000, 4300, 4980, 12900, 223, 4900, 5900, 548, 895, 6700, 6500, 2700, 1100, 2900, 2600, 2800, 5300, 1300, 1000, 7900, 364, 13500, 4100, 2200, 3900, 6300, 8200, 1300, 5400, 2300, 2700, 2100, 707, 650, 2700, 4100, 822, 830, 3700, 653, 657, 1100, 2800, 3100, 792, 222, 3300, 2500, 976, 2000, 3200, 650, 2300, 809, 745, 587, 818, 2200, 1300, 630, 2600, 2000, 3600, 440, 893, 528, 442, 410], \"yaxis\": \"y4\"}, {\"marker\": {\"color\": \"rgb(31, 119, 180)\", \"size\": 6}, \"mode\": \"markers\", \"name\": \"Engineering @ Feature Labs\", \"showlegend\": false, \"type\": \"scatter\", \"uid\": \"710383e6-35e3-47a4-94f6-404bd5953c96\", \"x\": [315], \"xaxis\": \"x5\", \"y\": [2771], \"yaxis\": \"y5\"}, {\"marker\": {\"color\": \"rgb(255, 127, 14)\", \"size\": 6}, \"mode\": \"markers\", \"name\": \"None\", \"showlegend\": false, \"type\": \"scatter\", \"uid\": \"1819ea6d-4659-44df-9fc1-1455914755c3\", \"x\": [2, 18, 50, 0, 0, 0, 73, 234, 2, 0, 682, 58, 5, 7, 87, 23, 4, 113, 8, 17, 8, 2700, 72, 123, 11, 59, 14, 275, 101, 728, 205, 121, 361, 31, 0, 24, 0, 5, 6, 0, 424], \"xaxis\": \"x5\", \"y\": [162, 164, 1065, 53, 57, 306, 9379, 23210, 123, 64, 27137, 3930, 145, 54, 5325, 4676, 8247, 12718, 132, 2113, 35, 81482, 162, 313, 3299, 148, 105, 1576, 227, 836, 407, 255, 802, 212, 3, 105, 8, 84, 133, 33, 1169], \"yaxis\": \"y5\"}, {\"marker\": {\"color\": \"rgb(44, 160, 44)\", \"size\": 6}, \"mode\": \"markers\", \"name\": \"Noteworthy - The Journal Blog\", \"showlegend\": false, \"type\": \"scatter\", \"uid\": \"0f543453-d8f5-40d1-8110-ebf6ab8d6b85\", \"x\": [1000], \"xaxis\": \"x5\", \"y\": [2060], \"yaxis\": \"y5\"}, {\"marker\": {\"color\": \"rgb(214, 39, 40)\", \"size\": 6}, \"mode\": \"markers\", \"name\": \"The Reality Project\", \"showlegend\": false, \"type\": \"scatter\", \"uid\": \"f907ed0f-7231-4184-8c4a-06ff04f37a7a\", \"x\": [319, 304, 65], \"xaxis\": \"x5\", \"y\": [418, 400, 245], \"yaxis\": \"y5\"}, {\"marker\": {\"color\": \"rgb(148, 103, 189)\", \"size\": 6}, \"mode\": \"markers\", \"name\": \"Towards Data Science\", \"showlegend\": false, \"type\": \"scatter\", \"uid\": \"bb2f9c82-28ac-4d01-8a4c-54ac1b691231\", \"x\": [4800, 857, 186, 119, 2000, 4100, 2700, 77, 7000, 1200, 1600, 1600, 1000, 4300, 4980, 12900, 223, 4900, 5900, 548, 895, 6700, 6500, 2700, 1100, 2900, 2600, 2800, 5300, 1300, 1000, 7900, 364, 13500, 4100, 2200, 3900, 6300, 8200, 1300, 5400, 2300, 2700, 2100, 707, 650, 2700, 4100, 822, 830, 3700, 653, 657, 1100, 2800, 3100, 792, 222, 3300, 2500, 976, 2000, 3200, 650, 2300, 809, 745, 587, 818, 2200, 1300, 630, 2600, 2000, 3600, 440, 893, 528, 442, 410], \"xaxis\": \"x5\", \"y\": [161596, 31659, 2706, 2347, 106311, 124825, 77497, 4824, 126851, 19055, 4002, 15916, 32523, 15130, 47199, 47622, 2969, 54158, 34062, 4631, 12843, 117100, 59369, 52309, 28079, 106784, 52600, 45735, 54916, 20836, 23687, 66471, 2365, 120826, 44761, 26243, 32977, 42040, 109995, 10668, 76426, 23863, 29854, 42853, 5337, 4040, 24071, 16584, 3931, 25112, 42624, 6183, 1649, 12826, 14670, 24211, 3606, 1623, 23651, 26397, 6304, 12771, 32675, 3174, 30979, 5039, 6250, 5227, 7936, 26754, 14428, 8115, 21311, 22058, 23180, 4786, 9734, 5307, 1703, 2232], \"yaxis\": \"y5\"}, {\"marker\": {\"color\": \"rgb(31, 119, 180)\"}, \"showlegend\": false, \"type\": \"histogram\", \"uid\": \"6c8b526b-b35d-41f2-9fe7-05ece26cf9b2\", \"x\": [2771], \"xaxis\": \"x6\", \"yaxis\": \"y6\"}, {\"marker\": {\"color\": \"rgb(255, 127, 14)\"}, \"showlegend\": false, \"type\": \"histogram\", \"uid\": \"336b0dd8-a70a-47a5-adb5-a4ace6c02ece\", \"x\": [162, 164, 1065, 53, 57, 306, 9379, 23210, 123, 64, 27137, 3930, 145, 54, 5325, 4676, 8247, 12718, 132, 2113, 35, 81482, 162, 313, 3299, 148, 105, 1576, 227, 836, 407, 255, 802, 212, 3, 105, 8, 84, 133, 33, 1169], \"xaxis\": \"x6\", \"yaxis\": \"y6\"}, {\"marker\": {\"color\": \"rgb(44, 160, 44)\"}, \"showlegend\": false, \"type\": \"histogram\", \"uid\": \"516d80ca-6032-48ce-8e13-47c44dd75644\", \"x\": [2060], \"xaxis\": \"x6\", \"yaxis\": \"y6\"}, {\"marker\": {\"color\": \"rgb(214, 39, 40)\"}, \"showlegend\": false, \"type\": \"histogram\", \"uid\": \"73890245-99d4-4c92-af55-6bd6ec9132bf\", \"x\": [418, 400, 245], \"xaxis\": \"x6\", \"yaxis\": \"y6\"}, {\"marker\": {\"color\": \"rgb(148, 103, 189)\"}, \"showlegend\": false, \"type\": \"histogram\", \"uid\": \"ed6d400e-20fc-4651-9846-36c036d3b68f\", \"x\": [161596, 31659, 2706, 2347, 106311, 124825, 77497, 4824, 126851, 19055, 4002, 15916, 32523, 15130, 47199, 47622, 2969, 54158, 34062, 4631, 12843, 117100, 59369, 52309, 28079, 106784, 52600, 45735, 54916, 20836, 23687, 66471, 2365, 120826, 44761, 26243, 32977, 42040, 109995, 10668, 76426, 23863, 29854, 42853, 5337, 4040, 24071, 16584, 3931, 25112, 42624, 6183, 1649, 12826, 14670, 24211, 3606, 1623, 23651, 26397, 6304, 12771, 32675, 3174, 30979, 5039, 6250, 5227, 7936, 26754, 14428, 8115, 21311, 22058, 23180, 4786, 9734, 5307, 1703, 2232], \"xaxis\": \"x6\", \"yaxis\": \"y6\"}, {\"marker\": {\"color\": \"rgb(31, 119, 180)\", \"size\": 6}, \"mode\": \"markers\", \"name\": \"Engineering @ Feature Labs\", \"showlegend\": false, \"type\": \"scatter\", \"uid\": \"1660d4af-abf7-48b4-a9c7-79cf55e17278\", \"x\": [27.28], \"xaxis\": \"x7\", \"y\": [2771], \"yaxis\": \"y7\"}, {\"marker\": {\"color\": \"rgb(255, 127, 14)\", \"size\": 6}, \"mode\": \"markers\", \"name\": \"None\", \"showlegend\": false, \"type\": \"scatter\", \"uid\": \"9d70e5fe-b502-4816-9c64-ef30337ebbf9\", \"x\": [41.98, 32.93, 20.19, 35.85, 8.77, 19.28, 17.64, 23.55, 33.33, 23.44, 14.07, 12.24, 18.62, 27.78, 11.87, 11.57, 28.87, 15.38, 53.03, 13.2, 65.71, 42.03, 36.42, 42.81, 34.43, 41.89, 54.29, 28.68, 58.15, 47.01, 35.38, 24.31, 39.28, 11.79, 33.33, 12.38, 25.0, 9.52, 27.82, 6.06, 19.16], \"xaxis\": \"x7\", \"y\": [162, 164, 1065, 53, 57, 306, 9379, 23210, 123, 64, 27137, 3930, 145, 54, 5325, 4676, 8247, 12718, 132, 2113, 35, 81482, 162, 313, 3299, 148, 105, 1576, 227, 836, 407, 255, 802, 212, 3, 105, 8, 84, 133, 33, 1169], \"yaxis\": \"y7\"}, {\"marker\": {\"color\": \"rgb(44, 160, 44)\", \"size\": 6}, \"mode\": \"markers\", \"name\": \"Noteworthy - The Journal Blog\", \"showlegend\": false, \"type\": \"scatter\", \"uid\": \"c4a5ea0b-27fc-49d8-87b1-d0a27c2b8b1d\", \"x\": [26.21], \"xaxis\": \"x7\", \"y\": [2060], \"yaxis\": \"y7\"}, {\"marker\": {\"color\": \"rgb(214, 39, 40)\", \"size\": 6}, \"mode\": \"markers\", \"name\": \"The Reality Project\", \"showlegend\": false, \"type\": \"scatter\", \"uid\": \"900ccf13-877a-43a8-aa74-1a4ceb667c3c\", \"x\": [39.23, 28.75, 21.22], \"xaxis\": \"x7\", \"y\": [418, 400, 245], \"yaxis\": \"y7\"}, {\"marker\": {\"color\": \"rgb(148, 103, 189)\", \"size\": 6}, \"mode\": \"markers\", \"name\": \"Towards Data Science\", \"showlegend\": false, \"type\": \"scatter\", \"uid\": \"c4907dad-b4f3-4384-abea-acba473f6587\", \"x\": [17.68, 22.76, 28.64, 31.53, 23.99, 25.02, 26.48, 62.02, 31.14, 35.91, 54.9, 41.91, 30.74, 47.3, 29.82, 62.61, 43.21, 28.8, 32.28, 42.88, 43.51, 20.4, 22.68, 36.49, 36.98, 27.17, 33.18, 31.37, 33.73, 30.79, 26.51, 31.56, 63.3, 18.85, 20.65, 23.58, 25.07, 23.81, 21.75, 16.88, 25.47, 21.64, 26.89, 14.38, 18.08, 43.19, 24.69, 33.16, 26.89, 44.17, 16.73, 19.29, 74.53, 17.44, 26.93, 18.99, 40.82, 18.85, 18.21, 27.13, 19.84, 23.81, 28.56, 40.39, 17.22, 24.27, 38.53, 21.47, 21.47, 30.31, 34.19, 17.72, 21.96, 19.31, 45.8, 22.04, 29.3, 30.11, 30.59, 20.47], \"xaxis\": \"x7\", \"y\": [161596, 31659, 2706, 2347, 106311, 124825, 77497, 4824, 126851, 19055, 4002, 15916, 32523, 15130, 47199, 47622, 2969, 54158, 34062, 4631, 12843, 117100, 59369, 52309, 28079, 106784, 52600, 45735, 54916, 20836, 23687, 66471, 2365, 120826, 44761, 26243, 32977, 42040, 109995, 10668, 76426, 23863, 29854, 42853, 5337, 4040, 24071, 16584, 3931, 25112, 42624, 6183, 1649, 12826, 14670, 24211, 3606, 1623, 23651, 26397, 6304, 12771, 32675, 3174, 30979, 5039, 6250, 5227, 7936, 26754, 14428, 8115, 21311, 22058, 23180, 4786, 9734, 5307, 1703, 2232], \"yaxis\": \"y7\"}, {\"marker\": {\"color\": \"rgb(31, 119, 180)\", \"size\": 6}, \"mode\": \"markers\", \"name\": \"Engineering @ Feature Labs\", \"showlegend\": false, \"type\": \"scatter\", \"uid\": \"3071252a-89eb-4453-ba08-4b41813ecbf4\", \"x\": [2087], \"xaxis\": \"x8\", \"y\": [2771], \"yaxis\": \"y8\"}, {\"marker\": {\"color\": \"rgb(255, 127, 14)\", \"size\": 6}, \"mode\": \"markers\", \"name\": \"None\", \"showlegend\": false, \"type\": \"scatter\", \"uid\": \"d36c042c-b298-474c-a4cd-98f327afb62c\", \"x\": [1859, 3891, 12025, 2533, 3892, 13048, 1778, 2345, 1895, 4684, 6666, 7559, 7659, 3341, 5508, 4772, 1214, 6800, 1412, 3904, 2264, 2850, 2509, 5160, 1073, 1314, 1557, 1653, 634, 1410, 2128, 1918, 2185, 15063, 3659, 9698, 4145, 8507, 3068, 12083, 7125], \"xaxis\": \"x8\", \"y\": [162, 164, 1065, 53, 57, 306, 9379, 23210, 123, 64, 27137, 3930, 145, 54, 5325, 4676, 8247, 12718, 132, 2113, 35, 81482, 162, 313, 3299, 148, 105, 1576, 227, 836, 407, 255, 802, 212, 3, 105, 8, 84, 133, 33, 1169], \"yaxis\": \"y8\"}, {\"marker\": {\"color\": \"rgb(44, 160, 44)\", \"size\": 6}, \"mode\": \"markers\", \"name\": \"Noteworthy - The Journal Blog\", \"showlegend\": false, \"type\": \"scatter\", \"uid\": \"ef5cca5b-85b2-4245-8928-6936be1cdb61\", \"x\": [2172], \"xaxis\": \"x8\", \"y\": [2060], \"yaxis\": \"y8\"}, {\"marker\": {\"color\": \"rgb(214, 39, 40)\", \"size\": 6}, \"mode\": \"markers\", \"name\": \"The Reality Project\", \"showlegend\": false, \"type\": \"scatter\", \"uid\": \"6562e18d-9bc7-4b32-b2b1-8f8c91fc7c2e\", \"x\": [1685, 2278, 3678], \"xaxis\": \"x8\", \"y\": [418, 400, 245], \"yaxis\": \"y8\"}, {\"marker\": {\"color\": \"rgb(148, 103, 189)\", \"size\": 6}, \"mode\": \"markers\", \"name\": \"Towards Data Science\", \"showlegend\": false, \"type\": \"scatter\", \"uid\": \"cc218cad-6029-4a99-92ff-bf16a16f0257\", \"x\": [4494, 3504, 3569, 2817, 2456, 2974, 2395, 1169, 2528, 1361, 1014, 1562, 2480, 1281, 2450, 721, 1375, 2772, 1944, 1827, 933, 2565, 1906, 2394, 2220, 2614, 2365, 1577, 2394, 2690, 2620, 1480, 765, 3553, 3106, 2622, 2338, 2975, 2648, 5228, 1998, 3393, 1957, 4298, 3718, 1247, 2634, 2041, 2343, 373, 3996, 3834, 163, 4042, 2658, 3756, 1172, 1580, 3756, 1809, 2999, 2483, 2933, 1346, 3797, 1979, 1286, 1741, 2230, 1561, 1355, 3398, 2824, 1397, 877, 1310, 1806, 1075, 1898, 2813], \"xaxis\": \"x8\", \"y\": [161596, 31659, 2706, 2347, 106311, 124825, 77497, 4824, 126851, 19055, 4002, 15916, 32523, 15130, 47199, 47622, 2969, 54158, 34062, 4631, 12843, 117100, 59369, 52309, 28079, 106784, 52600, 45735, 54916, 20836, 23687, 66471, 2365, 120826, 44761, 26243, 32977, 42040, 109995, 10668, 76426, 23863, 29854, 42853, 5337, 4040, 24071, 16584, 3931, 25112, 42624, 6183, 1649, 12826, 14670, 24211, 3606, 1623, 23651, 26397, 6304, 12771, 32675, 3174, 30979, 5039, 6250, 5227, 7936, 26754, 14428, 8115, 21311, 22058, 23180, 4786, 9734, 5307, 1703, 2232], \"yaxis\": \"y8\"}, {\"marker\": {\"color\": \"rgb(31, 119, 180)\", \"size\": 6}, \"mode\": \"markers\", \"name\": \"Engineering @ Feature Labs\", \"showlegend\": false, \"type\": \"scatter\", \"uid\": \"c618ce2e-9c63-4593-b8cd-dcb46a4c9640\", \"x\": [315], \"xaxis\": \"x9\", \"y\": [27.28], \"yaxis\": \"y9\"}, {\"marker\": {\"color\": \"rgb(255, 127, 14)\", \"size\": 6}, \"mode\": \"markers\", \"name\": \"None\", \"showlegend\": false, \"type\": \"scatter\", \"uid\": \"6db46d84-079c-4ad3-84cd-e2bd0ed7716a\", \"x\": [2, 18, 50, 0, 0, 0, 73, 234, 2, 0, 682, 58, 5, 7, 87, 23, 4, 113, 8, 17, 8, 2700, 72, 123, 11, 59, 14, 275, 101, 728, 205, 121, 361, 31, 0, 24, 0, 5, 6, 0, 424], \"xaxis\": \"x9\", \"y\": [41.98, 32.93, 20.19, 35.85, 8.77, 19.28, 17.64, 23.55, 33.33, 23.44, 14.07, 12.24, 18.62, 27.78, 11.87, 11.57, 28.87, 15.38, 53.03, 13.2, 65.71, 42.03, 36.42, 42.81, 34.43, 41.89, 54.29, 28.68, 58.15, 47.01, 35.38, 24.31, 39.28, 11.79, 33.33, 12.38, 25.0, 9.52, 27.82, 6.06, 19.16], \"yaxis\": \"y9\"}, {\"marker\": {\"color\": \"rgb(44, 160, 44)\", \"size\": 6}, \"mode\": \"markers\", \"name\": \"Noteworthy - The Journal Blog\", \"showlegend\": false, \"type\": \"scatter\", \"uid\": \"5db410e4-ff44-45f1-a620-9ea67ea9648e\", \"x\": [1000], \"xaxis\": \"x9\", \"y\": [26.21], \"yaxis\": \"y9\"}, {\"marker\": {\"color\": \"rgb(214, 39, 40)\", \"size\": 6}, \"mode\": \"markers\", \"name\": \"The Reality Project\", \"showlegend\": false, \"type\": \"scatter\", \"uid\": \"837dbdf0-40ac-4682-9469-a798a8db4972\", \"x\": [319, 304, 65], \"xaxis\": \"x9\", \"y\": [39.23, 28.75, 21.22], \"yaxis\": \"y9\"}, {\"marker\": {\"color\": \"rgb(148, 103, 189)\", \"size\": 6}, \"mode\": \"markers\", \"name\": \"Towards Data Science\", \"showlegend\": false, \"type\": \"scatter\", \"uid\": \"952a1814-eccc-49fa-be95-0c5c168a4baa\", \"x\": [4800, 857, 186, 119, 2000, 4100, 2700, 77, 7000, 1200, 1600, 1600, 1000, 4300, 4980, 12900, 223, 4900, 5900, 548, 895, 6700, 6500, 2700, 1100, 2900, 2600, 2800, 5300, 1300, 1000, 7900, 364, 13500, 4100, 2200, 3900, 6300, 8200, 1300, 5400, 2300, 2700, 2100, 707, 650, 2700, 4100, 822, 830, 3700, 653, 657, 1100, 2800, 3100, 792, 222, 3300, 2500, 976, 2000, 3200, 650, 2300, 809, 745, 587, 818, 2200, 1300, 630, 2600, 2000, 3600, 440, 893, 528, 442, 410], \"xaxis\": \"x9\", \"y\": [17.68, 22.76, 28.64, 31.53, 23.99, 25.02, 26.48, 62.02, 31.14, 35.91, 54.9, 41.91, 30.74, 47.3, 29.82, 62.61, 43.21, 28.8, 32.28, 42.88, 43.51, 20.4, 22.68, 36.49, 36.98, 27.17, 33.18, 31.37, 33.73, 30.79, 26.51, 31.56, 63.3, 18.85, 20.65, 23.58, 25.07, 23.81, 21.75, 16.88, 25.47, 21.64, 26.89, 14.38, 18.08, 43.19, 24.69, 33.16, 26.89, 44.17, 16.73, 19.29, 74.53, 17.44, 26.93, 18.99, 40.82, 18.85, 18.21, 27.13, 19.84, 23.81, 28.56, 40.39, 17.22, 24.27, 38.53, 21.47, 21.47, 30.31, 34.19, 17.72, 21.96, 19.31, 45.8, 22.04, 29.3, 30.11, 30.59, 20.47], \"yaxis\": \"y9\"}, {\"marker\": {\"color\": \"rgb(31, 119, 180)\", \"size\": 6}, \"mode\": \"markers\", \"name\": \"Engineering @ Feature Labs\", \"showlegend\": false, \"type\": \"scatter\", \"uid\": \"737e637a-653e-4227-af8d-04f44862104c\", \"x\": [2771], \"xaxis\": \"x10\", \"y\": [27.28], \"yaxis\": \"y10\"}, {\"marker\": {\"color\": \"rgb(255, 127, 14)\", \"size\": 6}, \"mode\": \"markers\", \"name\": \"None\", \"showlegend\": false, \"type\": \"scatter\", \"uid\": \"8c01fadc-32dd-4ee3-965f-b325af72d4ca\", \"x\": [162, 164, 1065, 53, 57, 306, 9379, 23210, 123, 64, 27137, 3930, 145, 54, 5325, 4676, 8247, 12718, 132, 2113, 35, 81482, 162, 313, 3299, 148, 105, 1576, 227, 836, 407, 255, 802, 212, 3, 105, 8, 84, 133, 33, 1169], \"xaxis\": \"x10\", \"y\": [41.98, 32.93, 20.19, 35.85, 8.77, 19.28, 17.64, 23.55, 33.33, 23.44, 14.07, 12.24, 18.62, 27.78, 11.87, 11.57, 28.87, 15.38, 53.03, 13.2, 65.71, 42.03, 36.42, 42.81, 34.43, 41.89, 54.29, 28.68, 58.15, 47.01, 35.38, 24.31, 39.28, 11.79, 33.33, 12.38, 25.0, 9.52, 27.82, 6.06, 19.16], \"yaxis\": \"y10\"}, {\"marker\": {\"color\": \"rgb(44, 160, 44)\", \"size\": 6}, \"mode\": \"markers\", \"name\": \"Noteworthy - The Journal Blog\", \"showlegend\": false, \"type\": \"scatter\", \"uid\": \"1f2b96b2-5a43-467e-bf2a-b2f2d5f566ab\", \"x\": [2060], \"xaxis\": \"x10\", \"y\": [26.21], \"yaxis\": \"y10\"}, {\"marker\": {\"color\": \"rgb(214, 39, 40)\", \"size\": 6}, \"mode\": \"markers\", \"name\": \"The Reality Project\", \"showlegend\": false, \"type\": \"scatter\", \"uid\": \"8c955b2f-a53d-467d-a1c3-952189204333\", \"x\": [418, 400, 245], \"xaxis\": \"x10\", \"y\": [39.23, 28.75, 21.22], \"yaxis\": \"y10\"}, {\"marker\": {\"color\": \"rgb(148, 103, 189)\", \"size\": 6}, \"mode\": \"markers\", \"name\": \"Towards Data Science\", \"showlegend\": false, \"type\": \"scatter\", \"uid\": \"fb77df5f-603c-40c8-87be-b1b9441ea896\", \"x\": [161596, 31659, 2706, 2347, 106311, 124825, 77497, 4824, 126851, 19055, 4002, 15916, 32523, 15130, 47199, 47622, 2969, 54158, 34062, 4631, 12843, 117100, 59369, 52309, 28079, 106784, 52600, 45735, 54916, 20836, 23687, 66471, 2365, 120826, 44761, 26243, 32977, 42040, 109995, 10668, 76426, 23863, 29854, 42853, 5337, 4040, 24071, 16584, 3931, 25112, 42624, 6183, 1649, 12826, 14670, 24211, 3606, 1623, 23651, 26397, 6304, 12771, 32675, 3174, 30979, 5039, 6250, 5227, 7936, 26754, 14428, 8115, 21311, 22058, 23180, 4786, 9734, 5307, 1703, 2232], \"xaxis\": \"x10\", \"y\": [17.68, 22.76, 28.64, 31.53, 23.99, 25.02, 26.48, 62.02, 31.14, 35.91, 54.9, 41.91, 30.74, 47.3, 29.82, 62.61, 43.21, 28.8, 32.28, 42.88, 43.51, 20.4, 22.68, 36.49, 36.98, 27.17, 33.18, 31.37, 33.73, 30.79, 26.51, 31.56, 63.3, 18.85, 20.65, 23.58, 25.07, 23.81, 21.75, 16.88, 25.47, 21.64, 26.89, 14.38, 18.08, 43.19, 24.69, 33.16, 26.89, 44.17, 16.73, 19.29, 74.53, 17.44, 26.93, 18.99, 40.82, 18.85, 18.21, 27.13, 19.84, 23.81, 28.56, 40.39, 17.22, 24.27, 38.53, 21.47, 21.47, 30.31, 34.19, 17.72, 21.96, 19.31, 45.8, 22.04, 29.3, 30.11, 30.59, 20.47], \"yaxis\": \"y10\"}, {\"marker\": {\"color\": \"rgb(31, 119, 180)\"}, \"showlegend\": false, \"type\": \"histogram\", \"uid\": \"60f8c5f4-fb0c-49e4-81a5-76f5139a829b\", \"x\": [27.28], \"xaxis\": \"x11\", \"yaxis\": \"y11\"}, {\"marker\": {\"color\": \"rgb(255, 127, 14)\"}, \"showlegend\": false, \"type\": \"histogram\", \"uid\": \"edcc8ff5-f810-4910-b2c1-e0a2492a3890\", \"x\": [41.98, 32.93, 20.19, 35.85, 8.77, 19.28, 17.64, 23.55, 33.33, 23.44, 14.07, 12.24, 18.62, 27.78, 11.87, 11.57, 28.87, 15.38, 53.03, 13.2, 65.71, 42.03, 36.42, 42.81, 34.43, 41.89, 54.29, 28.68, 58.15, 47.01, 35.38, 24.31, 39.28, 11.79, 33.33, 12.38, 25.0, 9.52, 27.82, 6.06, 19.16], \"xaxis\": \"x11\", \"yaxis\": \"y11\"}, {\"marker\": {\"color\": \"rgb(44, 160, 44)\"}, \"showlegend\": false, \"type\": \"histogram\", \"uid\": \"5ea2c27a-6a00-4329-9739-1113c70541f9\", \"x\": [26.21], \"xaxis\": \"x11\", \"yaxis\": \"y11\"}, {\"marker\": {\"color\": \"rgb(214, 39, 40)\"}, \"showlegend\": false, \"type\": \"histogram\", \"uid\": \"5f677974-6a79-4424-80da-750426d2bf1c\", \"x\": [39.23, 28.75, 21.22], \"xaxis\": \"x11\", \"yaxis\": \"y11\"}, {\"marker\": {\"color\": \"rgb(148, 103, 189)\"}, \"showlegend\": false, \"type\": \"histogram\", \"uid\": \"f2084b5f-0385-47d8-80d9-7adae7a7727b\", \"x\": [17.68, 22.76, 28.64, 31.53, 23.99, 25.02, 26.48, 62.02, 31.14, 35.91, 54.9, 41.91, 30.74, 47.3, 29.82, 62.61, 43.21, 28.8, 32.28, 42.88, 43.51, 20.4, 22.68, 36.49, 36.98, 27.17, 33.18, 31.37, 33.73, 30.79, 26.51, 31.56, 63.3, 18.85, 20.65, 23.58, 25.07, 23.81, 21.75, 16.88, 25.47, 21.64, 26.89, 14.38, 18.08, 43.19, 24.69, 33.16, 26.89, 44.17, 16.73, 19.29, 74.53, 17.44, 26.93, 18.99, 40.82, 18.85, 18.21, 27.13, 19.84, 23.81, 28.56, 40.39, 17.22, 24.27, 38.53, 21.47, 21.47, 30.31, 34.19, 17.72, 21.96, 19.31, 45.8, 22.04, 29.3, 30.11, 30.59, 20.47], \"xaxis\": \"x11\", \"yaxis\": \"y11\"}, {\"marker\": {\"color\": \"rgb(31, 119, 180)\", \"size\": 6}, \"mode\": \"markers\", \"name\": \"Engineering @ Feature Labs\", \"showlegend\": false, \"type\": \"scatter\", \"uid\": \"8c0faf0b-04e8-431a-b3a1-b6ed89dc2fb8\", \"x\": [2087], \"xaxis\": \"x12\", \"y\": [27.28], \"yaxis\": \"y12\"}, {\"marker\": {\"color\": \"rgb(255, 127, 14)\", \"size\": 6}, \"mode\": \"markers\", \"name\": \"None\", \"showlegend\": false, \"type\": \"scatter\", \"uid\": \"74701d4a-0d27-4b49-ae94-3f25cd50fc00\", \"x\": [1859, 3891, 12025, 2533, 3892, 13048, 1778, 2345, 1895, 4684, 6666, 7559, 7659, 3341, 5508, 4772, 1214, 6800, 1412, 3904, 2264, 2850, 2509, 5160, 1073, 1314, 1557, 1653, 634, 1410, 2128, 1918, 2185, 15063, 3659, 9698, 4145, 8507, 3068, 12083, 7125], \"xaxis\": \"x12\", \"y\": [41.98, 32.93, 20.19, 35.85, 8.77, 19.28, 17.64, 23.55, 33.33, 23.44, 14.07, 12.24, 18.62, 27.78, 11.87, 11.57, 28.87, 15.38, 53.03, 13.2, 65.71, 42.03, 36.42, 42.81, 34.43, 41.89, 54.29, 28.68, 58.15, 47.01, 35.38, 24.31, 39.28, 11.79, 33.33, 12.38, 25.0, 9.52, 27.82, 6.06, 19.16], \"yaxis\": \"y12\"}, {\"marker\": {\"color\": \"rgb(44, 160, 44)\", \"size\": 6}, \"mode\": \"markers\", \"name\": \"Noteworthy - The Journal Blog\", \"showlegend\": false, \"type\": \"scatter\", \"uid\": \"0046619d-2969-4dbd-8d16-a3dcb487571a\", \"x\": [2172], \"xaxis\": \"x12\", \"y\": [26.21], \"yaxis\": \"y12\"}, {\"marker\": {\"color\": \"rgb(214, 39, 40)\", \"size\": 6}, \"mode\": \"markers\", \"name\": \"The Reality Project\", \"showlegend\": false, \"type\": \"scatter\", \"uid\": \"7b1c3a46-3c29-46b7-b835-721ed97b0e60\", \"x\": [1685, 2278, 3678], \"xaxis\": \"x12\", \"y\": [39.23, 28.75, 21.22], \"yaxis\": \"y12\"}, {\"marker\": {\"color\": \"rgb(148, 103, 189)\", \"size\": 6}, \"mode\": \"markers\", \"name\": \"Towards Data Science\", \"showlegend\": false, \"type\": \"scatter\", \"uid\": \"801eff17-d743-4eba-ae04-68853718d98d\", \"x\": [4494, 3504, 3569, 2817, 2456, 2974, 2395, 1169, 2528, 1361, 1014, 1562, 2480, 1281, 2450, 721, 1375, 2772, 1944, 1827, 933, 2565, 1906, 2394, 2220, 2614, 2365, 1577, 2394, 2690, 2620, 1480, 765, 3553, 3106, 2622, 2338, 2975, 2648, 5228, 1998, 3393, 1957, 4298, 3718, 1247, 2634, 2041, 2343, 373, 3996, 3834, 163, 4042, 2658, 3756, 1172, 1580, 3756, 1809, 2999, 2483, 2933, 1346, 3797, 1979, 1286, 1741, 2230, 1561, 1355, 3398, 2824, 1397, 877, 1310, 1806, 1075, 1898, 2813], \"xaxis\": \"x12\", \"y\": [17.68, 22.76, 28.64, 31.53, 23.99, 25.02, 26.48, 62.02, 31.14, 35.91, 54.9, 41.91, 30.74, 47.3, 29.82, 62.61, 43.21, 28.8, 32.28, 42.88, 43.51, 20.4, 22.68, 36.49, 36.98, 27.17, 33.18, 31.37, 33.73, 30.79, 26.51, 31.56, 63.3, 18.85, 20.65, 23.58, 25.07, 23.81, 21.75, 16.88, 25.47, 21.64, 26.89, 14.38, 18.08, 43.19, 24.69, 33.16, 26.89, 44.17, 16.73, 19.29, 74.53, 17.44, 26.93, 18.99, 40.82, 18.85, 18.21, 27.13, 19.84, 23.81, 28.56, 40.39, 17.22, 24.27, 38.53, 21.47, 21.47, 30.31, 34.19, 17.72, 21.96, 19.31, 45.8, 22.04, 29.3, 30.11, 30.59, 20.47], \"yaxis\": \"y12\"}, {\"marker\": {\"color\": \"rgb(31, 119, 180)\", \"size\": 6}, \"mode\": \"markers\", \"name\": \"Engineering @ Feature Labs\", \"showlegend\": false, \"type\": \"scatter\", \"uid\": \"cd622191-ae91-4912-ae0e-adb3509cc000\", \"x\": [315], \"xaxis\": \"x13\", \"y\": [2087], \"yaxis\": \"y13\"}, {\"marker\": {\"color\": \"rgb(255, 127, 14)\", \"size\": 6}, \"mode\": \"markers\", \"name\": \"None\", \"showlegend\": false, \"type\": \"scatter\", \"uid\": \"0993dbdf-190b-43e0-8d94-dcd3a457a170\", \"x\": [2, 18, 50, 0, 0, 0, 73, 234, 2, 0, 682, 58, 5, 7, 87, 23, 4, 113, 8, 17, 8, 2700, 72, 123, 11, 59, 14, 275, 101, 728, 205, 121, 361, 31, 0, 24, 0, 5, 6, 0, 424], \"xaxis\": \"x13\", \"y\": [1859, 3891, 12025, 2533, 3892, 13048, 1778, 2345, 1895, 4684, 6666, 7559, 7659, 3341, 5508, 4772, 1214, 6800, 1412, 3904, 2264, 2850, 2509, 5160, 1073, 1314, 1557, 1653, 634, 1410, 2128, 1918, 2185, 15063, 3659, 9698, 4145, 8507, 3068, 12083, 7125], \"yaxis\": \"y13\"}, {\"marker\": {\"color\": \"rgb(44, 160, 44)\", \"size\": 6}, \"mode\": \"markers\", \"name\": \"Noteworthy - The Journal Blog\", \"showlegend\": false, \"type\": \"scatter\", \"uid\": \"76a931aa-0383-484a-b57e-13a02f6455b3\", \"x\": [1000], \"xaxis\": \"x13\", \"y\": [2172], \"yaxis\": \"y13\"}, {\"marker\": {\"color\": \"rgb(214, 39, 40)\", \"size\": 6}, \"mode\": \"markers\", \"name\": \"The Reality Project\", \"showlegend\": false, \"type\": \"scatter\", \"uid\": \"c42a6f67-4964-4f79-8212-5379aa9555f4\", \"x\": [319, 304, 65], \"xaxis\": \"x13\", \"y\": [1685, 2278, 3678], \"yaxis\": \"y13\"}, {\"marker\": {\"color\": \"rgb(148, 103, 189)\", \"size\": 6}, \"mode\": \"markers\", \"name\": \"Towards Data Science\", \"showlegend\": false, \"type\": \"scatter\", \"uid\": \"a9214489-8952-4bdf-9bfa-9d10274fe112\", \"x\": [4800, 857, 186, 119, 2000, 4100, 2700, 77, 7000, 1200, 1600, 1600, 1000, 4300, 4980, 12900, 223, 4900, 5900, 548, 895, 6700, 6500, 2700, 1100, 2900, 2600, 2800, 5300, 1300, 1000, 7900, 364, 13500, 4100, 2200, 3900, 6300, 8200, 1300, 5400, 2300, 2700, 2100, 707, 650, 2700, 4100, 822, 830, 3700, 653, 657, 1100, 2800, 3100, 792, 222, 3300, 2500, 976, 2000, 3200, 650, 2300, 809, 745, 587, 818, 2200, 1300, 630, 2600, 2000, 3600, 440, 893, 528, 442, 410], \"xaxis\": \"x13\", \"y\": [4494, 3504, 3569, 2817, 2456, 2974, 2395, 1169, 2528, 1361, 1014, 1562, 2480, 1281, 2450, 721, 1375, 2772, 1944, 1827, 933, 2565, 1906, 2394, 2220, 2614, 2365, 1577, 2394, 2690, 2620, 1480, 765, 3553, 3106, 2622, 2338, 2975, 2648, 5228, 1998, 3393, 1957, 4298, 3718, 1247, 2634, 2041, 2343, 373, 3996, 3834, 163, 4042, 2658, 3756, 1172, 1580, 3756, 1809, 2999, 2483, 2933, 1346, 3797, 1979, 1286, 1741, 2230, 1561, 1355, 3398, 2824, 1397, 877, 1310, 1806, 1075, 1898, 2813], \"yaxis\": \"y13\"}, {\"marker\": {\"color\": \"rgb(31, 119, 180)\", \"size\": 6}, \"mode\": \"markers\", \"name\": \"Engineering @ Feature Labs\", \"showlegend\": false, \"type\": \"scatter\", \"uid\": \"1ec29fcc-58c1-41e9-9969-b3ca4a9438c2\", \"x\": [2771], \"xaxis\": \"x14\", \"y\": [2087], \"yaxis\": \"y14\"}, {\"marker\": {\"color\": \"rgb(255, 127, 14)\", \"size\": 6}, \"mode\": \"markers\", \"name\": \"None\", \"showlegend\": false, \"type\": \"scatter\", \"uid\": \"1aadca6d-dfe7-4911-9103-6505e24fcf85\", \"x\": [162, 164, 1065, 53, 57, 306, 9379, 23210, 123, 64, 27137, 3930, 145, 54, 5325, 4676, 8247, 12718, 132, 2113, 35, 81482, 162, 313, 3299, 148, 105, 1576, 227, 836, 407, 255, 802, 212, 3, 105, 8, 84, 133, 33, 1169], \"xaxis\": \"x14\", \"y\": [1859, 3891, 12025, 2533, 3892, 13048, 1778, 2345, 1895, 4684, 6666, 7559, 7659, 3341, 5508, 4772, 1214, 6800, 1412, 3904, 2264, 2850, 2509, 5160, 1073, 1314, 1557, 1653, 634, 1410, 2128, 1918, 2185, 15063, 3659, 9698, 4145, 8507, 3068, 12083, 7125], \"yaxis\": \"y14\"}, {\"marker\": {\"color\": \"rgb(44, 160, 44)\", \"size\": 6}, \"mode\": \"markers\", \"name\": \"Noteworthy - The Journal Blog\", \"showlegend\": false, \"type\": \"scatter\", \"uid\": \"c92ad9c3-1d17-449b-8169-3de938eaeb31\", \"x\": [2060], \"xaxis\": \"x14\", \"y\": [2172], \"yaxis\": \"y14\"}, {\"marker\": {\"color\": \"rgb(214, 39, 40)\", \"size\": 6}, \"mode\": \"markers\", \"name\": \"The Reality Project\", \"showlegend\": false, \"type\": \"scatter\", \"uid\": \"fe0668a2-8d84-4ba5-b4a6-dd7950d08109\", \"x\": [418, 400, 245], \"xaxis\": \"x14\", \"y\": [1685, 2278, 3678], \"yaxis\": \"y14\"}, {\"marker\": {\"color\": \"rgb(148, 103, 189)\", \"size\": 6}, \"mode\": \"markers\", \"name\": \"Towards Data Science\", \"showlegend\": false, \"type\": \"scatter\", \"uid\": \"d1fe1b43-0a08-43f9-86ec-3b77721598c7\", \"x\": [161596, 31659, 2706, 2347, 106311, 124825, 77497, 4824, 126851, 19055, 4002, 15916, 32523, 15130, 47199, 47622, 2969, 54158, 34062, 4631, 12843, 117100, 59369, 52309, 28079, 106784, 52600, 45735, 54916, 20836, 23687, 66471, 2365, 120826, 44761, 26243, 32977, 42040, 109995, 10668, 76426, 23863, 29854, 42853, 5337, 4040, 24071, 16584, 3931, 25112, 42624, 6183, 1649, 12826, 14670, 24211, 3606, 1623, 23651, 26397, 6304, 12771, 32675, 3174, 30979, 5039, 6250, 5227, 7936, 26754, 14428, 8115, 21311, 22058, 23180, 4786, 9734, 5307, 1703, 2232], \"xaxis\": \"x14\", \"y\": [4494, 3504, 3569, 2817, 2456, 2974, 2395, 1169, 2528, 1361, 1014, 1562, 2480, 1281, 2450, 721, 1375, 2772, 1944, 1827, 933, 2565, 1906, 2394, 2220, 2614, 2365, 1577, 2394, 2690, 2620, 1480, 765, 3553, 3106, 2622, 2338, 2975, 2648, 5228, 1998, 3393, 1957, 4298, 3718, 1247, 2634, 2041, 2343, 373, 3996, 3834, 163, 4042, 2658, 3756, 1172, 1580, 3756, 1809, 2999, 2483, 2933, 1346, 3797, 1979, 1286, 1741, 2230, 1561, 1355, 3398, 2824, 1397, 877, 1310, 1806, 1075, 1898, 2813], \"yaxis\": \"y14\"}, {\"marker\": {\"color\": \"rgb(31, 119, 180)\", \"size\": 6}, \"mode\": \"markers\", \"name\": \"Engineering @ Feature Labs\", \"showlegend\": false, \"type\": \"scatter\", \"uid\": \"671357c7-23f5-4fc1-bdbc-caede3694dda\", \"x\": [27.28], \"xaxis\": \"x15\", \"y\": [2087], \"yaxis\": \"y15\"}, {\"marker\": {\"color\": \"rgb(255, 127, 14)\", \"size\": 6}, \"mode\": \"markers\", \"name\": \"None\", \"showlegend\": false, \"type\": \"scatter\", \"uid\": \"bc17f0ce-7d83-4811-bb80-52911a813584\", \"x\": [41.98, 32.93, 20.19, 35.85, 8.77, 19.28, 17.64, 23.55, 33.33, 23.44, 14.07, 12.24, 18.62, 27.78, 11.87, 11.57, 28.87, 15.38, 53.03, 13.2, 65.71, 42.03, 36.42, 42.81, 34.43, 41.89, 54.29, 28.68, 58.15, 47.01, 35.38, 24.31, 39.28, 11.79, 33.33, 12.38, 25.0, 9.52, 27.82, 6.06, 19.16], \"xaxis\": \"x15\", \"y\": [1859, 3891, 12025, 2533, 3892, 13048, 1778, 2345, 1895, 4684, 6666, 7559, 7659, 3341, 5508, 4772, 1214, 6800, 1412, 3904, 2264, 2850, 2509, 5160, 1073, 1314, 1557, 1653, 634, 1410, 2128, 1918, 2185, 15063, 3659, 9698, 4145, 8507, 3068, 12083, 7125], \"yaxis\": \"y15\"}, {\"marker\": {\"color\": \"rgb(44, 160, 44)\", \"size\": 6}, \"mode\": \"markers\", \"name\": \"Noteworthy - The Journal Blog\", \"showlegend\": false, \"type\": \"scatter\", \"uid\": \"8b1bf3ed-e771-40f6-9a25-fc42cba4707e\", \"x\": [26.21], \"xaxis\": \"x15\", \"y\": [2172], \"yaxis\": \"y15\"}, {\"marker\": {\"color\": \"rgb(214, 39, 40)\", \"size\": 6}, \"mode\": \"markers\", \"name\": \"The Reality Project\", \"showlegend\": false, \"type\": \"scatter\", \"uid\": \"ac4d2c5a-5306-4ad4-8ff8-4550e8e44f3a\", \"x\": [39.23, 28.75, 21.22], \"xaxis\": \"x15\", \"y\": [1685, 2278, 3678], \"yaxis\": \"y15\"}, {\"marker\": {\"color\": \"rgb(148, 103, 189)\", \"size\": 6}, \"mode\": \"markers\", \"name\": \"Towards Data Science\", \"showlegend\": false, \"type\": \"scatter\", \"uid\": \"d0a3bab0-cf60-4272-ade2-58f2254a86d2\", \"x\": [17.68, 22.76, 28.64, 31.53, 23.99, 25.02, 26.48, 62.02, 31.14, 35.91, 54.9, 41.91, 30.74, 47.3, 29.82, 62.61, 43.21, 28.8, 32.28, 42.88, 43.51, 20.4, 22.68, 36.49, 36.98, 27.17, 33.18, 31.37, 33.73, 30.79, 26.51, 31.56, 63.3, 18.85, 20.65, 23.58, 25.07, 23.81, 21.75, 16.88, 25.47, 21.64, 26.89, 14.38, 18.08, 43.19, 24.69, 33.16, 26.89, 44.17, 16.73, 19.29, 74.53, 17.44, 26.93, 18.99, 40.82, 18.85, 18.21, 27.13, 19.84, 23.81, 28.56, 40.39, 17.22, 24.27, 38.53, 21.47, 21.47, 30.31, 34.19, 17.72, 21.96, 19.31, 45.8, 22.04, 29.3, 30.11, 30.59, 20.47], \"xaxis\": \"x15\", \"y\": [4494, 3504, 3569, 2817, 2456, 2974, 2395, 1169, 2528, 1361, 1014, 1562, 2480, 1281, 2450, 721, 1375, 2772, 1944, 1827, 933, 2565, 1906, 2394, 2220, 2614, 2365, 1577, 2394, 2690, 2620, 1480, 765, 3553, 3106, 2622, 2338, 2975, 2648, 5228, 1998, 3393, 1957, 4298, 3718, 1247, 2634, 2041, 2343, 373, 3996, 3834, 163, 4042, 2658, 3756, 1172, 1580, 3756, 1809, 2999, 2483, 2933, 1346, 3797, 1979, 1286, 1741, 2230, 1561, 1355, 3398, 2824, 1397, 877, 1310, 1806, 1075, 1898, 2813], \"yaxis\": \"y15\"}, {\"marker\": {\"color\": \"rgb(31, 119, 180)\"}, \"showlegend\": false, \"type\": \"histogram\", \"uid\": \"107c84ad-3aa2-4cda-8555-1843231b097c\", \"x\": [2087], \"xaxis\": \"x16\", \"yaxis\": \"y16\"}, {\"marker\": {\"color\": \"rgb(255, 127, 14)\"}, \"showlegend\": false, \"type\": \"histogram\", \"uid\": \"f5611be7-41c2-4bb8-b766-07cf506a0fc8\", \"x\": [1859, 3891, 12025, 2533, 3892, 13048, 1778, 2345, 1895, 4684, 6666, 7559, 7659, 3341, 5508, 4772, 1214, 6800, 1412, 3904, 2264, 2850, 2509, 5160, 1073, 1314, 1557, 1653, 634, 1410, 2128, 1918, 2185, 15063, 3659, 9698, 4145, 8507, 3068, 12083, 7125], \"xaxis\": \"x16\", \"yaxis\": \"y16\"}, {\"marker\": {\"color\": \"rgb(44, 160, 44)\"}, \"showlegend\": false, \"type\": \"histogram\", \"uid\": \"e41db37e-54a7-4237-857d-e5459af87709\", \"x\": [2172], \"xaxis\": \"x16\", \"yaxis\": \"y16\"}, {\"marker\": {\"color\": \"rgb(214, 39, 40)\"}, \"showlegend\": false, \"type\": \"histogram\", \"uid\": \"5da3015d-a427-435a-8337-0e9d0234dec6\", \"x\": [1685, 2278, 3678], \"xaxis\": \"x16\", \"yaxis\": \"y16\"}, {\"marker\": {\"color\": \"rgb(148, 103, 189)\"}, \"showlegend\": false, \"type\": \"histogram\", \"uid\": \"44ca80ab-8016-45b1-b761-864c8a50f88d\", \"x\": [4494, 3504, 3569, 2817, 2456, 2974, 2395, 1169, 2528, 1361, 1014, 1562, 2480, 1281, 2450, 721, 1375, 2772, 1944, 1827, 933, 2565, 1906, 2394, 2220, 2614, 2365, 1577, 2394, 2690, 2620, 1480, 765, 3553, 3106, 2622, 2338, 2975, 2648, 5228, 1998, 3393, 1957, 4298, 3718, 1247, 2634, 2041, 2343, 373, 3996, 3834, 163, 4042, 2658, 3756, 1172, 1580, 3756, 1809, 2999, 2483, 2933, 1346, 3797, 1979, 1286, 1741, 2230, 1561, 1355, 3398, 2824, 1397, 877, 1310, 1806, 1075, 1898, 2813], \"xaxis\": \"x16\", \"yaxis\": \"y16\"}],\n",
       "                        {\"barmode\": \"stack\", \"height\": 1000, \"showlegend\": true, \"title\": {\"text\": \"Scatterplot Matrix\"}, \"width\": 1000, \"xaxis\": {\"anchor\": \"y\", \"domain\": [0.0, 0.2125]}, \"xaxis10\": {\"anchor\": \"y10\", \"domain\": [0.2625, 0.475]}, \"xaxis11\": {\"anchor\": \"y11\", \"domain\": [0.525, 0.7375]}, \"xaxis12\": {\"anchor\": \"y12\", \"domain\": [0.7875, 1.0]}, \"xaxis13\": {\"anchor\": \"y13\", \"domain\": [0.0, 0.2125], \"title\": {\"text\": \"claps\"}}, \"xaxis14\": {\"anchor\": \"y14\", \"domain\": [0.2625, 0.475], \"title\": {\"text\": \"views\"}}, \"xaxis15\": {\"anchor\": \"y15\", \"domain\": [0.525, 0.7375], \"title\": {\"text\": \"read_ratio\"}}, \"xaxis16\": {\"anchor\": \"y16\", \"domain\": [0.7875, 1.0], \"title\": {\"text\": \"word_count\"}}, \"xaxis2\": {\"anchor\": \"y2\", \"domain\": [0.2625, 0.475]}, \"xaxis3\": {\"anchor\": \"y3\", \"domain\": [0.525, 0.7375]}, \"xaxis4\": {\"anchor\": \"y4\", \"domain\": [0.7875, 1.0]}, \"xaxis5\": {\"anchor\": \"y5\", \"domain\": [0.0, 0.2125]}, \"xaxis6\": {\"anchor\": \"y6\", \"domain\": [0.2625, 0.475]}, \"xaxis7\": {\"anchor\": \"y7\", \"domain\": [0.525, 0.7375]}, \"xaxis8\": {\"anchor\": \"y8\", \"domain\": [0.7875, 1.0]}, \"xaxis9\": {\"anchor\": \"y9\", \"domain\": [0.0, 0.2125]}, \"yaxis\": {\"anchor\": \"x\", \"domain\": [0.80625, 1.0], \"title\": {\"text\": \"claps\"}}, \"yaxis10\": {\"anchor\": \"x10\", \"domain\": [0.26875, 0.4625]}, \"yaxis11\": {\"anchor\": \"x11\", \"domain\": [0.26875, 0.4625]}, \"yaxis12\": {\"anchor\": \"x12\", \"domain\": [0.26875, 0.4625]}, \"yaxis13\": {\"anchor\": \"x13\", \"domain\": [0.0, 0.19375], \"title\": {\"text\": \"word_count\"}}, \"yaxis14\": {\"anchor\": \"x14\", \"domain\": [0.0, 0.19375]}, \"yaxis15\": {\"anchor\": \"x15\", \"domain\": [0.0, 0.19375]}, \"yaxis16\": {\"anchor\": \"x16\", \"domain\": [0.0, 0.19375]}, \"yaxis2\": {\"anchor\": \"x2\", \"domain\": [0.80625, 1.0]}, \"yaxis3\": {\"anchor\": \"x3\", \"domain\": [0.80625, 1.0]}, \"yaxis4\": {\"anchor\": \"x4\", \"domain\": [0.80625, 1.0]}, \"yaxis5\": {\"anchor\": \"x5\", \"domain\": [0.5375, 0.73125], \"title\": {\"text\": \"views\"}}, \"yaxis6\": {\"anchor\": \"x6\", \"domain\": [0.5375, 0.73125]}, \"yaxis7\": {\"anchor\": \"x7\", \"domain\": [0.5375, 0.73125]}, \"yaxis8\": {\"anchor\": \"x8\", \"domain\": [0.5375, 0.73125]}, \"yaxis9\": {\"anchor\": \"x9\", \"domain\": [0.26875, 0.4625], \"title\": {\"text\": \"read_ratio\"}}},\n",
       "                        {\"showLink\": false, \"linkText\": \"Export to plot.ly\", \"responsive\": true, \"plotlyServerURL\": \"https://plot.ly\"}\n",
       "                    ).then(function(){\n",
       "                            \n",
       "var gd = document.getElementById('66733cdc-f72f-4bec-8211-09629bd80cee');\n",
       "var x = new MutationObserver(function (mutations, observer) {{\n",
       "        var display = window.getComputedStyle(gd).display;\n",
       "        if (!display || display === 'none') {{\n",
       "            console.log([gd, 'removed!']);\n",
       "            Plotly.purge(gd);\n",
       "            observer.disconnect();\n",
       "        }}\n",
       "}});\n",
       "\n",
       "// Listen for the removal of the full notebook cells\n",
       "var notebookContainer = gd.closest('#notebook-container');\n",
       "if (notebookContainer) {{\n",
       "    x.observe(notebookContainer, {childList: true});\n",
       "}}\n",
       "\n",
       "// Listen for the clearing of the current output cell\n",
       "var outputEl = gd.closest('.output');\n",
       "if (outputEl) {{\n",
       "    x.observe(outputEl, {childList: true});\n",
       "}}\n",
       "\n",
       "                        })\n",
       "                };\n",
       "                });\n",
       "            </script>\n",
       "        </div>"
      ]
     },
     "metadata": {},
     "output_type": "display_data"
    }
   ],
   "source": [
    "# Scatter Matrix\n",
    "figure = ff.create_scatterplotmatrix(df[['claps', 'publication', 'views', 'read_ratio','word_count']],\n",
    "                                     diag='histogram', index='publication', height=1000, width=1000)\n",
    "iplot(figure)"
   ]
  },
  {
   "cell_type": "code",
   "execution_count": 55,
   "metadata": {},
   "outputs": [
    {
     "data": {
      "application/vnd.plotly.v1+json": {
       "config": {
        "linkText": "Export to plot.ly",
        "plotlyServerURL": "https://plot.ly",
        "showLink": false
       },
       "data": [
        {
         "colorscale": "RdBu",
         "reversescale": false,
         "showscale": true,
         "type": "heatmap",
         "uid": "3155c2d4-5413-4899-92ba-2f10403e2b64",
         "x": [
          "claps",
          "days_since_publication",
          "fans",
          "num_responses",
          "read_ratio",
          "read_time",
          "reads",
          "title_word_count",
          "views",
          "word_count",
          "claps_per_word",
          "editing_days",
          "<tag>Education",
          "<tag>Data Science",
          "<tag>Towards Data Science",
          "<tag>Machine Learning",
          "<tag>Python"
         ],
         "y": [
          "claps",
          "days_since_publication",
          "fans",
          "num_responses",
          "read_ratio",
          "read_time",
          "reads",
          "title_word_count",
          "views",
          "word_count",
          "claps_per_word",
          "editing_days",
          "<tag>Education",
          "<tag>Data Science",
          "<tag>Towards Data Science",
          "<tag>Machine Learning",
          "<tag>Python"
         ],
         "z": [
          [
           1,
           -0.018189527659558506,
           0.9924360854838555,
           0.8997571702806538,
           0.0028910308858086627,
           -0.1787139959396886,
           0.7624881251838233,
           0.12850164242181658,
           0.7401683373421027,
           -0.1781271744979268,
           0.7698847871262502,
           -0.17169348150003552,
           0.21195069349932644,
           0.33734100407391115,
           0.5562570673929191,
           0.15891588089948458,
           0.28600829159750746
          ],
          [
           -0.018189527659558506,
           1,
           -0.02767476015005009,
           0.021743871972705397,
           0.08822465936698853,
           0.1351343933581026,
           0.1352210083640704,
           -0.19559815006961975,
           0.12343251410196107,
           0.09250981154507917,
           -0.00973861434784935,
           -0.3188532642771559,
           -0.7654182666377677,
           -0.32924400465676124,
           -0.23305555622416896,
           -0.11538704339308879,
           0.10677738422632002
          ],
          [
           0.9924360854838555,
           -0.02767476015005009,
           1,
           0.8760915056971732,
           -0.014310423502634692,
           -0.17943158568706896,
           0.774762300990038,
           0.13792461815197996,
           0.7608954509334054,
           -0.17943598177959158,
           0.7399827261298937,
           -0.17161128270336193,
           0.21072647038258724,
           0.3431312292807684,
           0.5655058234044333,
           0.17779348162550573,
           0.29346867217530254
          ],
          [
           0.8997571702806538,
           0.021743871972705397,
           0.8760915056971732,
           1,
           0.09952809476375514,
           -0.2052583995450391,
           0.7686427992020333,
           0.07038475719127603,
           0.7102976911016915,
           -0.20811780710607486,
           0.799756185401649,
           -0.18466111108761407,
           0.14364204258056973,
           0.3074463702913581,
           0.5223830710975406,
           0.08215798590812973,
           0.29354346663682734
          ],
          [
           0.0028910308858086627,
           0.08822465936698853,
           -0.014310423502634692,
           0.09952809476375514,
           1,
           -0.6267814338836205,
           0.03022956344890219,
           0.04410797455697098,
           -0.13271559428420168,
           -0.5671023035894812,
           0.28820187640226197,
           -0.18918419503743625,
           0.0625136654341587,
           -0.044663740349978075,
           -0.0539269361587196,
           -0.3189497967096923,
           -0.20478382679208754
          ],
          [
           -0.1787139959396886,
           0.1351343933581026,
           -0.17943158568706896,
           -0.2052583995450391,
           -0.6267814338836205,
           1,
           -0.15202054677510476,
           -0.14987194250031688,
           -0.06835987177965061,
           0.9636490099573859,
           -0.24229316258253467,
           0.4504873434945468,
           -0.27200563598248445,
           -0.07694559684292489,
           -0.22538911505982076,
           0.2097303745226088,
           0.094369041964647
          ],
          [
           0.7624881251838233,
           0.1352210083640704,
           0.774762300990038,
           0.7686427992020333,
           0.03022956344890219,
           -0.15202054677510476,
           1,
           0.05429000813570476,
           0.9376147921513828,
           -0.17018963615224209,
           0.5464758840895739,
           -0.17448881082871448,
           -0.05194854873464846,
           0.3326888147561974,
           0.35979050269522517,
           0.19826020662800614,
           0.3925436655301261
          ],
          [
           0.12850164242181658,
           -0.19559815006961975,
           0.13792461815197996,
           0.07038475719127603,
           0.04410797455697098,
           -0.14987194250031688,
           0.05429000813570476,
           1,
           0.04925116492799264,
           -0.15758027059437166,
           0.11280912636972577,
           -0.09606614514827319,
           0.2800634866645085,
           0.14753196433734128,
           0.3490906373211258,
           0.2562982776649159,
           0.2736096225806227
          ],
          [
           0.7401683373421027,
           0.12343251410196107,
           0.7608954509334054,
           0.7102976911016915,
           -0.13271559428420168,
           -0.06835987177965061,
           0.9376147921513828,
           0.04925116492799264,
           1,
           -0.09817059814163083,
           0.38374302343887257,
           -0.16834623534896886,
           -0.06498631383458764,
           0.3140845509046597,
           0.34632114002632464,
           0.27810731432138186,
           0.4318438969068979
          ],
          [
           -0.1781271744979268,
           0.09250981154507917,
           -0.17943598177959158,
           -0.20811780710607486,
           -0.5671023035894812,
           0.9636490099573859,
           -0.17018963615224209,
           -0.15758027059437166,
           -0.09817059814163083,
           1,
           -0.2370991284908653,
           0.4601258338551662,
           -0.2241504142220321,
           -0.08844310294766909,
           -0.20969334256876088,
           0.1864444859967606,
           0.02906874915115944
          ],
          [
           0.7698847871262502,
           -0.00973861434784935,
           0.7399827261298937,
           0.799756185401649,
           0.28820187640226197,
           -0.24229316258253467,
           0.5464758840895739,
           0.11280912636972577,
           0.38374302343887257,
           -0.2370991284908653,
           1,
           -0.12405704502688449,
           0.2013018394687349,
           0.2501965267092191,
           0.3724221197538061,
           -0.030646114802909605,
           0.20764917852278197
          ],
          [
           -0.17169348150003552,
           -0.3188532642771559,
           -0.17161128270336193,
           -0.18466111108761407,
           -0.18918419503743625,
           0.4504873434945468,
           -0.17448881082871448,
           -0.09606614514827319,
           -0.16834623534896886,
           0.4601258338551662,
           -0.12405704502688449,
           1,
           0.16959505517115578,
           0.14884182338822052,
           -0.19305412284174336,
           0.2529901027286989,
           -0.1691768245145973
          ],
          [
           0.21195069349932644,
           -0.7654182666377677,
           0.21072647038258724,
           0.14364204258056973,
           0.0625136654341587,
           -0.27200563598248445,
           -0.05194854873464846,
           0.2800634866645085,
           -0.06498631383458764,
           -0.2241504142220321,
           0.2013018394687349,
           0.16959505517115578,
           1,
           0.32433748657040146,
           0.3702198768321955,
           0.12782749814122868,
           -0.08570745344089303
          ],
          [
           0.33734100407391115,
           -0.32924400465676124,
           0.3431312292807684,
           0.3074463702913581,
           -0.044663740349978075,
           -0.07694559684292489,
           0.3326888147561974,
           0.14753196433734128,
           0.3140845509046597,
           -0.08844310294766909,
           0.2501965267092191,
           0.14884182338822052,
           0.32433748657040146,
           1,
           0.3289758474798846,
           0.326146095765442,
           0.06756492368249398
          ],
          [
           0.5562570673929191,
           -0.23305555622416896,
           0.5655058234044333,
           0.5223830710975406,
           -0.0539269361587196,
           -0.22538911505982076,
           0.35979050269522517,
           0.3490906373211258,
           0.34632114002632464,
           -0.20969334256876088,
           0.3724221197538061,
           -0.19305412284174336,
           0.3702198768321955,
           0.3289758474798846,
           1,
           0.16803361008336112,
           0.2542794886444626
          ],
          [
           0.15891588089948458,
           -0.11538704339308879,
           0.17779348162550573,
           0.08215798590812973,
           -0.3189497967096923,
           0.2097303745226088,
           0.19826020662800614,
           0.2562982776649159,
           0.27810731432138186,
           0.1864444859967606,
           -0.030646114802909605,
           0.2529901027286989,
           0.12782749814122868,
           0.326146095765442,
           0.16803361008336112,
           1,
           0.2555433199815754
          ],
          [
           0.28600829159750746,
           0.10677738422632002,
           0.29346867217530254,
           0.29354346663682734,
           -0.20478382679208754,
           0.094369041964647,
           0.3925436655301261,
           0.2736096225806227,
           0.4318438969068979,
           0.02906874915115944,
           0.20764917852278197,
           -0.1691768245145973,
           -0.08570745344089303,
           0.06756492368249398,
           0.2542794886444626,
           0.2555433199815754,
           1
          ]
         ]
        }
       ],
       "layout": {
        "annotations": [
         {
          "font": {
           "color": "#000000"
          },
          "showarrow": false,
          "text": "1.0",
          "x": "claps",
          "xref": "x",
          "y": "claps",
          "yref": "y"
         },
         {
          "font": {
           "color": "#FFFFFF"
          },
          "showarrow": false,
          "text": "-0.02",
          "x": "days_since_publication",
          "xref": "x",
          "y": "claps",
          "yref": "y"
         },
         {
          "font": {
           "color": "#000000"
          },
          "showarrow": false,
          "text": "0.99",
          "x": "fans",
          "xref": "x",
          "y": "claps",
          "yref": "y"
         },
         {
          "font": {
           "color": "#000000"
          },
          "showarrow": false,
          "text": "0.9",
          "x": "num_responses",
          "xref": "x",
          "y": "claps",
          "yref": "y"
         },
         {
          "font": {
           "color": "#FFFFFF"
          },
          "showarrow": false,
          "text": "0.0",
          "x": "read_ratio",
          "xref": "x",
          "y": "claps",
          "yref": "y"
         },
         {
          "font": {
           "color": "#FFFFFF"
          },
          "showarrow": false,
          "text": "-0.18",
          "x": "read_time",
          "xref": "x",
          "y": "claps",
          "yref": "y"
         },
         {
          "font": {
           "color": "#000000"
          },
          "showarrow": false,
          "text": "0.76",
          "x": "reads",
          "xref": "x",
          "y": "claps",
          "yref": "y"
         },
         {
          "font": {
           "color": "#000000"
          },
          "showarrow": false,
          "text": "0.13",
          "x": "title_word_count",
          "xref": "x",
          "y": "claps",
          "yref": "y"
         },
         {
          "font": {
           "color": "#000000"
          },
          "showarrow": false,
          "text": "0.74",
          "x": "views",
          "xref": "x",
          "y": "claps",
          "yref": "y"
         },
         {
          "font": {
           "color": "#FFFFFF"
          },
          "showarrow": false,
          "text": "-0.18",
          "x": "word_count",
          "xref": "x",
          "y": "claps",
          "yref": "y"
         },
         {
          "font": {
           "color": "#000000"
          },
          "showarrow": false,
          "text": "0.77",
          "x": "claps_per_word",
          "xref": "x",
          "y": "claps",
          "yref": "y"
         },
         {
          "font": {
           "color": "#FFFFFF"
          },
          "showarrow": false,
          "text": "-0.17",
          "x": "editing_days",
          "xref": "x",
          "y": "claps",
          "yref": "y"
         },
         {
          "font": {
           "color": "#000000"
          },
          "showarrow": false,
          "text": "0.21",
          "x": "<tag>Education",
          "xref": "x",
          "y": "claps",
          "yref": "y"
         },
         {
          "font": {
           "color": "#000000"
          },
          "showarrow": false,
          "text": "0.34",
          "x": "<tag>Data Science",
          "xref": "x",
          "y": "claps",
          "yref": "y"
         },
         {
          "font": {
           "color": "#000000"
          },
          "showarrow": false,
          "text": "0.56",
          "x": "<tag>Towards Data Science",
          "xref": "x",
          "y": "claps",
          "yref": "y"
         },
         {
          "font": {
           "color": "#000000"
          },
          "showarrow": false,
          "text": "0.16",
          "x": "<tag>Machine Learning",
          "xref": "x",
          "y": "claps",
          "yref": "y"
         },
         {
          "font": {
           "color": "#000000"
          },
          "showarrow": false,
          "text": "0.29",
          "x": "<tag>Python",
          "xref": "x",
          "y": "claps",
          "yref": "y"
         },
         {
          "font": {
           "color": "#FFFFFF"
          },
          "showarrow": false,
          "text": "-0.02",
          "x": "claps",
          "xref": "x",
          "y": "days_since_publication",
          "yref": "y"
         },
         {
          "font": {
           "color": "#000000"
          },
          "showarrow": false,
          "text": "1.0",
          "x": "days_since_publication",
          "xref": "x",
          "y": "days_since_publication",
          "yref": "y"
         },
         {
          "font": {
           "color": "#FFFFFF"
          },
          "showarrow": false,
          "text": "-0.03",
          "x": "fans",
          "xref": "x",
          "y": "days_since_publication",
          "yref": "y"
         },
         {
          "font": {
           "color": "#FFFFFF"
          },
          "showarrow": false,
          "text": "0.02",
          "x": "num_responses",
          "xref": "x",
          "y": "days_since_publication",
          "yref": "y"
         },
         {
          "font": {
           "color": "#FFFFFF"
          },
          "showarrow": false,
          "text": "0.09",
          "x": "read_ratio",
          "xref": "x",
          "y": "days_since_publication",
          "yref": "y"
         },
         {
          "font": {
           "color": "#000000"
          },
          "showarrow": false,
          "text": "0.14",
          "x": "read_time",
          "xref": "x",
          "y": "days_since_publication",
          "yref": "y"
         },
         {
          "font": {
           "color": "#000000"
          },
          "showarrow": false,
          "text": "0.14",
          "x": "reads",
          "xref": "x",
          "y": "days_since_publication",
          "yref": "y"
         },
         {
          "font": {
           "color": "#FFFFFF"
          },
          "showarrow": false,
          "text": "-0.2",
          "x": "title_word_count",
          "xref": "x",
          "y": "days_since_publication",
          "yref": "y"
         },
         {
          "font": {
           "color": "#000000"
          },
          "showarrow": false,
          "text": "0.12",
          "x": "views",
          "xref": "x",
          "y": "days_since_publication",
          "yref": "y"
         },
         {
          "font": {
           "color": "#FFFFFF"
          },
          "showarrow": false,
          "text": "0.09",
          "x": "word_count",
          "xref": "x",
          "y": "days_since_publication",
          "yref": "y"
         },
         {
          "font": {
           "color": "#FFFFFF"
          },
          "showarrow": false,
          "text": "-0.01",
          "x": "claps_per_word",
          "xref": "x",
          "y": "days_since_publication",
          "yref": "y"
         },
         {
          "font": {
           "color": "#FFFFFF"
          },
          "showarrow": false,
          "text": "-0.32",
          "x": "editing_days",
          "xref": "x",
          "y": "days_since_publication",
          "yref": "y"
         },
         {
          "font": {
           "color": "#FFFFFF"
          },
          "showarrow": false,
          "text": "-0.77",
          "x": "<tag>Education",
          "xref": "x",
          "y": "days_since_publication",
          "yref": "y"
         },
         {
          "font": {
           "color": "#FFFFFF"
          },
          "showarrow": false,
          "text": "-0.33",
          "x": "<tag>Data Science",
          "xref": "x",
          "y": "days_since_publication",
          "yref": "y"
         },
         {
          "font": {
           "color": "#FFFFFF"
          },
          "showarrow": false,
          "text": "-0.23",
          "x": "<tag>Towards Data Science",
          "xref": "x",
          "y": "days_since_publication",
          "yref": "y"
         },
         {
          "font": {
           "color": "#FFFFFF"
          },
          "showarrow": false,
          "text": "-0.12",
          "x": "<tag>Machine Learning",
          "xref": "x",
          "y": "days_since_publication",
          "yref": "y"
         },
         {
          "font": {
           "color": "#FFFFFF"
          },
          "showarrow": false,
          "text": "0.11",
          "x": "<tag>Python",
          "xref": "x",
          "y": "days_since_publication",
          "yref": "y"
         },
         {
          "font": {
           "color": "#000000"
          },
          "showarrow": false,
          "text": "0.99",
          "x": "claps",
          "xref": "x",
          "y": "fans",
          "yref": "y"
         },
         {
          "font": {
           "color": "#FFFFFF"
          },
          "showarrow": false,
          "text": "-0.03",
          "x": "days_since_publication",
          "xref": "x",
          "y": "fans",
          "yref": "y"
         },
         {
          "font": {
           "color": "#000000"
          },
          "showarrow": false,
          "text": "1.0",
          "x": "fans",
          "xref": "x",
          "y": "fans",
          "yref": "y"
         },
         {
          "font": {
           "color": "#000000"
          },
          "showarrow": false,
          "text": "0.88",
          "x": "num_responses",
          "xref": "x",
          "y": "fans",
          "yref": "y"
         },
         {
          "font": {
           "color": "#FFFFFF"
          },
          "showarrow": false,
          "text": "-0.01",
          "x": "read_ratio",
          "xref": "x",
          "y": "fans",
          "yref": "y"
         },
         {
          "font": {
           "color": "#FFFFFF"
          },
          "showarrow": false,
          "text": "-0.18",
          "x": "read_time",
          "xref": "x",
          "y": "fans",
          "yref": "y"
         },
         {
          "font": {
           "color": "#000000"
          },
          "showarrow": false,
          "text": "0.77",
          "x": "reads",
          "xref": "x",
          "y": "fans",
          "yref": "y"
         },
         {
          "font": {
           "color": "#000000"
          },
          "showarrow": false,
          "text": "0.14",
          "x": "title_word_count",
          "xref": "x",
          "y": "fans",
          "yref": "y"
         },
         {
          "font": {
           "color": "#000000"
          },
          "showarrow": false,
          "text": "0.76",
          "x": "views",
          "xref": "x",
          "y": "fans",
          "yref": "y"
         },
         {
          "font": {
           "color": "#FFFFFF"
          },
          "showarrow": false,
          "text": "-0.18",
          "x": "word_count",
          "xref": "x",
          "y": "fans",
          "yref": "y"
         },
         {
          "font": {
           "color": "#000000"
          },
          "showarrow": false,
          "text": "0.74",
          "x": "claps_per_word",
          "xref": "x",
          "y": "fans",
          "yref": "y"
         },
         {
          "font": {
           "color": "#FFFFFF"
          },
          "showarrow": false,
          "text": "-0.17",
          "x": "editing_days",
          "xref": "x",
          "y": "fans",
          "yref": "y"
         },
         {
          "font": {
           "color": "#000000"
          },
          "showarrow": false,
          "text": "0.21",
          "x": "<tag>Education",
          "xref": "x",
          "y": "fans",
          "yref": "y"
         },
         {
          "font": {
           "color": "#000000"
          },
          "showarrow": false,
          "text": "0.34",
          "x": "<tag>Data Science",
          "xref": "x",
          "y": "fans",
          "yref": "y"
         },
         {
          "font": {
           "color": "#000000"
          },
          "showarrow": false,
          "text": "0.57",
          "x": "<tag>Towards Data Science",
          "xref": "x",
          "y": "fans",
          "yref": "y"
         },
         {
          "font": {
           "color": "#000000"
          },
          "showarrow": false,
          "text": "0.18",
          "x": "<tag>Machine Learning",
          "xref": "x",
          "y": "fans",
          "yref": "y"
         },
         {
          "font": {
           "color": "#000000"
          },
          "showarrow": false,
          "text": "0.29",
          "x": "<tag>Python",
          "xref": "x",
          "y": "fans",
          "yref": "y"
         },
         {
          "font": {
           "color": "#000000"
          },
          "showarrow": false,
          "text": "0.9",
          "x": "claps",
          "xref": "x",
          "y": "num_responses",
          "yref": "y"
         },
         {
          "font": {
           "color": "#FFFFFF"
          },
          "showarrow": false,
          "text": "0.02",
          "x": "days_since_publication",
          "xref": "x",
          "y": "num_responses",
          "yref": "y"
         },
         {
          "font": {
           "color": "#000000"
          },
          "showarrow": false,
          "text": "0.88",
          "x": "fans",
          "xref": "x",
          "y": "num_responses",
          "yref": "y"
         },
         {
          "font": {
           "color": "#000000"
          },
          "showarrow": false,
          "text": "1.0",
          "x": "num_responses",
          "xref": "x",
          "y": "num_responses",
          "yref": "y"
         },
         {
          "font": {
           "color": "#FFFFFF"
          },
          "showarrow": false,
          "text": "0.1",
          "x": "read_ratio",
          "xref": "x",
          "y": "num_responses",
          "yref": "y"
         },
         {
          "font": {
           "color": "#FFFFFF"
          },
          "showarrow": false,
          "text": "-0.21",
          "x": "read_time",
          "xref": "x",
          "y": "num_responses",
          "yref": "y"
         },
         {
          "font": {
           "color": "#000000"
          },
          "showarrow": false,
          "text": "0.77",
          "x": "reads",
          "xref": "x",
          "y": "num_responses",
          "yref": "y"
         },
         {
          "font": {
           "color": "#FFFFFF"
          },
          "showarrow": false,
          "text": "0.07",
          "x": "title_word_count",
          "xref": "x",
          "y": "num_responses",
          "yref": "y"
         },
         {
          "font": {
           "color": "#000000"
          },
          "showarrow": false,
          "text": "0.71",
          "x": "views",
          "xref": "x",
          "y": "num_responses",
          "yref": "y"
         },
         {
          "font": {
           "color": "#FFFFFF"
          },
          "showarrow": false,
          "text": "-0.21",
          "x": "word_count",
          "xref": "x",
          "y": "num_responses",
          "yref": "y"
         },
         {
          "font": {
           "color": "#000000"
          },
          "showarrow": false,
          "text": "0.8",
          "x": "claps_per_word",
          "xref": "x",
          "y": "num_responses",
          "yref": "y"
         },
         {
          "font": {
           "color": "#FFFFFF"
          },
          "showarrow": false,
          "text": "-0.18",
          "x": "editing_days",
          "xref": "x",
          "y": "num_responses",
          "yref": "y"
         },
         {
          "font": {
           "color": "#000000"
          },
          "showarrow": false,
          "text": "0.14",
          "x": "<tag>Education",
          "xref": "x",
          "y": "num_responses",
          "yref": "y"
         },
         {
          "font": {
           "color": "#000000"
          },
          "showarrow": false,
          "text": "0.31",
          "x": "<tag>Data Science",
          "xref": "x",
          "y": "num_responses",
          "yref": "y"
         },
         {
          "font": {
           "color": "#000000"
          },
          "showarrow": false,
          "text": "0.52",
          "x": "<tag>Towards Data Science",
          "xref": "x",
          "y": "num_responses",
          "yref": "y"
         },
         {
          "font": {
           "color": "#FFFFFF"
          },
          "showarrow": false,
          "text": "0.08",
          "x": "<tag>Machine Learning",
          "xref": "x",
          "y": "num_responses",
          "yref": "y"
         },
         {
          "font": {
           "color": "#000000"
          },
          "showarrow": false,
          "text": "0.29",
          "x": "<tag>Python",
          "xref": "x",
          "y": "num_responses",
          "yref": "y"
         },
         {
          "font": {
           "color": "#FFFFFF"
          },
          "showarrow": false,
          "text": "0.0",
          "x": "claps",
          "xref": "x",
          "y": "read_ratio",
          "yref": "y"
         },
         {
          "font": {
           "color": "#FFFFFF"
          },
          "showarrow": false,
          "text": "0.09",
          "x": "days_since_publication",
          "xref": "x",
          "y": "read_ratio",
          "yref": "y"
         },
         {
          "font": {
           "color": "#FFFFFF"
          },
          "showarrow": false,
          "text": "-0.01",
          "x": "fans",
          "xref": "x",
          "y": "read_ratio",
          "yref": "y"
         },
         {
          "font": {
           "color": "#FFFFFF"
          },
          "showarrow": false,
          "text": "0.1",
          "x": "num_responses",
          "xref": "x",
          "y": "read_ratio",
          "yref": "y"
         },
         {
          "font": {
           "color": "#000000"
          },
          "showarrow": false,
          "text": "1.0",
          "x": "read_ratio",
          "xref": "x",
          "y": "read_ratio",
          "yref": "y"
         },
         {
          "font": {
           "color": "#FFFFFF"
          },
          "showarrow": false,
          "text": "-0.63",
          "x": "read_time",
          "xref": "x",
          "y": "read_ratio",
          "yref": "y"
         },
         {
          "font": {
           "color": "#FFFFFF"
          },
          "showarrow": false,
          "text": "0.03",
          "x": "reads",
          "xref": "x",
          "y": "read_ratio",
          "yref": "y"
         },
         {
          "font": {
           "color": "#FFFFFF"
          },
          "showarrow": false,
          "text": "0.04",
          "x": "title_word_count",
          "xref": "x",
          "y": "read_ratio",
          "yref": "y"
         },
         {
          "font": {
           "color": "#FFFFFF"
          },
          "showarrow": false,
          "text": "-0.13",
          "x": "views",
          "xref": "x",
          "y": "read_ratio",
          "yref": "y"
         },
         {
          "font": {
           "color": "#FFFFFF"
          },
          "showarrow": false,
          "text": "-0.57",
          "x": "word_count",
          "xref": "x",
          "y": "read_ratio",
          "yref": "y"
         },
         {
          "font": {
           "color": "#000000"
          },
          "showarrow": false,
          "text": "0.29",
          "x": "claps_per_word",
          "xref": "x",
          "y": "read_ratio",
          "yref": "y"
         },
         {
          "font": {
           "color": "#FFFFFF"
          },
          "showarrow": false,
          "text": "-0.19",
          "x": "editing_days",
          "xref": "x",
          "y": "read_ratio",
          "yref": "y"
         },
         {
          "font": {
           "color": "#FFFFFF"
          },
          "showarrow": false,
          "text": "0.06",
          "x": "<tag>Education",
          "xref": "x",
          "y": "read_ratio",
          "yref": "y"
         },
         {
          "font": {
           "color": "#FFFFFF"
          },
          "showarrow": false,
          "text": "-0.04",
          "x": "<tag>Data Science",
          "xref": "x",
          "y": "read_ratio",
          "yref": "y"
         },
         {
          "font": {
           "color": "#FFFFFF"
          },
          "showarrow": false,
          "text": "-0.05",
          "x": "<tag>Towards Data Science",
          "xref": "x",
          "y": "read_ratio",
          "yref": "y"
         },
         {
          "font": {
           "color": "#FFFFFF"
          },
          "showarrow": false,
          "text": "-0.32",
          "x": "<tag>Machine Learning",
          "xref": "x",
          "y": "read_ratio",
          "yref": "y"
         },
         {
          "font": {
           "color": "#FFFFFF"
          },
          "showarrow": false,
          "text": "-0.2",
          "x": "<tag>Python",
          "xref": "x",
          "y": "read_ratio",
          "yref": "y"
         },
         {
          "font": {
           "color": "#FFFFFF"
          },
          "showarrow": false,
          "text": "-0.18",
          "x": "claps",
          "xref": "x",
          "y": "read_time",
          "yref": "y"
         },
         {
          "font": {
           "color": "#000000"
          },
          "showarrow": false,
          "text": "0.14",
          "x": "days_since_publication",
          "xref": "x",
          "y": "read_time",
          "yref": "y"
         },
         {
          "font": {
           "color": "#FFFFFF"
          },
          "showarrow": false,
          "text": "-0.18",
          "x": "fans",
          "xref": "x",
          "y": "read_time",
          "yref": "y"
         },
         {
          "font": {
           "color": "#FFFFFF"
          },
          "showarrow": false,
          "text": "-0.21",
          "x": "num_responses",
          "xref": "x",
          "y": "read_time",
          "yref": "y"
         },
         {
          "font": {
           "color": "#FFFFFF"
          },
          "showarrow": false,
          "text": "-0.63",
          "x": "read_ratio",
          "xref": "x",
          "y": "read_time",
          "yref": "y"
         },
         {
          "font": {
           "color": "#000000"
          },
          "showarrow": false,
          "text": "1.0",
          "x": "read_time",
          "xref": "x",
          "y": "read_time",
          "yref": "y"
         },
         {
          "font": {
           "color": "#FFFFFF"
          },
          "showarrow": false,
          "text": "-0.15",
          "x": "reads",
          "xref": "x",
          "y": "read_time",
          "yref": "y"
         },
         {
          "font": {
           "color": "#FFFFFF"
          },
          "showarrow": false,
          "text": "-0.15",
          "x": "title_word_count",
          "xref": "x",
          "y": "read_time",
          "yref": "y"
         },
         {
          "font": {
           "color": "#FFFFFF"
          },
          "showarrow": false,
          "text": "-0.07",
          "x": "views",
          "xref": "x",
          "y": "read_time",
          "yref": "y"
         },
         {
          "font": {
           "color": "#000000"
          },
          "showarrow": false,
          "text": "0.96",
          "x": "word_count",
          "xref": "x",
          "y": "read_time",
          "yref": "y"
         },
         {
          "font": {
           "color": "#FFFFFF"
          },
          "showarrow": false,
          "text": "-0.24",
          "x": "claps_per_word",
          "xref": "x",
          "y": "read_time",
          "yref": "y"
         },
         {
          "font": {
           "color": "#000000"
          },
          "showarrow": false,
          "text": "0.45",
          "x": "editing_days",
          "xref": "x",
          "y": "read_time",
          "yref": "y"
         },
         {
          "font": {
           "color": "#FFFFFF"
          },
          "showarrow": false,
          "text": "-0.27",
          "x": "<tag>Education",
          "xref": "x",
          "y": "read_time",
          "yref": "y"
         },
         {
          "font": {
           "color": "#FFFFFF"
          },
          "showarrow": false,
          "text": "-0.08",
          "x": "<tag>Data Science",
          "xref": "x",
          "y": "read_time",
          "yref": "y"
         },
         {
          "font": {
           "color": "#FFFFFF"
          },
          "showarrow": false,
          "text": "-0.23",
          "x": "<tag>Towards Data Science",
          "xref": "x",
          "y": "read_time",
          "yref": "y"
         },
         {
          "font": {
           "color": "#000000"
          },
          "showarrow": false,
          "text": "0.21",
          "x": "<tag>Machine Learning",
          "xref": "x",
          "y": "read_time",
          "yref": "y"
         },
         {
          "font": {
           "color": "#FFFFFF"
          },
          "showarrow": false,
          "text": "0.09",
          "x": "<tag>Python",
          "xref": "x",
          "y": "read_time",
          "yref": "y"
         },
         {
          "font": {
           "color": "#000000"
          },
          "showarrow": false,
          "text": "0.76",
          "x": "claps",
          "xref": "x",
          "y": "reads",
          "yref": "y"
         },
         {
          "font": {
           "color": "#000000"
          },
          "showarrow": false,
          "text": "0.14",
          "x": "days_since_publication",
          "xref": "x",
          "y": "reads",
          "yref": "y"
         },
         {
          "font": {
           "color": "#000000"
          },
          "showarrow": false,
          "text": "0.77",
          "x": "fans",
          "xref": "x",
          "y": "reads",
          "yref": "y"
         },
         {
          "font": {
           "color": "#000000"
          },
          "showarrow": false,
          "text": "0.77",
          "x": "num_responses",
          "xref": "x",
          "y": "reads",
          "yref": "y"
         },
         {
          "font": {
           "color": "#FFFFFF"
          },
          "showarrow": false,
          "text": "0.03",
          "x": "read_ratio",
          "xref": "x",
          "y": "reads",
          "yref": "y"
         },
         {
          "font": {
           "color": "#FFFFFF"
          },
          "showarrow": false,
          "text": "-0.15",
          "x": "read_time",
          "xref": "x",
          "y": "reads",
          "yref": "y"
         },
         {
          "font": {
           "color": "#000000"
          },
          "showarrow": false,
          "text": "1.0",
          "x": "reads",
          "xref": "x",
          "y": "reads",
          "yref": "y"
         },
         {
          "font": {
           "color": "#FFFFFF"
          },
          "showarrow": false,
          "text": "0.05",
          "x": "title_word_count",
          "xref": "x",
          "y": "reads",
          "yref": "y"
         },
         {
          "font": {
           "color": "#000000"
          },
          "showarrow": false,
          "text": "0.94",
          "x": "views",
          "xref": "x",
          "y": "reads",
          "yref": "y"
         },
         {
          "font": {
           "color": "#FFFFFF"
          },
          "showarrow": false,
          "text": "-0.17",
          "x": "word_count",
          "xref": "x",
          "y": "reads",
          "yref": "y"
         },
         {
          "font": {
           "color": "#000000"
          },
          "showarrow": false,
          "text": "0.55",
          "x": "claps_per_word",
          "xref": "x",
          "y": "reads",
          "yref": "y"
         },
         {
          "font": {
           "color": "#FFFFFF"
          },
          "showarrow": false,
          "text": "-0.17",
          "x": "editing_days",
          "xref": "x",
          "y": "reads",
          "yref": "y"
         },
         {
          "font": {
           "color": "#FFFFFF"
          },
          "showarrow": false,
          "text": "-0.05",
          "x": "<tag>Education",
          "xref": "x",
          "y": "reads",
          "yref": "y"
         },
         {
          "font": {
           "color": "#000000"
          },
          "showarrow": false,
          "text": "0.33",
          "x": "<tag>Data Science",
          "xref": "x",
          "y": "reads",
          "yref": "y"
         },
         {
          "font": {
           "color": "#000000"
          },
          "showarrow": false,
          "text": "0.36",
          "x": "<tag>Towards Data Science",
          "xref": "x",
          "y": "reads",
          "yref": "y"
         },
         {
          "font": {
           "color": "#000000"
          },
          "showarrow": false,
          "text": "0.2",
          "x": "<tag>Machine Learning",
          "xref": "x",
          "y": "reads",
          "yref": "y"
         },
         {
          "font": {
           "color": "#000000"
          },
          "showarrow": false,
          "text": "0.39",
          "x": "<tag>Python",
          "xref": "x",
          "y": "reads",
          "yref": "y"
         },
         {
          "font": {
           "color": "#000000"
          },
          "showarrow": false,
          "text": "0.13",
          "x": "claps",
          "xref": "x",
          "y": "title_word_count",
          "yref": "y"
         },
         {
          "font": {
           "color": "#FFFFFF"
          },
          "showarrow": false,
          "text": "-0.2",
          "x": "days_since_publication",
          "xref": "x",
          "y": "title_word_count",
          "yref": "y"
         },
         {
          "font": {
           "color": "#000000"
          },
          "showarrow": false,
          "text": "0.14",
          "x": "fans",
          "xref": "x",
          "y": "title_word_count",
          "yref": "y"
         },
         {
          "font": {
           "color": "#FFFFFF"
          },
          "showarrow": false,
          "text": "0.07",
          "x": "num_responses",
          "xref": "x",
          "y": "title_word_count",
          "yref": "y"
         },
         {
          "font": {
           "color": "#FFFFFF"
          },
          "showarrow": false,
          "text": "0.04",
          "x": "read_ratio",
          "xref": "x",
          "y": "title_word_count",
          "yref": "y"
         },
         {
          "font": {
           "color": "#FFFFFF"
          },
          "showarrow": false,
          "text": "-0.15",
          "x": "read_time",
          "xref": "x",
          "y": "title_word_count",
          "yref": "y"
         },
         {
          "font": {
           "color": "#FFFFFF"
          },
          "showarrow": false,
          "text": "0.05",
          "x": "reads",
          "xref": "x",
          "y": "title_word_count",
          "yref": "y"
         },
         {
          "font": {
           "color": "#000000"
          },
          "showarrow": false,
          "text": "1.0",
          "x": "title_word_count",
          "xref": "x",
          "y": "title_word_count",
          "yref": "y"
         },
         {
          "font": {
           "color": "#FFFFFF"
          },
          "showarrow": false,
          "text": "0.05",
          "x": "views",
          "xref": "x",
          "y": "title_word_count",
          "yref": "y"
         },
         {
          "font": {
           "color": "#FFFFFF"
          },
          "showarrow": false,
          "text": "-0.16",
          "x": "word_count",
          "xref": "x",
          "y": "title_word_count",
          "yref": "y"
         },
         {
          "font": {
           "color": "#FFFFFF"
          },
          "showarrow": false,
          "text": "0.11",
          "x": "claps_per_word",
          "xref": "x",
          "y": "title_word_count",
          "yref": "y"
         },
         {
          "font": {
           "color": "#FFFFFF"
          },
          "showarrow": false,
          "text": "-0.1",
          "x": "editing_days",
          "xref": "x",
          "y": "title_word_count",
          "yref": "y"
         },
         {
          "font": {
           "color": "#000000"
          },
          "showarrow": false,
          "text": "0.28",
          "x": "<tag>Education",
          "xref": "x",
          "y": "title_word_count",
          "yref": "y"
         },
         {
          "font": {
           "color": "#000000"
          },
          "showarrow": false,
          "text": "0.15",
          "x": "<tag>Data Science",
          "xref": "x",
          "y": "title_word_count",
          "yref": "y"
         },
         {
          "font": {
           "color": "#000000"
          },
          "showarrow": false,
          "text": "0.35",
          "x": "<tag>Towards Data Science",
          "xref": "x",
          "y": "title_word_count",
          "yref": "y"
         },
         {
          "font": {
           "color": "#000000"
          },
          "showarrow": false,
          "text": "0.26",
          "x": "<tag>Machine Learning",
          "xref": "x",
          "y": "title_word_count",
          "yref": "y"
         },
         {
          "font": {
           "color": "#000000"
          },
          "showarrow": false,
          "text": "0.27",
          "x": "<tag>Python",
          "xref": "x",
          "y": "title_word_count",
          "yref": "y"
         },
         {
          "font": {
           "color": "#000000"
          },
          "showarrow": false,
          "text": "0.74",
          "x": "claps",
          "xref": "x",
          "y": "views",
          "yref": "y"
         },
         {
          "font": {
           "color": "#000000"
          },
          "showarrow": false,
          "text": "0.12",
          "x": "days_since_publication",
          "xref": "x",
          "y": "views",
          "yref": "y"
         },
         {
          "font": {
           "color": "#000000"
          },
          "showarrow": false,
          "text": "0.76",
          "x": "fans",
          "xref": "x",
          "y": "views",
          "yref": "y"
         },
         {
          "font": {
           "color": "#000000"
          },
          "showarrow": false,
          "text": "0.71",
          "x": "num_responses",
          "xref": "x",
          "y": "views",
          "yref": "y"
         },
         {
          "font": {
           "color": "#FFFFFF"
          },
          "showarrow": false,
          "text": "-0.13",
          "x": "read_ratio",
          "xref": "x",
          "y": "views",
          "yref": "y"
         },
         {
          "font": {
           "color": "#FFFFFF"
          },
          "showarrow": false,
          "text": "-0.07",
          "x": "read_time",
          "xref": "x",
          "y": "views",
          "yref": "y"
         },
         {
          "font": {
           "color": "#000000"
          },
          "showarrow": false,
          "text": "0.94",
          "x": "reads",
          "xref": "x",
          "y": "views",
          "yref": "y"
         },
         {
          "font": {
           "color": "#FFFFFF"
          },
          "showarrow": false,
          "text": "0.05",
          "x": "title_word_count",
          "xref": "x",
          "y": "views",
          "yref": "y"
         },
         {
          "font": {
           "color": "#000000"
          },
          "showarrow": false,
          "text": "1.0",
          "x": "views",
          "xref": "x",
          "y": "views",
          "yref": "y"
         },
         {
          "font": {
           "color": "#FFFFFF"
          },
          "showarrow": false,
          "text": "-0.1",
          "x": "word_count",
          "xref": "x",
          "y": "views",
          "yref": "y"
         },
         {
          "font": {
           "color": "#000000"
          },
          "showarrow": false,
          "text": "0.38",
          "x": "claps_per_word",
          "xref": "x",
          "y": "views",
          "yref": "y"
         },
         {
          "font": {
           "color": "#FFFFFF"
          },
          "showarrow": false,
          "text": "-0.17",
          "x": "editing_days",
          "xref": "x",
          "y": "views",
          "yref": "y"
         },
         {
          "font": {
           "color": "#FFFFFF"
          },
          "showarrow": false,
          "text": "-0.06",
          "x": "<tag>Education",
          "xref": "x",
          "y": "views",
          "yref": "y"
         },
         {
          "font": {
           "color": "#000000"
          },
          "showarrow": false,
          "text": "0.31",
          "x": "<tag>Data Science",
          "xref": "x",
          "y": "views",
          "yref": "y"
         },
         {
          "font": {
           "color": "#000000"
          },
          "showarrow": false,
          "text": "0.35",
          "x": "<tag>Towards Data Science",
          "xref": "x",
          "y": "views",
          "yref": "y"
         },
         {
          "font": {
           "color": "#000000"
          },
          "showarrow": false,
          "text": "0.28",
          "x": "<tag>Machine Learning",
          "xref": "x",
          "y": "views",
          "yref": "y"
         },
         {
          "font": {
           "color": "#000000"
          },
          "showarrow": false,
          "text": "0.43",
          "x": "<tag>Python",
          "xref": "x",
          "y": "views",
          "yref": "y"
         },
         {
          "font": {
           "color": "#FFFFFF"
          },
          "showarrow": false,
          "text": "-0.18",
          "x": "claps",
          "xref": "x",
          "y": "word_count",
          "yref": "y"
         },
         {
          "font": {
           "color": "#FFFFFF"
          },
          "showarrow": false,
          "text": "0.09",
          "x": "days_since_publication",
          "xref": "x",
          "y": "word_count",
          "yref": "y"
         },
         {
          "font": {
           "color": "#FFFFFF"
          },
          "showarrow": false,
          "text": "-0.18",
          "x": "fans",
          "xref": "x",
          "y": "word_count",
          "yref": "y"
         },
         {
          "font": {
           "color": "#FFFFFF"
          },
          "showarrow": false,
          "text": "-0.21",
          "x": "num_responses",
          "xref": "x",
          "y": "word_count",
          "yref": "y"
         },
         {
          "font": {
           "color": "#FFFFFF"
          },
          "showarrow": false,
          "text": "-0.57",
          "x": "read_ratio",
          "xref": "x",
          "y": "word_count",
          "yref": "y"
         },
         {
          "font": {
           "color": "#000000"
          },
          "showarrow": false,
          "text": "0.96",
          "x": "read_time",
          "xref": "x",
          "y": "word_count",
          "yref": "y"
         },
         {
          "font": {
           "color": "#FFFFFF"
          },
          "showarrow": false,
          "text": "-0.17",
          "x": "reads",
          "xref": "x",
          "y": "word_count",
          "yref": "y"
         },
         {
          "font": {
           "color": "#FFFFFF"
          },
          "showarrow": false,
          "text": "-0.16",
          "x": "title_word_count",
          "xref": "x",
          "y": "word_count",
          "yref": "y"
         },
         {
          "font": {
           "color": "#FFFFFF"
          },
          "showarrow": false,
          "text": "-0.1",
          "x": "views",
          "xref": "x",
          "y": "word_count",
          "yref": "y"
         },
         {
          "font": {
           "color": "#000000"
          },
          "showarrow": false,
          "text": "1.0",
          "x": "word_count",
          "xref": "x",
          "y": "word_count",
          "yref": "y"
         },
         {
          "font": {
           "color": "#FFFFFF"
          },
          "showarrow": false,
          "text": "-0.24",
          "x": "claps_per_word",
          "xref": "x",
          "y": "word_count",
          "yref": "y"
         },
         {
          "font": {
           "color": "#000000"
          },
          "showarrow": false,
          "text": "0.46",
          "x": "editing_days",
          "xref": "x",
          "y": "word_count",
          "yref": "y"
         },
         {
          "font": {
           "color": "#FFFFFF"
          },
          "showarrow": false,
          "text": "-0.22",
          "x": "<tag>Education",
          "xref": "x",
          "y": "word_count",
          "yref": "y"
         },
         {
          "font": {
           "color": "#FFFFFF"
          },
          "showarrow": false,
          "text": "-0.09",
          "x": "<tag>Data Science",
          "xref": "x",
          "y": "word_count",
          "yref": "y"
         },
         {
          "font": {
           "color": "#FFFFFF"
          },
          "showarrow": false,
          "text": "-0.21",
          "x": "<tag>Towards Data Science",
          "xref": "x",
          "y": "word_count",
          "yref": "y"
         },
         {
          "font": {
           "color": "#000000"
          },
          "showarrow": false,
          "text": "0.19",
          "x": "<tag>Machine Learning",
          "xref": "x",
          "y": "word_count",
          "yref": "y"
         },
         {
          "font": {
           "color": "#FFFFFF"
          },
          "showarrow": false,
          "text": "0.03",
          "x": "<tag>Python",
          "xref": "x",
          "y": "word_count",
          "yref": "y"
         },
         {
          "font": {
           "color": "#000000"
          },
          "showarrow": false,
          "text": "0.77",
          "x": "claps",
          "xref": "x",
          "y": "claps_per_word",
          "yref": "y"
         },
         {
          "font": {
           "color": "#FFFFFF"
          },
          "showarrow": false,
          "text": "-0.01",
          "x": "days_since_publication",
          "xref": "x",
          "y": "claps_per_word",
          "yref": "y"
         },
         {
          "font": {
           "color": "#000000"
          },
          "showarrow": false,
          "text": "0.74",
          "x": "fans",
          "xref": "x",
          "y": "claps_per_word",
          "yref": "y"
         },
         {
          "font": {
           "color": "#000000"
          },
          "showarrow": false,
          "text": "0.8",
          "x": "num_responses",
          "xref": "x",
          "y": "claps_per_word",
          "yref": "y"
         },
         {
          "font": {
           "color": "#000000"
          },
          "showarrow": false,
          "text": "0.29",
          "x": "read_ratio",
          "xref": "x",
          "y": "claps_per_word",
          "yref": "y"
         },
         {
          "font": {
           "color": "#FFFFFF"
          },
          "showarrow": false,
          "text": "-0.24",
          "x": "read_time",
          "xref": "x",
          "y": "claps_per_word",
          "yref": "y"
         },
         {
          "font": {
           "color": "#000000"
          },
          "showarrow": false,
          "text": "0.55",
          "x": "reads",
          "xref": "x",
          "y": "claps_per_word",
          "yref": "y"
         },
         {
          "font": {
           "color": "#FFFFFF"
          },
          "showarrow": false,
          "text": "0.11",
          "x": "title_word_count",
          "xref": "x",
          "y": "claps_per_word",
          "yref": "y"
         },
         {
          "font": {
           "color": "#000000"
          },
          "showarrow": false,
          "text": "0.38",
          "x": "views",
          "xref": "x",
          "y": "claps_per_word",
          "yref": "y"
         },
         {
          "font": {
           "color": "#FFFFFF"
          },
          "showarrow": false,
          "text": "-0.24",
          "x": "word_count",
          "xref": "x",
          "y": "claps_per_word",
          "yref": "y"
         },
         {
          "font": {
           "color": "#000000"
          },
          "showarrow": false,
          "text": "1.0",
          "x": "claps_per_word",
          "xref": "x",
          "y": "claps_per_word",
          "yref": "y"
         },
         {
          "font": {
           "color": "#FFFFFF"
          },
          "showarrow": false,
          "text": "-0.12",
          "x": "editing_days",
          "xref": "x",
          "y": "claps_per_word",
          "yref": "y"
         },
         {
          "font": {
           "color": "#000000"
          },
          "showarrow": false,
          "text": "0.2",
          "x": "<tag>Education",
          "xref": "x",
          "y": "claps_per_word",
          "yref": "y"
         },
         {
          "font": {
           "color": "#000000"
          },
          "showarrow": false,
          "text": "0.25",
          "x": "<tag>Data Science",
          "xref": "x",
          "y": "claps_per_word",
          "yref": "y"
         },
         {
          "font": {
           "color": "#000000"
          },
          "showarrow": false,
          "text": "0.37",
          "x": "<tag>Towards Data Science",
          "xref": "x",
          "y": "claps_per_word",
          "yref": "y"
         },
         {
          "font": {
           "color": "#FFFFFF"
          },
          "showarrow": false,
          "text": "-0.03",
          "x": "<tag>Machine Learning",
          "xref": "x",
          "y": "claps_per_word",
          "yref": "y"
         },
         {
          "font": {
           "color": "#000000"
          },
          "showarrow": false,
          "text": "0.21",
          "x": "<tag>Python",
          "xref": "x",
          "y": "claps_per_word",
          "yref": "y"
         },
         {
          "font": {
           "color": "#FFFFFF"
          },
          "showarrow": false,
          "text": "-0.17",
          "x": "claps",
          "xref": "x",
          "y": "editing_days",
          "yref": "y"
         },
         {
          "font": {
           "color": "#FFFFFF"
          },
          "showarrow": false,
          "text": "-0.32",
          "x": "days_since_publication",
          "xref": "x",
          "y": "editing_days",
          "yref": "y"
         },
         {
          "font": {
           "color": "#FFFFFF"
          },
          "showarrow": false,
          "text": "-0.17",
          "x": "fans",
          "xref": "x",
          "y": "editing_days",
          "yref": "y"
         },
         {
          "font": {
           "color": "#FFFFFF"
          },
          "showarrow": false,
          "text": "-0.18",
          "x": "num_responses",
          "xref": "x",
          "y": "editing_days",
          "yref": "y"
         },
         {
          "font": {
           "color": "#FFFFFF"
          },
          "showarrow": false,
          "text": "-0.19",
          "x": "read_ratio",
          "xref": "x",
          "y": "editing_days",
          "yref": "y"
         },
         {
          "font": {
           "color": "#000000"
          },
          "showarrow": false,
          "text": "0.45",
          "x": "read_time",
          "xref": "x",
          "y": "editing_days",
          "yref": "y"
         },
         {
          "font": {
           "color": "#FFFFFF"
          },
          "showarrow": false,
          "text": "-0.17",
          "x": "reads",
          "xref": "x",
          "y": "editing_days",
          "yref": "y"
         },
         {
          "font": {
           "color": "#FFFFFF"
          },
          "showarrow": false,
          "text": "-0.1",
          "x": "title_word_count",
          "xref": "x",
          "y": "editing_days",
          "yref": "y"
         },
         {
          "font": {
           "color": "#FFFFFF"
          },
          "showarrow": false,
          "text": "-0.17",
          "x": "views",
          "xref": "x",
          "y": "editing_days",
          "yref": "y"
         },
         {
          "font": {
           "color": "#000000"
          },
          "showarrow": false,
          "text": "0.46",
          "x": "word_count",
          "xref": "x",
          "y": "editing_days",
          "yref": "y"
         },
         {
          "font": {
           "color": "#FFFFFF"
          },
          "showarrow": false,
          "text": "-0.12",
          "x": "claps_per_word",
          "xref": "x",
          "y": "editing_days",
          "yref": "y"
         },
         {
          "font": {
           "color": "#000000"
          },
          "showarrow": false,
          "text": "1.0",
          "x": "editing_days",
          "xref": "x",
          "y": "editing_days",
          "yref": "y"
         },
         {
          "font": {
           "color": "#000000"
          },
          "showarrow": false,
          "text": "0.17",
          "x": "<tag>Education",
          "xref": "x",
          "y": "editing_days",
          "yref": "y"
         },
         {
          "font": {
           "color": "#000000"
          },
          "showarrow": false,
          "text": "0.15",
          "x": "<tag>Data Science",
          "xref": "x",
          "y": "editing_days",
          "yref": "y"
         },
         {
          "font": {
           "color": "#FFFFFF"
          },
          "showarrow": false,
          "text": "-0.19",
          "x": "<tag>Towards Data Science",
          "xref": "x",
          "y": "editing_days",
          "yref": "y"
         },
         {
          "font": {
           "color": "#000000"
          },
          "showarrow": false,
          "text": "0.25",
          "x": "<tag>Machine Learning",
          "xref": "x",
          "y": "editing_days",
          "yref": "y"
         },
         {
          "font": {
           "color": "#FFFFFF"
          },
          "showarrow": false,
          "text": "-0.17",
          "x": "<tag>Python",
          "xref": "x",
          "y": "editing_days",
          "yref": "y"
         },
         {
          "font": {
           "color": "#000000"
          },
          "showarrow": false,
          "text": "0.21",
          "x": "claps",
          "xref": "x",
          "y": "<tag>Education",
          "yref": "y"
         },
         {
          "font": {
           "color": "#FFFFFF"
          },
          "showarrow": false,
          "text": "-0.77",
          "x": "days_since_publication",
          "xref": "x",
          "y": "<tag>Education",
          "yref": "y"
         },
         {
          "font": {
           "color": "#000000"
          },
          "showarrow": false,
          "text": "0.21",
          "x": "fans",
          "xref": "x",
          "y": "<tag>Education",
          "yref": "y"
         },
         {
          "font": {
           "color": "#000000"
          },
          "showarrow": false,
          "text": "0.14",
          "x": "num_responses",
          "xref": "x",
          "y": "<tag>Education",
          "yref": "y"
         },
         {
          "font": {
           "color": "#FFFFFF"
          },
          "showarrow": false,
          "text": "0.06",
          "x": "read_ratio",
          "xref": "x",
          "y": "<tag>Education",
          "yref": "y"
         },
         {
          "font": {
           "color": "#FFFFFF"
          },
          "showarrow": false,
          "text": "-0.27",
          "x": "read_time",
          "xref": "x",
          "y": "<tag>Education",
          "yref": "y"
         },
         {
          "font": {
           "color": "#FFFFFF"
          },
          "showarrow": false,
          "text": "-0.05",
          "x": "reads",
          "xref": "x",
          "y": "<tag>Education",
          "yref": "y"
         },
         {
          "font": {
           "color": "#000000"
          },
          "showarrow": false,
          "text": "0.28",
          "x": "title_word_count",
          "xref": "x",
          "y": "<tag>Education",
          "yref": "y"
         },
         {
          "font": {
           "color": "#FFFFFF"
          },
          "showarrow": false,
          "text": "-0.06",
          "x": "views",
          "xref": "x",
          "y": "<tag>Education",
          "yref": "y"
         },
         {
          "font": {
           "color": "#FFFFFF"
          },
          "showarrow": false,
          "text": "-0.22",
          "x": "word_count",
          "xref": "x",
          "y": "<tag>Education",
          "yref": "y"
         },
         {
          "font": {
           "color": "#000000"
          },
          "showarrow": false,
          "text": "0.2",
          "x": "claps_per_word",
          "xref": "x",
          "y": "<tag>Education",
          "yref": "y"
         },
         {
          "font": {
           "color": "#000000"
          },
          "showarrow": false,
          "text": "0.17",
          "x": "editing_days",
          "xref": "x",
          "y": "<tag>Education",
          "yref": "y"
         },
         {
          "font": {
           "color": "#000000"
          },
          "showarrow": false,
          "text": "1.0",
          "x": "<tag>Education",
          "xref": "x",
          "y": "<tag>Education",
          "yref": "y"
         },
         {
          "font": {
           "color": "#000000"
          },
          "showarrow": false,
          "text": "0.32",
          "x": "<tag>Data Science",
          "xref": "x",
          "y": "<tag>Education",
          "yref": "y"
         },
         {
          "font": {
           "color": "#000000"
          },
          "showarrow": false,
          "text": "0.37",
          "x": "<tag>Towards Data Science",
          "xref": "x",
          "y": "<tag>Education",
          "yref": "y"
         },
         {
          "font": {
           "color": "#000000"
          },
          "showarrow": false,
          "text": "0.13",
          "x": "<tag>Machine Learning",
          "xref": "x",
          "y": "<tag>Education",
          "yref": "y"
         },
         {
          "font": {
           "color": "#FFFFFF"
          },
          "showarrow": false,
          "text": "-0.09",
          "x": "<tag>Python",
          "xref": "x",
          "y": "<tag>Education",
          "yref": "y"
         },
         {
          "font": {
           "color": "#000000"
          },
          "showarrow": false,
          "text": "0.34",
          "x": "claps",
          "xref": "x",
          "y": "<tag>Data Science",
          "yref": "y"
         },
         {
          "font": {
           "color": "#FFFFFF"
          },
          "showarrow": false,
          "text": "-0.33",
          "x": "days_since_publication",
          "xref": "x",
          "y": "<tag>Data Science",
          "yref": "y"
         },
         {
          "font": {
           "color": "#000000"
          },
          "showarrow": false,
          "text": "0.34",
          "x": "fans",
          "xref": "x",
          "y": "<tag>Data Science",
          "yref": "y"
         },
         {
          "font": {
           "color": "#000000"
          },
          "showarrow": false,
          "text": "0.31",
          "x": "num_responses",
          "xref": "x",
          "y": "<tag>Data Science",
          "yref": "y"
         },
         {
          "font": {
           "color": "#FFFFFF"
          },
          "showarrow": false,
          "text": "-0.04",
          "x": "read_ratio",
          "xref": "x",
          "y": "<tag>Data Science",
          "yref": "y"
         },
         {
          "font": {
           "color": "#FFFFFF"
          },
          "showarrow": false,
          "text": "-0.08",
          "x": "read_time",
          "xref": "x",
          "y": "<tag>Data Science",
          "yref": "y"
         },
         {
          "font": {
           "color": "#000000"
          },
          "showarrow": false,
          "text": "0.33",
          "x": "reads",
          "xref": "x",
          "y": "<tag>Data Science",
          "yref": "y"
         },
         {
          "font": {
           "color": "#000000"
          },
          "showarrow": false,
          "text": "0.15",
          "x": "title_word_count",
          "xref": "x",
          "y": "<tag>Data Science",
          "yref": "y"
         },
         {
          "font": {
           "color": "#000000"
          },
          "showarrow": false,
          "text": "0.31",
          "x": "views",
          "xref": "x",
          "y": "<tag>Data Science",
          "yref": "y"
         },
         {
          "font": {
           "color": "#FFFFFF"
          },
          "showarrow": false,
          "text": "-0.09",
          "x": "word_count",
          "xref": "x",
          "y": "<tag>Data Science",
          "yref": "y"
         },
         {
          "font": {
           "color": "#000000"
          },
          "showarrow": false,
          "text": "0.25",
          "x": "claps_per_word",
          "xref": "x",
          "y": "<tag>Data Science",
          "yref": "y"
         },
         {
          "font": {
           "color": "#000000"
          },
          "showarrow": false,
          "text": "0.15",
          "x": "editing_days",
          "xref": "x",
          "y": "<tag>Data Science",
          "yref": "y"
         },
         {
          "font": {
           "color": "#000000"
          },
          "showarrow": false,
          "text": "0.32",
          "x": "<tag>Education",
          "xref": "x",
          "y": "<tag>Data Science",
          "yref": "y"
         },
         {
          "font": {
           "color": "#000000"
          },
          "showarrow": false,
          "text": "1.0",
          "x": "<tag>Data Science",
          "xref": "x",
          "y": "<tag>Data Science",
          "yref": "y"
         },
         {
          "font": {
           "color": "#000000"
          },
          "showarrow": false,
          "text": "0.33",
          "x": "<tag>Towards Data Science",
          "xref": "x",
          "y": "<tag>Data Science",
          "yref": "y"
         },
         {
          "font": {
           "color": "#000000"
          },
          "showarrow": false,
          "text": "0.33",
          "x": "<tag>Machine Learning",
          "xref": "x",
          "y": "<tag>Data Science",
          "yref": "y"
         },
         {
          "font": {
           "color": "#FFFFFF"
          },
          "showarrow": false,
          "text": "0.07",
          "x": "<tag>Python",
          "xref": "x",
          "y": "<tag>Data Science",
          "yref": "y"
         },
         {
          "font": {
           "color": "#000000"
          },
          "showarrow": false,
          "text": "0.56",
          "x": "claps",
          "xref": "x",
          "y": "<tag>Towards Data Science",
          "yref": "y"
         },
         {
          "font": {
           "color": "#FFFFFF"
          },
          "showarrow": false,
          "text": "-0.23",
          "x": "days_since_publication",
          "xref": "x",
          "y": "<tag>Towards Data Science",
          "yref": "y"
         },
         {
          "font": {
           "color": "#000000"
          },
          "showarrow": false,
          "text": "0.57",
          "x": "fans",
          "xref": "x",
          "y": "<tag>Towards Data Science",
          "yref": "y"
         },
         {
          "font": {
           "color": "#000000"
          },
          "showarrow": false,
          "text": "0.52",
          "x": "num_responses",
          "xref": "x",
          "y": "<tag>Towards Data Science",
          "yref": "y"
         },
         {
          "font": {
           "color": "#FFFFFF"
          },
          "showarrow": false,
          "text": "-0.05",
          "x": "read_ratio",
          "xref": "x",
          "y": "<tag>Towards Data Science",
          "yref": "y"
         },
         {
          "font": {
           "color": "#FFFFFF"
          },
          "showarrow": false,
          "text": "-0.23",
          "x": "read_time",
          "xref": "x",
          "y": "<tag>Towards Data Science",
          "yref": "y"
         },
         {
          "font": {
           "color": "#000000"
          },
          "showarrow": false,
          "text": "0.36",
          "x": "reads",
          "xref": "x",
          "y": "<tag>Towards Data Science",
          "yref": "y"
         },
         {
          "font": {
           "color": "#000000"
          },
          "showarrow": false,
          "text": "0.35",
          "x": "title_word_count",
          "xref": "x",
          "y": "<tag>Towards Data Science",
          "yref": "y"
         },
         {
          "font": {
           "color": "#000000"
          },
          "showarrow": false,
          "text": "0.35",
          "x": "views",
          "xref": "x",
          "y": "<tag>Towards Data Science",
          "yref": "y"
         },
         {
          "font": {
           "color": "#FFFFFF"
          },
          "showarrow": false,
          "text": "-0.21",
          "x": "word_count",
          "xref": "x",
          "y": "<tag>Towards Data Science",
          "yref": "y"
         },
         {
          "font": {
           "color": "#000000"
          },
          "showarrow": false,
          "text": "0.37",
          "x": "claps_per_word",
          "xref": "x",
          "y": "<tag>Towards Data Science",
          "yref": "y"
         },
         {
          "font": {
           "color": "#FFFFFF"
          },
          "showarrow": false,
          "text": "-0.19",
          "x": "editing_days",
          "xref": "x",
          "y": "<tag>Towards Data Science",
          "yref": "y"
         },
         {
          "font": {
           "color": "#000000"
          },
          "showarrow": false,
          "text": "0.37",
          "x": "<tag>Education",
          "xref": "x",
          "y": "<tag>Towards Data Science",
          "yref": "y"
         },
         {
          "font": {
           "color": "#000000"
          },
          "showarrow": false,
          "text": "0.33",
          "x": "<tag>Data Science",
          "xref": "x",
          "y": "<tag>Towards Data Science",
          "yref": "y"
         },
         {
          "font": {
           "color": "#000000"
          },
          "showarrow": false,
          "text": "1.0",
          "x": "<tag>Towards Data Science",
          "xref": "x",
          "y": "<tag>Towards Data Science",
          "yref": "y"
         },
         {
          "font": {
           "color": "#000000"
          },
          "showarrow": false,
          "text": "0.17",
          "x": "<tag>Machine Learning",
          "xref": "x",
          "y": "<tag>Towards Data Science",
          "yref": "y"
         },
         {
          "font": {
           "color": "#000000"
          },
          "showarrow": false,
          "text": "0.25",
          "x": "<tag>Python",
          "xref": "x",
          "y": "<tag>Towards Data Science",
          "yref": "y"
         },
         {
          "font": {
           "color": "#000000"
          },
          "showarrow": false,
          "text": "0.16",
          "x": "claps",
          "xref": "x",
          "y": "<tag>Machine Learning",
          "yref": "y"
         },
         {
          "font": {
           "color": "#FFFFFF"
          },
          "showarrow": false,
          "text": "-0.12",
          "x": "days_since_publication",
          "xref": "x",
          "y": "<tag>Machine Learning",
          "yref": "y"
         },
         {
          "font": {
           "color": "#000000"
          },
          "showarrow": false,
          "text": "0.18",
          "x": "fans",
          "xref": "x",
          "y": "<tag>Machine Learning",
          "yref": "y"
         },
         {
          "font": {
           "color": "#FFFFFF"
          },
          "showarrow": false,
          "text": "0.08",
          "x": "num_responses",
          "xref": "x",
          "y": "<tag>Machine Learning",
          "yref": "y"
         },
         {
          "font": {
           "color": "#FFFFFF"
          },
          "showarrow": false,
          "text": "-0.32",
          "x": "read_ratio",
          "xref": "x",
          "y": "<tag>Machine Learning",
          "yref": "y"
         },
         {
          "font": {
           "color": "#000000"
          },
          "showarrow": false,
          "text": "0.21",
          "x": "read_time",
          "xref": "x",
          "y": "<tag>Machine Learning",
          "yref": "y"
         },
         {
          "font": {
           "color": "#000000"
          },
          "showarrow": false,
          "text": "0.2",
          "x": "reads",
          "xref": "x",
          "y": "<tag>Machine Learning",
          "yref": "y"
         },
         {
          "font": {
           "color": "#000000"
          },
          "showarrow": false,
          "text": "0.26",
          "x": "title_word_count",
          "xref": "x",
          "y": "<tag>Machine Learning",
          "yref": "y"
         },
         {
          "font": {
           "color": "#000000"
          },
          "showarrow": false,
          "text": "0.28",
          "x": "views",
          "xref": "x",
          "y": "<tag>Machine Learning",
          "yref": "y"
         },
         {
          "font": {
           "color": "#000000"
          },
          "showarrow": false,
          "text": "0.19",
          "x": "word_count",
          "xref": "x",
          "y": "<tag>Machine Learning",
          "yref": "y"
         },
         {
          "font": {
           "color": "#FFFFFF"
          },
          "showarrow": false,
          "text": "-0.03",
          "x": "claps_per_word",
          "xref": "x",
          "y": "<tag>Machine Learning",
          "yref": "y"
         },
         {
          "font": {
           "color": "#000000"
          },
          "showarrow": false,
          "text": "0.25",
          "x": "editing_days",
          "xref": "x",
          "y": "<tag>Machine Learning",
          "yref": "y"
         },
         {
          "font": {
           "color": "#000000"
          },
          "showarrow": false,
          "text": "0.13",
          "x": "<tag>Education",
          "xref": "x",
          "y": "<tag>Machine Learning",
          "yref": "y"
         },
         {
          "font": {
           "color": "#000000"
          },
          "showarrow": false,
          "text": "0.33",
          "x": "<tag>Data Science",
          "xref": "x",
          "y": "<tag>Machine Learning",
          "yref": "y"
         },
         {
          "font": {
           "color": "#000000"
          },
          "showarrow": false,
          "text": "0.17",
          "x": "<tag>Towards Data Science",
          "xref": "x",
          "y": "<tag>Machine Learning",
          "yref": "y"
         },
         {
          "font": {
           "color": "#000000"
          },
          "showarrow": false,
          "text": "1.0",
          "x": "<tag>Machine Learning",
          "xref": "x",
          "y": "<tag>Machine Learning",
          "yref": "y"
         },
         {
          "font": {
           "color": "#000000"
          },
          "showarrow": false,
          "text": "0.26",
          "x": "<tag>Python",
          "xref": "x",
          "y": "<tag>Machine Learning",
          "yref": "y"
         },
         {
          "font": {
           "color": "#000000"
          },
          "showarrow": false,
          "text": "0.29",
          "x": "claps",
          "xref": "x",
          "y": "<tag>Python",
          "yref": "y"
         },
         {
          "font": {
           "color": "#FFFFFF"
          },
          "showarrow": false,
          "text": "0.11",
          "x": "days_since_publication",
          "xref": "x",
          "y": "<tag>Python",
          "yref": "y"
         },
         {
          "font": {
           "color": "#000000"
          },
          "showarrow": false,
          "text": "0.29",
          "x": "fans",
          "xref": "x",
          "y": "<tag>Python",
          "yref": "y"
         },
         {
          "font": {
           "color": "#000000"
          },
          "showarrow": false,
          "text": "0.29",
          "x": "num_responses",
          "xref": "x",
          "y": "<tag>Python",
          "yref": "y"
         },
         {
          "font": {
           "color": "#FFFFFF"
          },
          "showarrow": false,
          "text": "-0.2",
          "x": "read_ratio",
          "xref": "x",
          "y": "<tag>Python",
          "yref": "y"
         },
         {
          "font": {
           "color": "#FFFFFF"
          },
          "showarrow": false,
          "text": "0.09",
          "x": "read_time",
          "xref": "x",
          "y": "<tag>Python",
          "yref": "y"
         },
         {
          "font": {
           "color": "#000000"
          },
          "showarrow": false,
          "text": "0.39",
          "x": "reads",
          "xref": "x",
          "y": "<tag>Python",
          "yref": "y"
         },
         {
          "font": {
           "color": "#000000"
          },
          "showarrow": false,
          "text": "0.27",
          "x": "title_word_count",
          "xref": "x",
          "y": "<tag>Python",
          "yref": "y"
         },
         {
          "font": {
           "color": "#000000"
          },
          "showarrow": false,
          "text": "0.43",
          "x": "views",
          "xref": "x",
          "y": "<tag>Python",
          "yref": "y"
         },
         {
          "font": {
           "color": "#FFFFFF"
          },
          "showarrow": false,
          "text": "0.03",
          "x": "word_count",
          "xref": "x",
          "y": "<tag>Python",
          "yref": "y"
         },
         {
          "font": {
           "color": "#000000"
          },
          "showarrow": false,
          "text": "0.21",
          "x": "claps_per_word",
          "xref": "x",
          "y": "<tag>Python",
          "yref": "y"
         },
         {
          "font": {
           "color": "#FFFFFF"
          },
          "showarrow": false,
          "text": "-0.17",
          "x": "editing_days",
          "xref": "x",
          "y": "<tag>Python",
          "yref": "y"
         },
         {
          "font": {
           "color": "#FFFFFF"
          },
          "showarrow": false,
          "text": "-0.09",
          "x": "<tag>Education",
          "xref": "x",
          "y": "<tag>Python",
          "yref": "y"
         },
         {
          "font": {
           "color": "#FFFFFF"
          },
          "showarrow": false,
          "text": "0.07",
          "x": "<tag>Data Science",
          "xref": "x",
          "y": "<tag>Python",
          "yref": "y"
         },
         {
          "font": {
           "color": "#000000"
          },
          "showarrow": false,
          "text": "0.25",
          "x": "<tag>Towards Data Science",
          "xref": "x",
          "y": "<tag>Python",
          "yref": "y"
         },
         {
          "font": {
           "color": "#000000"
          },
          "showarrow": false,
          "text": "0.26",
          "x": "<tag>Machine Learning",
          "xref": "x",
          "y": "<tag>Python",
          "yref": "y"
         },
         {
          "font": {
           "color": "#000000"
          },
          "showarrow": false,
          "text": "1.0",
          "x": "<tag>Python",
          "xref": "x",
          "y": "<tag>Python",
          "yref": "y"
         }
        ],
        "xaxis": {
         "dtick": 1,
         "gridcolor": "rgb(0, 0, 0)",
         "side": "top",
         "ticks": ""
        },
        "yaxis": {
         "dtick": 1,
         "ticks": "",
         "ticksuffix": "  "
        }
       }
      },
      "text/html": [
       "<div>\n",
       "        \n",
       "        \n",
       "            <div id=\"ebda3dc5-9bbc-4a0d-9940-0039f1f123f5\" class=\"plotly-graph-div\" style=\"height:525px; width:100%;\"></div>\n",
       "            <script type=\"text/javascript\">\n",
       "                require([\"plotly\"], function(Plotly) {\n",
       "                    window.PLOTLYENV=window.PLOTLYENV || {};\n",
       "                    window.PLOTLYENV.BASE_URL='https://plot.ly';\n",
       "                    \n",
       "                if (document.getElementById(\"ebda3dc5-9bbc-4a0d-9940-0039f1f123f5\")) {\n",
       "                    Plotly.newPlot(\n",
       "                        'ebda3dc5-9bbc-4a0d-9940-0039f1f123f5',\n",
       "                        [{\"colorscale\": \"RdBu\", \"reversescale\": false, \"showscale\": true, \"type\": \"heatmap\", \"uid\": \"3155c2d4-5413-4899-92ba-2f10403e2b64\", \"x\": [\"claps\", \"days_since_publication\", \"fans\", \"num_responses\", \"read_ratio\", \"read_time\", \"reads\", \"title_word_count\", \"views\", \"word_count\", \"claps_per_word\", \"editing_days\", \"<tag>Education\", \"<tag>Data Science\", \"<tag>Towards Data Science\", \"<tag>Machine Learning\", \"<tag>Python\"], \"y\": [\"claps\", \"days_since_publication\", \"fans\", \"num_responses\", \"read_ratio\", \"read_time\", \"reads\", \"title_word_count\", \"views\", \"word_count\", \"claps_per_word\", \"editing_days\", \"<tag>Education\", \"<tag>Data Science\", \"<tag>Towards Data Science\", \"<tag>Machine Learning\", \"<tag>Python\"], \"z\": [[1.0, -0.018189527659558506, 0.9924360854838555, 0.8997571702806538, 0.0028910308858086627, -0.1787139959396886, 0.7624881251838233, 0.12850164242181658, 0.7401683373421027, -0.1781271744979268, 0.7698847871262502, -0.17169348150003552, 0.21195069349932644, 0.33734100407391115, 0.5562570673929191, 0.15891588089948458, 0.28600829159750746], [-0.018189527659558506, 1.0, -0.02767476015005009, 0.021743871972705397, 0.08822465936698853, 0.1351343933581026, 0.1352210083640704, -0.19559815006961975, 0.12343251410196107, 0.09250981154507917, -0.00973861434784935, -0.3188532642771559, -0.7654182666377677, -0.32924400465676124, -0.23305555622416896, -0.11538704339308879, 0.10677738422632002], [0.9924360854838555, -0.02767476015005009, 1.0, 0.8760915056971732, -0.014310423502634692, -0.17943158568706896, 0.774762300990038, 0.13792461815197996, 0.7608954509334054, -0.17943598177959158, 0.7399827261298937, -0.17161128270336193, 0.21072647038258724, 0.3431312292807684, 0.5655058234044333, 0.17779348162550573, 0.29346867217530254], [0.8997571702806538, 0.021743871972705397, 0.8760915056971732, 1.0, 0.09952809476375514, -0.2052583995450391, 0.7686427992020333, 0.07038475719127603, 0.7102976911016915, -0.20811780710607486, 0.799756185401649, -0.18466111108761407, 0.14364204258056973, 0.3074463702913581, 0.5223830710975406, 0.08215798590812973, 0.29354346663682734], [0.0028910308858086627, 0.08822465936698853, -0.014310423502634692, 0.09952809476375514, 1.0, -0.6267814338836205, 0.03022956344890219, 0.04410797455697098, -0.13271559428420168, -0.5671023035894812, 0.28820187640226197, -0.18918419503743625, 0.0625136654341587, -0.044663740349978075, -0.0539269361587196, -0.3189497967096923, -0.20478382679208754], [-0.1787139959396886, 0.1351343933581026, -0.17943158568706896, -0.2052583995450391, -0.6267814338836205, 1.0, -0.15202054677510476, -0.14987194250031688, -0.06835987177965061, 0.9636490099573859, -0.24229316258253467, 0.4504873434945468, -0.27200563598248445, -0.07694559684292489, -0.22538911505982076, 0.2097303745226088, 0.094369041964647], [0.7624881251838233, 0.1352210083640704, 0.774762300990038, 0.7686427992020333, 0.03022956344890219, -0.15202054677510476, 1.0, 0.05429000813570476, 0.9376147921513828, -0.17018963615224209, 0.5464758840895739, -0.17448881082871448, -0.05194854873464846, 0.3326888147561974, 0.35979050269522517, 0.19826020662800614, 0.3925436655301261], [0.12850164242181658, -0.19559815006961975, 0.13792461815197996, 0.07038475719127603, 0.04410797455697098, -0.14987194250031688, 0.05429000813570476, 1.0, 0.04925116492799264, -0.15758027059437166, 0.11280912636972577, -0.09606614514827319, 0.2800634866645085, 0.14753196433734128, 0.3490906373211258, 0.2562982776649159, 0.2736096225806227], [0.7401683373421027, 0.12343251410196107, 0.7608954509334054, 0.7102976911016915, -0.13271559428420168, -0.06835987177965061, 0.9376147921513828, 0.04925116492799264, 1.0, -0.09817059814163083, 0.38374302343887257, -0.16834623534896886, -0.06498631383458764, 0.3140845509046597, 0.34632114002632464, 0.27810731432138186, 0.4318438969068979], [-0.1781271744979268, 0.09250981154507917, -0.17943598177959158, -0.20811780710607486, -0.5671023035894812, 0.9636490099573859, -0.17018963615224209, -0.15758027059437166, -0.09817059814163083, 1.0, -0.2370991284908653, 0.4601258338551662, -0.2241504142220321, -0.08844310294766909, -0.20969334256876088, 0.1864444859967606, 0.02906874915115944], [0.7698847871262502, -0.00973861434784935, 0.7399827261298937, 0.799756185401649, 0.28820187640226197, -0.24229316258253467, 0.5464758840895739, 0.11280912636972577, 0.38374302343887257, -0.2370991284908653, 1.0, -0.12405704502688449, 0.2013018394687349, 0.2501965267092191, 0.3724221197538061, -0.030646114802909605, 0.20764917852278197], [-0.17169348150003552, -0.3188532642771559, -0.17161128270336193, -0.18466111108761407, -0.18918419503743625, 0.4504873434945468, -0.17448881082871448, -0.09606614514827319, -0.16834623534896886, 0.4601258338551662, -0.12405704502688449, 1.0, 0.16959505517115578, 0.14884182338822052, -0.19305412284174336, 0.2529901027286989, -0.1691768245145973], [0.21195069349932644, -0.7654182666377677, 0.21072647038258724, 0.14364204258056973, 0.0625136654341587, -0.27200563598248445, -0.05194854873464846, 0.2800634866645085, -0.06498631383458764, -0.2241504142220321, 0.2013018394687349, 0.16959505517115578, 1.0, 0.32433748657040146, 0.3702198768321955, 0.12782749814122868, -0.08570745344089303], [0.33734100407391115, -0.32924400465676124, 0.3431312292807684, 0.3074463702913581, -0.044663740349978075, -0.07694559684292489, 0.3326888147561974, 0.14753196433734128, 0.3140845509046597, -0.08844310294766909, 0.2501965267092191, 0.14884182338822052, 0.32433748657040146, 1.0, 0.3289758474798846, 0.326146095765442, 0.06756492368249398], [0.5562570673929191, -0.23305555622416896, 0.5655058234044333, 0.5223830710975406, -0.0539269361587196, -0.22538911505982076, 0.35979050269522517, 0.3490906373211258, 0.34632114002632464, -0.20969334256876088, 0.3724221197538061, -0.19305412284174336, 0.3702198768321955, 0.3289758474798846, 1.0, 0.16803361008336112, 0.2542794886444626], [0.15891588089948458, -0.11538704339308879, 0.17779348162550573, 0.08215798590812973, -0.3189497967096923, 0.2097303745226088, 0.19826020662800614, 0.2562982776649159, 0.27810731432138186, 0.1864444859967606, -0.030646114802909605, 0.2529901027286989, 0.12782749814122868, 0.326146095765442, 0.16803361008336112, 1.0, 0.2555433199815754], [0.28600829159750746, 0.10677738422632002, 0.29346867217530254, 0.29354346663682734, -0.20478382679208754, 0.094369041964647, 0.3925436655301261, 0.2736096225806227, 0.4318438969068979, 0.02906874915115944, 0.20764917852278197, -0.1691768245145973, -0.08570745344089303, 0.06756492368249398, 0.2542794886444626, 0.2555433199815754, 1.0]]}],\n",
       "                        {\"annotations\": [{\"font\": {\"color\": \"#000000\"}, \"showarrow\": false, \"text\": \"1.0\", \"x\": \"claps\", \"xref\": \"x\", \"y\": \"claps\", \"yref\": \"y\"}, {\"font\": {\"color\": \"#FFFFFF\"}, \"showarrow\": false, \"text\": \"-0.02\", \"x\": \"days_since_publication\", \"xref\": \"x\", \"y\": \"claps\", \"yref\": \"y\"}, {\"font\": {\"color\": \"#000000\"}, \"showarrow\": false, \"text\": \"0.99\", \"x\": \"fans\", \"xref\": \"x\", \"y\": \"claps\", \"yref\": \"y\"}, {\"font\": {\"color\": \"#000000\"}, \"showarrow\": false, \"text\": \"0.9\", \"x\": \"num_responses\", \"xref\": \"x\", \"y\": \"claps\", \"yref\": \"y\"}, {\"font\": {\"color\": \"#FFFFFF\"}, \"showarrow\": false, \"text\": \"0.0\", \"x\": \"read_ratio\", \"xref\": \"x\", \"y\": \"claps\", \"yref\": \"y\"}, {\"font\": {\"color\": \"#FFFFFF\"}, \"showarrow\": false, \"text\": \"-0.18\", \"x\": \"read_time\", \"xref\": \"x\", \"y\": \"claps\", \"yref\": \"y\"}, {\"font\": {\"color\": \"#000000\"}, \"showarrow\": false, \"text\": \"0.76\", \"x\": \"reads\", \"xref\": \"x\", \"y\": \"claps\", \"yref\": \"y\"}, {\"font\": {\"color\": \"#000000\"}, \"showarrow\": false, \"text\": \"0.13\", \"x\": \"title_word_count\", \"xref\": \"x\", \"y\": \"claps\", \"yref\": \"y\"}, {\"font\": {\"color\": \"#000000\"}, \"showarrow\": false, \"text\": \"0.74\", \"x\": \"views\", \"xref\": \"x\", \"y\": \"claps\", \"yref\": \"y\"}, {\"font\": {\"color\": \"#FFFFFF\"}, \"showarrow\": false, \"text\": \"-0.18\", \"x\": \"word_count\", \"xref\": \"x\", \"y\": \"claps\", \"yref\": \"y\"}, {\"font\": {\"color\": \"#000000\"}, \"showarrow\": false, \"text\": \"0.77\", \"x\": \"claps_per_word\", \"xref\": \"x\", \"y\": \"claps\", \"yref\": \"y\"}, {\"font\": {\"color\": \"#FFFFFF\"}, \"showarrow\": false, \"text\": \"-0.17\", \"x\": \"editing_days\", \"xref\": \"x\", \"y\": \"claps\", \"yref\": \"y\"}, {\"font\": {\"color\": \"#000000\"}, \"showarrow\": false, \"text\": \"0.21\", \"x\": \"<tag>Education\", \"xref\": \"x\", \"y\": \"claps\", \"yref\": \"y\"}, {\"font\": {\"color\": \"#000000\"}, \"showarrow\": false, \"text\": \"0.34\", \"x\": \"<tag>Data Science\", \"xref\": \"x\", \"y\": \"claps\", \"yref\": \"y\"}, {\"font\": {\"color\": \"#000000\"}, \"showarrow\": false, \"text\": \"0.56\", \"x\": \"<tag>Towards Data Science\", \"xref\": \"x\", \"y\": \"claps\", \"yref\": \"y\"}, {\"font\": {\"color\": \"#000000\"}, \"showarrow\": false, \"text\": \"0.16\", \"x\": \"<tag>Machine Learning\", \"xref\": \"x\", \"y\": \"claps\", \"yref\": \"y\"}, {\"font\": {\"color\": \"#000000\"}, \"showarrow\": false, \"text\": \"0.29\", \"x\": \"<tag>Python\", \"xref\": \"x\", \"y\": \"claps\", \"yref\": \"y\"}, {\"font\": {\"color\": \"#FFFFFF\"}, \"showarrow\": false, \"text\": \"-0.02\", \"x\": \"claps\", \"xref\": \"x\", \"y\": \"days_since_publication\", \"yref\": \"y\"}, {\"font\": {\"color\": \"#000000\"}, \"showarrow\": false, \"text\": \"1.0\", \"x\": \"days_since_publication\", \"xref\": \"x\", \"y\": \"days_since_publication\", \"yref\": \"y\"}, {\"font\": {\"color\": \"#FFFFFF\"}, \"showarrow\": false, \"text\": \"-0.03\", \"x\": \"fans\", \"xref\": \"x\", \"y\": \"days_since_publication\", \"yref\": \"y\"}, {\"font\": {\"color\": \"#FFFFFF\"}, \"showarrow\": false, \"text\": \"0.02\", \"x\": \"num_responses\", \"xref\": \"x\", \"y\": \"days_since_publication\", \"yref\": \"y\"}, {\"font\": {\"color\": \"#FFFFFF\"}, \"showarrow\": false, \"text\": \"0.09\", \"x\": \"read_ratio\", \"xref\": \"x\", \"y\": \"days_since_publication\", \"yref\": \"y\"}, {\"font\": {\"color\": \"#000000\"}, \"showarrow\": false, \"text\": \"0.14\", \"x\": \"read_time\", \"xref\": \"x\", \"y\": \"days_since_publication\", \"yref\": \"y\"}, {\"font\": {\"color\": \"#000000\"}, \"showarrow\": false, \"text\": \"0.14\", \"x\": \"reads\", \"xref\": \"x\", \"y\": \"days_since_publication\", \"yref\": \"y\"}, {\"font\": {\"color\": \"#FFFFFF\"}, \"showarrow\": false, \"text\": \"-0.2\", \"x\": \"title_word_count\", \"xref\": \"x\", \"y\": \"days_since_publication\", \"yref\": \"y\"}, {\"font\": {\"color\": \"#000000\"}, \"showarrow\": false, \"text\": \"0.12\", \"x\": \"views\", \"xref\": \"x\", \"y\": \"days_since_publication\", \"yref\": \"y\"}, {\"font\": {\"color\": \"#FFFFFF\"}, \"showarrow\": false, \"text\": \"0.09\", \"x\": \"word_count\", \"xref\": \"x\", \"y\": \"days_since_publication\", \"yref\": \"y\"}, {\"font\": {\"color\": \"#FFFFFF\"}, \"showarrow\": false, \"text\": \"-0.01\", \"x\": \"claps_per_word\", \"xref\": \"x\", \"y\": \"days_since_publication\", \"yref\": \"y\"}, {\"font\": {\"color\": \"#FFFFFF\"}, \"showarrow\": false, \"text\": \"-0.32\", \"x\": \"editing_days\", \"xref\": \"x\", \"y\": \"days_since_publication\", \"yref\": \"y\"}, {\"font\": {\"color\": \"#FFFFFF\"}, \"showarrow\": false, \"text\": \"-0.77\", \"x\": \"<tag>Education\", \"xref\": \"x\", \"y\": \"days_since_publication\", \"yref\": \"y\"}, {\"font\": {\"color\": \"#FFFFFF\"}, \"showarrow\": false, \"text\": \"-0.33\", \"x\": \"<tag>Data Science\", \"xref\": \"x\", \"y\": \"days_since_publication\", \"yref\": \"y\"}, {\"font\": {\"color\": \"#FFFFFF\"}, \"showarrow\": false, \"text\": \"-0.23\", \"x\": \"<tag>Towards Data Science\", \"xref\": \"x\", \"y\": \"days_since_publication\", \"yref\": \"y\"}, {\"font\": {\"color\": \"#FFFFFF\"}, \"showarrow\": false, \"text\": \"-0.12\", \"x\": \"<tag>Machine Learning\", \"xref\": \"x\", \"y\": \"days_since_publication\", \"yref\": \"y\"}, {\"font\": {\"color\": \"#FFFFFF\"}, \"showarrow\": false, \"text\": \"0.11\", \"x\": \"<tag>Python\", \"xref\": \"x\", \"y\": \"days_since_publication\", \"yref\": \"y\"}, {\"font\": {\"color\": \"#000000\"}, \"showarrow\": false, \"text\": \"0.99\", \"x\": \"claps\", \"xref\": \"x\", \"y\": \"fans\", \"yref\": \"y\"}, {\"font\": {\"color\": \"#FFFFFF\"}, \"showarrow\": false, \"text\": \"-0.03\", \"x\": \"days_since_publication\", \"xref\": \"x\", \"y\": \"fans\", \"yref\": \"y\"}, {\"font\": {\"color\": \"#000000\"}, \"showarrow\": false, \"text\": \"1.0\", \"x\": \"fans\", \"xref\": \"x\", \"y\": \"fans\", \"yref\": \"y\"}, {\"font\": {\"color\": \"#000000\"}, \"showarrow\": false, \"text\": \"0.88\", \"x\": \"num_responses\", \"xref\": \"x\", \"y\": \"fans\", \"yref\": \"y\"}, {\"font\": {\"color\": \"#FFFFFF\"}, \"showarrow\": false, \"text\": \"-0.01\", \"x\": \"read_ratio\", \"xref\": \"x\", \"y\": \"fans\", \"yref\": \"y\"}, {\"font\": {\"color\": \"#FFFFFF\"}, \"showarrow\": false, \"text\": \"-0.18\", \"x\": \"read_time\", \"xref\": \"x\", \"y\": \"fans\", \"yref\": \"y\"}, {\"font\": {\"color\": \"#000000\"}, \"showarrow\": false, \"text\": \"0.77\", \"x\": \"reads\", \"xref\": \"x\", \"y\": \"fans\", \"yref\": \"y\"}, {\"font\": {\"color\": \"#000000\"}, \"showarrow\": false, \"text\": \"0.14\", \"x\": \"title_word_count\", \"xref\": \"x\", \"y\": \"fans\", \"yref\": \"y\"}, {\"font\": {\"color\": \"#000000\"}, \"showarrow\": false, \"text\": \"0.76\", \"x\": \"views\", \"xref\": \"x\", \"y\": \"fans\", \"yref\": \"y\"}, {\"font\": {\"color\": \"#FFFFFF\"}, \"showarrow\": false, \"text\": \"-0.18\", \"x\": \"word_count\", \"xref\": \"x\", \"y\": \"fans\", \"yref\": \"y\"}, {\"font\": {\"color\": \"#000000\"}, \"showarrow\": false, \"text\": \"0.74\", \"x\": \"claps_per_word\", \"xref\": \"x\", \"y\": \"fans\", \"yref\": \"y\"}, {\"font\": {\"color\": \"#FFFFFF\"}, \"showarrow\": false, \"text\": \"-0.17\", \"x\": \"editing_days\", \"xref\": \"x\", \"y\": \"fans\", \"yref\": \"y\"}, {\"font\": {\"color\": \"#000000\"}, \"showarrow\": false, \"text\": \"0.21\", \"x\": \"<tag>Education\", \"xref\": \"x\", \"y\": \"fans\", \"yref\": \"y\"}, {\"font\": {\"color\": \"#000000\"}, \"showarrow\": false, \"text\": \"0.34\", \"x\": \"<tag>Data Science\", \"xref\": \"x\", \"y\": \"fans\", \"yref\": \"y\"}, {\"font\": {\"color\": \"#000000\"}, \"showarrow\": false, \"text\": \"0.57\", \"x\": \"<tag>Towards Data Science\", \"xref\": \"x\", \"y\": \"fans\", \"yref\": \"y\"}, {\"font\": {\"color\": \"#000000\"}, \"showarrow\": false, \"text\": \"0.18\", \"x\": \"<tag>Machine Learning\", \"xref\": \"x\", \"y\": \"fans\", \"yref\": \"y\"}, {\"font\": {\"color\": \"#000000\"}, \"showarrow\": false, \"text\": \"0.29\", \"x\": \"<tag>Python\", \"xref\": \"x\", \"y\": \"fans\", \"yref\": \"y\"}, {\"font\": {\"color\": \"#000000\"}, \"showarrow\": false, \"text\": \"0.9\", \"x\": \"claps\", \"xref\": \"x\", \"y\": \"num_responses\", \"yref\": \"y\"}, {\"font\": {\"color\": \"#FFFFFF\"}, \"showarrow\": false, \"text\": \"0.02\", \"x\": \"days_since_publication\", \"xref\": \"x\", \"y\": \"num_responses\", \"yref\": \"y\"}, {\"font\": {\"color\": \"#000000\"}, \"showarrow\": false, \"text\": \"0.88\", \"x\": \"fans\", \"xref\": \"x\", \"y\": \"num_responses\", \"yref\": \"y\"}, {\"font\": {\"color\": \"#000000\"}, \"showarrow\": false, \"text\": \"1.0\", \"x\": \"num_responses\", \"xref\": \"x\", \"y\": \"num_responses\", \"yref\": \"y\"}, {\"font\": {\"color\": \"#FFFFFF\"}, \"showarrow\": false, \"text\": \"0.1\", \"x\": \"read_ratio\", \"xref\": \"x\", \"y\": \"num_responses\", \"yref\": \"y\"}, {\"font\": {\"color\": \"#FFFFFF\"}, \"showarrow\": false, \"text\": \"-0.21\", \"x\": \"read_time\", \"xref\": \"x\", \"y\": \"num_responses\", \"yref\": \"y\"}, {\"font\": {\"color\": \"#000000\"}, \"showarrow\": false, \"text\": \"0.77\", \"x\": \"reads\", \"xref\": \"x\", \"y\": \"num_responses\", \"yref\": \"y\"}, {\"font\": {\"color\": \"#FFFFFF\"}, \"showarrow\": false, \"text\": \"0.07\", \"x\": \"title_word_count\", \"xref\": \"x\", \"y\": \"num_responses\", \"yref\": \"y\"}, {\"font\": {\"color\": \"#000000\"}, \"showarrow\": false, \"text\": \"0.71\", \"x\": \"views\", \"xref\": \"x\", \"y\": \"num_responses\", \"yref\": \"y\"}, {\"font\": {\"color\": \"#FFFFFF\"}, \"showarrow\": false, \"text\": \"-0.21\", \"x\": \"word_count\", \"xref\": \"x\", \"y\": \"num_responses\", \"yref\": \"y\"}, {\"font\": {\"color\": \"#000000\"}, \"showarrow\": false, \"text\": \"0.8\", \"x\": \"claps_per_word\", \"xref\": \"x\", \"y\": \"num_responses\", \"yref\": \"y\"}, {\"font\": {\"color\": \"#FFFFFF\"}, \"showarrow\": false, \"text\": \"-0.18\", \"x\": \"editing_days\", \"xref\": \"x\", \"y\": \"num_responses\", \"yref\": \"y\"}, {\"font\": {\"color\": \"#000000\"}, \"showarrow\": false, \"text\": \"0.14\", \"x\": \"<tag>Education\", \"xref\": \"x\", \"y\": \"num_responses\", \"yref\": \"y\"}, {\"font\": {\"color\": \"#000000\"}, \"showarrow\": false, \"text\": \"0.31\", \"x\": \"<tag>Data Science\", \"xref\": \"x\", \"y\": \"num_responses\", \"yref\": \"y\"}, {\"font\": {\"color\": \"#000000\"}, \"showarrow\": false, \"text\": \"0.52\", \"x\": \"<tag>Towards Data Science\", \"xref\": \"x\", \"y\": \"num_responses\", \"yref\": \"y\"}, {\"font\": {\"color\": \"#FFFFFF\"}, \"showarrow\": false, \"text\": \"0.08\", \"x\": \"<tag>Machine Learning\", \"xref\": \"x\", \"y\": \"num_responses\", \"yref\": \"y\"}, {\"font\": {\"color\": \"#000000\"}, \"showarrow\": false, \"text\": \"0.29\", \"x\": \"<tag>Python\", \"xref\": \"x\", \"y\": \"num_responses\", \"yref\": \"y\"}, {\"font\": {\"color\": \"#FFFFFF\"}, \"showarrow\": false, \"text\": \"0.0\", \"x\": \"claps\", \"xref\": \"x\", \"y\": \"read_ratio\", \"yref\": \"y\"}, {\"font\": {\"color\": \"#FFFFFF\"}, \"showarrow\": false, \"text\": \"0.09\", \"x\": \"days_since_publication\", \"xref\": \"x\", \"y\": \"read_ratio\", \"yref\": \"y\"}, {\"font\": {\"color\": \"#FFFFFF\"}, \"showarrow\": false, \"text\": \"-0.01\", \"x\": \"fans\", \"xref\": \"x\", \"y\": \"read_ratio\", \"yref\": \"y\"}, {\"font\": {\"color\": \"#FFFFFF\"}, \"showarrow\": false, \"text\": \"0.1\", \"x\": \"num_responses\", \"xref\": \"x\", \"y\": \"read_ratio\", \"yref\": \"y\"}, {\"font\": {\"color\": \"#000000\"}, \"showarrow\": false, \"text\": \"1.0\", \"x\": \"read_ratio\", \"xref\": \"x\", \"y\": \"read_ratio\", \"yref\": \"y\"}, {\"font\": {\"color\": \"#FFFFFF\"}, \"showarrow\": false, \"text\": \"-0.63\", \"x\": \"read_time\", \"xref\": \"x\", \"y\": \"read_ratio\", \"yref\": \"y\"}, {\"font\": {\"color\": \"#FFFFFF\"}, \"showarrow\": false, \"text\": \"0.03\", \"x\": \"reads\", \"xref\": \"x\", \"y\": \"read_ratio\", \"yref\": \"y\"}, {\"font\": {\"color\": \"#FFFFFF\"}, \"showarrow\": false, \"text\": \"0.04\", \"x\": \"title_word_count\", \"xref\": \"x\", \"y\": \"read_ratio\", \"yref\": \"y\"}, {\"font\": {\"color\": \"#FFFFFF\"}, \"showarrow\": false, \"text\": \"-0.13\", \"x\": \"views\", \"xref\": \"x\", \"y\": \"read_ratio\", \"yref\": \"y\"}, {\"font\": {\"color\": \"#FFFFFF\"}, \"showarrow\": false, \"text\": \"-0.57\", \"x\": \"word_count\", \"xref\": \"x\", \"y\": \"read_ratio\", \"yref\": \"y\"}, {\"font\": {\"color\": \"#000000\"}, \"showarrow\": false, \"text\": \"0.29\", \"x\": \"claps_per_word\", \"xref\": \"x\", \"y\": \"read_ratio\", \"yref\": \"y\"}, {\"font\": {\"color\": \"#FFFFFF\"}, \"showarrow\": false, \"text\": \"-0.19\", \"x\": \"editing_days\", \"xref\": \"x\", \"y\": \"read_ratio\", \"yref\": \"y\"}, {\"font\": {\"color\": \"#FFFFFF\"}, \"showarrow\": false, \"text\": \"0.06\", \"x\": \"<tag>Education\", \"xref\": \"x\", \"y\": \"read_ratio\", \"yref\": \"y\"}, {\"font\": {\"color\": \"#FFFFFF\"}, \"showarrow\": false, \"text\": \"-0.04\", \"x\": \"<tag>Data Science\", \"xref\": \"x\", \"y\": \"read_ratio\", \"yref\": \"y\"}, {\"font\": {\"color\": \"#FFFFFF\"}, \"showarrow\": false, \"text\": \"-0.05\", \"x\": \"<tag>Towards Data Science\", \"xref\": \"x\", \"y\": \"read_ratio\", \"yref\": \"y\"}, {\"font\": {\"color\": \"#FFFFFF\"}, \"showarrow\": false, \"text\": \"-0.32\", \"x\": \"<tag>Machine Learning\", \"xref\": \"x\", \"y\": \"read_ratio\", \"yref\": \"y\"}, {\"font\": {\"color\": \"#FFFFFF\"}, \"showarrow\": false, \"text\": \"-0.2\", \"x\": \"<tag>Python\", \"xref\": \"x\", \"y\": \"read_ratio\", \"yref\": \"y\"}, {\"font\": {\"color\": \"#FFFFFF\"}, \"showarrow\": false, \"text\": \"-0.18\", \"x\": \"claps\", \"xref\": \"x\", \"y\": \"read_time\", \"yref\": \"y\"}, {\"font\": {\"color\": \"#000000\"}, \"showarrow\": false, \"text\": \"0.14\", \"x\": \"days_since_publication\", \"xref\": \"x\", \"y\": \"read_time\", \"yref\": \"y\"}, {\"font\": {\"color\": \"#FFFFFF\"}, \"showarrow\": false, \"text\": \"-0.18\", \"x\": \"fans\", \"xref\": \"x\", \"y\": \"read_time\", \"yref\": \"y\"}, {\"font\": {\"color\": \"#FFFFFF\"}, \"showarrow\": false, \"text\": \"-0.21\", \"x\": \"num_responses\", \"xref\": \"x\", \"y\": \"read_time\", \"yref\": \"y\"}, {\"font\": {\"color\": \"#FFFFFF\"}, \"showarrow\": false, \"text\": \"-0.63\", \"x\": \"read_ratio\", \"xref\": \"x\", \"y\": \"read_time\", \"yref\": \"y\"}, {\"font\": {\"color\": \"#000000\"}, \"showarrow\": false, \"text\": \"1.0\", \"x\": \"read_time\", \"xref\": \"x\", \"y\": \"read_time\", \"yref\": \"y\"}, {\"font\": {\"color\": \"#FFFFFF\"}, \"showarrow\": false, \"text\": \"-0.15\", \"x\": \"reads\", \"xref\": \"x\", \"y\": \"read_time\", \"yref\": \"y\"}, {\"font\": {\"color\": \"#FFFFFF\"}, \"showarrow\": false, \"text\": \"-0.15\", \"x\": \"title_word_count\", \"xref\": \"x\", \"y\": \"read_time\", \"yref\": \"y\"}, {\"font\": {\"color\": \"#FFFFFF\"}, \"showarrow\": false, \"text\": \"-0.07\", \"x\": \"views\", \"xref\": \"x\", \"y\": \"read_time\", \"yref\": \"y\"}, {\"font\": {\"color\": \"#000000\"}, \"showarrow\": false, \"text\": \"0.96\", \"x\": \"word_count\", \"xref\": \"x\", \"y\": \"read_time\", \"yref\": \"y\"}, {\"font\": {\"color\": \"#FFFFFF\"}, \"showarrow\": false, \"text\": \"-0.24\", \"x\": \"claps_per_word\", \"xref\": \"x\", \"y\": \"read_time\", \"yref\": \"y\"}, {\"font\": {\"color\": \"#000000\"}, \"showarrow\": false, \"text\": \"0.45\", \"x\": \"editing_days\", \"xref\": \"x\", \"y\": \"read_time\", \"yref\": \"y\"}, {\"font\": {\"color\": \"#FFFFFF\"}, \"showarrow\": false, \"text\": \"-0.27\", \"x\": \"<tag>Education\", \"xref\": \"x\", \"y\": \"read_time\", \"yref\": \"y\"}, {\"font\": {\"color\": \"#FFFFFF\"}, \"showarrow\": false, \"text\": \"-0.08\", \"x\": \"<tag>Data Science\", \"xref\": \"x\", \"y\": \"read_time\", \"yref\": \"y\"}, {\"font\": {\"color\": \"#FFFFFF\"}, \"showarrow\": false, \"text\": \"-0.23\", \"x\": \"<tag>Towards Data Science\", \"xref\": \"x\", \"y\": \"read_time\", \"yref\": \"y\"}, {\"font\": {\"color\": \"#000000\"}, \"showarrow\": false, \"text\": \"0.21\", \"x\": \"<tag>Machine Learning\", \"xref\": \"x\", \"y\": \"read_time\", \"yref\": \"y\"}, {\"font\": {\"color\": \"#FFFFFF\"}, \"showarrow\": false, \"text\": \"0.09\", \"x\": \"<tag>Python\", \"xref\": \"x\", \"y\": \"read_time\", \"yref\": \"y\"}, {\"font\": {\"color\": \"#000000\"}, \"showarrow\": false, \"text\": \"0.76\", \"x\": \"claps\", \"xref\": \"x\", \"y\": \"reads\", \"yref\": \"y\"}, {\"font\": {\"color\": \"#000000\"}, \"showarrow\": false, \"text\": \"0.14\", \"x\": \"days_since_publication\", \"xref\": \"x\", \"y\": \"reads\", \"yref\": \"y\"}, {\"font\": {\"color\": \"#000000\"}, \"showarrow\": false, \"text\": \"0.77\", \"x\": \"fans\", \"xref\": \"x\", \"y\": \"reads\", \"yref\": \"y\"}, {\"font\": {\"color\": \"#000000\"}, \"showarrow\": false, \"text\": \"0.77\", \"x\": \"num_responses\", \"xref\": \"x\", \"y\": \"reads\", \"yref\": \"y\"}, {\"font\": {\"color\": \"#FFFFFF\"}, \"showarrow\": false, \"text\": \"0.03\", \"x\": \"read_ratio\", \"xref\": \"x\", \"y\": \"reads\", \"yref\": \"y\"}, {\"font\": {\"color\": \"#FFFFFF\"}, \"showarrow\": false, \"text\": \"-0.15\", \"x\": \"read_time\", \"xref\": \"x\", \"y\": \"reads\", \"yref\": \"y\"}, {\"font\": {\"color\": \"#000000\"}, \"showarrow\": false, \"text\": \"1.0\", \"x\": \"reads\", \"xref\": \"x\", \"y\": \"reads\", \"yref\": \"y\"}, {\"font\": {\"color\": \"#FFFFFF\"}, \"showarrow\": false, \"text\": \"0.05\", \"x\": \"title_word_count\", \"xref\": \"x\", \"y\": \"reads\", \"yref\": \"y\"}, {\"font\": {\"color\": \"#000000\"}, \"showarrow\": false, \"text\": \"0.94\", \"x\": \"views\", \"xref\": \"x\", \"y\": \"reads\", \"yref\": \"y\"}, {\"font\": {\"color\": \"#FFFFFF\"}, \"showarrow\": false, \"text\": \"-0.17\", \"x\": \"word_count\", \"xref\": \"x\", \"y\": \"reads\", \"yref\": \"y\"}, {\"font\": {\"color\": \"#000000\"}, \"showarrow\": false, \"text\": \"0.55\", \"x\": \"claps_per_word\", \"xref\": \"x\", \"y\": \"reads\", \"yref\": \"y\"}, {\"font\": {\"color\": \"#FFFFFF\"}, \"showarrow\": false, \"text\": \"-0.17\", \"x\": \"editing_days\", \"xref\": \"x\", \"y\": \"reads\", \"yref\": \"y\"}, {\"font\": {\"color\": \"#FFFFFF\"}, \"showarrow\": false, \"text\": \"-0.05\", \"x\": \"<tag>Education\", \"xref\": \"x\", \"y\": \"reads\", \"yref\": \"y\"}, {\"font\": {\"color\": \"#000000\"}, \"showarrow\": false, \"text\": \"0.33\", \"x\": \"<tag>Data Science\", \"xref\": \"x\", \"y\": \"reads\", \"yref\": \"y\"}, {\"font\": {\"color\": \"#000000\"}, \"showarrow\": false, \"text\": \"0.36\", \"x\": \"<tag>Towards Data Science\", \"xref\": \"x\", \"y\": \"reads\", \"yref\": \"y\"}, {\"font\": {\"color\": \"#000000\"}, \"showarrow\": false, \"text\": \"0.2\", \"x\": \"<tag>Machine Learning\", \"xref\": \"x\", \"y\": \"reads\", \"yref\": \"y\"}, {\"font\": {\"color\": \"#000000\"}, \"showarrow\": false, \"text\": \"0.39\", \"x\": \"<tag>Python\", \"xref\": \"x\", \"y\": \"reads\", \"yref\": \"y\"}, {\"font\": {\"color\": \"#000000\"}, \"showarrow\": false, \"text\": \"0.13\", \"x\": \"claps\", \"xref\": \"x\", \"y\": \"title_word_count\", \"yref\": \"y\"}, {\"font\": {\"color\": \"#FFFFFF\"}, \"showarrow\": false, \"text\": \"-0.2\", \"x\": \"days_since_publication\", \"xref\": \"x\", \"y\": \"title_word_count\", \"yref\": \"y\"}, {\"font\": {\"color\": \"#000000\"}, \"showarrow\": false, \"text\": \"0.14\", \"x\": \"fans\", \"xref\": \"x\", \"y\": \"title_word_count\", \"yref\": \"y\"}, {\"font\": {\"color\": \"#FFFFFF\"}, \"showarrow\": false, \"text\": \"0.07\", \"x\": \"num_responses\", \"xref\": \"x\", \"y\": \"title_word_count\", \"yref\": \"y\"}, {\"font\": {\"color\": \"#FFFFFF\"}, \"showarrow\": false, \"text\": \"0.04\", \"x\": \"read_ratio\", \"xref\": \"x\", \"y\": \"title_word_count\", \"yref\": \"y\"}, {\"font\": {\"color\": \"#FFFFFF\"}, \"showarrow\": false, \"text\": \"-0.15\", \"x\": \"read_time\", \"xref\": \"x\", \"y\": \"title_word_count\", \"yref\": \"y\"}, {\"font\": {\"color\": \"#FFFFFF\"}, \"showarrow\": false, \"text\": \"0.05\", \"x\": \"reads\", \"xref\": \"x\", \"y\": \"title_word_count\", \"yref\": \"y\"}, {\"font\": {\"color\": \"#000000\"}, \"showarrow\": false, \"text\": \"1.0\", \"x\": \"title_word_count\", \"xref\": \"x\", \"y\": \"title_word_count\", \"yref\": \"y\"}, {\"font\": {\"color\": \"#FFFFFF\"}, \"showarrow\": false, \"text\": \"0.05\", \"x\": \"views\", \"xref\": \"x\", \"y\": \"title_word_count\", \"yref\": \"y\"}, {\"font\": {\"color\": \"#FFFFFF\"}, \"showarrow\": false, \"text\": \"-0.16\", \"x\": \"word_count\", \"xref\": \"x\", \"y\": \"title_word_count\", \"yref\": \"y\"}, {\"font\": {\"color\": \"#FFFFFF\"}, \"showarrow\": false, \"text\": \"0.11\", \"x\": \"claps_per_word\", \"xref\": \"x\", \"y\": \"title_word_count\", \"yref\": \"y\"}, {\"font\": {\"color\": \"#FFFFFF\"}, \"showarrow\": false, \"text\": \"-0.1\", \"x\": \"editing_days\", \"xref\": \"x\", \"y\": \"title_word_count\", \"yref\": \"y\"}, {\"font\": {\"color\": \"#000000\"}, \"showarrow\": false, \"text\": \"0.28\", \"x\": \"<tag>Education\", \"xref\": \"x\", \"y\": \"title_word_count\", \"yref\": \"y\"}, {\"font\": {\"color\": \"#000000\"}, \"showarrow\": false, \"text\": \"0.15\", \"x\": \"<tag>Data Science\", \"xref\": \"x\", \"y\": \"title_word_count\", \"yref\": \"y\"}, {\"font\": {\"color\": \"#000000\"}, \"showarrow\": false, \"text\": \"0.35\", \"x\": \"<tag>Towards Data Science\", \"xref\": \"x\", \"y\": \"title_word_count\", \"yref\": \"y\"}, {\"font\": {\"color\": \"#000000\"}, \"showarrow\": false, \"text\": \"0.26\", \"x\": \"<tag>Machine Learning\", \"xref\": \"x\", \"y\": \"title_word_count\", \"yref\": \"y\"}, {\"font\": {\"color\": \"#000000\"}, \"showarrow\": false, \"text\": \"0.27\", \"x\": \"<tag>Python\", \"xref\": \"x\", \"y\": \"title_word_count\", \"yref\": \"y\"}, {\"font\": {\"color\": \"#000000\"}, \"showarrow\": false, \"text\": \"0.74\", \"x\": \"claps\", \"xref\": \"x\", \"y\": \"views\", \"yref\": \"y\"}, {\"font\": {\"color\": \"#000000\"}, \"showarrow\": false, \"text\": \"0.12\", \"x\": \"days_since_publication\", \"xref\": \"x\", \"y\": \"views\", \"yref\": \"y\"}, {\"font\": {\"color\": \"#000000\"}, \"showarrow\": false, \"text\": \"0.76\", \"x\": \"fans\", \"xref\": \"x\", \"y\": \"views\", \"yref\": \"y\"}, {\"font\": {\"color\": \"#000000\"}, \"showarrow\": false, \"text\": \"0.71\", \"x\": \"num_responses\", \"xref\": \"x\", \"y\": \"views\", \"yref\": \"y\"}, {\"font\": {\"color\": \"#FFFFFF\"}, \"showarrow\": false, \"text\": \"-0.13\", \"x\": \"read_ratio\", \"xref\": \"x\", \"y\": \"views\", \"yref\": \"y\"}, {\"font\": {\"color\": \"#FFFFFF\"}, \"showarrow\": false, \"text\": \"-0.07\", \"x\": \"read_time\", \"xref\": \"x\", \"y\": \"views\", \"yref\": \"y\"}, {\"font\": {\"color\": \"#000000\"}, \"showarrow\": false, \"text\": \"0.94\", \"x\": \"reads\", \"xref\": \"x\", \"y\": \"views\", \"yref\": \"y\"}, {\"font\": {\"color\": \"#FFFFFF\"}, \"showarrow\": false, \"text\": \"0.05\", \"x\": \"title_word_count\", \"xref\": \"x\", \"y\": \"views\", \"yref\": \"y\"}, {\"font\": {\"color\": \"#000000\"}, \"showarrow\": false, \"text\": \"1.0\", \"x\": \"views\", \"xref\": \"x\", \"y\": \"views\", \"yref\": \"y\"}, {\"font\": {\"color\": \"#FFFFFF\"}, \"showarrow\": false, \"text\": \"-0.1\", \"x\": \"word_count\", \"xref\": \"x\", \"y\": \"views\", \"yref\": \"y\"}, {\"font\": {\"color\": \"#000000\"}, \"showarrow\": false, \"text\": \"0.38\", \"x\": \"claps_per_word\", \"xref\": \"x\", \"y\": \"views\", \"yref\": \"y\"}, {\"font\": {\"color\": \"#FFFFFF\"}, \"showarrow\": false, \"text\": \"-0.17\", \"x\": \"editing_days\", \"xref\": \"x\", \"y\": \"views\", \"yref\": \"y\"}, {\"font\": {\"color\": \"#FFFFFF\"}, \"showarrow\": false, \"text\": \"-0.06\", \"x\": \"<tag>Education\", \"xref\": \"x\", \"y\": \"views\", \"yref\": \"y\"}, {\"font\": {\"color\": \"#000000\"}, \"showarrow\": false, \"text\": \"0.31\", \"x\": \"<tag>Data Science\", \"xref\": \"x\", \"y\": \"views\", \"yref\": \"y\"}, {\"font\": {\"color\": \"#000000\"}, \"showarrow\": false, \"text\": \"0.35\", \"x\": \"<tag>Towards Data Science\", \"xref\": \"x\", \"y\": \"views\", \"yref\": \"y\"}, {\"font\": {\"color\": \"#000000\"}, \"showarrow\": false, \"text\": \"0.28\", \"x\": \"<tag>Machine Learning\", \"xref\": \"x\", \"y\": \"views\", \"yref\": \"y\"}, {\"font\": {\"color\": \"#000000\"}, \"showarrow\": false, \"text\": \"0.43\", \"x\": \"<tag>Python\", \"xref\": \"x\", \"y\": \"views\", \"yref\": \"y\"}, {\"font\": {\"color\": \"#FFFFFF\"}, \"showarrow\": false, \"text\": \"-0.18\", \"x\": \"claps\", \"xref\": \"x\", \"y\": \"word_count\", \"yref\": \"y\"}, {\"font\": {\"color\": \"#FFFFFF\"}, \"showarrow\": false, \"text\": \"0.09\", \"x\": \"days_since_publication\", \"xref\": \"x\", \"y\": \"word_count\", \"yref\": \"y\"}, {\"font\": {\"color\": \"#FFFFFF\"}, \"showarrow\": false, \"text\": \"-0.18\", \"x\": \"fans\", \"xref\": \"x\", \"y\": \"word_count\", \"yref\": \"y\"}, {\"font\": {\"color\": \"#FFFFFF\"}, \"showarrow\": false, \"text\": \"-0.21\", \"x\": \"num_responses\", \"xref\": \"x\", \"y\": \"word_count\", \"yref\": \"y\"}, {\"font\": {\"color\": \"#FFFFFF\"}, \"showarrow\": false, \"text\": \"-0.57\", \"x\": \"read_ratio\", \"xref\": \"x\", \"y\": \"word_count\", \"yref\": \"y\"}, {\"font\": {\"color\": \"#000000\"}, \"showarrow\": false, \"text\": \"0.96\", \"x\": \"read_time\", \"xref\": \"x\", \"y\": \"word_count\", \"yref\": \"y\"}, {\"font\": {\"color\": \"#FFFFFF\"}, \"showarrow\": false, \"text\": \"-0.17\", \"x\": \"reads\", \"xref\": \"x\", \"y\": \"word_count\", \"yref\": \"y\"}, {\"font\": {\"color\": \"#FFFFFF\"}, \"showarrow\": false, \"text\": \"-0.16\", \"x\": \"title_word_count\", \"xref\": \"x\", \"y\": \"word_count\", \"yref\": \"y\"}, {\"font\": {\"color\": \"#FFFFFF\"}, \"showarrow\": false, \"text\": \"-0.1\", \"x\": \"views\", \"xref\": \"x\", \"y\": \"word_count\", \"yref\": \"y\"}, {\"font\": {\"color\": \"#000000\"}, \"showarrow\": false, \"text\": \"1.0\", \"x\": \"word_count\", \"xref\": \"x\", \"y\": \"word_count\", \"yref\": \"y\"}, {\"font\": {\"color\": \"#FFFFFF\"}, \"showarrow\": false, \"text\": \"-0.24\", \"x\": \"claps_per_word\", \"xref\": \"x\", \"y\": \"word_count\", \"yref\": \"y\"}, {\"font\": {\"color\": \"#000000\"}, \"showarrow\": false, \"text\": \"0.46\", \"x\": \"editing_days\", \"xref\": \"x\", \"y\": \"word_count\", \"yref\": \"y\"}, {\"font\": {\"color\": \"#FFFFFF\"}, \"showarrow\": false, \"text\": \"-0.22\", \"x\": \"<tag>Education\", \"xref\": \"x\", \"y\": \"word_count\", \"yref\": \"y\"}, {\"font\": {\"color\": \"#FFFFFF\"}, \"showarrow\": false, \"text\": \"-0.09\", \"x\": \"<tag>Data Science\", \"xref\": \"x\", \"y\": \"word_count\", \"yref\": \"y\"}, {\"font\": {\"color\": \"#FFFFFF\"}, \"showarrow\": false, \"text\": \"-0.21\", \"x\": \"<tag>Towards Data Science\", \"xref\": \"x\", \"y\": \"word_count\", \"yref\": \"y\"}, {\"font\": {\"color\": \"#000000\"}, \"showarrow\": false, \"text\": \"0.19\", \"x\": \"<tag>Machine Learning\", \"xref\": \"x\", \"y\": \"word_count\", \"yref\": \"y\"}, {\"font\": {\"color\": \"#FFFFFF\"}, \"showarrow\": false, \"text\": \"0.03\", \"x\": \"<tag>Python\", \"xref\": \"x\", \"y\": \"word_count\", \"yref\": \"y\"}, {\"font\": {\"color\": \"#000000\"}, \"showarrow\": false, \"text\": \"0.77\", \"x\": \"claps\", \"xref\": \"x\", \"y\": \"claps_per_word\", \"yref\": \"y\"}, {\"font\": {\"color\": \"#FFFFFF\"}, \"showarrow\": false, \"text\": \"-0.01\", \"x\": \"days_since_publication\", \"xref\": \"x\", \"y\": \"claps_per_word\", \"yref\": \"y\"}, {\"font\": {\"color\": \"#000000\"}, \"showarrow\": false, \"text\": \"0.74\", \"x\": \"fans\", \"xref\": \"x\", \"y\": \"claps_per_word\", \"yref\": \"y\"}, {\"font\": {\"color\": \"#000000\"}, \"showarrow\": false, \"text\": \"0.8\", \"x\": \"num_responses\", \"xref\": \"x\", \"y\": \"claps_per_word\", \"yref\": \"y\"}, {\"font\": {\"color\": \"#000000\"}, \"showarrow\": false, \"text\": \"0.29\", \"x\": \"read_ratio\", \"xref\": \"x\", \"y\": \"claps_per_word\", \"yref\": \"y\"}, {\"font\": {\"color\": \"#FFFFFF\"}, \"showarrow\": false, \"text\": \"-0.24\", \"x\": \"read_time\", \"xref\": \"x\", \"y\": \"claps_per_word\", \"yref\": \"y\"}, {\"font\": {\"color\": \"#000000\"}, \"showarrow\": false, \"text\": \"0.55\", \"x\": \"reads\", \"xref\": \"x\", \"y\": \"claps_per_word\", \"yref\": \"y\"}, {\"font\": {\"color\": \"#FFFFFF\"}, \"showarrow\": false, \"text\": \"0.11\", \"x\": \"title_word_count\", \"xref\": \"x\", \"y\": \"claps_per_word\", \"yref\": \"y\"}, {\"font\": {\"color\": \"#000000\"}, \"showarrow\": false, \"text\": \"0.38\", \"x\": \"views\", \"xref\": \"x\", \"y\": \"claps_per_word\", \"yref\": \"y\"}, {\"font\": {\"color\": \"#FFFFFF\"}, \"showarrow\": false, \"text\": \"-0.24\", \"x\": \"word_count\", \"xref\": \"x\", \"y\": \"claps_per_word\", \"yref\": \"y\"}, {\"font\": {\"color\": \"#000000\"}, \"showarrow\": false, \"text\": \"1.0\", \"x\": \"claps_per_word\", \"xref\": \"x\", \"y\": \"claps_per_word\", \"yref\": \"y\"}, {\"font\": {\"color\": \"#FFFFFF\"}, \"showarrow\": false, \"text\": \"-0.12\", \"x\": \"editing_days\", \"xref\": \"x\", \"y\": \"claps_per_word\", \"yref\": \"y\"}, {\"font\": {\"color\": \"#000000\"}, \"showarrow\": false, \"text\": \"0.2\", \"x\": \"<tag>Education\", \"xref\": \"x\", \"y\": \"claps_per_word\", \"yref\": \"y\"}, {\"font\": {\"color\": \"#000000\"}, \"showarrow\": false, \"text\": \"0.25\", \"x\": \"<tag>Data Science\", \"xref\": \"x\", \"y\": \"claps_per_word\", \"yref\": \"y\"}, {\"font\": {\"color\": \"#000000\"}, \"showarrow\": false, \"text\": \"0.37\", \"x\": \"<tag>Towards Data Science\", \"xref\": \"x\", \"y\": \"claps_per_word\", \"yref\": \"y\"}, {\"font\": {\"color\": \"#FFFFFF\"}, \"showarrow\": false, \"text\": \"-0.03\", \"x\": \"<tag>Machine Learning\", \"xref\": \"x\", \"y\": \"claps_per_word\", \"yref\": \"y\"}, {\"font\": {\"color\": \"#000000\"}, \"showarrow\": false, \"text\": \"0.21\", \"x\": \"<tag>Python\", \"xref\": \"x\", \"y\": \"claps_per_word\", \"yref\": \"y\"}, {\"font\": {\"color\": \"#FFFFFF\"}, \"showarrow\": false, \"text\": \"-0.17\", \"x\": \"claps\", \"xref\": \"x\", \"y\": \"editing_days\", \"yref\": \"y\"}, {\"font\": {\"color\": \"#FFFFFF\"}, \"showarrow\": false, \"text\": \"-0.32\", \"x\": \"days_since_publication\", \"xref\": \"x\", \"y\": \"editing_days\", \"yref\": \"y\"}, {\"font\": {\"color\": \"#FFFFFF\"}, \"showarrow\": false, \"text\": \"-0.17\", \"x\": \"fans\", \"xref\": \"x\", \"y\": \"editing_days\", \"yref\": \"y\"}, {\"font\": {\"color\": \"#FFFFFF\"}, \"showarrow\": false, \"text\": \"-0.18\", \"x\": \"num_responses\", \"xref\": \"x\", \"y\": \"editing_days\", \"yref\": \"y\"}, {\"font\": {\"color\": \"#FFFFFF\"}, \"showarrow\": false, \"text\": \"-0.19\", \"x\": \"read_ratio\", \"xref\": \"x\", \"y\": \"editing_days\", \"yref\": \"y\"}, {\"font\": {\"color\": \"#000000\"}, \"showarrow\": false, \"text\": \"0.45\", \"x\": \"read_time\", \"xref\": \"x\", \"y\": \"editing_days\", \"yref\": \"y\"}, {\"font\": {\"color\": \"#FFFFFF\"}, \"showarrow\": false, \"text\": \"-0.17\", \"x\": \"reads\", \"xref\": \"x\", \"y\": \"editing_days\", \"yref\": \"y\"}, {\"font\": {\"color\": \"#FFFFFF\"}, \"showarrow\": false, \"text\": \"-0.1\", \"x\": \"title_word_count\", \"xref\": \"x\", \"y\": \"editing_days\", \"yref\": \"y\"}, {\"font\": {\"color\": \"#FFFFFF\"}, \"showarrow\": false, \"text\": \"-0.17\", \"x\": \"views\", \"xref\": \"x\", \"y\": \"editing_days\", \"yref\": \"y\"}, {\"font\": {\"color\": \"#000000\"}, \"showarrow\": false, \"text\": \"0.46\", \"x\": \"word_count\", \"xref\": \"x\", \"y\": \"editing_days\", \"yref\": \"y\"}, {\"font\": {\"color\": \"#FFFFFF\"}, \"showarrow\": false, \"text\": \"-0.12\", \"x\": \"claps_per_word\", \"xref\": \"x\", \"y\": \"editing_days\", \"yref\": \"y\"}, {\"font\": {\"color\": \"#000000\"}, \"showarrow\": false, \"text\": \"1.0\", \"x\": \"editing_days\", \"xref\": \"x\", \"y\": \"editing_days\", \"yref\": \"y\"}, {\"font\": {\"color\": \"#000000\"}, \"showarrow\": false, \"text\": \"0.17\", \"x\": \"<tag>Education\", \"xref\": \"x\", \"y\": \"editing_days\", \"yref\": \"y\"}, {\"font\": {\"color\": \"#000000\"}, \"showarrow\": false, \"text\": \"0.15\", \"x\": \"<tag>Data Science\", \"xref\": \"x\", \"y\": \"editing_days\", \"yref\": \"y\"}, {\"font\": {\"color\": \"#FFFFFF\"}, \"showarrow\": false, \"text\": \"-0.19\", \"x\": \"<tag>Towards Data Science\", \"xref\": \"x\", \"y\": \"editing_days\", \"yref\": \"y\"}, {\"font\": {\"color\": \"#000000\"}, \"showarrow\": false, \"text\": \"0.25\", \"x\": \"<tag>Machine Learning\", \"xref\": \"x\", \"y\": \"editing_days\", \"yref\": \"y\"}, {\"font\": {\"color\": \"#FFFFFF\"}, \"showarrow\": false, \"text\": \"-0.17\", \"x\": \"<tag>Python\", \"xref\": \"x\", \"y\": \"editing_days\", \"yref\": \"y\"}, {\"font\": {\"color\": \"#000000\"}, \"showarrow\": false, \"text\": \"0.21\", \"x\": \"claps\", \"xref\": \"x\", \"y\": \"<tag>Education\", \"yref\": \"y\"}, {\"font\": {\"color\": \"#FFFFFF\"}, \"showarrow\": false, \"text\": \"-0.77\", \"x\": \"days_since_publication\", \"xref\": \"x\", \"y\": \"<tag>Education\", \"yref\": \"y\"}, {\"font\": {\"color\": \"#000000\"}, \"showarrow\": false, \"text\": \"0.21\", \"x\": \"fans\", \"xref\": \"x\", \"y\": \"<tag>Education\", \"yref\": \"y\"}, {\"font\": {\"color\": \"#000000\"}, \"showarrow\": false, \"text\": \"0.14\", \"x\": \"num_responses\", \"xref\": \"x\", \"y\": \"<tag>Education\", \"yref\": \"y\"}, {\"font\": {\"color\": \"#FFFFFF\"}, \"showarrow\": false, \"text\": \"0.06\", \"x\": \"read_ratio\", \"xref\": \"x\", \"y\": \"<tag>Education\", \"yref\": \"y\"}, {\"font\": {\"color\": \"#FFFFFF\"}, \"showarrow\": false, \"text\": \"-0.27\", \"x\": \"read_time\", \"xref\": \"x\", \"y\": \"<tag>Education\", \"yref\": \"y\"}, {\"font\": {\"color\": \"#FFFFFF\"}, \"showarrow\": false, \"text\": \"-0.05\", \"x\": \"reads\", \"xref\": \"x\", \"y\": \"<tag>Education\", \"yref\": \"y\"}, {\"font\": {\"color\": \"#000000\"}, \"showarrow\": false, \"text\": \"0.28\", \"x\": \"title_word_count\", \"xref\": \"x\", \"y\": \"<tag>Education\", \"yref\": \"y\"}, {\"font\": {\"color\": \"#FFFFFF\"}, \"showarrow\": false, \"text\": \"-0.06\", \"x\": \"views\", \"xref\": \"x\", \"y\": \"<tag>Education\", \"yref\": \"y\"}, {\"font\": {\"color\": \"#FFFFFF\"}, \"showarrow\": false, \"text\": \"-0.22\", \"x\": \"word_count\", \"xref\": \"x\", \"y\": \"<tag>Education\", \"yref\": \"y\"}, {\"font\": {\"color\": \"#000000\"}, \"showarrow\": false, \"text\": \"0.2\", \"x\": \"claps_per_word\", \"xref\": \"x\", \"y\": \"<tag>Education\", \"yref\": \"y\"}, {\"font\": {\"color\": \"#000000\"}, \"showarrow\": false, \"text\": \"0.17\", \"x\": \"editing_days\", \"xref\": \"x\", \"y\": \"<tag>Education\", \"yref\": \"y\"}, {\"font\": {\"color\": \"#000000\"}, \"showarrow\": false, \"text\": \"1.0\", \"x\": \"<tag>Education\", \"xref\": \"x\", \"y\": \"<tag>Education\", \"yref\": \"y\"}, {\"font\": {\"color\": \"#000000\"}, \"showarrow\": false, \"text\": \"0.32\", \"x\": \"<tag>Data Science\", \"xref\": \"x\", \"y\": \"<tag>Education\", \"yref\": \"y\"}, {\"font\": {\"color\": \"#000000\"}, \"showarrow\": false, \"text\": \"0.37\", \"x\": \"<tag>Towards Data Science\", \"xref\": \"x\", \"y\": \"<tag>Education\", \"yref\": \"y\"}, {\"font\": {\"color\": \"#000000\"}, \"showarrow\": false, \"text\": \"0.13\", \"x\": \"<tag>Machine Learning\", \"xref\": \"x\", \"y\": \"<tag>Education\", \"yref\": \"y\"}, {\"font\": {\"color\": \"#FFFFFF\"}, \"showarrow\": false, \"text\": \"-0.09\", \"x\": \"<tag>Python\", \"xref\": \"x\", \"y\": \"<tag>Education\", \"yref\": \"y\"}, {\"font\": {\"color\": \"#000000\"}, \"showarrow\": false, \"text\": \"0.34\", \"x\": \"claps\", \"xref\": \"x\", \"y\": \"<tag>Data Science\", \"yref\": \"y\"}, {\"font\": {\"color\": \"#FFFFFF\"}, \"showarrow\": false, \"text\": \"-0.33\", \"x\": \"days_since_publication\", \"xref\": \"x\", \"y\": \"<tag>Data Science\", \"yref\": \"y\"}, {\"font\": {\"color\": \"#000000\"}, \"showarrow\": false, \"text\": \"0.34\", \"x\": \"fans\", \"xref\": \"x\", \"y\": \"<tag>Data Science\", \"yref\": \"y\"}, {\"font\": {\"color\": \"#000000\"}, \"showarrow\": false, \"text\": \"0.31\", \"x\": \"num_responses\", \"xref\": \"x\", \"y\": \"<tag>Data Science\", \"yref\": \"y\"}, {\"font\": {\"color\": \"#FFFFFF\"}, \"showarrow\": false, \"text\": \"-0.04\", \"x\": \"read_ratio\", \"xref\": \"x\", \"y\": \"<tag>Data Science\", \"yref\": \"y\"}, {\"font\": {\"color\": \"#FFFFFF\"}, \"showarrow\": false, \"text\": \"-0.08\", \"x\": \"read_time\", \"xref\": \"x\", \"y\": \"<tag>Data Science\", \"yref\": \"y\"}, {\"font\": {\"color\": \"#000000\"}, \"showarrow\": false, \"text\": \"0.33\", \"x\": \"reads\", \"xref\": \"x\", \"y\": \"<tag>Data Science\", \"yref\": \"y\"}, {\"font\": {\"color\": \"#000000\"}, \"showarrow\": false, \"text\": \"0.15\", \"x\": \"title_word_count\", \"xref\": \"x\", \"y\": \"<tag>Data Science\", \"yref\": \"y\"}, {\"font\": {\"color\": \"#000000\"}, \"showarrow\": false, \"text\": \"0.31\", \"x\": \"views\", \"xref\": \"x\", \"y\": \"<tag>Data Science\", \"yref\": \"y\"}, {\"font\": {\"color\": \"#FFFFFF\"}, \"showarrow\": false, \"text\": \"-0.09\", \"x\": \"word_count\", \"xref\": \"x\", \"y\": \"<tag>Data Science\", \"yref\": \"y\"}, {\"font\": {\"color\": \"#000000\"}, \"showarrow\": false, \"text\": \"0.25\", \"x\": \"claps_per_word\", \"xref\": \"x\", \"y\": \"<tag>Data Science\", \"yref\": \"y\"}, {\"font\": {\"color\": \"#000000\"}, \"showarrow\": false, \"text\": \"0.15\", \"x\": \"editing_days\", \"xref\": \"x\", \"y\": \"<tag>Data Science\", \"yref\": \"y\"}, {\"font\": {\"color\": \"#000000\"}, \"showarrow\": false, \"text\": \"0.32\", \"x\": \"<tag>Education\", \"xref\": \"x\", \"y\": \"<tag>Data Science\", \"yref\": \"y\"}, {\"font\": {\"color\": \"#000000\"}, \"showarrow\": false, \"text\": \"1.0\", \"x\": \"<tag>Data Science\", \"xref\": \"x\", \"y\": \"<tag>Data Science\", \"yref\": \"y\"}, {\"font\": {\"color\": \"#000000\"}, \"showarrow\": false, \"text\": \"0.33\", \"x\": \"<tag>Towards Data Science\", \"xref\": \"x\", \"y\": \"<tag>Data Science\", \"yref\": \"y\"}, {\"font\": {\"color\": \"#000000\"}, \"showarrow\": false, \"text\": \"0.33\", \"x\": \"<tag>Machine Learning\", \"xref\": \"x\", \"y\": \"<tag>Data Science\", \"yref\": \"y\"}, {\"font\": {\"color\": \"#FFFFFF\"}, \"showarrow\": false, \"text\": \"0.07\", \"x\": \"<tag>Python\", \"xref\": \"x\", \"y\": \"<tag>Data Science\", \"yref\": \"y\"}, {\"font\": {\"color\": \"#000000\"}, \"showarrow\": false, \"text\": \"0.56\", \"x\": \"claps\", \"xref\": \"x\", \"y\": \"<tag>Towards Data Science\", \"yref\": \"y\"}, {\"font\": {\"color\": \"#FFFFFF\"}, \"showarrow\": false, \"text\": \"-0.23\", \"x\": \"days_since_publication\", \"xref\": \"x\", \"y\": \"<tag>Towards Data Science\", \"yref\": \"y\"}, {\"font\": {\"color\": \"#000000\"}, \"showarrow\": false, \"text\": \"0.57\", \"x\": \"fans\", \"xref\": \"x\", \"y\": \"<tag>Towards Data Science\", \"yref\": \"y\"}, {\"font\": {\"color\": \"#000000\"}, \"showarrow\": false, \"text\": \"0.52\", \"x\": \"num_responses\", \"xref\": \"x\", \"y\": \"<tag>Towards Data Science\", \"yref\": \"y\"}, {\"font\": {\"color\": \"#FFFFFF\"}, \"showarrow\": false, \"text\": \"-0.05\", \"x\": \"read_ratio\", \"xref\": \"x\", \"y\": \"<tag>Towards Data Science\", \"yref\": \"y\"}, {\"font\": {\"color\": \"#FFFFFF\"}, \"showarrow\": false, \"text\": \"-0.23\", \"x\": \"read_time\", \"xref\": \"x\", \"y\": \"<tag>Towards Data Science\", \"yref\": \"y\"}, {\"font\": {\"color\": \"#000000\"}, \"showarrow\": false, \"text\": \"0.36\", \"x\": \"reads\", \"xref\": \"x\", \"y\": \"<tag>Towards Data Science\", \"yref\": \"y\"}, {\"font\": {\"color\": \"#000000\"}, \"showarrow\": false, \"text\": \"0.35\", \"x\": \"title_word_count\", \"xref\": \"x\", \"y\": \"<tag>Towards Data Science\", \"yref\": \"y\"}, {\"font\": {\"color\": \"#000000\"}, \"showarrow\": false, \"text\": \"0.35\", \"x\": \"views\", \"xref\": \"x\", \"y\": \"<tag>Towards Data Science\", \"yref\": \"y\"}, {\"font\": {\"color\": \"#FFFFFF\"}, \"showarrow\": false, \"text\": \"-0.21\", \"x\": \"word_count\", \"xref\": \"x\", \"y\": \"<tag>Towards Data Science\", \"yref\": \"y\"}, {\"font\": {\"color\": \"#000000\"}, \"showarrow\": false, \"text\": \"0.37\", \"x\": \"claps_per_word\", \"xref\": \"x\", \"y\": \"<tag>Towards Data Science\", \"yref\": \"y\"}, {\"font\": {\"color\": \"#FFFFFF\"}, \"showarrow\": false, \"text\": \"-0.19\", \"x\": \"editing_days\", \"xref\": \"x\", \"y\": \"<tag>Towards Data Science\", \"yref\": \"y\"}, {\"font\": {\"color\": \"#000000\"}, \"showarrow\": false, \"text\": \"0.37\", \"x\": \"<tag>Education\", \"xref\": \"x\", \"y\": \"<tag>Towards Data Science\", \"yref\": \"y\"}, {\"font\": {\"color\": \"#000000\"}, \"showarrow\": false, \"text\": \"0.33\", \"x\": \"<tag>Data Science\", \"xref\": \"x\", \"y\": \"<tag>Towards Data Science\", \"yref\": \"y\"}, {\"font\": {\"color\": \"#000000\"}, \"showarrow\": false, \"text\": \"1.0\", \"x\": \"<tag>Towards Data Science\", \"xref\": \"x\", \"y\": \"<tag>Towards Data Science\", \"yref\": \"y\"}, {\"font\": {\"color\": \"#000000\"}, \"showarrow\": false, \"text\": \"0.17\", \"x\": \"<tag>Machine Learning\", \"xref\": \"x\", \"y\": \"<tag>Towards Data Science\", \"yref\": \"y\"}, {\"font\": {\"color\": \"#000000\"}, \"showarrow\": false, \"text\": \"0.25\", \"x\": \"<tag>Python\", \"xref\": \"x\", \"y\": \"<tag>Towards Data Science\", \"yref\": \"y\"}, {\"font\": {\"color\": \"#000000\"}, \"showarrow\": false, \"text\": \"0.16\", \"x\": \"claps\", \"xref\": \"x\", \"y\": \"<tag>Machine Learning\", \"yref\": \"y\"}, {\"font\": {\"color\": \"#FFFFFF\"}, \"showarrow\": false, \"text\": \"-0.12\", \"x\": \"days_since_publication\", \"xref\": \"x\", \"y\": \"<tag>Machine Learning\", \"yref\": \"y\"}, {\"font\": {\"color\": \"#000000\"}, \"showarrow\": false, \"text\": \"0.18\", \"x\": \"fans\", \"xref\": \"x\", \"y\": \"<tag>Machine Learning\", \"yref\": \"y\"}, {\"font\": {\"color\": \"#FFFFFF\"}, \"showarrow\": false, \"text\": \"0.08\", \"x\": \"num_responses\", \"xref\": \"x\", \"y\": \"<tag>Machine Learning\", \"yref\": \"y\"}, {\"font\": {\"color\": \"#FFFFFF\"}, \"showarrow\": false, \"text\": \"-0.32\", \"x\": \"read_ratio\", \"xref\": \"x\", \"y\": \"<tag>Machine Learning\", \"yref\": \"y\"}, {\"font\": {\"color\": \"#000000\"}, \"showarrow\": false, \"text\": \"0.21\", \"x\": \"read_time\", \"xref\": \"x\", \"y\": \"<tag>Machine Learning\", \"yref\": \"y\"}, {\"font\": {\"color\": \"#000000\"}, \"showarrow\": false, \"text\": \"0.2\", \"x\": \"reads\", \"xref\": \"x\", \"y\": \"<tag>Machine Learning\", \"yref\": \"y\"}, {\"font\": {\"color\": \"#000000\"}, \"showarrow\": false, \"text\": \"0.26\", \"x\": \"title_word_count\", \"xref\": \"x\", \"y\": \"<tag>Machine Learning\", \"yref\": \"y\"}, {\"font\": {\"color\": \"#000000\"}, \"showarrow\": false, \"text\": \"0.28\", \"x\": \"views\", \"xref\": \"x\", \"y\": \"<tag>Machine Learning\", \"yref\": \"y\"}, {\"font\": {\"color\": \"#000000\"}, \"showarrow\": false, \"text\": \"0.19\", \"x\": \"word_count\", \"xref\": \"x\", \"y\": \"<tag>Machine Learning\", \"yref\": \"y\"}, {\"font\": {\"color\": \"#FFFFFF\"}, \"showarrow\": false, \"text\": \"-0.03\", \"x\": \"claps_per_word\", \"xref\": \"x\", \"y\": \"<tag>Machine Learning\", \"yref\": \"y\"}, {\"font\": {\"color\": \"#000000\"}, \"showarrow\": false, \"text\": \"0.25\", \"x\": \"editing_days\", \"xref\": \"x\", \"y\": \"<tag>Machine Learning\", \"yref\": \"y\"}, {\"font\": {\"color\": \"#000000\"}, \"showarrow\": false, \"text\": \"0.13\", \"x\": \"<tag>Education\", \"xref\": \"x\", \"y\": \"<tag>Machine Learning\", \"yref\": \"y\"}, {\"font\": {\"color\": \"#000000\"}, \"showarrow\": false, \"text\": \"0.33\", \"x\": \"<tag>Data Science\", \"xref\": \"x\", \"y\": \"<tag>Machine Learning\", \"yref\": \"y\"}, {\"font\": {\"color\": \"#000000\"}, \"showarrow\": false, \"text\": \"0.17\", \"x\": \"<tag>Towards Data Science\", \"xref\": \"x\", \"y\": \"<tag>Machine Learning\", \"yref\": \"y\"}, {\"font\": {\"color\": \"#000000\"}, \"showarrow\": false, \"text\": \"1.0\", \"x\": \"<tag>Machine Learning\", \"xref\": \"x\", \"y\": \"<tag>Machine Learning\", \"yref\": \"y\"}, {\"font\": {\"color\": \"#000000\"}, \"showarrow\": false, \"text\": \"0.26\", \"x\": \"<tag>Python\", \"xref\": \"x\", \"y\": \"<tag>Machine Learning\", \"yref\": \"y\"}, {\"font\": {\"color\": \"#000000\"}, \"showarrow\": false, \"text\": \"0.29\", \"x\": \"claps\", \"xref\": \"x\", \"y\": \"<tag>Python\", \"yref\": \"y\"}, {\"font\": {\"color\": \"#FFFFFF\"}, \"showarrow\": false, \"text\": \"0.11\", \"x\": \"days_since_publication\", \"xref\": \"x\", \"y\": \"<tag>Python\", \"yref\": \"y\"}, {\"font\": {\"color\": \"#000000\"}, \"showarrow\": false, \"text\": \"0.29\", \"x\": \"fans\", \"xref\": \"x\", \"y\": \"<tag>Python\", \"yref\": \"y\"}, {\"font\": {\"color\": \"#000000\"}, \"showarrow\": false, \"text\": \"0.29\", \"x\": \"num_responses\", \"xref\": \"x\", \"y\": \"<tag>Python\", \"yref\": \"y\"}, {\"font\": {\"color\": \"#FFFFFF\"}, \"showarrow\": false, \"text\": \"-0.2\", \"x\": \"read_ratio\", \"xref\": \"x\", \"y\": \"<tag>Python\", \"yref\": \"y\"}, {\"font\": {\"color\": \"#FFFFFF\"}, \"showarrow\": false, \"text\": \"0.09\", \"x\": \"read_time\", \"xref\": \"x\", \"y\": \"<tag>Python\", \"yref\": \"y\"}, {\"font\": {\"color\": \"#000000\"}, \"showarrow\": false, \"text\": \"0.39\", \"x\": \"reads\", \"xref\": \"x\", \"y\": \"<tag>Python\", \"yref\": \"y\"}, {\"font\": {\"color\": \"#000000\"}, \"showarrow\": false, \"text\": \"0.27\", \"x\": \"title_word_count\", \"xref\": \"x\", \"y\": \"<tag>Python\", \"yref\": \"y\"}, {\"font\": {\"color\": \"#000000\"}, \"showarrow\": false, \"text\": \"0.43\", \"x\": \"views\", \"xref\": \"x\", \"y\": \"<tag>Python\", \"yref\": \"y\"}, {\"font\": {\"color\": \"#FFFFFF\"}, \"showarrow\": false, \"text\": \"0.03\", \"x\": \"word_count\", \"xref\": \"x\", \"y\": \"<tag>Python\", \"yref\": \"y\"}, {\"font\": {\"color\": \"#000000\"}, \"showarrow\": false, \"text\": \"0.21\", \"x\": \"claps_per_word\", \"xref\": \"x\", \"y\": \"<tag>Python\", \"yref\": \"y\"}, {\"font\": {\"color\": \"#FFFFFF\"}, \"showarrow\": false, \"text\": \"-0.17\", \"x\": \"editing_days\", \"xref\": \"x\", \"y\": \"<tag>Python\", \"yref\": \"y\"}, {\"font\": {\"color\": \"#FFFFFF\"}, \"showarrow\": false, \"text\": \"-0.09\", \"x\": \"<tag>Education\", \"xref\": \"x\", \"y\": \"<tag>Python\", \"yref\": \"y\"}, {\"font\": {\"color\": \"#FFFFFF\"}, \"showarrow\": false, \"text\": \"0.07\", \"x\": \"<tag>Data Science\", \"xref\": \"x\", \"y\": \"<tag>Python\", \"yref\": \"y\"}, {\"font\": {\"color\": \"#000000\"}, \"showarrow\": false, \"text\": \"0.25\", \"x\": \"<tag>Towards Data Science\", \"xref\": \"x\", \"y\": \"<tag>Python\", \"yref\": \"y\"}, {\"font\": {\"color\": \"#000000\"}, \"showarrow\": false, \"text\": \"0.26\", \"x\": \"<tag>Machine Learning\", \"xref\": \"x\", \"y\": \"<tag>Python\", \"yref\": \"y\"}, {\"font\": {\"color\": \"#000000\"}, \"showarrow\": false, \"text\": \"1.0\", \"x\": \"<tag>Python\", \"xref\": \"x\", \"y\": \"<tag>Python\", \"yref\": \"y\"}], \"xaxis\": {\"dtick\": 1, \"gridcolor\": \"rgb(0, 0, 0)\", \"side\": \"top\", \"ticks\": \"\"}, \"yaxis\": {\"dtick\": 1, \"ticks\": \"\", \"ticksuffix\": \"  \"}},\n",
       "                        {\"showLink\": false, \"linkText\": \"Export to plot.ly\", \"responsive\": true, \"plotlyServerURL\": \"https://plot.ly\"}\n",
       "                    ).then(function(){\n",
       "                            \n",
       "var gd = document.getElementById('ebda3dc5-9bbc-4a0d-9940-0039f1f123f5');\n",
       "var x = new MutationObserver(function (mutations, observer) {{\n",
       "        var display = window.getComputedStyle(gd).display;\n",
       "        if (!display || display === 'none') {{\n",
       "            console.log([gd, 'removed!']);\n",
       "            Plotly.purge(gd);\n",
       "            observer.disconnect();\n",
       "        }}\n",
       "}});\n",
       "\n",
       "// Listen for the removal of the full notebook cells\n",
       "var notebookContainer = gd.closest('#notebook-container');\n",
       "if (notebookContainer) {{\n",
       "    x.observe(notebookContainer, {childList: true});\n",
       "}}\n",
       "\n",
       "// Listen for the clearing of the current output cell\n",
       "var outputEl = gd.closest('.output');\n",
       "if (outputEl) {{\n",
       "    x.observe(outputEl, {childList: true});\n",
       "}}\n",
       "\n",
       "                        })\n",
       "                };\n",
       "                });\n",
       "            </script>\n",
       "        </div>"
      ]
     },
     "metadata": {},
     "output_type": "display_data"
    }
   ],
   "source": [
    "# Correlation Heatmap\n",
    "corrs = df.corr()\n",
    "\n",
    "figure = ff.create_annotated_heatmap(z=corrs.values,\n",
    "                                     x=list(corrs.columns),\n",
    "                                     y=list(corrs.index),\n",
    "                                     annotation_text=corrs.round(2).values,\n",
    "                                     showscale=True)\n",
    "\n",
    "iplot(figure)"
   ]
  },
  {
   "cell_type": "code",
   "execution_count": null,
   "metadata": {},
   "outputs": [],
   "source": []
  }
 ],
 "metadata": {
  "kernelspec": {
   "display_name": "Python 3",
   "language": "python",
   "name": "python3"
  },
  "language_info": {
   "codemirror_mode": {
    "name": "ipython",
    "version": 3
   },
   "file_extension": ".py",
   "mimetype": "text/x-python",
   "name": "python",
   "nbconvert_exporter": "python",
   "pygments_lexer": "ipython3",
   "version": "3.5.5"
  }
 },
 "nbformat": 4,
 "nbformat_minor": 2
}
