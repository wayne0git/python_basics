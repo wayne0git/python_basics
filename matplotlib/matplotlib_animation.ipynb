{
 "cells": [
  {
   "cell_type": "markdown",
   "metadata": {},
   "source": [
    "## Matplotlib -- Animation"
   ]
  },
  {
   "cell_type": "markdown",
   "metadata": {},
   "source": [
    "## Ref : https://towardsdatascience.com/animations-with-matplotlib-d96375c5442c"
   ]
  },
  {
   "cell_type": "markdown",
   "metadata": {},
   "source": [
    "## Install ImageMagick in windows for animation save (gif)"
   ]
  },
  {
   "cell_type": "markdown",
   "metadata": {},
   "source": [
    "- 1. Download Windows Binary Release from https://imagemagick.org/script/download.php#windows\n",
    "- 2. Install (Include option to install ffmpeg as well)"
   ]
  },
  {
   "cell_type": "markdown",
   "metadata": {},
   "source": [
    "## Install ffmpeg in windows for animation save (video)"
   ]
  },
  {
   "cell_type": "markdown",
   "metadata": {},
   "source": [
    "- See https://www.wikihow.com/Install-FFmpeg-on-Windows for detail\n",
    "- 1. Download Windows FFmpeg static build from https://ffmpeg.zeranoe.com/builds/\n",
    "- 2. Unzip downloaded file to C:/ and rename the folder as FFmpeg\n",
    "- 3. Add C:\\FFmpeg\\bin to Path Variable"
   ]
  },
  {
   "cell_type": "markdown",
   "metadata": {},
   "source": [
    "## Set notebook backend for animation"
   ]
  },
  {
   "cell_type": "code",
   "execution_count": 13,
   "metadata": {},
   "outputs": [],
   "source": [
    "# %matplotlib inline just shows matplotlib figure as PNG image\n",
    "# %matplotlib notebook renders the matplotlib figure itself\n",
    "%matplotlib notebook"
   ]
  },
  {
   "cell_type": "markdown",
   "metadata": {},
   "source": [
    "## Import"
   ]
  },
  {
   "cell_type": "code",
   "execution_count": 14,
   "metadata": {},
   "outputs": [],
   "source": [
    "import numpy as np\n",
    "from matplotlib import pyplot as plt\n",
    "from matplotlib.animation import FuncAnimation"
   ]
  },
  {
   "cell_type": "markdown",
   "metadata": {},
   "source": [
    "## Sine Wave"
   ]
  },
  {
   "cell_type": "code",
   "execution_count": null,
   "metadata": {},
   "outputs": [],
   "source": [
    "fig = plt.figure()\n",
    "ax = plt.axes(xlim=(0, 4), ylim=(-2, 2))\n",
    "line, = ax.plot([], [], lw=3)\n",
    "\n",
    "def init():\n",
    "    line.set_data([], [])\n",
    "    return line,\n",
    "\n",
    "def animate(i):\n",
    "    x = np.linspace(0, 4, 1000)\n",
    "    y = np.sin(2 * np.pi * (x - 0.01 * i))\n",
    "    line.set_data(x, y)\n",
    "    return line,\n",
    "\n",
    "# frames : Source of data to pass animate func at each frame\n",
    "#          integer => range(integer)\n",
    "# interval : Delay between frames in ms\n",
    "# blit : Ensures that only those pieces of the plot are re-drawn which have been changed\n",
    "anim = FuncAnimation(fig, animate, init_func=init,\n",
    "                     frames=200, interval=20, blit=True)\n",
    "\n",
    "#anim.save('sine_wave.gif', writer='imagemagick')\n",
    "anim.save('sine_wave.avi')"
   ]
  },
  {
   "cell_type": "markdown",
   "metadata": {},
   "source": [
    "## Live Update"
   ]
  },
  {
   "cell_type": "code",
   "execution_count": null,
   "metadata": {},
   "outputs": [],
   "source": [
    "fig = plt.figure()\n",
    "ax1 = fig.add_subplot(1,1,1)\n",
    "\n",
    "def animate(i):\n",
    "    xs, ys = [], []\n",
    "\n",
    "    with open('stock.txt','r') as f:\n",
    "        for line in f.readlines():\n",
    "            x, y = line.split(',') # Delimiter is comma    \n",
    "            xs.append(float(x))\n",
    "            ys.append(float(y))\n",
    "\n",
    "    ax1.clear()\n",
    "    ax1.plot(xs, ys)\n",
    "\n",
    "    plt.xlabel('Date')\n",
    "    plt.ylabel('Price')\n",
    "    plt.title('Live graph with matplotlib')\t\n",
    "\n",
    "ani = FuncAnimation(fig, animate, interval=1000) \n",
    "plt.show()"
   ]
  }
 ],
 "metadata": {
  "kernelspec": {
   "display_name": "Python 3",
   "language": "python",
   "name": "python3"
  },
  "language_info": {
   "codemirror_mode": {
    "name": "ipython",
    "version": 3
   },
   "file_extension": ".py",
   "mimetype": "text/x-python",
   "name": "python",
   "nbconvert_exporter": "python",
   "pygments_lexer": "ipython3",
   "version": "3.5.5"
  }
 },
 "nbformat": 4,
 "nbformat_minor": 2
}
