{
 "cells": [
  {
   "cell_type": "markdown",
   "metadata": {},
   "source": [
    "### RNN Example to Predict Stock Price\n",
    "- Ref : https://towardsdatascience.com/a-comprehensive-guide-to-working-with-recurrent-neural-networks-in-keras-f3b2d5e2fa7f"
   ]
  },
  {
   "cell_type": "markdown",
   "metadata": {},
   "source": [
    "### Note\n",
    "- Since range of stock price can change in different time \n",
    "- ==> Fail to predict stock price\n",
    "- ==> Better to process data to be difference / ratio"
   ]
  },
  {
   "cell_type": "markdown",
   "metadata": {},
   "source": [
    "### Import"
   ]
  },
  {
   "cell_type": "code",
   "execution_count": 27,
   "metadata": {},
   "outputs": [],
   "source": [
    "import datetime as dt\n",
    "import numpy as np\n",
    "\n",
    "from pandas_datareader import data\n",
    "from sklearn.model_selection import train_test_split"
   ]
  },
  {
   "cell_type": "code",
   "execution_count": 31,
   "metadata": {},
   "outputs": [],
   "source": [
    "from tensorflow.keras import Sequential\n",
    "from tensorflow.keras.layers import SimpleRNN, LSTM, Dense"
   ]
  },
  {
   "cell_type": "markdown",
   "metadata": {},
   "source": [
    "### Parameters"
   ]
  },
  {
   "cell_type": "code",
   "execution_count": 33,
   "metadata": {},
   "outputs": [],
   "source": [
    "TRAIN_PERC = 0.9"
   ]
  },
  {
   "cell_type": "code",
   "execution_count": 34,
   "metadata": {},
   "outputs": [],
   "source": [
    "WIN_SIZE = 50\n",
    "EPOCH = 100"
   ]
  },
  {
   "cell_type": "markdown",
   "metadata": {},
   "source": [
    "### Load Data"
   ]
  },
  {
   "cell_type": "code",
   "execution_count": 10,
   "metadata": {
    "scrolled": false
   },
   "outputs": [
    {
     "data": {
      "text/html": [
       "<div>\n",
       "<style scoped>\n",
       "    .dataframe tbody tr th:only-of-type {\n",
       "        vertical-align: middle;\n",
       "    }\n",
       "\n",
       "    .dataframe tbody tr th {\n",
       "        vertical-align: top;\n",
       "    }\n",
       "\n",
       "    .dataframe thead th {\n",
       "        text-align: right;\n",
       "    }\n",
       "</style>\n",
       "<table border=\"1\" class=\"dataframe\">\n",
       "  <thead>\n",
       "    <tr style=\"text-align: right;\">\n",
       "      <th></th>\n",
       "      <th>High</th>\n",
       "      <th>Low</th>\n",
       "      <th>Open</th>\n",
       "      <th>Close</th>\n",
       "      <th>Volume</th>\n",
       "      <th>Adj Close</th>\n",
       "    </tr>\n",
       "    <tr>\n",
       "      <th>Date</th>\n",
       "      <th></th>\n",
       "      <th></th>\n",
       "      <th></th>\n",
       "      <th></th>\n",
       "      <th></th>\n",
       "      <th></th>\n",
       "    </tr>\n",
       "  </thead>\n",
       "  <tbody>\n",
       "    <tr>\n",
       "      <th>1999-12-31</th>\n",
       "      <td>79.3750</td>\n",
       "      <td>76.000000</td>\n",
       "      <td>79.3125</td>\n",
       "      <td>76.1250</td>\n",
       "      <td>7270700</td>\n",
       "      <td>76.1250</td>\n",
       "    </tr>\n",
       "    <tr>\n",
       "      <th>2000-01-03</th>\n",
       "      <td>89.5625</td>\n",
       "      <td>79.046875</td>\n",
       "      <td>81.5000</td>\n",
       "      <td>89.3750</td>\n",
       "      <td>16117600</td>\n",
       "      <td>89.3750</td>\n",
       "    </tr>\n",
       "    <tr>\n",
       "      <th>2000-01-04</th>\n",
       "      <td>91.5000</td>\n",
       "      <td>81.750000</td>\n",
       "      <td>85.3750</td>\n",
       "      <td>81.9375</td>\n",
       "      <td>17487400</td>\n",
       "      <td>81.9375</td>\n",
       "    </tr>\n",
       "    <tr>\n",
       "      <th>2000-01-05</th>\n",
       "      <td>75.1250</td>\n",
       "      <td>68.000000</td>\n",
       "      <td>70.5000</td>\n",
       "      <td>69.7500</td>\n",
       "      <td>38457400</td>\n",
       "      <td>69.7500</td>\n",
       "    </tr>\n",
       "    <tr>\n",
       "      <th>2000-01-06</th>\n",
       "      <td>72.6875</td>\n",
       "      <td>64.000000</td>\n",
       "      <td>71.3125</td>\n",
       "      <td>65.5625</td>\n",
       "      <td>18752000</td>\n",
       "      <td>65.5625</td>\n",
       "    </tr>\n",
       "  </tbody>\n",
       "</table>\n",
       "</div>"
      ],
      "text/plain": [
       "               High        Low     Open    Close    Volume  Adj Close\n",
       "Date                                                                 \n",
       "1999-12-31  79.3750  76.000000  79.3125  76.1250   7270700    76.1250\n",
       "2000-01-03  89.5625  79.046875  81.5000  89.3750  16117600    89.3750\n",
       "2000-01-04  91.5000  81.750000  85.3750  81.9375  17487400    81.9375\n",
       "2000-01-05  75.1250  68.000000  70.5000  69.7500  38457400    69.7500\n",
       "2000-01-06  72.6875  64.000000  71.3125  65.5625  18752000    65.5625"
      ]
     },
     "execution_count": 10,
     "metadata": {},
     "output_type": "execute_result"
    }
   ],
   "source": [
    "# Load stock price in the predetermined time range\n",
    "df = data.DataReader('AMZN', 'yahoo', dt.datetime(2000, 1, 1), dt.datetime.now())\n",
    "df.head()"
   ]
  },
  {
   "cell_type": "code",
   "execution_count": 41,
   "metadata": {},
   "outputs": [],
   "source": [
    "# Data Split\n",
    "prices = df['Close']\n",
    "train, test = train_test_split(list(prices), train_size=TRAIN_PERC, shuffle=False)"
   ]
  },
  {
   "cell_type": "markdown",
   "metadata": {},
   "source": [
    "### Preprocessing"
   ]
  },
  {
   "cell_type": "code",
   "execution_count": 43,
   "metadata": {},
   "outputs": [],
   "source": [
    "# Generate Training Sequences (Price_0 ~ Price_W-1 => Price_W)\n",
    "X_train, y_train = [], []\n",
    "for ind in range(len(train) - WIN_SIZE):\n",
    "    X_train.append(train[ind:ind+WIN_SIZE])\n",
    "    y_train.append(train[ind+WIN_SIZE])"
   ]
  },
  {
   "cell_type": "code",
   "execution_count": 44,
   "metadata": {},
   "outputs": [],
   "source": [
    "# Reshape to 3D array (#Sequence, #Win, 1)\n",
    "X_train, y_train = np.array(X_train), np.array(y_train)\n",
    "X_train = X_train[..., np.newaxis]"
   ]
  },
  {
   "cell_type": "code",
   "execution_count": 45,
   "metadata": {},
   "outputs": [],
   "source": [
    "# Generate Testing Sequences (Price_0 ~ Price_W-1 => Price_W)\n",
    "X_test, y_test = [], []\n",
    "for ind in range(len(test) - WIN_SIZE):\n",
    "    X_test.append(test[ind:ind+WIN_SIZE])\n",
    "    y_test.append(test[ind+WIN_SIZE])"
   ]
  },
  {
   "cell_type": "code",
   "execution_count": 46,
   "metadata": {},
   "outputs": [],
   "source": [
    "# Reshape to 3D array (#Sequence, #Win, 1)\n",
    "X_test, y_test = np.array(X_test), np.array(y_test)\n",
    "X_test = X_test[..., np.newaxis]"
   ]
  },
  {
   "cell_type": "markdown",
   "metadata": {},
   "source": [
    "### Simple RNN"
   ]
  },
  {
   "cell_type": "code",
   "execution_count": 52,
   "metadata": {},
   "outputs": [],
   "source": [
    "# Create Model\n",
    "model_deep_simple_rnn = Sequential()\n",
    "model_deep_simple_rnn.add(SimpleRNN(64, input_shape=(WIN_SIZE, 1), return_sequences=True))\n",
    "model_deep_simple_rnn.add(SimpleRNN(32, return_sequences=True))\n",
    "model_deep_simple_rnn.add(SimpleRNN(16))\n",
    "model_deep_simple_rnn.add(Dense(8, activation='tanh'))\n",
    "model_deep_simple_rnn.add(Dense(1, activation='linear'))"
   ]
  },
  {
   "cell_type": "code",
   "execution_count": null,
   "metadata": {},
   "outputs": [],
   "source": [
    "# Train Model\n",
    "model_deep_simple_rnn.compile(loss='mse', optimizer='adam', metrics=['mae'])\n",
    "h_deep_simple_rnn = model_deep_simple_rnn.fit(X_train, y_train, epochs=EPOCH)"
   ]
  },
  {
   "cell_type": "code",
   "execution_count": 54,
   "metadata": {},
   "outputs": [
    {
     "name": "stdout",
     "output_type": "stream",
     "text": [
      "15/15 [==============================] - 0s 5ms/step - loss: 3773446.2500 - mae: 1885.9846\n"
     ]
    },
    {
     "data": {
      "text/plain": [
       "[3773446.25, 1885.984619140625]"
      ]
     },
     "execution_count": 54,
     "metadata": {},
     "output_type": "execute_result"
    }
   ],
   "source": [
    "# Evaluate\n",
    "model_deep_simple_rnn.evaluate(X_test, y_test)"
   ]
  },
  {
   "cell_type": "markdown",
   "metadata": {},
   "source": [
    "### LSTM"
   ]
  },
  {
   "cell_type": "code",
   "execution_count": 55,
   "metadata": {},
   "outputs": [],
   "source": [
    "# Create Model\n",
    "model_lstm = Sequential()\n",
    "model_lstm.add(LSTM(64, input_shape=(WIN_SIZE, 1), return_sequences=True))\n",
    "model_lstm.add(LSTM(32, return_sequences=True))\n",
    "model_lstm.add(LSTM(16))\n",
    "model_lstm.add(Dense(8, activation='tanh'))\n",
    "model_lstm.add(Dense(1, activation='linear'))"
   ]
  },
  {
   "cell_type": "code",
   "execution_count": null,
   "metadata": {},
   "outputs": [],
   "source": [
    "# Train Model\n",
    "model_lstm.compile(loss='mse', optimizer='adam', metrics=['mae'])\n",
    "h_lstm = model_lstm.fit(X_train, y_train, epochs=EPOCH)"
   ]
  },
  {
   "cell_type": "code",
   "execution_count": null,
   "metadata": {},
   "outputs": [],
   "source": [
    "# Evaluate\n",
    "model_lstm.evaluate(X_test, y_test)"
   ]
  },
  {
   "cell_type": "code",
   "execution_count": null,
   "metadata": {},
   "outputs": [],
   "source": []
  }
 ],
 "metadata": {
  "kernelspec": {
   "display_name": "Python 3",
   "language": "python",
   "name": "python3"
  },
  "language_info": {
   "codemirror_mode": {
    "name": "ipython",
    "version": 3
   },
   "file_extension": ".py",
   "mimetype": "text/x-python",
   "name": "python",
   "nbconvert_exporter": "python",
   "pygments_lexer": "ipython3",
   "version": "3.7.6"
  }
 },
 "nbformat": 4,
 "nbformat_minor": 4
}
