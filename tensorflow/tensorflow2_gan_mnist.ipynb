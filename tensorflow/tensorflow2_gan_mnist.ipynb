{
  "nbformat": 4,
  "nbformat_minor": 0,
  "metadata": {
    "colab": {
      "name": "tensorflow2_gan_mnist.ipynb",
      "provenance": [],
      "collapsed_sections": [],
      "authorship_tag": "ABX9TyOwnHyS/jr53Wuq9px/cSi6"
    },
    "kernelspec": {
      "name": "python3",
      "display_name": "Python 3"
    }
  },
  "cells": [
    {
      "cell_type": "markdown",
      "metadata": {
        "id": "hvEXYgxVxsw4",
        "colab_type": "text"
      },
      "source": [
        "## GAN Example to generate MNIST data\n",
        "- Ref - https://github.com/malhamid/GAN_MNIST/blob/master/GAN_MNIST.ipynb"
      ]
    },
    {
      "cell_type": "code",
      "metadata": {
        "id": "bszr_J7yxmzV",
        "colab_type": "code",
        "colab": {}
      },
      "source": [
        "import numpy as np\n",
        "import tensorflow as tf\n",
        "\n",
        "from matplotlib import pyplot as plt\n",
        "from tensorflow.keras.datasets import mnist\n",
        "from tensorflow.keras.models import Sequential\n",
        "from tensorflow.keras.layers import Dense, Flatten, Conv2D, Dropout\n",
        "from tensorflow.keras.layers import Conv2DTranspose, Reshape, LeakyReLU"
      ],
      "execution_count": 1,
      "outputs": []
    },
    {
      "cell_type": "markdown",
      "metadata": {
        "id": "PjaYhOXI0HsO",
        "colab_type": "text"
      },
      "source": [
        "### Constant"
      ]
    },
    {
      "cell_type": "code",
      "metadata": {
        "id": "v3yhl9ly0KJ5",
        "colab_type": "code",
        "colab": {}
      },
      "source": [
        "INPUT_SHAPE = (28, 28, 1)\n",
        "NOISE_DIM = 100\n",
        "EPOCHS = 100\n",
        "BATCH_SIZE = 256"
      ],
      "execution_count": 2,
      "outputs": []
    },
    {
      "cell_type": "markdown",
      "metadata": {
        "id": "7PqfkOrryut3",
        "colab_type": "text"
      },
      "source": [
        "### Load Dataset"
      ]
    },
    {
      "cell_type": "code",
      "metadata": {
        "id": "_pwrmEOOyuCw",
        "colab_type": "code",
        "colab": {
          "base_uri": "https://localhost:8080/",
          "height": 52
        },
        "outputId": "c2e1051c-6418-4ad2-ddab-61d231defbc0"
      },
      "source": [
        "# Train -- (60000, 28, 28), (60000, )\n",
        "# Test -- (10000, 28, 28), (10000, )\n",
        "(X_train, y_train), (X_test, y_test) = mnist.load_data()"
      ],
      "execution_count": 3,
      "outputs": [
        {
          "output_type": "stream",
          "text": [
            "Downloading data from https://storage.googleapis.com/tensorflow/tf-keras-datasets/mnist.npz\n",
            "11493376/11490434 [==============================] - 0s 0us/step\n"
          ],
          "name": "stdout"
        }
      ]
    },
    {
      "cell_type": "markdown",
      "metadata": {
        "id": "kZaTxNhZzMsO",
        "colab_type": "text"
      },
      "source": [
        "### Data Preprocessing"
      ]
    },
    {
      "cell_type": "code",
      "metadata": {
        "id": "bIyKGDfZzMG_",
        "colab_type": "code",
        "colab": {}
      },
      "source": [
        "# (N, 28, 28) => (N, 28*28)\n",
        "X_train = np.reshape(X_train, (X_train.shape[0], 28 * 28)) / 255.0\n",
        "X_test = np.reshape(X_test, (X_test.shape[0], 28 * 28)) / 255.0"
      ],
      "execution_count": 4,
      "outputs": []
    },
    {
      "cell_type": "markdown",
      "metadata": {
        "id": "Fr1W4lbV8Y9b",
        "colab_type": "text"
      },
      "source": [
        "### Data Generator"
      ]
    },
    {
      "cell_type": "code",
      "metadata": {
        "id": "zEyTu6_A9A0J",
        "colab_type": "code",
        "colab": {}
      },
      "source": [
        "def generate_real_img(n_samples):\n",
        "    x_real = X_train[np.random.randint(0, X_train.shape[0], n_samples)]\n",
        "    x_real = np.reshape(x_real, (n_samples, 28, 28, 1))\n",
        "    y_real = np.ones((n_samples, 1))\n",
        "\n",
        "    return x_real, y_real"
      ],
      "execution_count": 5,
      "outputs": []
    },
    {
      "cell_type": "code",
      "metadata": {
        "id": "nyiu1-cx8bCb",
        "colab_type": "code",
        "colab": {}
      },
      "source": [
        "def generate_img_using_model(generator, n_samples):\n",
        "    noise = np.random.randn(n_samples, NOISE_DIM)\n",
        "\n",
        "    x_fake = generator.predict(noise)\n",
        "    y_fake = np.zeros((n_samples, 1))\n",
        "\n",
        "    return x_fake, y_fake"
      ],
      "execution_count": 6,
      "outputs": []
    },
    {
      "cell_type": "markdown",
      "metadata": {
        "id": "X6w6I7eSzjK8",
        "colab_type": "text"
      },
      "source": [
        "### Create Model"
      ]
    },
    {
      "cell_type": "code",
      "metadata": {
        "id": "jPICZv4gzdcE",
        "colab_type": "code",
        "colab": {}
      },
      "source": [
        "# Discriminator\n",
        "def building_discriminator():\n",
        "    model_d = Sequential()\n",
        "    # Layer 1 (28 * 28 * 1 -> 13 * 13 * 64)\n",
        "    model_d.add(Conv2D(64, 3, 2, input_shape=INPUT_SHAPE))\n",
        "    model_d.add(LeakyReLU())\n",
        "    model_d.add(Dropout(0.4))\n",
        "\n",
        "    # Layer 2 (13 * 13 * 64 -> 6 * 6 * 64)\n",
        "    model_d.add(Conv2D(64, 3, 2))\n",
        "    model_d.add(LeakyReLU())\n",
        "    model_d.add(Dropout(0.4))\n",
        "\n",
        "    # Final Classification Layer (6 * 6 * 64 -> 2304 * 1)\n",
        "    model_d.add(Flatten())\n",
        "    model_d.add(Dense(1, activation='sigmoid'))\n",
        "\n",
        "    # Compile\n",
        "    model_d.compile(loss='binary_crossentropy', optimizer='adam', metrics=['accuracy'])\n",
        "\n",
        "    return model_d"
      ],
      "execution_count": 7,
      "outputs": []
    },
    {
      "cell_type": "code",
      "metadata": {
        "id": "zX3Y8FDW0_Lf",
        "colab_type": "code",
        "colab": {}
      },
      "source": [
        "# Generator\n",
        "def building_generator():\n",
        "    model_g = Sequential()\n",
        "    # Layer 1 (100 * 1 -> 6 * 6 * 128)\n",
        "    model_g.add(Dense(128*6*6, input_shape=(NOISE_DIM, )))\n",
        "    model_g.add(LeakyReLU())\n",
        "    model_g.add(Reshape((6, 6, 128)))\n",
        "\n",
        "    # Layer 2 (6 * 6 * 128 -> 14 * 14 * 128)\n",
        "    model_g.add(Conv2DTranspose(128, (4, 4), (2, 2)))\n",
        "    model_g.add(LeakyReLU())\n",
        "\n",
        "    # Layer 3 (14 * 14 * 128 -> 30 * 30 * 128 -> 28 * 28 * 1)\n",
        "    model_g.add(Conv2DTranspose(128, (4, 4), (2, 2)))\n",
        "    model_g.add(LeakyReLU())\n",
        "    model_g.add(Conv2D(1, (3, 3), activation='sigmoid'))\n",
        "\n",
        "    return model_g    "
      ],
      "execution_count": 8,
      "outputs": []
    },
    {
      "cell_type": "code",
      "metadata": {
        "id": "Gp5SibZX2WrK",
        "colab_type": "code",
        "colab": {}
      },
      "source": [
        "def building_gan(generator, discriminator):\n",
        "    gan = Sequential()\n",
        "    discriminator.trainable = False\n",
        "\n",
        "    gan.add(generator)\n",
        "    gan.add(discriminator)\n",
        "    gan.compile(loss='binary_crossentropy', optimizer='adam')\n",
        "\n",
        "    return gan"
      ],
      "execution_count": 9,
      "outputs": []
    },
    {
      "cell_type": "code",
      "metadata": {
        "id": "BuYZZm3q4R2g",
        "colab_type": "code",
        "colab": {
          "base_uri": "https://localhost:8080/",
          "height": 225
        },
        "outputId": "f18b6ee7-4874-4521-d929-f066d4cd302f"
      },
      "source": [
        "# Create GAN Model\n",
        "gen = building_generator()\n",
        "dis = building_discriminator()\n",
        "gan = building_gan(gen, dis)\n",
        "gan.summary()"
      ],
      "execution_count": 10,
      "outputs": [
        {
          "output_type": "stream",
          "text": [
            "Model: \"sequential_2\"\n",
            "_________________________________________________________________\n",
            "Layer (type)                 Output Shape              Param #   \n",
            "=================================================================\n",
            "sequential (Sequential)      (None, 28, 28, 1)         991105    \n",
            "_________________________________________________________________\n",
            "sequential_1 (Sequential)    (None, 1)                 39873     \n",
            "=================================================================\n",
            "Total params: 1,030,978\n",
            "Trainable params: 991,105\n",
            "Non-trainable params: 39,873\n",
            "_________________________________________________________________\n"
          ],
          "name": "stdout"
        }
      ]
    },
    {
      "cell_type": "markdown",
      "metadata": {
        "id": "l2GI8CK85Fcq",
        "colab_type": "text"
      },
      "source": [
        "### Train Model"
      ]
    },
    {
      "cell_type": "code",
      "metadata": {
        "id": "hPxSKBHw4nH6",
        "colab_type": "code",
        "colab": {}
      },
      "source": [
        "def training_gan(gan_model, discriminator, generator, batch_size=256, epochs=100):\n",
        "    for epoch in range(epochs):\n",
        "        for step in range(X_train.shape[0] // batch_size):\n",
        "            # Get real and fake image data\n",
        "            X_real, y_real = generate_real_img(batch_size)\n",
        "            X_fake, y_fake = generate_img_using_model(generator, batch_size)\n",
        "\n",
        "            # Concatenate to get training data\n",
        "            X_batch = np.concatenate([X_real, X_fake], axis=0)\n",
        "            y_batch = np.concatenate([y_real, y_fake], axis=0)\n",
        "\n",
        "            # Train discriminator\n",
        "            d_loss, d_acc = discriminator.train_on_batch(X_batch, y_batch)\n",
        "\n",
        "            # Generate noise input for GAN training\n",
        "            X_gan = np.random.randn(batch_size, NOISE_DIM)\n",
        "            y_gan = np.ones((batch_size, 1))\n",
        "\n",
        "            # Train GAN (With fixed discriminator)\n",
        "            gan_loss = gan_model.train_on_batch(X_gan, y_gan)\n",
        "\n",
        "            # Print loss info at each epoch end\n",
        "            print('Training progress in epoch #%d step #%d, discriminator loss=%.3f , generator loss=%.3f' % (epoch, step, d_loss, gan_loss))"
      ],
      "execution_count": null,
      "outputs": []
    },
    {
      "cell_type": "code",
      "metadata": {
        "id": "QKsMrS-ZC7Fx",
        "colab_type": "code",
        "colab": {
          "base_uri": "https://localhost:8080/",
          "height": 134
        },
        "outputId": "c019a70b-1e8b-46c0-bdd4-06d93ee08494"
      },
      "source": [
        "training_gan(gan, dis, gen, BATCH_SIZE, EPOCHS)"
      ],
      "execution_count": null,
      "outputs": [
        {
          "output_type": "stream",
          "text": [
            "Training progress in epoch #0 step #0, discriminator loss=0.599 , generator loss=0.833\n",
            "Training progress in epoch #0 step #1, discriminator loss=0.585 , generator loss=0.827\n",
            "Training progress in epoch #0 step #2, discriminator loss=0.574 , generator loss=0.833\n",
            "Training progress in epoch #0 step #3, discriminator loss=0.591 , generator loss=0.836\n",
            "Training progress in epoch #0 step #4, discriminator loss=0.618 , generator loss=0.842\n",
            "Training progress in epoch #0 step #5, discriminator loss=0.662 , generator loss=0.822\n",
            "Training progress in epoch #0 step #6, discriminator loss=0.631 , generator loss=0.845\n"
          ],
          "name": "stdout"
        }
      ]
    },
    {
      "cell_type": "markdown",
      "metadata": {
        "id": "iCAE--41Dfc_",
        "colab_type": "text"
      },
      "source": [
        "### Evaluation"
      ]
    },
    {
      "cell_type": "code",
      "metadata": {
        "id": "O1367Gi2EGOV",
        "colab_type": "code",
        "colab": {
          "base_uri": "https://localhost:8080/",
          "height": 34
        },
        "outputId": "92bbbec1-b772-43a3-e6b4-dc08c83a7d90"
      },
      "source": [
        "# Evaluate Discriminator\n",
        "X_real, y_real = generate_real_img(BATCH_SIZE)\n",
        "_, acc_real = dis.evaluate(X_real, y_real)"
      ],
      "execution_count": null,
      "outputs": [
        {
          "output_type": "stream",
          "text": [
            "8/8 [==============================] - 0s 5ms/step - loss: 0.4955 - accuracy: 0.8164\n"
          ],
          "name": "stdout"
        }
      ]
    },
    {
      "cell_type": "code",
      "metadata": {
        "id": "4_MYigv8DgzK",
        "colab_type": "code",
        "colab": {
          "base_uri": "https://localhost:8080/",
          "height": 34
        },
        "outputId": "589ee14c-bdb7-49d3-c36d-d4bbdbad5234"
      },
      "source": [
        "# Evaluate Generator / Discriminator\n",
        "X_fake, y_fake = generate_img_using_model(gen, BATCH_SIZE)\n",
        "_, acc_fake = dis.evaluate(X_fake, y_fake)"
      ],
      "execution_count": null,
      "outputs": [
        {
          "output_type": "stream",
          "text": [
            "8/8 [==============================] - 0s 5ms/step - loss: 0.6202 - accuracy: 0.6875\n"
          ],
          "name": "stdout"
        }
      ]
    },
    {
      "cell_type": "code",
      "metadata": {
        "id": "_VrQoxK0EvWI",
        "colab_type": "code",
        "colab": {
          "base_uri": "https://localhost:8080/",
          "height": 227
        },
        "outputId": "54eca775-1dc6-4a47-9540-5b1830e2810a"
      },
      "source": [
        "# Visualize generator result\n",
        "X_test = np.random.randn(10, NOISE_DIM)\n",
        "X_fake = gen.predict(X_test)\n",
        "\n",
        "fig, axs = plt.subplots(2, 5)\n",
        "for i in range(2):\n",
        "    for j in range(5):  \n",
        "        axs[i,j].imshow(np.reshape(X_fake[i+j], (28,28)), cmap='binary')"
      ],
      "execution_count": null,
      "outputs": [
        {
          "output_type": "display_data",
          "data": {
            "image/png": "[encoded data removed]",
            "text/plain": [
              "<Figure size 432x288 with 10 Axes>"
            ]
          },
          "metadata": {
            "tags": [],
            "needs_background": "light"
          }
        }
      ]
    }
  ]
}