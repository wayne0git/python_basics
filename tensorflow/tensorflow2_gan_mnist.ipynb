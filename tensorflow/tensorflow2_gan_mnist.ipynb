{
  "nbformat": 4,
  "nbformat_minor": 0,
  "metadata": {
    "colab": {
      "name": "tensorflow2_gan_mnist.ipynb",
      "provenance": [],
      "collapsed_sections": [],
      "authorship_tag": "ABX9TyPHFZwdhMIH2WZlfUfeusnD"
    },
    "kernelspec": {
      "name": "python3",
      "display_name": "Python 3"
    }
  },
  "cells": [
    {
      "cell_type": "markdown",
      "metadata": {
        "id": "hvEXYgxVxsw4",
        "colab_type": "text"
      },
      "source": [
        "## GAN Example to generate MNIST data\n",
        "- Ref - https://github.com/malhamid/GAN_MNIST/blob/master/GAN_MNIST.ipynb"
      ]
    },
    {
      "cell_type": "code",
      "metadata": {
        "id": "bszr_J7yxmzV",
        "colab_type": "code",
        "colab": {}
      },
      "source": [
        "import numpy as np\n",
        "import tensorflow as tf\n",
        "\n",
        "from tensorflow.keras.datasets import mnist\n",
        "from tensorflow.keras.models import Sequential\n",
        "from tensorflow.keras.layers import Dense, Flatten, Conv2D, Dropout\n",
        "from tensorflow.keras.layers import Conv2DTranspose, Reshape, LeakyReLU"
      ],
      "execution_count": 3,
      "outputs": []
    },
    {
      "cell_type": "markdown",
      "metadata": {
        "id": "PjaYhOXI0HsO",
        "colab_type": "text"
      },
      "source": [
        "### Constant"
      ]
    },
    {
      "cell_type": "code",
      "metadata": {
        "id": "v3yhl9ly0KJ5",
        "colab_type": "code",
        "colab": {}
      },
      "source": [
        "INPUT_SHAPE = (28, 28, 1)\n",
        "NOISE_DIM = (100, )"
      ],
      "execution_count": 27,
      "outputs": []
    },
    {
      "cell_type": "markdown",
      "metadata": {
        "id": "7PqfkOrryut3",
        "colab_type": "text"
      },
      "source": [
        "### Load Dataset"
      ]
    },
    {
      "cell_type": "code",
      "metadata": {
        "id": "_pwrmEOOyuCw",
        "colab_type": "code",
        "colab": {
          "base_uri": "https://localhost:8080/",
          "height": 54
        },
        "outputId": "ca57f4dc-9859-43b8-91de-f5eaaaf8e408"
      },
      "source": [
        "# Train -- (60000, 28, 28), (60000, )\n",
        "# Test -- (10000, 28, 28), (10000, )\n",
        "(X_train, y_train), (X_test, y_test) = mnist.load_data()"
      ],
      "execution_count": 4,
      "outputs": [
        {
          "output_type": "stream",
          "text": [
            "Downloading data from https://storage.googleapis.com/tensorflow/tf-keras-datasets/mnist.npz\n",
            "11493376/11490434 [==============================] - 0s 0us/step\n"
          ],
          "name": "stdout"
        }
      ]
    },
    {
      "cell_type": "markdown",
      "metadata": {
        "id": "kZaTxNhZzMsO",
        "colab_type": "text"
      },
      "source": [
        "### Data Preprocessing"
      ]
    },
    {
      "cell_type": "code",
      "metadata": {
        "id": "bIyKGDfZzMG_",
        "colab_type": "code",
        "colab": {}
      },
      "source": [
        "# (N, 28, 28) => (N, 28*28)\n",
        "X_train = np.reshape(X_train, (X_train.shape[0], 28 * 28)) / 255.0\n",
        "X_test = np.reshape(X_test, (X_test.shape[0], 28 * 28)) / 255.0"
      ],
      "execution_count": 9,
      "outputs": []
    },
    {
      "cell_type": "markdown",
      "metadata": {
        "id": "X6w6I7eSzjK8",
        "colab_type": "text"
      },
      "source": [
        "### Create Model"
      ]
    },
    {
      "cell_type": "code",
      "metadata": {
        "id": "jPICZv4gzdcE",
        "colab_type": "code",
        "colab": {}
      },
      "source": [
        "# Discriminator\n",
        "def building_discriminator():\n",
        "    model_d = Sequential()\n",
        "    # Layer 1\n",
        "    model_d.add(Conv2D(64, 3, 2, input_shape=INPUT_SHAPE))\n",
        "    model_d.add(LeakyReLU())\n",
        "    model_d.add(Dropout(0.4))\n",
        "\n",
        "    # Layer 2\n",
        "    model_d.add(Conv2D(64, 3, 2))\n",
        "    model_d.add(LeakyReLU())\n",
        "    model_d.add(Dropout(0.4))\n",
        "\n",
        "    # Final Classification Layer\n",
        "    model_d.add(Flatten())\n",
        "    model_d.add(Dense(1, activation='sigmoid'))\n",
        "\n",
        "    # Compile\n",
        "    model_d.compile(loss='binary_crossentropy', optimizer='adam', metrics=['accuracy'])\n",
        "\n",
        "    return model_d"
      ],
      "execution_count": 29,
      "outputs": []
    },
    {
      "cell_type": "code",
      "metadata": {
        "id": "zX3Y8FDW0_Lf",
        "colab_type": "code",
        "colab": {}
      },
      "source": [
        "# Generator\n",
        "def building_generator():\n",
        "    model_g = Sequential()\n",
        "    # Layer 1\n",
        "    model_g.add(Dense(128*6*6, input_shape=NOISE_DIM))\n",
        "    model_g.add(LeakyReLU())\n",
        "    model_g.add(Reshape((6, 6, 128)))\n",
        "\n",
        "    # Layer 2\n",
        "    model_g.add(Conv2DTranspose(128, (4, 4), (2, 2)))\n",
        "    model_g.add(LeakyReLU())\n",
        "\n",
        "    # Layer 3\n",
        "    model_g.add(Conv2DTranspose(128, (4, 4), (2, 2)))\n",
        "    model_g.add(LeakyReLU())\n",
        "    model_g.add(Conv2D(1, (3, 3), activation='sigmoid'))\n",
        "\n",
        "    return model_g    "
      ],
      "execution_count": 25,
      "outputs": []
    },
    {
      "cell_type": "code",
      "metadata": {
        "id": "Gp5SibZX2WrK",
        "colab_type": "code",
        "colab": {}
      },
      "source": [
        "def building_gan(generator, discriminator):\n",
        "    gan = Sequential()\n",
        "    discriminator.trainable = False\n",
        "\n",
        "    gan.add(generator)\n",
        "    gan.add(discriminator)\n",
        "    gan.compile(loss='binary_crossentropy', optimizer='adam')\n",
        "\n",
        "    return gan"
      ],
      "execution_count": 23,
      "outputs": []
    },
    {
      "cell_type": "code",
      "metadata": {
        "id": "BuYZZm3q4R2g",
        "colab_type": "code",
        "colab": {
          "base_uri": "https://localhost:8080/",
          "height": 235
        },
        "outputId": "cb487d29-efd4-4b91-eac3-ab6a1947da8b"
      },
      "source": [
        "# Create GAN Model\n",
        "gen = building_generator()\n",
        "dis = building_discriminator()\n",
        "gan = building_gan(gen, dis)\n",
        "gan.summary()"
      ],
      "execution_count": 30,
      "outputs": [
        {
          "output_type": "stream",
          "text": [
            "Model: \"sequential_5\"\n",
            "_________________________________________________________________\n",
            "Layer (type)                 Output Shape              Param #   \n",
            "=================================================================\n",
            "sequential_3 (Sequential)    (None, 28, 28, 1)         991105    \n",
            "_________________________________________________________________\n",
            "sequential_4 (Sequential)    (None, 1)                 39873     \n",
            "=================================================================\n",
            "Total params: 1,030,978\n",
            "Trainable params: 991,105\n",
            "Non-trainable params: 39,873\n",
            "_________________________________________________________________\n"
          ],
          "name": "stdout"
        }
      ]
    },
    {
      "cell_type": "markdown",
      "metadata": {
        "id": "l2GI8CK85Fcq",
        "colab_type": "text"
      },
      "source": [
        "### Train Model"
      ]
    },
    {
      "cell_type": "code",
      "metadata": {
        "id": "hPxSKBHw4nH6",
        "colab_type": "code",
        "colab": {}
      },
      "source": [
        ""
      ],
      "execution_count": null,
      "outputs": []
    }
  ]
}